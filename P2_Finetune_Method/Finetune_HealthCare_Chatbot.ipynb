{
 "cells": [
  {
   "cell_type": "markdown",
   "metadata": {
    "id": "QUJTTZ9baeTY"
   },
   "source": [
    "# FINAL PROJECT TLCN - CHATBOT HỖ TRỢ TRA CỨU THÔNG TIN SỨC KHỎE\n",
    "- Author:\n",
    "  - Đặng Kim Thành - 21110298\n",
    "  - Bùi Quốc Khang - 21110202\n",
    "## Phần 2 - MeDiChat ViVi - Fine-tunning Chatbot"
   ]
  },
  {
   "cell_type": "markdown",
   "metadata": {
    "id": "IdJnl87daeTh"
   },
   "source": [
    "### I. Xử lý dữ liệu"
   ]
  },
  {
   "cell_type": "markdown",
   "metadata": {
    "id": "p5GaxN1BaeTh"
   },
   "source": [
    "#### Import môi trường và thư viện"
   ]
  },
  {
   "cell_type": "code",
   "execution_count": 1,
   "metadata": {},
   "outputs": [
    {
     "name": "stdout",
     "output_type": "stream",
     "text": [
      "2.3.1+cu121\n",
      "CUDA Version:  12.1\n",
      "Device name: NVIDIA GeForce RTX 4060 Ti\n",
      "FlashAttention available: True\n"
     ]
    }
   ],
   "source": [
    "import torch\n",
    "\n",
    "# Check what version of PyTorch is installed\n",
    "print(torch.__version__)\n",
    "\n",
    "# Check the current CUDA version being used\n",
    "print(\"CUDA Version: \", torch.version.cuda)\n",
    "\n",
    "# Check if CUDA is available and if so, print the device name\n",
    "print(\"Device name:\", torch.cuda.get_device_properties(\"cuda\").name)\n",
    "\n",
    "# Check if FlashAttention is available\n",
    "print(\"FlashAttention available:\", torch.backends.cuda.flash_sdp_enabled())\n"
   ]
  },
  {
   "cell_type": "code",
   "execution_count": 2,
   "metadata": {},
   "outputs": [
    {
     "name": "stdout",
     "output_type": "stream",
     "text": [
      "True\n",
      "False\n"
     ]
    }
   ],
   "source": [
    "import torch\n",
    "from xformers.ops.fmha.torch_attention_compat import is_pt_flash_compatible\n",
    "print(torch.backends.cuda.flash_sdp_enabled())\n",
    "print(is_pt_flash_compatible(force=False))"
   ]
  },
  {
   "cell_type": "code",
   "execution_count": 1,
   "metadata": {
    "colab": {
     "base_uri": "https://localhost:8080/"
    },
    "id": "BZ9_Fkyq3YXD",
    "outputId": "a2a5708c-c23a-4dfc-9a01-bfcbc15e33a7"
   },
   "outputs": [
    {
     "name": "stdout",
     "output_type": "stream",
     "text": [
      "Package                            Version\n",
      "---------------------------------- --------------------\n",
      "absl-py                            1.4.0\n",
      "accelerate                         0.34.2\n",
      "aiohappyeyeballs                   2.4.3\n",
      "aiohttp                            3.10.10\n",
      "aiosignal                          1.3.1\n",
      "alabaster                          0.7.16\n",
      "albucore                           0.0.16\n",
      "albumentations                     1.4.15\n",
      "altair                             4.2.2\n",
      "annotated-types                    0.7.0\n",
      "anyio                              3.7.1\n",
      "argon2-cffi                        23.1.0\n",
      "argon2-cffi-bindings               21.2.0\n",
      "array_record                       0.5.1\n",
      "arviz                              0.19.0\n",
      "astropy                            6.1.4\n",
      "astropy-iers-data                  0.2024.10.21.0.33.21\n",
      "astunparse                         1.6.3\n",
      "async-timeout                      4.0.3\n",
      "atpublic                           4.1.0\n",
      "attrs                              24.2.0\n",
      "audioread                          3.0.1\n",
      "autograd                           1.7.0\n",
      "babel                              2.16.0\n",
      "backcall                           0.2.0\n",
      "beautifulsoup4                     4.12.3\n",
      "bigframes                          1.22.0\n",
      "bigquery-magics                    0.4.0\n",
      "bleach                             6.1.0\n",
      "blinker                            1.4\n",
      "blis                               0.7.11\n",
      "blosc2                             2.0.0\n",
      "bokeh                              3.4.3\n",
      "Bottleneck                         1.4.2\n",
      "bqplot                             0.12.43\n",
      "branca                             0.8.0\n",
      "CacheControl                       0.14.0\n",
      "cachetools                         5.5.0\n",
      "catalogue                          2.0.10\n",
      "certifi                            2024.8.30\n",
      "cffi                               1.17.1\n",
      "chardet                            5.2.0\n",
      "charset-normalizer                 3.4.0\n",
      "chex                               0.1.87\n",
      "clarabel                           0.9.0\n",
      "click                              8.1.7\n",
      "cloudpathlib                       0.20.0\n",
      "cloudpickle                        3.1.0\n",
      "cmake                              3.30.5\n",
      "cmdstanpy                          1.2.4\n",
      "colorcet                           3.1.0\n",
      "colorlover                         0.3.0\n",
      "colour                             0.1.5\n",
      "community                          1.0.0b1\n",
      "confection                         0.1.5\n",
      "cons                               0.4.6\n",
      "contourpy                          1.3.0\n",
      "cryptography                       43.0.3\n",
      "cuda-python                        12.2.1\n",
      "cudf-cu12                          24.10.1\n",
      "cufflinks                          0.17.3\n",
      "cupy-cuda12x                       12.2.0\n",
      "cvxopt                             1.3.2\n",
      "cvxpy                              1.5.3\n",
      "cycler                             0.12.1\n",
      "cymem                              2.0.8\n",
      "Cython                             3.0.11\n",
      "dask                               2024.8.2\n",
      "datascience                        0.17.6\n",
      "db-dtypes                          1.3.0\n",
      "dbus-python                        1.2.18\n",
      "debugpy                            1.6.6\n",
      "decorator                          4.4.2\n",
      "defusedxml                         0.7.1\n",
      "Deprecated                         1.2.14\n",
      "diffusers                          0.30.3\n",
      "distro                             1.7.0\n",
      "dlib                               19.24.2\n",
      "dm-tree                            0.1.8\n",
      "docker-pycreds                     0.4.0\n",
      "docstring_parser                   0.16\n",
      "docutils                           0.18.1\n",
      "dopamine_rl                        4.0.9\n",
      "duckdb                             1.1.2\n",
      "earthengine-api                    1.0.0\n",
      "easydict                           1.13\n",
      "ecos                               2.0.14\n",
      "editdistance                       0.8.1\n",
      "eerepr                             0.0.4\n",
      "einops                             0.8.0\n",
      "en-core-web-sm                     3.7.1\n",
      "entrypoints                        0.4\n",
      "et-xmlfile                         1.1.0\n",
      "etils                              1.10.0\n",
      "etuples                            0.3.9\n",
      "eval_type_backport                 0.2.0\n",
      "exceptiongroup                     1.2.2\n",
      "fastai                             2.7.18\n",
      "fastcore                           1.7.19\n",
      "fastdownload                       0.0.7\n",
      "fastjsonschema                     2.20.0\n",
      "fastprogress                       1.0.3\n",
      "fastrlock                          0.8.2\n",
      "filelock                           3.16.1\n",
      "firebase-admin                     6.5.0\n",
      "Flask                              2.2.5\n",
      "flatbuffers                        24.3.25\n",
      "flax                               0.8.5\n",
      "folium                             0.17.0\n",
      "fonttools                          4.54.1\n",
      "frozendict                         2.4.6\n",
      "frozenlist                         1.4.1\n",
      "fsspec                             2024.6.1\n",
      "future                             1.0.0\n",
      "gast                               0.6.0\n",
      "gcsfs                              2024.6.1\n",
      "GDAL                               3.6.4\n",
      "gdown                              5.2.0\n",
      "geemap                             0.34.5\n",
      "gensim                             4.3.3\n",
      "geocoder                           1.38.1\n",
      "geographiclib                      2.0\n",
      "geopandas                          1.0.1\n",
      "geopy                              2.4.1\n",
      "gin-config                         0.5.0\n",
      "gitdb                              4.0.11\n",
      "GitPython                          3.1.43\n",
      "glob2                              0.7\n",
      "google                             2.0.3\n",
      "google-ai-generativelanguage       0.6.10\n",
      "google-api-core                    2.19.2\n",
      "google-api-python-client           2.137.0\n",
      "google-auth                        2.27.0\n",
      "google-auth-httplib2               0.2.0\n",
      "google-auth-oauthlib               1.2.1\n",
      "google-cloud-aiplatform            1.70.0\n",
      "google-cloud-bigquery              3.25.0\n",
      "google-cloud-bigquery-connection   1.15.5\n",
      "google-cloud-bigquery-storage      2.27.0\n",
      "google-cloud-bigtable              2.26.0\n",
      "google-cloud-core                  2.4.1\n",
      "google-cloud-datastore             2.19.0\n",
      "google-cloud-firestore             2.16.1\n",
      "google-cloud-functions             1.16.5\n",
      "google-cloud-iam                   2.15.2\n",
      "google-cloud-language              2.13.4\n",
      "google-cloud-pubsub                2.25.0\n",
      "google-cloud-resource-manager      1.12.5\n",
      "google-cloud-storage               2.8.0\n",
      "google-cloud-translate             3.15.5\n",
      "google-colab                       1.0.0\n",
      "google-crc32c                      1.6.0\n",
      "google-generativeai                0.8.3\n",
      "google-pasta                       0.2.0\n",
      "google-resumable-media             2.7.2\n",
      "googleapis-common-protos           1.65.0\n",
      "googledrivedownloader              0.4\n",
      "graphviz                           0.20.3\n",
      "greenlet                           3.1.1\n",
      "grpc-google-iam-v1                 0.13.1\n",
      "grpcio                             1.64.1\n",
      "grpcio-status                      1.48.2\n",
      "gspread                            6.0.2\n",
      "gspread-dataframe                  3.3.1\n",
      "gym                                0.25.2\n",
      "gym-notices                        0.0.8\n",
      "h5netcdf                           1.4.0\n",
      "h5py                               3.11.0\n",
      "holidays                           0.59\n",
      "holoviews                          1.19.1\n",
      "html5lib                           1.1\n",
      "httpimport                         1.4.0\n",
      "httplib2                           0.22.0\n",
      "huggingface-hub                    0.24.7\n",
      "humanize                           4.10.0\n",
      "hyperopt                           0.2.7\n",
      "ibis-framework                     9.2.0\n",
      "idna                               3.10\n",
      "imageio                            2.35.1\n",
      "imageio-ffmpeg                     0.5.1\n",
      "imagesize                          1.4.1\n",
      "imbalanced-learn                   0.12.4\n",
      "imgaug                             0.4.0\n",
      "immutabledict                      4.2.0\n",
      "importlib_metadata                 8.5.0\n",
      "importlib_resources                6.4.5\n",
      "imutils                            0.5.4\n",
      "inflect                            7.4.0\n",
      "iniconfig                          2.0.0\n",
      "intel-cmplr-lib-ur                 2024.2.1\n",
      "intel-openmp                       2024.2.1\n",
      "ipyevents                          2.0.2\n",
      "ipyfilechooser                     0.6.0\n",
      "ipykernel                          5.5.6\n",
      "ipyleaflet                         0.19.2\n",
      "ipyparallel                        8.8.0\n",
      "ipython                            7.34.0\n",
      "ipython-genutils                   0.2.0\n",
      "ipython-sql                        0.5.0\n",
      "ipytree                            0.2.2\n",
      "ipywidgets                         7.7.1\n",
      "itsdangerous                       2.2.0\n",
      "jax                                0.4.33\n",
      "jax-cuda12-pjrt                    0.4.33\n",
      "jax-cuda12-plugin                  0.4.33\n",
      "jaxlib                             0.4.33\n",
      "jeepney                            0.7.1\n",
      "jellyfish                          1.1.0\n",
      "jieba                              0.42.1\n",
      "Jinja2                             3.1.4\n",
      "joblib                             1.4.2\n",
      "jsonpickle                         3.3.0\n",
      "jsonschema                         4.23.0\n",
      "jsonschema-specifications          2024.10.1\n",
      "jupyter-client                     6.1.12\n",
      "jupyter-console                    6.1.0\n",
      "jupyter_core                       5.7.2\n",
      "jupyter-leaflet                    0.19.2\n",
      "jupyter-server                     1.24.0\n",
      "jupyterlab_pygments                0.3.0\n",
      "jupyterlab_widgets                 3.0.13\n",
      "kaggle                             1.6.17\n",
      "kagglehub                          0.3.3\n",
      "keras                              3.4.1\n",
      "keyring                            23.5.0\n",
      "kiwisolver                         1.4.7\n",
      "langcodes                          3.4.1\n",
      "language_data                      1.2.0\n",
      "launchpadlib                       1.10.16\n",
      "lazr.restfulclient                 0.14.4\n",
      "lazr.uri                           1.0.6\n",
      "lazy_loader                        0.4\n",
      "libclang                           18.1.1\n",
      "libcudf-cu12                       24.10.1\n",
      "librosa                            0.10.2.post1\n",
      "lightgbm                           4.5.0\n",
      "linkify-it-py                      2.0.3\n",
      "llvmlite                           0.43.0\n",
      "locket                             1.0.0\n",
      "logical-unification                0.4.6\n",
      "lxml                               4.9.4\n",
      "marisa-trie                        1.2.1\n",
      "Markdown                           3.7\n",
      "markdown-it-py                     3.0.0\n",
      "MarkupSafe                         3.0.2\n",
      "matplotlib                         3.7.1\n",
      "matplotlib-inline                  0.1.7\n",
      "matplotlib-venn                    1.1.1\n",
      "mdit-py-plugins                    0.4.2\n",
      "mdurl                              0.1.2\n",
      "miniKanren                         1.0.3\n",
      "missingno                          0.5.2\n",
      "mistune                            0.8.4\n",
      "mizani                             0.11.4\n",
      "mkl                                2024.2.2\n",
      "ml-dtypes                          0.4.1\n",
      "mlxtend                            0.23.1\n",
      "more-itertools                     10.5.0\n",
      "moviepy                            1.0.3\n",
      "mpmath                             1.3.0\n",
      "msgpack                            1.1.0\n",
      "multidict                          6.1.0\n",
      "multipledispatch                   1.0.0\n",
      "multitasking                       0.0.11\n",
      "murmurhash                         1.0.10\n",
      "music21                            9.1.0\n",
      "namex                              0.0.8\n",
      "natsort                            8.4.0\n",
      "nbclassic                          1.1.0\n",
      "nbclient                           0.10.0\n",
      "nbconvert                          6.5.4\n",
      "nbformat                           5.10.4\n",
      "nest-asyncio                       1.6.0\n",
      "networkx                           3.4.2\n",
      "nibabel                            5.2.1\n",
      "nltk                               3.8.1\n",
      "notebook                           6.5.5\n",
      "notebook_shim                      0.2.4\n",
      "numba                              0.60.0\n",
      "numexpr                            2.10.1\n",
      "numpy                              1.26.4\n",
      "nvidia-cublas-cu12                 12.6.3.3\n",
      "nvidia-cuda-cupti-cu12             12.6.80\n",
      "nvidia-cuda-nvcc-cu12              12.6.77\n",
      "nvidia-cuda-runtime-cu12           12.6.77\n",
      "nvidia-cudnn-cu12                  9.5.0.50\n",
      "nvidia-cufft-cu12                  11.3.0.4\n",
      "nvidia-curand-cu12                 10.3.7.77\n",
      "nvidia-cusolver-cu12               11.7.1.2\n",
      "nvidia-cusparse-cu12               12.5.4.2\n",
      "nvidia-nccl-cu12                   2.23.4\n",
      "nvidia-nvjitlink-cu12              12.6.77\n",
      "nvtx                               0.2.10\n",
      "nx-cugraph-cu12                    24.10.0\n",
      "oauth2client                       4.1.3\n",
      "oauthlib                           3.2.2\n",
      "opencv-contrib-python              4.10.0.84\n",
      "opencv-python                      4.10.0.84\n",
      "opencv-python-headless             4.10.0.84\n",
      "openpyxl                           3.1.5\n",
      "opentelemetry-api                  1.16.0\n",
      "opentelemetry-sdk                  1.16.0\n",
      "opentelemetry-semantic-conventions 0.37b0\n",
      "opt_einsum                         3.4.0\n",
      "optax                              0.2.3\n",
      "optree                             0.13.0\n",
      "orbax-checkpoint                   0.6.4\n",
      "osqp                               0.6.7.post3\n",
      "packaging                          24.1\n",
      "pandas                             2.2.2\n",
      "pandas-datareader                  0.10.0\n",
      "pandas-gbq                         0.23.2\n",
      "pandas-stubs                       2.2.2.240909\n",
      "pandocfilters                      1.5.1\n",
      "panel                              1.4.5\n",
      "param                              2.1.1\n",
      "parso                              0.8.4\n",
      "parsy                              2.1\n",
      "partd                              1.4.2\n",
      "pathlib                            1.0.1\n",
      "patsy                              0.5.6\n",
      "peewee                             3.17.7\n",
      "pexpect                            4.9.0\n",
      "pickleshare                        0.7.5\n",
      "pillow                             10.4.0\n",
      "pip                                24.1.2\n",
      "platformdirs                       4.3.6\n",
      "plotly                             5.24.1\n",
      "plotnine                           0.13.6\n",
      "pluggy                             1.5.0\n",
      "polars                             1.7.1\n",
      "pooch                              1.8.2\n",
      "portpicker                         1.5.2\n",
      "preshed                            3.0.9\n",
      "prettytable                        3.11.0\n",
      "proglog                            0.1.10\n",
      "progressbar2                       4.5.0\n",
      "prometheus_client                  0.21.0\n",
      "promise                            2.3\n",
      "prompt_toolkit                     3.0.48\n",
      "propcache                          0.2.0\n",
      "prophet                            1.1.6\n",
      "proto-plus                         1.24.0\n",
      "protobuf                           3.20.3\n",
      "psutil                             5.9.5\n",
      "psycopg2                           2.9.10\n",
      "ptyprocess                         0.7.0\n",
      "py-cpuinfo                         9.0.0\n",
      "py4j                               0.10.9.7\n",
      "pyarrow                            16.1.0\n",
      "pyarrow-hotfix                     0.6\n",
      "pyasn1                             0.6.1\n",
      "pyasn1_modules                     0.4.1\n",
      "pycocotools                        2.0.8\n",
      "pycparser                          2.22\n",
      "pydantic                           2.9.2\n",
      "pydantic_core                      2.23.4\n",
      "pydata-google-auth                 1.8.2\n",
      "pydot                              3.0.2\n",
      "pydotplus                          2.0.2\n",
      "PyDrive                            1.3.1\n",
      "PyDrive2                           1.20.0\n",
      "pyerfa                             2.0.1.4\n",
      "pygame                             2.6.1\n",
      "pygit2                             1.15.1\n",
      "Pygments                           2.18.0\n",
      "PyGObject                          3.42.1\n",
      "PyJWT                              2.9.0\n",
      "pylibcudf-cu12                     24.10.1\n",
      "pylibcugraph-cu12                  24.10.0\n",
      "pylibraft-cu12                     24.10.0\n",
      "pymc                               5.16.2\n",
      "pymystem3                          0.2.0\n",
      "pynvjitlink-cu12                   0.3.0\n",
      "pyogrio                            0.10.0\n",
      "PyOpenGL                           3.1.7\n",
      "pyOpenSSL                          24.2.1\n",
      "pyparsing                          3.2.0\n",
      "pyperclip                          1.9.0\n",
      "pyproj                             3.7.0\n",
      "pyshp                              2.3.1\n",
      "PySocks                            1.7.1\n",
      "pyspark                            3.5.3\n",
      "pytensor                           2.25.5\n",
      "pytest                             7.4.4\n",
      "python-apt                         0.0.0\n",
      "python-box                         7.2.0\n",
      "python-dateutil                    2.8.2\n",
      "python-louvain                     0.16\n",
      "python-slugify                     8.0.4\n",
      "python-utils                       3.9.0\n",
      "pytz                               2024.2\n",
      "pyviz_comms                        3.0.3\n",
      "PyYAML                             6.0.2\n",
      "pyzmq                              24.0.1\n",
      "qdldl                              0.1.7.post4\n",
      "ratelim                            0.1.6\n",
      "referencing                        0.35.1\n",
      "regex                              2024.9.11\n",
      "requests                           2.32.3\n",
      "requests-oauthlib                  1.3.1\n",
      "requirements-parser                0.9.0\n",
      "rich                               13.9.3\n",
      "rmm-cu12                           24.10.0\n",
      "rpds-py                            0.20.0\n",
      "rpy2                               3.4.2\n",
      "rsa                                4.9\n",
      "safetensors                        0.4.5\n",
      "scikit-image                       0.24.0\n",
      "scikit-learn                       1.5.2\n",
      "scipy                              1.13.1\n",
      "scooby                             0.10.0\n",
      "scs                                3.2.7\n",
      "seaborn                            0.13.2\n",
      "SecretStorage                      3.3.1\n",
      "Send2Trash                         1.8.3\n",
      "sentencepiece                      0.2.0\n",
      "sentry-sdk                         2.17.0\n",
      "setproctitle                       1.3.3\n",
      "setuptools                         75.1.0\n",
      "shap                               0.46.0\n",
      "shapely                            2.0.6\n",
      "shellingham                        1.5.4\n",
      "simple-parsing                     0.1.6\n",
      "six                                1.16.0\n",
      "sklearn-pandas                     2.2.0\n",
      "slicer                             0.0.8\n",
      "smart-open                         7.0.5\n",
      "smmap                              5.0.1\n",
      "sniffio                            1.3.1\n",
      "snowballstemmer                    2.2.0\n",
      "soundfile                          0.12.1\n",
      "soupsieve                          2.6\n",
      "soxr                               0.5.0.post1\n",
      "spacy                              3.7.5\n",
      "spacy-legacy                       3.0.12\n",
      "spacy-loggers                      1.0.5\n",
      "Sphinx                             5.0.2\n",
      "sphinxcontrib-applehelp            2.0.0\n",
      "sphinxcontrib-devhelp              2.0.0\n",
      "sphinxcontrib-htmlhelp             2.1.0\n",
      "sphinxcontrib-jsmath               1.0.1\n",
      "sphinxcontrib-qthelp               2.0.0\n",
      "sphinxcontrib-serializinghtml      2.0.0\n",
      "SQLAlchemy                         2.0.36\n",
      "sqlglot                            25.1.0\n",
      "sqlparse                           0.5.1\n",
      "srsly                              2.4.8\n",
      "stanio                             0.5.1\n",
      "statsmodels                        0.14.4\n",
      "StrEnum                            0.4.15\n",
      "sympy                              1.13.1\n",
      "tables                             3.8.0\n",
      "tabulate                           0.9.0\n",
      "tbb                                2021.13.1\n",
      "tenacity                           9.0.0\n",
      "tensorboard                        2.17.0\n",
      "tensorboard-data-server            0.7.2\n",
      "tensorflow                         2.17.0\n",
      "tensorflow-datasets                4.9.6\n",
      "tensorflow-hub                     0.16.1\n",
      "tensorflow-io-gcs-filesystem       0.37.1\n",
      "tensorflow-metadata                1.16.1\n",
      "tensorflow-probability             0.24.0\n",
      "tensorstore                        0.1.66\n",
      "termcolor                          2.5.0\n",
      "terminado                          0.18.1\n",
      "text-unidecode                     1.3\n",
      "textblob                           0.17.1\n",
      "tf_keras                           2.17.0\n",
      "tf-slim                            1.1.0\n",
      "thinc                              8.2.5\n",
      "threadpoolctl                      3.5.0\n",
      "tifffile                           2024.9.20\n",
      "timm                               1.0.11\n",
      "tinycss2                           1.3.0\n",
      "tokenizers                         0.19.1\n",
      "toml                               0.10.2\n",
      "tomli                              2.0.2\n",
      "toolz                              0.12.1\n",
      "torch                              2.5.0+cu121\n",
      "torchaudio                         2.5.0+cu121\n",
      "torchsummary                       1.5.1\n",
      "torchvision                        0.20.0+cu121\n",
      "tornado                            6.3.3\n",
      "tqdm                               4.66.5\n",
      "traitlets                          5.7.1\n",
      "traittypes                         0.2.1\n",
      "transformers                       4.44.2\n",
      "tweepy                             4.14.0\n",
      "typeguard                          4.3.0\n",
      "typer                              0.12.5\n",
      "types-pytz                         2024.2.0.20241003\n",
      "types-setuptools                   75.2.0.20241019\n",
      "typing_extensions                  4.12.2\n",
      "tzdata                             2024.2\n",
      "tzlocal                            5.2\n",
      "uc-micro-py                        1.0.3\n",
      "uritemplate                        4.1.1\n",
      "urllib3                            2.2.3\n",
      "vega-datasets                      0.9.0\n",
      "wadllib                            1.3.6\n",
      "wandb                              0.18.5\n",
      "wasabi                             1.1.3\n",
      "wcwidth                            0.2.13\n",
      "weasel                             0.4.1\n",
      "webcolors                          24.8.0\n",
      "webencodings                       0.5.1\n",
      "websocket-client                   1.8.0\n",
      "Werkzeug                           3.0.4\n",
      "wheel                              0.44.0\n",
      "widgetsnbextension                 3.6.10\n",
      "wordcloud                          1.9.3\n",
      "wrapt                              1.16.0\n",
      "xarray                             2024.9.0\n",
      "xarray-einstats                    0.8.0\n",
      "xgboost                            2.1.1\n",
      "xlrd                               2.0.1\n",
      "xyzservices                        2024.9.0\n",
      "yarl                               1.16.0\n",
      "yellowbrick                        1.5\n",
      "yfinance                           0.2.46\n",
      "zipp                               3.20.2\n"
     ]
    }
   ],
   "source": [
    "!pip list"
   ]
  },
  {
   "cell_type": "code",
   "execution_count": null,
   "metadata": {
    "colab": {
     "base_uri": "https://localhost:8080/"
    },
    "id": "ehnSza75uJ6T",
    "outputId": "fa57b8c4-f561-4ee6-a51b-296a5ffaaf99"
   },
   "outputs": [
    {
     "name": "stdout",
     "output_type": "stream",
     "text": [
      "\u001b[2K     \u001b[90m━━━━━━━━━━━━━━━━━━━━━━━━━━━━━━━━━━━━━━━━\u001b[0m \u001b[32m56.8/56.8 kB\u001b[0m \u001b[31m3.3 MB/s\u001b[0m eta \u001b[36m0:00:00\u001b[0m\n",
      "\u001b[2K     \u001b[90m━━━━━━━━━━━━━━━━━━━━━━━━━━━━━━━━━━━━━━━━\u001b[0m \u001b[32m48.2/48.2 kB\u001b[0m \u001b[31m3.9 MB/s\u001b[0m eta \u001b[36m0:00:00\u001b[0m\n",
      "\u001b[2K     \u001b[90m━━━━━━━━━━━━━━━━━━━━━━━━━━━━━━━━━━━━━━━━\u001b[0m \u001b[32m56.8/56.8 kB\u001b[0m \u001b[31m4.2 MB/s\u001b[0m eta \u001b[36m0:00:00\u001b[0m\n",
      "\u001b[2K     \u001b[90m━━━━━━━━━━━━━━━━━━━━━━━━━━━━━━━━━━━━━━━━\u001b[0m \u001b[32m56.8/56.8 kB\u001b[0m \u001b[31m3.3 MB/s\u001b[0m eta \u001b[36m0:00:00\u001b[0m\n",
      "\u001b[2K     \u001b[90m━━━━━━━━━━━━━━━━━━━━━━━━━━━━━━━━━━━━━━━━\u001b[0m \u001b[32m56.8/56.8 kB\u001b[0m \u001b[31m3.2 MB/s\u001b[0m eta \u001b[36m0:00:00\u001b[0m\n",
      "\u001b[2K     \u001b[90m━━━━━━━━━━━━━━━━━━━━━━━━━━━━━━━━━━━━━━━━\u001b[0m \u001b[32m56.5/56.5 kB\u001b[0m \u001b[31m2.7 MB/s\u001b[0m eta \u001b[36m0:00:00\u001b[0m\n",
      "\u001b[2K     \u001b[90m━━━━━━━━━━━━━━━━━━━━━━━━━━━━━━━━━━━━━━━━\u001b[0m \u001b[32m56.3/56.3 kB\u001b[0m \u001b[31m3.4 MB/s\u001b[0m eta \u001b[36m0:00:00\u001b[0m\n",
      "\u001b[2K     \u001b[90m━━━━━━━━━━━━━━━━━━━━━━━━━━━━━━━━━━━━━━━━\u001b[0m \u001b[32m56.3/56.3 kB\u001b[0m \u001b[31m2.9 MB/s\u001b[0m eta \u001b[36m0:00:00\u001b[0m\n",
      "\u001b[2K     \u001b[90m━━━━━━━━━━━━━━━━━━━━━━━━━━━━━━━━━━━━━━━━\u001b[0m \u001b[32m56.0/56.0 kB\u001b[0m \u001b[31m2.9 MB/s\u001b[0m eta \u001b[36m0:00:00\u001b[0m\n",
      "\u001b[2K     \u001b[90m━━━━━━━━━━━━━━━━━━━━━━━━━━━━━━━━━━━━━━━━\u001b[0m \u001b[32m55.5/55.5 kB\u001b[0m \u001b[31m2.4 MB/s\u001b[0m eta \u001b[36m0:00:00\u001b[0m\n",
      "\u001b[2K     \u001b[90m━━━━━━━━━━━━━━━━━━━━━━━━━━━━━━━━━━━━━━━━\u001b[0m \u001b[32m55.5/55.5 kB\u001b[0m \u001b[31m3.2 MB/s\u001b[0m eta \u001b[36m0:00:00\u001b[0m\n",
      "\u001b[2K     \u001b[90m━━━━━━━━━━━━━━━━━━━━━━━━━━━━━━━━━━━━━━━━\u001b[0m \u001b[32m50.6/50.6 kB\u001b[0m \u001b[31m1.6 MB/s\u001b[0m eta \u001b[36m0:00:00\u001b[0m\n",
      "\u001b[2K   \u001b[90m━━━━━━━━━━━━━━━━━━━━━━━━━━━━━━━━━━━━━━━━\u001b[0m \u001b[32m330.9/330.9 kB\u001b[0m \u001b[31m15.1 MB/s\u001b[0m eta \u001b[36m0:00:00\u001b[0m\n",
      "\u001b[2K   \u001b[90m━━━━━━━━━━━━━━━━━━━━━━━━━━━━━━━━━━━━━━━━\u001b[0m \u001b[32m320.7/320.7 kB\u001b[0m \u001b[31m23.6 MB/s\u001b[0m eta \u001b[36m0:00:00\u001b[0m\n",
      "\u001b[2K   \u001b[90m━━━━━━━━━━━━━━━━━━━━━━━━━━━━━━━━━━━━━━━━\u001b[0m \u001b[32m122.4/122.4 MB\u001b[0m \u001b[31m7.4 MB/s\u001b[0m eta \u001b[36m0:00:00\u001b[0m\n",
      "\u001b[2K   \u001b[90m━━━━━━━━━━━━━━━━━━━━━━━━━━━━━━━━━━━━━━━━\u001b[0m \u001b[32m316.6/316.6 kB\u001b[0m \u001b[31m16.3 MB/s\u001b[0m eta \u001b[36m0:00:00\u001b[0m\n",
      "\u001b[2K   \u001b[90m━━━━━━━━━━━━━━━━━━━━━━━━━━━━━━━━━━━━━━━━\u001b[0m \u001b[32m1.0/1.0 MB\u001b[0m \u001b[31m38.1 MB/s\u001b[0m eta \u001b[36m0:00:00\u001b[0m\n",
      "\u001b[2K   \u001b[90m━━━━━━━━━━━━━━━━━━━━━━━━━━━━━━━━━━━━━━━━\u001b[0m \u001b[32m2.4/2.4 MB\u001b[0m \u001b[31m59.2 MB/s\u001b[0m eta \u001b[36m0:00:00\u001b[0m\n",
      "\u001b[2K   \u001b[90m━━━━━━━━━━━━━━━━━━━━━━━━━━━━━━━━━━━━━━━━\u001b[0m \u001b[32m419.8/419.8 kB\u001b[0m \u001b[31m26.4 MB/s\u001b[0m eta \u001b[36m0:00:00\u001b[0m\n",
      "\u001b[2K   \u001b[90m━━━━━━━━━━━━━━━━━━━━━━━━━━━━━━━━━━━━━━━━\u001b[0m \u001b[32m155.4/155.4 kB\u001b[0m \u001b[31m11.2 MB/s\u001b[0m eta \u001b[36m0:00:00\u001b[0m\n",
      "\u001b[2K   \u001b[90m━━━━━━━━━━━━━━━━━━━━━━━━━━━━━━━━━━━━━━━━\u001b[0m \u001b[32m1.2/1.2 MB\u001b[0m \u001b[31m48.0 MB/s\u001b[0m eta \u001b[36m0:00:00\u001b[0m\n",
      "\u001b[2K   \u001b[90m━━━━━━━━━━━━━━━━━━━━━━━━━━━━━━━━━━━━━━━━\u001b[0m \u001b[32m472.7/472.7 kB\u001b[0m \u001b[31m33.2 MB/s\u001b[0m eta \u001b[36m0:00:00\u001b[0m\n",
      "\u001b[2K   \u001b[90m━━━━━━━━━━━━━━━━━━━━━━━━━━━━━━━━━━━━━━━━\u001b[0m \u001b[32m407.7/407.7 kB\u001b[0m \u001b[31m29.7 MB/s\u001b[0m eta \u001b[36m0:00:00\u001b[0m\n",
      "\u001b[2K   \u001b[90m━━━━━━━━━━━━━━━━━━━━━━━━━━━━━━━━━━━━━━━━\u001b[0m \u001b[32m296.9/296.9 kB\u001b[0m \u001b[31m15.2 MB/s\u001b[0m eta \u001b[36m0:00:00\u001b[0m\n",
      "\u001b[2K   \u001b[90m━━━━━━━━━━━━━━━━━━━━━━━━━━━━━━━━━━━━━━━━\u001b[0m \u001b[32m244.8/244.8 kB\u001b[0m \u001b[31m12.0 MB/s\u001b[0m eta \u001b[36m0:00:00\u001b[0m\n",
      "\u001b[2K   \u001b[90m━━━━━━━━━━━━━━━━━━━━━━━━━━━━━━━━━━━━━━━━\u001b[0m \u001b[32m85.4/85.4 kB\u001b[0m \u001b[31m6.7 MB/s\u001b[0m eta \u001b[36m0:00:00\u001b[0m\n",
      "\u001b[2K   \u001b[90m━━━━━━━━━━━━━━━━━━━━━━━━━━━━━━━━━━━━━━━━\u001b[0m \u001b[32m255.8/255.8 kB\u001b[0m \u001b[31m21.7 MB/s\u001b[0m eta \u001b[36m0:00:00\u001b[0m\n",
      "\u001b[2K   \u001b[90m━━━━━━━━━━━━━━━━━━━━━━━━━━━━━━━━━━━━━━━━\u001b[0m \u001b[32m209.5/209.5 MB\u001b[0m \u001b[31m6.1 MB/s\u001b[0m eta \u001b[36m0:00:00\u001b[0m\n",
      "\u001b[2K   \u001b[90m━━━━━━━━━━━━━━━━━━━━━━━━━━━━━━━━━━━━━━━━\u001b[0m \u001b[32m109.8/109.8 kB\u001b[0m \u001b[31m4.7 MB/s\u001b[0m eta \u001b[36m0:00:00\u001b[0m\n",
      "\u001b[2K   \u001b[90m━━━━━━━━━━━━━━━━━━━━━━━━━━━━━━━━━━━━━━━━\u001b[0m \u001b[32m16.7/16.7 MB\u001b[0m \u001b[31m58.7 MB/s\u001b[0m eta \u001b[36m0:00:00\u001b[0m\n",
      "\u001b[2K   \u001b[90m━━━━━━━━━━━━━━━━━━━━━━━━━━━━━━━━━━━━━━━━\u001b[0m \u001b[32m3.6/3.6 MB\u001b[0m \u001b[31m46.3 MB/s\u001b[0m eta \u001b[36m0:00:00\u001b[0m\n",
      "\u001b[2K   \u001b[90m━━━━━━━━━━━━━━━━━━━━━━━━━━━━━━━━━━━━━━━━\u001b[0m \u001b[32m116.3/116.3 kB\u001b[0m \u001b[31m8.3 MB/s\u001b[0m eta \u001b[36m0:00:00\u001b[0m\n",
      "\u001b[2K   \u001b[90m━━━━━━━━━━━━━━━━━━━━━━━━━━━━━━━━━━━━━━━━\u001b[0m \u001b[32m76.4/76.4 kB\u001b[0m \u001b[31m5.7 MB/s\u001b[0m eta \u001b[36m0:00:00\u001b[0m\n",
      "\u001b[2K   \u001b[90m━━━━━━━━━━━━━━━━━━━━━━━━━━━━━━━━━━━━━━━━\u001b[0m \u001b[32m78.0/78.0 kB\u001b[0m \u001b[31m5.8 MB/s\u001b[0m eta \u001b[36m0:00:00\u001b[0m\n",
      "\u001b[2K   \u001b[90m━━━━━━━━━━━━━━━━━━━━━━━━━━━━━━━━━━━━━━━━\u001b[0m \u001b[32m49.5/49.5 kB\u001b[0m \u001b[31m3.6 MB/s\u001b[0m eta \u001b[36m0:00:00\u001b[0m\n",
      "\u001b[2K   \u001b[90m━━━━━━━━━━━━━━━━━━━━━━━━━━━━━━━━━━━━━━━━\u001b[0m \u001b[32m134.8/134.8 kB\u001b[0m \u001b[31m10.6 MB/s\u001b[0m eta \u001b[36m0:00:00\u001b[0m\n",
      "\u001b[2K   \u001b[90m━━━━━━━━━━━━━━━━━━━━━━━━━━━━━━━━━━━━━━━━\u001b[0m \u001b[32m144.5/144.5 kB\u001b[0m \u001b[31m10.4 MB/s\u001b[0m eta \u001b[36m0:00:00\u001b[0m\n",
      "\u001b[2K   \u001b[90m━━━━━━━━━━━━━━━━━━━━━━━━━━━━━━━━━━━━━━━━\u001b[0m \u001b[32m54.5/54.5 kB\u001b[0m \u001b[31m3.6 MB/s\u001b[0m eta \u001b[36m0:00:00\u001b[0m\n",
      "\u001b[2K   \u001b[90m━━━━━━━━━━━━━━━━━━━━━━━━━━━━━━━━━━━━━━━━\u001b[0m \u001b[32m194.1/194.1 kB\u001b[0m \u001b[31m13.0 MB/s\u001b[0m eta \u001b[36m0:00:00\u001b[0m\n",
      "\u001b[2K   \u001b[90m━━━━━━━━━━━━━━━━━━━━━━━━━━━━━━━━━━━━━━━━\u001b[0m \u001b[32m58.3/58.3 kB\u001b[0m \u001b[31m3.0 MB/s\u001b[0m eta \u001b[36m0:00:00\u001b[0m\n",
      "\u001b[?25h"
     ]
    }
   ],
   "source": [
    "!pip install -q accelerate==1.0.1 peft==0.13.2 bitsandbytes==0.44.1 transformers==4.44.2 trl==0.11.4 langchain==0.3.4 langchain_community==0.3.3 langchain_huggingface==0.1.0 langchain-pinecone==0.2.0 pinecone==5.3.1\n",
    "# !pip install \"unsloth[cu121-torch220] @ git+https://github.com/unslothai/unsloth.git\" # For Thanh's local\n",
    "!pip install \"unsloth[cu118-ampere-torch240] @ git+https://github.com/unslothai/unsloth.git\"  # For Bui's local"
   ]
  },
  {
   "cell_type": "markdown",
   "metadata": {
    "id": "fxS6VGG7h3JZ"
   },
   "source": [
    "#### Kiểm tra phiên bản cần cài của unsloth"
   ]
  },
  {
   "cell_type": "code",
   "execution_count": null,
   "metadata": {
    "id": "W1nGVQVUh8la"
   },
   "outputs": [],
   "source": [
    "try: import torch\n",
    "except: raise ImportError(\"Install torch via `pip install torch`\")\n",
    "from packaging.version import Version as V\n",
    "v = V(torch.__version__)\n",
    "cuda = str(torch.version.cuda)\n",
    "is_ampere = torch.cuda.get_device_capability()[0] >= 8\n",
    "if cuda != \"12.1\" and cuda != \"11.8\": raise RuntimeError(f\"CUDA = {cuda} not supported!\")\n",
    "if   v <= V('2.1.0'): raise RuntimeError(f\"Torch = {v} too old!\")\n",
    "elif v <= V('2.1.1'): x = 'cu{}{}-torch211'\n",
    "elif v <= V('2.1.2'): x = 'cu{}{}-torch212'\n",
    "elif v  < V('2.3.0'): x = 'cu{}{}-torch220'\n",
    "elif v  < V('2.4.0'): x = 'cu{}{}-torch230'\n",
    "elif v  < V('2.5.0'): x = 'cu{}{}-torch240'\n",
    "else: raise RuntimeError(f\"Torch = {v} too new!\")\n",
    "x = x.format(cuda.replace(\".\", \"\"), \"-ampere\" if is_ampere else \"\")\n",
    "print(f'pip install --upgrade pip && pip install \"unsloth[{x}] @ git+https://github.com/unslothai/unsloth.git\"')"
   ]
  },
  {
   "cell_type": "markdown",
   "metadata": {
    "id": "YO1Nw9b6x8WQ"
   },
   "source": [
    "#### Thư viện xử lý data"
   ]
  },
  {
   "cell_type": "code",
   "execution_count": 1,
   "metadata": {
    "id": "RXcWeFvat9B3"
   },
   "outputs": [],
   "source": [
    "from langchain_community.document_loaders import PyPDFLoader, DirectoryLoader, TextLoader\n",
    "import json"
   ]
  },
  {
   "cell_type": "markdown",
   "metadata": {
    "id": "19qPtnNFyANW"
   },
   "source": [
    "#### Thư viện xử lý finetune"
   ]
  },
  {
   "cell_type": "code",
   "execution_count": null,
   "metadata": {
    "colab": {
     "base_uri": "https://localhost:8080/"
    },
    "id": "VOIsEMgix1oJ",
    "outputId": "706d1bff-3896-4f97-94b2-b536cc95e684"
   },
   "outputs": [
    {
     "name": "stderr",
     "output_type": "stream",
     "text": [
      "c:\\Python\\mlperf_env\\lib\\site-packages\\tqdm\\auto.py:21: TqdmWarning: IProgress not found. Please update jupyter and ipywidgets. See https://ipywidgets.readthedocs.io/en/stable/user_install.html\n",
      "  from .autonotebook import tqdm as notebook_tqdm\n"
     ]
    },
    {
     "name": "stdout",
     "output_type": "stream",
     "text": [
      "Unsloth: If you want to finetune Gemma 2, upgrade flash-attn to version 2.6.3 or higher!\n",
      "Newer versions support faster and less memory usage kernels for Gemma 2's attention softcapping!\n",
      "To update flash-attn, do the below:\n",
      "\n",
      "pip install --no-deps --upgrade \"flash-attn>=2.6.3\"\n",
      "🦥 Unsloth: Will patch your computer to enable 2x faster free finetuning.\n"
     ]
    }
   ],
   "source": [
    "import torch\n",
    "from datasets import load_dataset, Dataset\n",
    "from transformers import (\n",
    "    AutoModelForCausalLM, AutoTokenizer, BitsAndBytesConfig,\n",
    "    HfArgumentParser, TrainingArguments, pipeline, logging, DataCollatorForSeq2Seq\n",
    ")\n",
    "from peft import LoraConfig, PeftModel\n",
    "from trl import SFTTrainer\n",
    "from unsloth import FastLanguageModel\n",
    "from unsloth.chat_templates import get_chat_template\n",
    "from unsloth import is_bfloat16_supported\n",
    "from unsloth.chat_templates import standardize_sharegpt\n",
    "from unsloth.chat_templates import train_on_responses_only\n",
    "from transformers import TextStreamer"
   ]
  },
  {
   "cell_type": "code",
   "execution_count": 4,
   "metadata": {},
   "outputs": [
    {
     "name": "stdout",
     "output_type": "stream",
     "text": [
      "Path hiện tại là: c:\\Python\\mlperf_env\n"
     ]
    }
   ],
   "source": [
    "import os\n",
    "\n",
    "# Lấy và in ra đường dẫn thư mục hiện tại\n",
    "current_path = os.getcwd()\n",
    "print(\"Path hiện tại là:\", current_path)\n"
   ]
  },
  {
   "cell_type": "code",
   "execution_count": null,
   "metadata": {
    "id": "Ea2MU3jfyGTs"
   },
   "outputs": [],
   "source": [
    "from langchain.text_splitter import RecursiveCharacterTextSplitter\n",
    "from langchain_huggingface import HuggingFaceEmbeddings\n",
    "from pinecone import Pinecone\n",
    "from langchain_pinecone import PineconeVectorStore"
   ]
  },
  {
   "cell_type": "markdown",
   "metadata": {
    "id": "b35WDz3FaeTk"
   },
   "source": [
    "#### Khai báo hàm xử lý prompt dữ liệu đầu vào"
   ]
  },
  {
   "cell_type": "markdown",
   "metadata": {
    "id": "H_ShHp7QjJUN"
   },
   "source": [
    "- Prompt Vietnamese"
   ]
  },
  {
   "cell_type": "code",
   "execution_count": 4,
   "metadata": {
    "id": "7eXnyyuGtxKZ"
   },
   "outputs": [],
   "source": [
    "def convert_to_prompt_format(disease_data):\n",
    "  messages = []\n",
    "\n",
    "  for disease in disease_data[\"diseases\"]:\n",
    "    l_messages = []\n",
    "    system_message = {\n",
    "        \"from\": \"system\",\n",
    "        \"value\": \"Bạn là một trợ lí Tiếng Việt nhiệt tình và trung thực. Hãy luôn trả lời một cách hữu ích nhất có thể, đồng thời giữ an toàn. Nếu một câu hỏi không có ý nghĩa hoặc không hợp lý về mặt thông tin, hãy giải thích tại sao thay vì trả lời một điều gì đó không chính xác, vui lòng không chia sẻ thông tin sai lệch.\"\n",
    "    }\n",
    "\n",
    "    user_message = {\n",
    "        \"from\": \"human\",\n",
    "        \"value\": f\"Mô tả về bệnh {disease['name']}?\"\n",
    "    }\n",
    "    assistant_message = {\n",
    "        \"from\": \"gpt\",\n",
    "        \"value\": f\"Mô tả: {disease['description']}.\\n\\nTriệu chứng: {', '.join(disease['symptoms'])}.\"\n",
    "    }\n",
    "    l_messages.append(system_message)\n",
    "    l_messages.append(user_message)\n",
    "    l_messages.append(assistant_message)\n",
    "    messages.append(l_messages)\n",
    "\n",
    "    l_messages = []\n",
    "    user_message = {\n",
    "        \"from\": \"human\",\n",
    "        \"value\": f\"Triệu chứng về bệnh {disease['name']}?\"\n",
    "    }\n",
    "    assistant_message = {\n",
    "        \"from\": \"gpt\",\n",
    "        \"value\": f\"Triệu chứng: {', '.join(disease['symptoms'])}.\\n\\nPhương pháp điều trị: {', '.join(disease['treatments'])}.\"\n",
    "    }\n",
    "    l_messages.append(system_message)\n",
    "    l_messages.append(user_message)\n",
    "    l_messages.append(assistant_message)\n",
    "    messages.append(l_messages)\n",
    "\n",
    "    l_messages = []\n",
    "    user_message = {\n",
    "        \"from\": \"human\",\n",
    "        \"value\": f\"Phương pháp chữa bệnh {disease['name']}?\"\n",
    "    }\n",
    "    assistant_message = {\n",
    "        \"from\": \"gpt\",\n",
    "        \"value\": f\"Phương pháp điều trị: {', '.join(disease['treatments'])}.\"\n",
    "    }\n",
    "    l_messages.append(system_message)\n",
    "    l_messages.append(user_message)\n",
    "    l_messages.append(assistant_message)\n",
    "    messages.append(l_messages)\n",
    "\n",
    "  return messages"
   ]
  },
  {
   "cell_type": "markdown",
   "metadata": {
    "id": "bkg_AEZjjL28"
   },
   "source": [
    "- Prompt English"
   ]
  },
  {
   "cell_type": "code",
   "execution_count": null,
   "metadata": {
    "id": "27TtxYm9j538"
   },
   "outputs": [],
   "source": [
    "def convert_to_prompt_format(disease_data):\n",
    "    messages = []\n",
    "\n",
    "    for disease in disease_data[\"diseases\"]:\n",
    "        l_messages = []\n",
    "        system_message = {\n",
    "            \"from\": \"system\",\n",
    "            \"value\": \"You are a helpful and honest assistant. Always provide the most useful answers possible, while ensuring safety. If a question is meaningless or unreasonable, explain why instead of providing incorrect information, and please do not share misleading information.\"\n",
    "        }\n",
    "        user_message = {\n",
    "            \"from\": \"human\",\n",
    "            \"value\": f\"Describe the disease {disease['name']}?\"\n",
    "        }\n",
    "        assistant_message = {\n",
    "            \"from\": \"gpt\",\n",
    "            \"value\": f\"Description: {disease['description']}.\\n\\nSymptoms: {', '.join(disease['symptoms'])}.\"\n",
    "        }\n",
    "        l_messages.append(system_message)\n",
    "        l_messages.append(user_message)\n",
    "        l_messages.append(assistant_message)\n",
    "        messages.append(l_messages)\n",
    "\n",
    "        l_messages = []\n",
    "        l_messages.append(system_message)\n",
    "        user_message = {\n",
    "            \"from\": \"human\",\n",
    "            \"value\": f\"What are the symptoms of the disease {disease['name']}?\"\n",
    "        }\n",
    "        assistant_message = {\n",
    "            \"from\": \"gpt\",\n",
    "            \"value\": f\"Symptoms: {', '.join(disease['symptoms'])}.\\n\\nTreatment methods: {', '.join(disease['treatments'])}.\"\n",
    "        }\n",
    "        l_messages.append(user_message)\n",
    "        l_messages.append(assistant_message)\n",
    "        messages.append(l_messages)\n",
    "\n",
    "        l_messages = []\n",
    "        l_messages.append(system_message)\n",
    "        user_message = {\n",
    "            \"from\": \"human\",\n",
    "            \"value\": f\"What are the treatment methods for the disease {disease['name']}?\"\n",
    "        }\n",
    "        assistant_message = {\n",
    "            \"from\": \"gpt\",\n",
    "            \"value\": f\"Treatment methods: {', '.join(disease['treatments'])}.\"\n",
    "        }\n",
    "        l_messages.append(user_message)\n",
    "        l_messages.append(assistant_message)\n",
    "        messages.append(l_messages)\n",
    "\n",
    "    return messages"
   ]
  },
  {
   "cell_type": "code",
   "execution_count": 5,
   "metadata": {
    "id": "HLb8YpVRupTc"
   },
   "outputs": [],
   "source": [
    "def read_json_and_convert_to_txt(input_file, output_file):\n",
    "    with open(input_file, 'r', encoding='utf-8') as infile:\n",
    "        disease_data = json.load(infile)\n",
    "\n",
    "    messages = convert_to_prompt_format(disease_data)\n",
    "\n",
    "    with open(output_file, 'w', encoding='utf-8') as outfile:\n",
    "        outfile.write(json.dumps(messages, ensure_ascii=False, indent=2))"
   ]
  },
  {
   "cell_type": "markdown",
   "metadata": {
    "id": "FusQd_hEaeTk"
   },
   "source": [
    "#### Hàm lưu file"
   ]
  },
  {
   "cell_type": "code",
   "execution_count": 6,
   "metadata": {
    "id": "CAtdMJvTurjr"
   },
   "outputs": [],
   "source": [
    "input_file = current_path+'\\data\\health-data-vi.json'\n",
    "output_file = current_path+'\\data\\health-data-vi.txt'\n",
    "read_json_and_convert_to_txt(input_file, output_file)"
   ]
  },
  {
   "cell_type": "markdown",
   "metadata": {},
   "source": [
    "#### Dataset new"
   ]
  },
  {
   "cell_type": "code",
   "execution_count": 4,
   "metadata": {},
   "outputs": [
    {
     "name": "stderr",
     "output_type": "stream",
     "text": [
      "Creating CSV from Arrow format: 100%|██████████| 113/113 [00:02<00:00, 50.69ba/s]\n"
     ]
    }
   ],
   "source": [
    "ds = load_dataset(\"lavita/ChatDoctor-HealthCareMagic-100k\")\n",
    "for split, dataset in ds.items():\n",
    "    dataset.to_csv(f\"dataset-mec100k{split}.csv\", index = None)"
   ]
  },
  {
   "cell_type": "code",
   "execution_count": 9,
   "metadata": {},
   "outputs": [
    {
     "name": "stdout",
     "output_type": "stream",
     "text": [
      "File generated at: c:\\Python\\mlperf_env/data/health-data-en.txt\n"
     ]
    }
   ],
   "source": [
    "import pandas as pd\n",
    "import json\n",
    "\n",
    "file_path = current_path + '/data/dataset-mec100ktrain.csv'  \n",
    "df = pd.read_csv(file_path, usecols=['human', 'gpt'])\n",
    "\n",
    "system_message = {\n",
    "    \"from\": \"system\",\n",
    "    \"value\": \"You are a dedicated and honest English assistant. Always respond as helpfully as possible while ensuring safety. If a question is nonsensical or lacks logical information, explain why instead of providing an inaccurate response. Please avoid sharing misinformation.\"\n",
    "}\n",
    "\n",
    "output_data = []\n",
    "\n",
    "for _, row in df.iterrows():\n",
    "    human_message = {\"from\": \"human\", \"value\": str(row['human'])}  \n",
    "    gpt_message = {\"from\": \"gpt\", \"value\": str(row['gpt'])}     \n",
    "    conversation = [system_message, human_message, gpt_message]\n",
    "    output_data.append(conversation)\n",
    "\n",
    "formatted_output = json.dumps(output_data, ensure_ascii=False, indent=2)\n",
    "\n",
    "output_file_path = current_path + '/data/health-data-en.txt' \n",
    "with open(output_file_path, 'w', encoding='utf-8') as file:\n",
    "    file.write(formatted_output)\n",
    "\n",
    "print(\"File generated at:\", output_file_path)\n"
   ]
  },
  {
   "cell_type": "markdown",
   "metadata": {
    "id": "eZcydH-WaeTl"
   },
   "source": [
    "#### Chuẩn hóa dữ liệu thành Document của LangChain"
   ]
  },
  {
   "cell_type": "code",
   "execution_count": 4,
   "metadata": {
    "id": "LGmmfJtYaeTl"
   },
   "outputs": [],
   "source": [
    "class UTF8TextLoader(TextLoader):\n",
    "    def __init__(self, file_path):\n",
    "        super().__init__(file_path, encoding='utf-8')\n",
    "\n",
    "pdf_path = current_path+'\\data'\n",
    "loader = DirectoryLoader(path=pdf_path, glob='*.txt', loader_cls=UTF8TextLoader)\n",
    "documents = loader.load()"
   ]
  },
  {
   "cell_type": "code",
   "execution_count": null,
   "metadata": {
    "colab": {
     "base_uri": "https://localhost:8080/"
    },
    "id": "tW_uozERkUvd",
    "outputId": "c8843013-48c6-4995-d7b8-1765874dd83c"
   },
   "outputs": [],
   "source": [
    "documents"
   ]
  },
  {
   "cell_type": "markdown",
   "metadata": {
    "id": "QVffLmHLaeTm"
   },
   "source": [
    "### II. Fine-tune model"
   ]
  },
  {
   "cell_type": "markdown",
   "metadata": {
    "id": "OMBj-xtgaeTn"
   },
   "source": [
    "#### Format file huấn luyện theo định dạng LLama3"
   ]
  },
  {
   "cell_type": "code",
   "execution_count": 5,
   "metadata": {},
   "outputs": [
    {
     "name": "stdout",
     "output_type": "stream",
     "text": [
      "Dataset created successfully.\n"
     ]
    }
   ],
   "source": [
    "all_conversations = []\n",
    "for doc in documents:\n",
    "    conversations = json.loads(doc.page_content)\n",
    "    for conversation in conversations:\n",
    "        formatted_conversation = [\n",
    "            {k: str(v) for k, v in message.items()}\n",
    "            for message in conversation\n",
    "        ]\n",
    "        all_conversations.append(formatted_conversation)\n",
    "\n",
    "data_dict = {\"conversations\": all_conversations}\n",
    "dataset = Dataset.from_dict(data_dict)\n",
    "\n",
    "print(\"Dataset created successfully.\")"
   ]
  },
  {
   "cell_type": "code",
   "execution_count": 5,
   "metadata": {
    "collapsed": true,
    "id": "n7BIoVx9G_Dq"
   },
   "outputs": [],
   "source": [
    "all_conversations = []\n",
    "for doc in documents:\n",
    "    conversations = json.loads(doc.page_content)\n",
    "    all_conversations.extend(conversations)\n",
    "\n",
    "data_dict = {\"conversations\": all_conversations}\n",
    "dataset = Dataset.from_dict(data_dict)"
   ]
  },
  {
   "cell_type": "code",
   "execution_count": 12,
   "metadata": {
    "colab": {
     "base_uri": "https://localhost:8080/"
    },
    "id": "t7PzCfnLkT2N",
    "outputId": "768fa23a-51c3-459e-8109-8c7ca8d986e0"
   },
   "outputs": [
    {
     "data": {
      "text/plain": [
       "[{'from': 'system',\n",
       "  'value': 'You are a dedicated and honest English assistant. Always respond as helpfully as possible while ensuring safety. If a question is nonsensical or lacks logical information, explain why instead of providing an inaccurate response. Please avoid sharing misinformation.'},\n",
       " {'from': 'human',\n",
       "  'value': 'I am F 38 in good shape work out (do triathlons) regular but have had back pain from different reasons throughout my life now I every so often wake up with severe lower back, hip pain for no reason. today the pain is almost taking my breathe away when i move. It is a dull pain when i am just lying down but the moment I make any sort of movement I have sharp and sometimes shooting pain down my legs.'},\n",
       " {'from': 'gpt',\n",
       "  'value': 'Hi, From history it seems that you might be having degenerative changes in your lower back spines giving pinched nerve pressure. There might be having osteomalacia or osteoporosis as well. Go for x-ray lumbosacral region for osteoarthritis. Physiotherapy like back extension exercises will be much helpful. Take B1, B6, B!2 shots or medicine. Take calcium, vitamin A and D supplements. Ok and take care.'}]"
      ]
     },
     "execution_count": 12,
     "metadata": {},
     "output_type": "execute_result"
    }
   ],
   "source": [
    "dataset[5]['conversations']"
   ]
  },
  {
   "cell_type": "markdown",
   "metadata": {
    "id": "XeXYf3uXaeTq"
   },
   "source": [
    "#### Quantize model and set up hyperparameters"
   ]
  },
  {
   "cell_type": "code",
   "execution_count": 6,
   "metadata": {
    "colab": {
     "base_uri": "https://localhost:8080/",
     "height": 426,
     "referenced_widgets": [
      "2b0313ac80844450ac0fa958d2edf01b",
      "28f1e50c76574c7d94e1d77051649cdd",
      "af21f1bdd3cc483cb2a4cc0f3e33253e",
      "751b33b39f614cc3a878e8763095161e",
      "65346eb83fcc4e528c455b9f5f908e86",
      "eca4aef07dc04a61b91eac64776fb10c",
      "f25faef5919d4036a3aa0a6ce5ea06d2",
      "720365f71c614535932f79fb5f1fcc77",
      "a467ebc0afe54c06b16f6924d055a2fc",
      "1f2c0feb6dca40a9b099707e6a8d5bc4",
      "d4965042c47b46da92e1a898be337503",
      "eb3f462ef5384ef4aeb14340d0fa3486",
      "9587d902b86148958590b637a20b6d4f",
      "75451471e52e440eaa0910ea5751669b",
      "2e84cc3c1e064f86bf4460042d33b42c",
      "0dd017e90a694127b0d0eb41f8c5f18b",
      "ce8a7c0783cc42c89764f76c044efbc5",
      "bb915c50b150481aa29f5dcf286ae13e",
      "bdf5fc2104c34df0a2295d39e467c477",
      "8f091bf1d8c34cd8bc7cb89f3d00089a",
      "8bea8b637cc2477bbbcf36d4fe8a25c4",
      "709d1e5de15b40108702fff508ecba81",
      "231e1c4033de4bdb8ba4377f31bc6139",
      "e865493f92764ad8a67305bbd19f64d5",
      "9502cc6e891548dc8e884741578b530d",
      "043b9b79336e4d07a1cb68f57f8914d4",
      "51c710be3b974821a01bb74979d3477b",
      "14616b438a0f4307b5759c774c64822e",
      "27ea55a574f24a22bc8172ec749e4c70",
      "884d58c059884727b25e3cb9d290a198",
      "9c236617872346ccb9e3266699d5b52d",
      "4d0cbeb2b10a436a8e40d56822faa5a9",
      "f44ff0047a62432492bb34e074cb5f04",
      "7484386eb0864fe890ce44fb6a466013",
      "6855156c5d0c40048d19b1fd70f97677",
      "41a15b26d94b4b7e840beb2467284b5d",
      "1fe6a2cac3f8455abceaca9abf1ef483",
      "5392ad072766427586ff0ca50c1f7d1b",
      "ad939714276d477ba456f1073ef45682",
      "7a9da066b859482a8cdbbb142af5ec30",
      "ec142cc682d64d9a9e119af04b1f4022",
      "824a7af93f38471d8e70e8a1af604140",
      "9a4e2c0911a9486e85f29dbf0c38fa85",
      "3872064d13f6402993687e81dc82a473",
      "c002505e367c486d8ba7987daf4ee8de",
      "bacd1b811ef24ef383db3d285e16e627",
      "69b095827fea413e9028d44c0db94ed1",
      "553cff7b5fec482799a2a7858707b1fb",
      "b09e739794ff4370af2869ded52d2f32",
      "0b2f42f1462d4c7e8c474bbcdbd5148e",
      "f649eb220b714d9fbd6431150c6df251",
      "c9c4284c823948f0a72375ff77130af2",
      "c5fef224302d4e87aead1bf15d348fb8",
      "6687946749f94182835868d6f3d400e6",
      "de028751e07e44b58bf6eb248d8d1220",
      "d3f6916919104d2da9825105fa84e6a6",
      "d43385c1455f40bf88aeda5a6b3e5ac1",
      "79178840e6b94db0a148def3abe5f1c3",
      "8fcd88283df44046b371c55a29df201d",
      "3e785fb3843e4f269a2ff04cbce351d8",
      "dc4a068ce3fe4064bb0d878ac1ec2458",
      "9efa1a0bfb2342dc9c94884f0efadda2",
      "4dde0c5f270b4f0dacf1276536aa3785",
      "b8ec23c080fd4c298f79b32c8e8956cc",
      "430edd4df51f475fbaa858241b96cc76",
      "1935f19beb1b4b9980a6f858b9ed4292",
      "d23e535611664fa29eadd84ae0ed7967",
      "031747c78d66487293af01f936351a37",
      "769bc8affbba413491ac05d742644719",
      "b1b152287c5544a8a0abeef0d2187c70",
      "7148e3df2e9a42f1b0158c29613f5bc7",
      "e56fd2eb56e04e7587173f05decd3f1e",
      "12f3f8e325cf49469912fb6a775586b4",
      "84b67ca9cb8f4536b72f5560cd44accf",
      "0a3aa8db5c9b4ca5bfc8404f36697207",
      "93a0a7f4e723428bade772c0885b50da",
      "866d36ce757d41cbb575f5f15965c5e5",
      "7383ea8730224048a64b679c4ecb6453",
      "3ff337f4aa1e4257b182a4912969d592",
      "8b3cc5d99e854f92a8d9ab3d6df79cf1",
      "2fde30e24cde4afbac578410ed8b36a8",
      "833fbf10010646ff9c3362312a88fa34",
      "90c994faa6d34a54b0e08f071b9b4e53",
      "85acd6640ad14b6195019187929c95c4",
      "0b35e4d5bf514eca80a305cd96b51e9f",
      "c8685c2495ff49318da08067257fdcef",
      "0352e13773ea4fc4a3284904c420761c",
      "b140f2f913c44722892d403a6cd33dd8",
      "2358c7c432df4efb9dc81e06099817b7",
      "74e9810f066347f99dd45cf4074a158c",
      "4bd3af597fbf4c938aa20b69e5aba5d4",
      "fd10133999704a5c8775fef958c4bda8",
      "6b24263b81554c29af9d685b0bea4a41",
      "89c719b02ee74342ac498084a6f6e25a",
      "947ab902ba4643d0a2e360275810578f",
      "1d5f1783c0b14f0b868588e3c93c7ac9",
      "6d865d39309a491e917f21539e4b0a78",
      "0d7d881a51064585a022290d866b6d8a",
      "c156e6bfc7e64383b7be90d1820d3214"
     ]
    },
    "id": "KjcqlB2wHWMQ",
    "outputId": "583b9b25-2958-4d34-de19-9127aa9161d8"
   },
   "outputs": [
    {
     "name": "stdout",
     "output_type": "stream",
     "text": [
      "==((====))==  Unsloth 2024.10.7: Fast Llama patching. Transformers = 4.46.0.\n",
      "   \\\\   /|    GPU: NVIDIA GeForce RTX 4060 Ti. Max memory: 15.995 GB. Platform = Windows.\n",
      "O^O/ \\_/ \\    Pytorch: 2.3.1+cu121. CUDA = 8.9. CUDA Toolkit = 12.1.\n",
      "\\        /    Bfloat16 = TRUE. FA [Xformers = 0.0.27. FA2 = True]\n",
      " \"-____-\"     Free Apache license: http://github.com/unslothai/unsloth\n"
     ]
    },
    {
     "name": "stderr",
     "output_type": "stream",
     "text": [
      "c:\\Python\\mlperf_env\\lib\\site-packages\\unsloth\\models\\llama.py:1107: UserWarning: expandable_segments not supported on this platform (Triggered internally at ..\\c10/cuda/CUDAAllocatorConfig.h:28.)\n",
      "  self.register_buffer(\"cos_cached\", emb.cos().to(dtype=dtype, device=device, non_blocking=True), persistent=False)\n",
      "Loading checkpoint shards: 100%|██████████| 2/2 [00:03<00:00,  1.61s/it]\n",
      "model\\Llama-3.2-3B-Instruct-Frog does not have a padding token! Will use pad_token = <|finetune_right_pad_id|>.\n"
     ]
    }
   ],
   "source": [
    "max_seq_length = 2048 \n",
    "dtype = None \n",
    "load_in_4bit = True\n",
    "model, tokenizer = FastLanguageModel.from_pretrained(\n",
    "    model_name = \"model\\\\Llama-3.2-3B-Instruct-Frog\",\n",
    "    max_seq_length = max_seq_length,\n",
    "    dtype = torch.bfloat16  ,\n",
    "    load_in_4bit = load_in_4bit,\n",
    ")"
   ]
  },
  {
   "cell_type": "markdown",
   "metadata": {
    "id": "XiHCu0MU8XvB"
   },
   "source": [
    "- Vì model không có padding token nên hệ thống sẽ tự động sử dụng một token mặc định là <|finetune_right_pad_id|> làm padding token. Token này chỉ đơn thuần được sử dụng để làm đầy chuỗi và không mang ý nghĩa nội dung."
   ]
  },
  {
   "cell_type": "code",
   "execution_count": 7,
   "metadata": {
    "colab": {
     "base_uri": "https://localhost:8080/"
    },
    "id": "wXT0Ssa2Ce0R",
    "outputId": "3c7695aa-ebcb-4256-bce8-a4d3404fd6b8"
   },
   "outputs": [
    {
     "name": "stderr",
     "output_type": "stream",
     "text": [
      "Unsloth: Dropout = 0 is supported for fast patching. You are using dropout = 0.1.\n",
      "Unsloth will patch all other layers, except LoRA matrices, causing a performance hit.\n",
      "Unsloth 2024.10.7 patched 28 layers with 0 QKV layers, 0 O layers and 0 MLP layers.\n"
     ]
    }
   ],
   "source": [
    "model = FastLanguageModel.get_peft_model(\n",
    "    model,\n",
    "    r = 8, \n",
    "    target_modules = [\"q_proj\", \"k_proj\", \"v_proj\", \"o_proj\",\n",
    "                      \"gate_proj\", \"up_proj\", \"down_proj\",],\n",
    "    lora_alpha = 16,\n",
    "    lora_dropout = 0.1, \n",
    "    bias = \"none\",    \n",
    "    use_gradient_checkpointing = \"unsloth\", \n",
    "    random_state = 3407,\n",
    "    use_rslora = False,  \n",
    "    loftq_config = None, \n",
    ")"
   ]
  },
  {
   "cell_type": "markdown",
   "metadata": {},
   "source": [
    "#### Thiết lập tokenizer và chuẩn hóa dữ liệu"
   ]
  },
  {
   "cell_type": "code",
   "execution_count": 8,
   "metadata": {
    "id": "GsDnnc27Ch7y"
   },
   "outputs": [],
   "source": [
    "tokenizer = get_chat_template(\n",
    "    tokenizer,\n",
    "    chat_template = \"llama-3.1\",\n",
    ")\n",
    "\n",
    "def formatting_prompts_func(examples):\n",
    "    convos = examples[\"conversations\"]\n",
    "    texts = [tokenizer.apply_chat_template(convo, tokenize = False, add_generation_prompt = False) for convo in convos]\n",
    "    return { \"text\" : texts, }\n",
    "pass"
   ]
  },
  {
   "cell_type": "code",
   "execution_count": 9,
   "metadata": {
    "colab": {
     "base_uri": "https://localhost:8080/",
     "height": 81,
     "referenced_widgets": [
      "b5a24d9fdc814799be91d06ec4cb0d44",
      "8f5d3c9243d14701a60bbe1e68afd9f6",
      "e0ccd7513bc4429fba5b3f735c7b9ad7",
      "dfef4d70d6b74bbfa15bc9162bbd86f6",
      "218066a8953c4127b79e39e3334eca6e",
      "95819dd1b0714f15b88a44c06129cb8d",
      "d1bf10e271334389a1e9e6264a96a4b5",
      "3e30bb4b98e34eabbbba29841a23bc50",
      "905601a6e30c4ad493dbbec24d4e2edf",
      "956c9b6f60374d45aa3f662efc32777e",
      "884a03303076488abdd5c2bf71604013",
      "8434d3b36eb94188b606f751fd5a40b6",
      "b6544b9321f342e59a581a347a3aa840",
      "186946adcead4e7fb86f2b5986212e14",
      "148dc124721f41e99acf7713b3b33e47",
      "3320e24b58dd4750bb4c7d9033f11fe4",
      "b41769d6bec5450ab9e6aad7bda41494",
      "b54010d9bffa42bba81658cded80ddb6",
      "852df5dd00e0445c8cb6dde81c2f4009",
      "08e0db3ea6324f948820c7cdfe968076",
      "a21c492dd1264fe8a7f40cd9bfad2216",
      "f5b663568eff43a5b0359912e1ebb0c6"
     ]
    },
    "id": "PWMEEocAaeTr",
    "outputId": "85f9e270-7c6e-4ba3-bdb5-1547fb803308"
   },
   "outputs": [
    {
     "name": "stderr",
     "output_type": "stream",
     "text": [
      "Standardizing format: 100%|██████████| 138643/138643 [00:03<00:00, 41311.22 examples/s]\n",
      "Map: 100%|██████████| 138643/138643 [00:07<00:00, 18081.81 examples/s]\n"
     ]
    }
   ],
   "source": [
    "dataset = standardize_sharegpt(dataset)\n",
    "dataset = dataset.map(formatting_prompts_func, batched = True,)"
   ]
  },
  {
   "cell_type": "code",
   "execution_count": 10,
   "metadata": {
    "colab": {
     "base_uri": "https://localhost:8080/",
     "height": 122
    },
    "id": "NxW_7FjOLXMm",
    "outputId": "96f6901c-e7d7-43bf-f931-e0573f22e012"
   },
   "outputs": [
    {
     "data": {
      "text/plain": [
       "'<|begin_of_text|><|start_header_id|>system<|end_header_id|>\\n\\nCutting Knowledge Date: December 2023\\nToday Date: 26 July 2024\\n\\nYou are a dedicated and honest English assistant. Always respond as helpfully as possible while ensuring safety. If a question is nonsensical or lacks logical information, explain why instead of providing an inaccurate response. Please avoid sharing misinformation.<|eot_id|><|start_header_id|>user<|end_header_id|>\\n\\nI am F 38 in good shape work out (do triathlons) regular but have had back pain from different reasons throughout my life now I every so often wake up with severe lower back, hip pain for no reason. today the pain is almost taking my breathe away when i move. It is a dull pain when i am just lying down but the moment I make any sort of movement I have sharp and sometimes shooting pain down my legs.<|eot_id|><|start_header_id|>assistant<|end_header_id|>\\n\\nHi, From history it seems that you might be having degenerative changes in your lower back spines giving pinched nerve pressure. There might be having osteomalacia or osteoporosis as well. Go for x-ray lumbosacral region for osteoarthritis. Physiotherapy like back extension exercises will be much helpful. Take B1, B6, B!2 shots or medicine. Take calcium, vitamin A and D supplements. Ok and take care.<|eot_id|>'"
      ]
     },
     "execution_count": 10,
     "metadata": {},
     "output_type": "execute_result"
    }
   ],
   "source": [
    "dataset[5][\"text\"]"
   ]
  },
  {
   "cell_type": "markdown",
   "metadata": {
    "id": "iKI_z6HhaeTr"
   },
   "source": [
    "#### Set up file dataset and SFT training"
   ]
  },
  {
   "cell_type": "code",
   "execution_count": 11,
   "metadata": {},
   "outputs": [],
   "source": [
    "from sklearn.model_selection import train_test_split\n",
    "from datasets import Dataset, DatasetDict\n",
    "import json\n",
    "\n",
    "conversations = dataset[\"conversations\"]\n",
    "\n",
    "train_conversations, eval_conversations = train_test_split(conversations, test_size=0.2, random_state=3407)\n",
    "\n",
    "dataset_dict = DatasetDict({\n",
    "    \"train\": Dataset.from_dict({\"conversations\": train_conversations}),\n",
    "    \"eval\": Dataset.from_dict({\"conversations\": eval_conversations})\n",
    "})\n",
    "\n",
    "eval_dataset = dataset_dict[\"eval\"]\n",
    "train_dataset = dataset_dict[\"train\"]\n"
   ]
  },
  {
   "cell_type": "code",
   "execution_count": 12,
   "metadata": {},
   "outputs": [
    {
     "data": {
      "text/plain": [
       "{'conversations': [{'content': 'You are a dedicated and honest English assistant. Always respond as helpfully as possible while ensuring safety. If a question is nonsensical or lacks logical information, explain why instead of providing an inaccurate response. Please avoid sharing misinformation.',\n",
       "   'role': 'system'},\n",
       "  {'content': 'Hi my daughter aged 5 yrs...she little autistic features and hyper actrivity.so giving axepta 18 at bed time . then she not yet start speaking like other kids. giving speach theraphy last 8 mnths. not yet speak. and taking tablet oxetol 300 ...2 times for epilepsy . last 2yrs. with this strocit drops, nutropil syrup also giving. now in eeg record she normal mns no epilepsy features. did she improve from this situation and moove like other kids. Smitha from Kerala.',\n",
       "   'role': 'user'},\n",
       "  {'content': \"Hi.for epilepsy, the medication is already chosen and for hyperactivity also.but autism is a kind of neurodevelopmental disorder for which medication do not work.she requires behavior therapy along with speech therapy.also people with autism may have selective interest in certain activities.so keep nurturing them on if you find any.there are also much autism training institutes.also consult a child psychologist for the opinion.it's a difficult journey, but you will definitely get result if you hold on.she will be fine.also social skills need to be learned.just continue the sessions and don't lose hope.wishing her good health\",\n",
       "   'role': 'assistant'}]}"
      ]
     },
     "execution_count": 12,
     "metadata": {},
     "output_type": "execute_result"
    }
   ],
   "source": [
    "eval_dataset[5]"
   ]
  },
  {
   "cell_type": "code",
   "execution_count": 13,
   "metadata": {},
   "outputs": [
    {
     "data": {
      "text/plain": [
       "{'conversations': [{'content': 'You are a dedicated and honest English assistant. Always respond as helpfully as possible while ensuring safety. If a question is nonsensical or lacks logical information, explain why instead of providing an inaccurate response. Please avoid sharing misinformation.',\n",
       "   'role': 'system'},\n",
       "  {'content': 'What is the definition of mucositis and what treatments are currently available for it?',\n",
       "   'role': 'user'},\n",
       "  {'content': 'Treatment of mucositis is mainly supportive. Oral hygiene is the mainstay of treatment; patients are encouraged to clean their mouth every four hours and at bedtime, more often if the mucositis becomes worse. Water-soluble jellies can be used to lubricate the mouth. Salt mouthwash can soothe the pain and keep food particles clear so as to avoid infection. Patients are also encouraged to drink plenty of liquids, at least three liters a day, and avoid alcohol. Citrus fruits, alcohol, and foods that are hot are all known to aggravate mucositis lesions. Medicinal mouthwashes may be used such as Chlorhexidine gluconate and viscous Lidocain for relief of pain. Palifermin, brand name \"Kepivance\", is a human KGF (keratinocyte growth factor) that has shown to enhance epithelial cell proliferation, differentiation, and migration. Experimental therapies have been reported, including the use of cytokines and other modifiers of inflammation (eg, IL-1, IL-11, TGF-beta3), amino acid supplementation (eg, glutamine), vitamins, colony-stimulating factors, cryotherapy, and laser therapy.',\n",
       "   'role': 'assistant'}]}"
      ]
     },
     "execution_count": 13,
     "metadata": {},
     "output_type": "execute_result"
    }
   ],
   "source": [
    "train_dataset[5]"
   ]
  },
  {
   "cell_type": "code",
   "execution_count": 10,
   "metadata": {
    "colab": {
     "base_uri": "https://localhost:8080/",
     "height": 49,
     "referenced_widgets": [
      "aa2846336d9b4cf882225289d8e0dac1",
      "efed024b56184c709946e2ef160dd753",
      "15d1ffb89a704c448322b8b80e7c8f5b",
      "8aba076f6dee45eeb327ed14251eee76",
      "0f7a39497beb4abcbe8b4c90ee3f259a",
      "798356d712ca4d3484d992cd570c7b21",
      "2649be649d78415c9dd3710067f956e0",
      "a6b11615c95541eba48c0860c3563416",
      "e94cb5400dba42eab5d1278ed20de0b4",
      "504b1ec3ca5d4f308130866888cdab4d",
      "ebd890b013df4098b29f0d244bd57efe"
     ]
    },
    "id": "95_Nn-89DhsL",
    "outputId": "6ec43e66-83a6-44e8-bead-a1982ca9b185"
   },
   "outputs": [
    {
     "name": "stderr",
     "output_type": "stream",
     "text": [
      "Generating train split: 21415 examples [00:42, 498.71 examples/s]\n"
     ]
    }
   ],
   "source": [
    "trainer = SFTTrainer(\n",
    "    model = model,\n",
    "    tokenizer = tokenizer,\n",
    "    train_dataset = dataset,\n",
    "    dataset_text_field = \"text\",\n",
    "    max_seq_length = max_seq_length,\n",
    "    data_collator = DataCollatorForSeq2Seq(tokenizer = tokenizer),\n",
    "    dataset_num_proc = 1,\n",
    "    packing = True, \n",
    "    args = TrainingArguments(\n",
    "        per_device_train_batch_size = 4, \n",
    "        gradient_accumulation_steps = 4, \n",
    "        warmup_steps = 5, \n",
    "        num_train_epochs = 2, \n",
    "        max_steps = -1,\n",
    "        learning_rate = 2e-4, \n",
    "        bf16 = is_bfloat16_supported(), \n",
    "        max_grad_norm = 0.3, \n",
    "        logging_steps = 10,\n",
    "        optim = \"adamw_8bit\", \n",
    "        save_total_limit=2,\n",
    "        weight_decay = 0.01, \n",
    "        lr_scheduler_type = \"linear\", \n",
    "        seed = 3407,\n",
    "        save_steps=100,\n",
    "        output_dir = \"/Models/outputs\",\n",
    "        report_to = \"none\", \n",
    "    ),\n",
    ")"
   ]
  },
  {
   "cell_type": "code",
   "execution_count": 11,
   "metadata": {
    "colab": {
     "base_uri": "https://localhost:8080/",
     "height": 49,
     "referenced_widgets": [
      "be3c43ab84314596a9dea512d4effbe3",
      "f3e60f66cf024f0386c53b23a88bda2e",
      "3dc23b647a904bd7aed7453a84de18b0",
      "aa0f2cac35344245b6302ee0f25feb7a",
      "df8be4b12aa84a2cb8f4003fa3175d09",
      "f7de5974887047e398f90814bd202921",
      "71d01cfb79c54eb8ad343efe37c6b516",
      "e6288d7bf2cb4464938cb70d0408bc13",
      "a58e86e8ad7e40e7bc15dae4a49ed96d",
      "3575f4d17f874cbfa9fc52f8de43005c",
      "5bb292a2226a412392ef1d8651afe928"
     ]
    },
    "id": "juQiExuBG5Bt",
    "outputId": "7d1d5fce-70ea-49ec-fb44-9b5bc591304c"
   },
   "outputs": [
    {
     "name": "stderr",
     "output_type": "stream",
     "text": [
      "Map: 100%|██████████| 21415/21415 [00:30<00:00, 708.05 examples/s]\n"
     ]
    }
   ],
   "source": [
    "trainer = train_on_responses_only(\n",
    "    trainer,\n",
    "    instruction_part = \"<|start_header_id|>user<|end_header_id|>\\n\\n\",\n",
    "    response_part = \"<|start_header_id|>assistant<|end_header_id|>\\n\\n\",\n",
    ")"
   ]
  },
  {
   "cell_type": "code",
   "execution_count": 12,
   "metadata": {
    "colab": {
     "base_uri": "https://localhost:8080/",
     "height": 122
    },
    "id": "LtsMVtlkUhja",
    "outputId": "83792504-c45d-40e9-efcc-c46ad97a2bca"
   },
   "outputs": [
    {
     "data": {
      "text/plain": [
       "\" area. It is painful to the touch. He keeps insisting it isn t his kidney because the pain is not the same. He is a stubborn man...any advice?<|eot_id|><|start_header_id|>assistant<|end_header_id|>\\n\\nHelloThanks for query. You have not specified about which kidney is functioning and which side stent was placed in 13 years ago. The pain in flank is mostly due to HY Chat Doctor. 1) Urine routine and culture.2) Ultrasound scanning of abdomen and pelvis3) DTPA scan of the kidneys.4) Intravenous Paleography to assess the kidney function on both sides. Further treatment will depend upon result of these tests and final diagnosis<|eot_id|><|eot_id|><|begin_of_text|><|start_header_id|>system<|end_header_id|>\\n\\nCutting Knowledge Date: December 2023\\nToday Date: 26 July 2024\\n\\nYou are a dedicated and honest English assistant. Always respond as helpfully as possible while ensuring safety. If a question is nonsensical or lacks logical information, explain why instead of providing an inaccurate response. Please avoid sharing misinformation.<|eot_id|><|start_header_id|>user<|end_header_id|>\\n\\nI am taking this pill called Marvelon. I forgot to take my pill on Saturday from what I thought, it is now Sunday, I just took the Saturday pill and now the Sunday pill both at the same time because I just remembered. It has been more than 12 hours though. However, after taking them both I realised that I took the Saturday pill but from a different row by accident. I dont know what to do, Im kind of worried<|eot_id|><|start_header_id|>assistant<|end_header_id|>\\n\\nHelots ok that you took both pills at the same time, as soon as you remembered. But don't miss any more pills in this cycle or you won't be protected. About taking the wrong pill from the different row, as long as it's the same color, its fine. If you remember to take the Saturday pill from the row you missed before, you can continue, If you are confused, abandon this pack. Start a new pack from your next cycle. Use extra protection for the remainder of this cycle.<|eot_id|><|eot_id|><|begin_of_text|><|start_header_id|>system<|end_header_id|>\\n\\nCutting Knowledge Date: December 2023\\nToday Date: 26 July 2024\\n\\nYou are a dedicated and honest English assistant. Always respond as helpfully as possible while ensuring safety. If a question is nonsensical or lacks logical information, explain why instead of providing an inaccurate response. Please avoid sharing misinformation.<|eot_id|><|start_header_id|>user<|end_header_id|>\\n\\nHi, may I answer your health queries right now?  Please type your query here...My baby just had her first round of vaccinations about 48 hrs ago. She was sleepy yesterday but ate very well. Today she was fine in the am but hasnt really eaten in 6-7 hours and has excessive gas. She is crying more too.???<|eot_id|><|start_header_id|>assistant<|end_header_id|>\\n\\nHello, This is called evening colic and is quite common in this age group. This happens when the baby sucks at the breast very fast and in eagerness to Chat Doctor. Unless the air comes out like burping or flatus this discomfort will be there and next time check if the baby is sucking too fast and gulping in air too. You will be more convinced. Usually I don't advice any medicines for this as they give only temporary relief. The two best ways to relieve this distress is<|eot_id|><|eot_id|><|begin_of_text|><|start_header_id|>system<|end_header_id|>\\n\\nCutting Knowledge Date: December 2023\\nToday Date: 26 July 2024\\n\\nYou are a dedicated and honest English assistant. Always respond as helpfully as possible while ensuring safety. If a question is nonsensical or lacks logical information, explain why instead of providing an inaccurate response. Please avoid sharing misinformation.<|eot_id|><|start_header_id|>user<|end_header_id|>\\n\\nI have had my gall bladder removed, and I had been told the my spincter oddi muscle does not work properly, I m taking meds to relax it, I m now having very sharp pains right under my last rib on my right side, its sore to the touch, can you tell me what it might be?<|eot_id|><|start_header_id|>assistant<|end_header_id|>\\n\\nHi Dear, Welcome to Chat Doctor. Understanding your concern. As per your query you have sharp pain under the ribs with history of gall bladder removal. Well there can be many reasons for symptoms you mention in query like strain on the Intercostal Muscles, gallstones, Costco Chat Doctor.  I would suggest you to consult gastroenterologist for proper examination and to check if there is any post gall bladder surgery complication. Doctor my order ultrasound, stool test, endoscopy and take history along with physical examination. Doctor may prescribe omeprazole, ornidazole, laxative or muscle relaxant. Doctor may also refer you to chest specialist for chest infection. For now apply warm compresses on pain site, eat light and non-spicy also take ibuprofen or acetaminophen for pain. Doctor may refer you to orthopedic surgeon for muscle and bone problem or to cardiologist for cardiac problem like angina. Hope your concern has been resolved. Get Well Soon. Best Wishes,<|eot_id|><|eot_id|><|begin_of_text|><|start_header_id|>system<|end_header_id|>\\n\\nCutting Knowledge Date: December 2023\\nToday Date: 26 July 2024\\n\\nYou are a dedicated and honest English assistant. Always respond as helpfully as possible while ensuring safety. If a question is nonsensical or lacks logical information, explain why instead of providing an inaccurate response. Please avoid sharing misinformation.<|eot_id|><|start_header_id|>user<|end_header_id|>\\n\\nHi my father retired from the military in 1991 and worked as a pilot out of Nellis Air Force Base for the last 22 years. He retired in May 2012. When he retired he started having inconsistencies with his blood counts. Extremely elevated RBCs that have been unexplainable to doctors. He s had really bad stomach issues for probably the last 15 years. He s been going to see a hematologist oncologist for the last year having his blood drawn many times a week and then reduced to a couple of times a month to reduce his RBC counts. He has been extremely sick for the last year and passed away this past Sunday due to unexplainable causes. My question is, do you think his condition could be due to his two tours in Vietnam as a pilot flying through the agent orange? We are trying to better understand this tragedy. I have noticed a lot of posts on the Internet in relation to elevated red blood cells leaving the physicians scratching their heads. I know he was diagnosed with polycythemia recently. Any help would be greatly appreciated. Thank you so much.<|eot_id|><|start_header_id|>assistant<|end_header_id|>\\n\\nHi, Welcome to Chat Doctor. Please accept my condolences. Polycythemia could be due to exposure to high altitude in your fathers case where low oxygenation stimulates erythropoietin production causing increase in RBC count. Many cancers also predispose to polycythemia like liver cancer. Associated conditions along with polycythemia play an important role here. Many patients suffering from polycythemia present with abdominal pain and generalized fatigue. These patients are also prone to develop clots easily hence predisposed to sudden stroke and heart attacks. I hope I have helped you with this. Thanks.<|eot_id|><|eot_id|><|begin_of_text|><|start_header_id|>system<|end_header_id|>\\n\\nCutting Knowledge Date: December 2023\\nToday Date: 26 July 2024\\n\\nYou are a dedicated and honest English assistant. Always respond as helpfully as possible while ensuring safety. If a question is nonsensical or lacks logical information, explain why instead of providing an inaccurate response. Please avoid sharing misinformation.<|eot_id|><|start_header_id|>user<|end_header_id|>\\n\\nI went into the hospital 3 weeks ago with gallstones and they had to put me on a potassium drip for 4 days to get my potassium levels back up. (6 bags total) My liver enzymes and heart enzymes were high but I tested negative for every test they gave me including all hepatitis. Now, it has dropped again, what could be causing it to drop?<|eot_id|><|start_header_id|>assistant<|end_header_id|>\\n\\nHi, welcome to Chat Doctor. Thank you for posting your query. Let me make it clear about uses of potassium in the body. It helps in functioning of muscle and nerve cells in the body. Certain symptoms like severe vomiting, loose motions, antibiotic use, diuretics, chronic kidney diseases cause hypokalemia. Hope I have answered your question. If you have any further questions I will be happy to help.<|eot_id|><|eot_id|><|begin_of_text|><|start_header_id|>system<|end_header_id|>\\n\\nCutting Knowledge Date: December 2023\\nToday Date: 26 July 2024\\n\\nYou are a dedicated and honest English assistant. Always respond as helpfully as possible while ensuring safety. If a question is nonsensical or lacks logical information, explain why instead of providing an inaccurate response. Please avoid sharing misinformation.<|eot_id|><|start_header_id|>user<|end_header_id|>\\n\\nI had a hard lump above my navel, and severe stomach cramps the lump moved reminded me of a babies limbs movement inside as I could see it move I had bowel movement after this but was in a lot of pain, I had been eating a lo the previous couple of days!<|eot_id|><|start_header_id|>assistant<|end_header_id|>\\n\\nHi.it is best if you consult with a doctor, preferably a general surgeon, for medical and physical examination. Based from your description, it could be a cyst (a sebaceous or a gelatinous type), a fibrous or a lipoma. These lesions can occur anywhere in the body and have the tendency to recur.  Management (medical and surgical) will be directed accordingly. Hope this helps. Good day!!~ Chat Doctor.<|eot_id|><|eot_id|><|begin_of_text|><|start_header_id|>system<|end_header_id|>\\n\\nCutting Knowledge Date: December 2023\\nToday Date: 26 July 2024\\n\\nYou are a dedicated and honest English assistant. Always respond as helpfully as possible while ensuring safety. If a question is nonsensical or lacks logical information, explain why instead of providing an inaccurate response. Please avoid sharing misinformation.<|eot_id|><|start_header_id|>user<|end_header_id|>\\n\\nMy 12 month old son suffered a skull fracture when he was just a 11 days old. He went to a neuorologist had all his follow up visits. I was told he was fine and I should\""
      ]
     },
     "execution_count": 12,
     "metadata": {},
     "output_type": "execute_result"
    }
   ],
   "source": [
    "tokenizer.decode(trainer.train_dataset[5][\"input_ids\"])"
   ]
  },
  {
   "cell_type": "code",
   "execution_count": 13,
   "metadata": {
    "colab": {
     "base_uri": "https://localhost:8080/",
     "height": 53
    },
    "id": "_rD6fl8EUxnG",
    "outputId": "aeb65620-5977-459d-b27a-ef3df2bbd1bc"
   },
   "outputs": [
    {
     "data": {
      "text/plain": [
       "\"                                      \\n\\nHelloThanks for query. You have not specified about which kidney is functioning and which side stent was placed in 13 years ago. The pain in flank is mostly due to HY Chat Doctor. 1) Urine routine and culture.2) Ultrasound scanning of abdomen and pelvis3) DTPA scan of the kidneys.4) Intravenous Paleography to assess the kidney function on both sides. Further treatment will depend upon result of these tests and final diagnosis<|eot_id|><|eot_id|><|begin_of_text|><|start_header_id|>system<|end_header_id|>\\n\\nCutting Knowledge Date: December 2023\\nToday Date: 26 July 2024\\n\\nYou are a dedicated and honest English assistant. Always respond as helpfully as possible while ensuring safety. If a question is nonsensical or lacks logical information, explain why instead of providing an inaccurate response. Please avoid sharing misinformation.<|eot_id|>                                                                                                   \\n\\nHelots ok that you took both pills at the same time, as soon as you remembered. But don't miss any more pills in this cycle or you won't be protected. About taking the wrong pill from the different row, as long as it's the same color, its fine. If you remember to take the Saturday pill from the row you missed before, you can continue, If you are confused, abandon this pack. Start a new pack from your next cycle. Use extra protection for the remainder of this cycle.<|eot_id|><|eot_id|><|begin_of_text|><|start_header_id|>system<|end_header_id|>\\n\\nCutting Knowledge Date: December 2023\\nToday Date: 26 July 2024\\n\\nYou are a dedicated and honest English assistant. Always respond as helpfully as possible while ensuring safety. If a question is nonsensical or lacks logical information, explain why instead of providing an inaccurate response. Please avoid sharing misinformation.<|eot_id|>                                                                                \\n\\nHello, This is called evening colic and is quite common in this age group. This happens when the baby sucks at the breast very fast and in eagerness to Chat Doctor. Unless the air comes out like burping or flatus this discomfort will be there and next time check if the baby is sucking too fast and gulping in air too. You will be more convinced. Usually I don't advice any medicines for this as they give only temporary relief. The two best ways to relieve this distress is<|eot_id|><|eot_id|><|begin_of_text|><|start_header_id|>system<|end_header_id|>\\n\\nCutting Knowledge Date: December 2023\\nToday Date: 26 July 2024\\n\\nYou are a dedicated and honest English assistant. Always respond as helpfully as possible while ensuring safety. If a question is nonsensical or lacks logical information, explain why instead of providing an inaccurate response. Please avoid sharing misinformation.<|eot_id|>                                                                          \\n\\nHi Dear, Welcome to Chat Doctor. Understanding your concern. As per your query you have sharp pain under the ribs with history of gall bladder removal. Well there can be many reasons for symptoms you mention in query like strain on the Intercostal Muscles, gallstones, Costco Chat Doctor.  I would suggest you to consult gastroenterologist for proper examination and to check if there is any post gall bladder surgery complication. Doctor my order ultrasound, stool test, endoscopy and take history along with physical examination. Doctor may prescribe omeprazole, ornidazole, laxative or muscle relaxant. Doctor may also refer you to chest specialist for chest infection. For now apply warm compresses on pain site, eat light and non-spicy also take ibuprofen or acetaminophen for pain. Doctor may refer you to orthopedic surgeon for muscle and bone problem or to cardiologist for cardiac problem like angina. Hope your concern has been resolved. Get Well Soon. Best Wishes,<|eot_id|><|eot_id|><|begin_of_text|><|start_header_id|>system<|end_header_id|>\\n\\nCutting Knowledge Date: December 2023\\nToday Date: 26 July 2024\\n\\nYou are a dedicated and honest English assistant. Always respond as helpfully as possible while ensuring safety. If a question is nonsensical or lacks logical information, explain why instead of providing an inaccurate response. Please avoid sharing misinformation.<|eot_id|>                                                                                                                                                                                                                                          \\n\\nHi, Welcome to Chat Doctor. Please accept my condolences. Polycythemia could be due to exposure to high altitude in your fathers case where low oxygenation stimulates erythropoietin production causing increase in RBC count. Many cancers also predispose to polycythemia like liver cancer. Associated conditions along with polycythemia play an important role here. Many patients suffering from polycythemia present with abdominal pain and generalized fatigue. These patients are also prone to develop clots easily hence predisposed to sudden stroke and heart attacks. I hope I have helped you with this. Thanks.<|eot_id|><|eot_id|><|begin_of_text|><|start_header_id|>system<|end_header_id|>\\n\\nCutting Knowledge Date: December 2023\\nToday Date: 26 July 2024\\n\\nYou are a dedicated and honest English assistant. Always respond as helpfully as possible while ensuring safety. If a question is nonsensical or lacks logical information, explain why instead of providing an inaccurate response. Please avoid sharing misinformation.<|eot_id|>                                                                                    \\n\\nHi, welcome to Chat Doctor. Thank you for posting your query. Let me make it clear about uses of potassium in the body. It helps in functioning of muscle and nerve cells in the body. Certain symptoms like severe vomiting, loose motions, antibiotic use, diuretics, chronic kidney diseases cause hypokalemia. Hope I have answered your question. If you have any further questions I will be happy to help.<|eot_id|><|eot_id|><|begin_of_text|><|start_header_id|>system<|end_header_id|>\\n\\nCutting Knowledge Date: December 2023\\nToday Date: 26 July 2024\\n\\nYou are a dedicated and honest English assistant. Always respond as helpfully as possible while ensuring safety. If a question is nonsensical or lacks logical information, explain why instead of providing an inaccurate response. Please avoid sharing misinformation.<|eot_id|>                                                                  \\n\\nHi.it is best if you consult with a doctor, preferably a general surgeon, for medical and physical examination. Based from your description, it could be a cyst (a sebaceous or a gelatinous type), a fibrous or a lipoma. These lesions can occur anywhere in the body and have the tendency to recur.  Management (medical and surgical) will be directed accordingly. Hope this helps. Good day!!~ Chat Doctor.<|eot_id|><|eot_id|><|begin_of_text|><|start_header_id|>system<|end_header_id|>\\n\\nCutting Knowledge Date: December 2023\\nToday Date: 26 July 2024\\n\\nYou are a dedicated and honest English assistant. Always respond as helpfully as possible while ensuring safety. If a question is nonsensical or lacks logical information, explain why instead of providing an inaccurate response. Please avoid sharing misinformation.<|eot_id|>                                               \""
      ]
     },
     "execution_count": 13,
     "metadata": {},
     "output_type": "execute_result"
    }
   ],
   "source": [
    "space = tokenizer(\" \", add_special_tokens = False).input_ids[0]\n",
    "tokenizer.decode([space if x == -100 else x for x in trainer.train_dataset[5][\"labels\"]])"
   ]
  },
  {
   "cell_type": "code",
   "execution_count": 14,
   "metadata": {
    "colab": {
     "base_uri": "https://localhost:8080/"
    },
    "id": "2ejIt2xSNKKp",
    "outputId": "55c2476a-b619-47d3-c51f-e28b42aacbe6"
   },
   "outputs": [
    {
     "name": "stdout",
     "output_type": "stream",
     "text": [
      "GPU = NVIDIA GeForce RTX 4060 Ti. Max memory = 15.995 GB.\n",
      "2.762 GB of memory reserved.\n"
     ]
    }
   ],
   "source": [
    "gpu_stats = torch.cuda.get_device_properties(0)\n",
    "start_gpu_memory = round(torch.cuda.max_memory_reserved() / 1024 / 1024 / 1024, 3)\n",
    "max_memory = round(gpu_stats.total_memory / 1024 / 1024 / 1024, 3)\n",
    "print(f\"GPU = {gpu_stats.name}. Max memory = {max_memory} GB.\")\n",
    "print(f\"{start_gpu_memory} GB of memory reserved.\")"
   ]
  },
  {
   "cell_type": "markdown",
   "metadata": {},
   "source": [
    "#### Train model"
   ]
  },
  {
   "cell_type": "code",
   "execution_count": 15,
   "metadata": {
    "colab": {
     "base_uri": "https://localhost:8080/",
     "height": 287
    },
    "id": "yqxqAZ7KJ4oL",
    "outputId": "5f7b2a08-601d-418c-804d-896eef88b006"
   },
   "outputs": [
    {
     "name": "stderr",
     "output_type": "stream",
     "text": [
      "==((====))==  Unsloth - 2x faster free finetuning | Num GPUs = 1\n",
      "   \\\\   /|    Num examples = 21,415 | Num Epochs = 2\n",
      "O^O/ \\_/ \\    Batch size per device = 4 | Gradient Accumulation steps = 4\n",
      "\\        /    Total batch size = 16 | Total steps = 2,676\n",
      " \"-____-\"     Number of trainable parameters = 12,156,928\n",
      "  0%|          | 10/2676 [04:31<20:05:23, 27.13s/it]"
     ]
    },
    {
     "name": "stdout",
     "output_type": "stream",
     "text": [
      "{'loss': 2.0244, 'grad_norm': 0.38352692127227783, 'learning_rate': 0.00019962560838637216, 'epoch': 0.01}\n"
     ]
    },
    {
     "name": "stderr",
     "output_type": "stream",
     "text": [
      "  1%|          | 20/2676 [09:03<20:04:10, 27.20s/it]"
     ]
    },
    {
     "name": "stdout",
     "output_type": "stream",
     "text": [
      "{'loss': 1.8207, 'grad_norm': 0.25742506980895996, 'learning_rate': 0.00019887682515911645, 'epoch': 0.01}\n"
     ]
    },
    {
     "name": "stderr",
     "output_type": "stream",
     "text": [
      "  1%|          | 30/2676 [13:34<19:57:08, 27.15s/it]"
     ]
    },
    {
     "name": "stdout",
     "output_type": "stream",
     "text": [
      "{'loss': 1.6847, 'grad_norm': 0.21076543629169464, 'learning_rate': 0.00019812804193186073, 'epoch': 0.02}\n"
     ]
    },
    {
     "name": "stderr",
     "output_type": "stream",
     "text": [
      "  1%|▏         | 40/2676 [18:06<19:54:43, 27.19s/it]"
     ]
    },
    {
     "name": "stdout",
     "output_type": "stream",
     "text": [
      "{'loss': 1.6372, 'grad_norm': 0.41759055852890015, 'learning_rate': 0.00019737925870460504, 'epoch': 0.03}\n"
     ]
    },
    {
     "name": "stderr",
     "output_type": "stream",
     "text": [
      "  2%|▏         | 50/2676 [22:38<19:49:53, 27.19s/it]"
     ]
    },
    {
     "name": "stdout",
     "output_type": "stream",
     "text": [
      "{'loss': 1.6183, 'grad_norm': 0.2504584491252899, 'learning_rate': 0.00019663047547734933, 'epoch': 0.04}\n"
     ]
    },
    {
     "name": "stderr",
     "output_type": "stream",
     "text": [
      "  2%|▏         | 60/2676 [27:09<19:42:50, 27.13s/it]"
     ]
    },
    {
     "name": "stdout",
     "output_type": "stream",
     "text": [
      "{'loss': 1.5887, 'grad_norm': 0.24876660108566284, 'learning_rate': 0.0001958816922500936, 'epoch': 0.04}\n"
     ]
    },
    {
     "name": "stderr",
     "output_type": "stream",
     "text": [
      "  3%|▎         | 70/2676 [31:40<19:36:50, 27.10s/it]"
     ]
    },
    {
     "name": "stdout",
     "output_type": "stream",
     "text": [
      "{'loss': 1.55, 'grad_norm': 0.27022168040275574, 'learning_rate': 0.0001951329090228379, 'epoch': 0.05}\n"
     ]
    },
    {
     "name": "stderr",
     "output_type": "stream",
     "text": [
      "  3%|▎         | 80/2676 [36:12<19:34:01, 27.13s/it]"
     ]
    },
    {
     "name": "stdout",
     "output_type": "stream",
     "text": [
      "{'loss': 1.5103, 'grad_norm': 0.287483811378479, 'learning_rate': 0.00019438412579558218, 'epoch': 0.06}\n"
     ]
    },
    {
     "name": "stderr",
     "output_type": "stream",
     "text": [
      "  3%|▎         | 90/2676 [40:43<19:28:54, 27.12s/it]"
     ]
    },
    {
     "name": "stdout",
     "output_type": "stream",
     "text": [
      "{'loss': 1.468, 'grad_norm': 0.28516873717308044, 'learning_rate': 0.00019363534256832646, 'epoch': 0.07}\n"
     ]
    },
    {
     "name": "stderr",
     "output_type": "stream",
     "text": [
      "  4%|▎         | 100/2676 [45:15<19:27:00, 27.18s/it]c:\\Python\\mlperf_env\\lib\\site-packages\\peft\\utils\\save_and_load.py:195: UserWarning: Could not find a config file in model\\Llama-3.2-3B-Instruct-Frog - will assume that the vocabulary was not modified.\n",
      "  warnings.warn(\n"
     ]
    },
    {
     "name": "stdout",
     "output_type": "stream",
     "text": [
      "{'loss': 1.4799, 'grad_norm': 0.2641116976737976, 'learning_rate': 0.00019288655934107077, 'epoch': 0.07}\n"
     ]
    },
    {
     "name": "stderr",
     "output_type": "stream",
     "text": [
      "  4%|▍         | 110/2676 [49:47<19:20:48, 27.14s/it]"
     ]
    },
    {
     "name": "stdout",
     "output_type": "stream",
     "text": [
      "{'loss': 1.4629, 'grad_norm': 0.2790537476539612, 'learning_rate': 0.00019213777611381505, 'epoch': 0.08}\n"
     ]
    },
    {
     "name": "stderr",
     "output_type": "stream",
     "text": [
      "  4%|▍         | 120/2676 [54:18<19:16:37, 27.15s/it]"
     ]
    },
    {
     "name": "stdout",
     "output_type": "stream",
     "text": [
      "{'loss': 1.4764, 'grad_norm': 0.29761889576911926, 'learning_rate': 0.00019138899288655937, 'epoch': 0.09}\n"
     ]
    },
    {
     "name": "stderr",
     "output_type": "stream",
     "text": [
      "  5%|▍         | 130/2676 [58:50<19:12:03, 27.15s/it]"
     ]
    },
    {
     "name": "stdout",
     "output_type": "stream",
     "text": [
      "{'loss': 1.4382, 'grad_norm': 0.27139872312545776, 'learning_rate': 0.00019064020965930365, 'epoch': 0.1}\n"
     ]
    },
    {
     "name": "stderr",
     "output_type": "stream",
     "text": [
      "  5%|▌         | 140/2676 [1:03:21<19:07:30, 27.15s/it]"
     ]
    },
    {
     "name": "stdout",
     "output_type": "stream",
     "text": [
      "{'loss': 1.4994, 'grad_norm': 0.2485746592283249, 'learning_rate': 0.00018989142643204793, 'epoch': 0.1}\n"
     ]
    },
    {
     "name": "stderr",
     "output_type": "stream",
     "text": [
      "  6%|▌         | 150/2676 [1:07:53<19:03:05, 27.15s/it]"
     ]
    },
    {
     "name": "stdout",
     "output_type": "stream",
     "text": [
      "{'loss': 1.4587, 'grad_norm': 0.3542138934135437, 'learning_rate': 0.00018914264320479222, 'epoch': 0.11}\n"
     ]
    },
    {
     "name": "stderr",
     "output_type": "stream",
     "text": [
      "  6%|▌         | 160/2676 [1:12:25<18:59:40, 27.18s/it]"
     ]
    },
    {
     "name": "stdout",
     "output_type": "stream",
     "text": [
      "{'loss': 1.384, 'grad_norm': 0.34414491057395935, 'learning_rate': 0.00018839385997753653, 'epoch': 0.12}\n"
     ]
    },
    {
     "name": "stderr",
     "output_type": "stream",
     "text": [
      "  6%|▋         | 170/2676 [1:16:57<18:56:08, 27.20s/it]"
     ]
    },
    {
     "name": "stdout",
     "output_type": "stream",
     "text": [
      "{'loss': 1.3879, 'grad_norm': 0.2932668924331665, 'learning_rate': 0.0001876450767502808, 'epoch': 0.13}\n"
     ]
    },
    {
     "name": "stderr",
     "output_type": "stream",
     "text": [
      "  7%|▋         | 180/2676 [1:21:29<18:51:31, 27.20s/it]"
     ]
    },
    {
     "name": "stdout",
     "output_type": "stream",
     "text": [
      "{'loss': 1.4095, 'grad_norm': 0.3765984773635864, 'learning_rate': 0.0001868962935230251, 'epoch': 0.13}\n"
     ]
    },
    {
     "name": "stderr",
     "output_type": "stream",
     "text": [
      "  7%|▋         | 190/2676 [1:26:00<18:44:58, 27.15s/it]"
     ]
    },
    {
     "name": "stdout",
     "output_type": "stream",
     "text": [
      "{'loss': 1.4358, 'grad_norm': 0.2580711841583252, 'learning_rate': 0.00018614751029576938, 'epoch': 0.14}\n"
     ]
    },
    {
     "name": "stderr",
     "output_type": "stream",
     "text": [
      "  7%|▋         | 200/2676 [1:30:32<18:39:39, 27.13s/it]c:\\Python\\mlperf_env\\lib\\site-packages\\peft\\utils\\save_and_load.py:195: UserWarning: Could not find a config file in model\\Llama-3.2-3B-Instruct-Frog - will assume that the vocabulary was not modified.\n",
      "  warnings.warn(\n"
     ]
    },
    {
     "name": "stdout",
     "output_type": "stream",
     "text": [
      "{'loss': 1.4241, 'grad_norm': 0.2936346232891083, 'learning_rate': 0.00018539872706851366, 'epoch': 0.15}\n"
     ]
    },
    {
     "name": "stderr",
     "output_type": "stream",
     "text": [
      "  8%|▊         | 210/2676 [1:35:04<18:37:34, 27.19s/it]"
     ]
    },
    {
     "name": "stdout",
     "output_type": "stream",
     "text": [
      "{'loss': 1.4231, 'grad_norm': 0.31071361899375916, 'learning_rate': 0.00018464994384125794, 'epoch': 0.16}\n"
     ]
    },
    {
     "name": "stderr",
     "output_type": "stream",
     "text": [
      "  8%|▊         | 220/2676 [1:39:36<18:33:04, 27.19s/it]"
     ]
    },
    {
     "name": "stdout",
     "output_type": "stream",
     "text": [
      "{'loss': 1.3634, 'grad_norm': 0.30236199498176575, 'learning_rate': 0.00018390116061400225, 'epoch': 0.16}\n"
     ]
    },
    {
     "name": "stderr",
     "output_type": "stream",
     "text": [
      "  9%|▊         | 230/2676 [1:44:08<18:29:05, 27.21s/it]"
     ]
    },
    {
     "name": "stdout",
     "output_type": "stream",
     "text": [
      "{'loss': 1.3689, 'grad_norm': 0.26977047324180603, 'learning_rate': 0.00018315237738674657, 'epoch': 0.17}\n"
     ]
    },
    {
     "name": "stderr",
     "output_type": "stream",
     "text": [
      "  9%|▉         | 240/2676 [1:48:40<18:23:24, 27.18s/it]"
     ]
    },
    {
     "name": "stdout",
     "output_type": "stream",
     "text": [
      "{'loss': 1.3447, 'grad_norm': 0.2521386742591858, 'learning_rate': 0.00018240359415949085, 'epoch': 0.18}\n"
     ]
    },
    {
     "name": "stderr",
     "output_type": "stream",
     "text": [
      "  9%|▉         | 250/2676 [1:53:11<18:18:28, 27.17s/it]"
     ]
    },
    {
     "name": "stdout",
     "output_type": "stream",
     "text": [
      "{'loss': 1.3636, 'grad_norm': 0.3237754702568054, 'learning_rate': 0.00018165481093223513, 'epoch': 0.19}\n"
     ]
    },
    {
     "name": "stderr",
     "output_type": "stream",
     "text": [
      " 10%|▉         | 260/2676 [1:57:43<18:13:32, 27.16s/it]"
     ]
    },
    {
     "name": "stdout",
     "output_type": "stream",
     "text": [
      "{'loss': 1.3926, 'grad_norm': 0.31419187784194946, 'learning_rate': 0.00018090602770497942, 'epoch': 0.19}\n"
     ]
    },
    {
     "name": "stderr",
     "output_type": "stream",
     "text": [
      " 10%|█         | 270/2676 [2:02:14<18:07:32, 27.12s/it]"
     ]
    },
    {
     "name": "stdout",
     "output_type": "stream",
     "text": [
      "{'loss': 1.3853, 'grad_norm': 0.32393768429756165, 'learning_rate': 0.0001801572444777237, 'epoch': 0.2}\n"
     ]
    },
    {
     "name": "stderr",
     "output_type": "stream",
     "text": [
      " 10%|█         | 280/2676 [2:06:46<18:03:46, 27.14s/it]"
     ]
    },
    {
     "name": "stdout",
     "output_type": "stream",
     "text": [
      "{'loss': 1.4169, 'grad_norm': 0.2819761037826538, 'learning_rate': 0.00017940846125046798, 'epoch': 0.21}\n"
     ]
    },
    {
     "name": "stderr",
     "output_type": "stream",
     "text": [
      " 11%|█         | 290/2676 [2:11:17<17:59:04, 27.14s/it]"
     ]
    },
    {
     "name": "stdout",
     "output_type": "stream",
     "text": [
      "{'loss': 1.3748, 'grad_norm': 0.33816707134246826, 'learning_rate': 0.0001786596780232123, 'epoch': 0.22}\n"
     ]
    },
    {
     "name": "stderr",
     "output_type": "stream",
     "text": [
      " 11%|█         | 300/2676 [2:15:49<17:55:30, 27.16s/it]c:\\Python\\mlperf_env\\lib\\site-packages\\peft\\utils\\save_and_load.py:195: UserWarning: Could not find a config file in model\\Llama-3.2-3B-Instruct-Frog - will assume that the vocabulary was not modified.\n",
      "  warnings.warn(\n"
     ]
    },
    {
     "name": "stdout",
     "output_type": "stream",
     "text": [
      "{'loss': 1.3704, 'grad_norm': 0.308571994304657, 'learning_rate': 0.00017791089479595658, 'epoch': 0.22}\n"
     ]
    },
    {
     "name": "stderr",
     "output_type": "stream",
     "text": [
      " 12%|█▏        | 310/2676 [2:20:21<17:51:23, 27.17s/it]"
     ]
    },
    {
     "name": "stdout",
     "output_type": "stream",
     "text": [
      "{'loss': 1.3716, 'grad_norm': 0.3161013424396515, 'learning_rate': 0.00017716211156870086, 'epoch': 0.23}\n"
     ]
    },
    {
     "name": "stderr",
     "output_type": "stream",
     "text": [
      " 12%|█▏        | 320/2676 [2:24:52<17:47:27, 27.18s/it]"
     ]
    },
    {
     "name": "stdout",
     "output_type": "stream",
     "text": [
      "{'loss': 1.3727, 'grad_norm': 0.3123645484447479, 'learning_rate': 0.00017641332834144514, 'epoch': 0.24}\n"
     ]
    },
    {
     "name": "stderr",
     "output_type": "stream",
     "text": [
      " 12%|█▏        | 330/2676 [2:29:24<17:41:48, 27.16s/it]"
     ]
    },
    {
     "name": "stdout",
     "output_type": "stream",
     "text": [
      "{'loss': 1.3735, 'grad_norm': 0.2841074466705322, 'learning_rate': 0.00017566454511418946, 'epoch': 0.25}\n"
     ]
    },
    {
     "name": "stderr",
     "output_type": "stream",
     "text": [
      " 13%|█▎        | 340/2676 [2:33:56<17:38:53, 27.20s/it]"
     ]
    },
    {
     "name": "stdout",
     "output_type": "stream",
     "text": [
      "{'loss': 1.3413, 'grad_norm': 0.2754521071910858, 'learning_rate': 0.00017491576188693374, 'epoch': 0.25}\n"
     ]
    },
    {
     "name": "stderr",
     "output_type": "stream",
     "text": [
      " 13%|█▎        | 350/2676 [2:38:28<17:33:34, 27.18s/it]"
     ]
    },
    {
     "name": "stdout",
     "output_type": "stream",
     "text": [
      "{'loss': 1.3613, 'grad_norm': 0.29986125230789185, 'learning_rate': 0.00017416697865967805, 'epoch': 0.26}\n"
     ]
    },
    {
     "name": "stderr",
     "output_type": "stream",
     "text": [
      " 13%|█▎        | 360/2676 [2:42:59<17:27:06, 27.13s/it]"
     ]
    },
    {
     "name": "stdout",
     "output_type": "stream",
     "text": [
      "{'loss': 1.3441, 'grad_norm': 0.27734845876693726, 'learning_rate': 0.00017341819543242233, 'epoch': 0.27}\n"
     ]
    },
    {
     "name": "stderr",
     "output_type": "stream",
     "text": [
      " 14%|█▍        | 370/2676 [2:47:31<17:25:00, 27.19s/it]"
     ]
    },
    {
     "name": "stdout",
     "output_type": "stream",
     "text": [
      "{'loss': 1.3289, 'grad_norm': 0.2819126546382904, 'learning_rate': 0.00017266941220516662, 'epoch': 0.28}\n"
     ]
    },
    {
     "name": "stderr",
     "output_type": "stream",
     "text": [
      " 14%|█▍        | 380/2676 [2:52:02<17:20:14, 27.18s/it]"
     ]
    },
    {
     "name": "stdout",
     "output_type": "stream",
     "text": [
      "{'loss': 1.3656, 'grad_norm': 0.34142082929611206, 'learning_rate': 0.0001719206289779109, 'epoch': 0.28}\n"
     ]
    },
    {
     "name": "stderr",
     "output_type": "stream",
     "text": [
      " 15%|█▍        | 390/2676 [2:56:34<17:14:36, 27.16s/it]"
     ]
    },
    {
     "name": "stdout",
     "output_type": "stream",
     "text": [
      "{'loss': 1.3204, 'grad_norm': 0.25678661465644836, 'learning_rate': 0.00017117184575065518, 'epoch': 0.29}\n"
     ]
    },
    {
     "name": "stderr",
     "output_type": "stream",
     "text": [
      " 15%|█▍        | 400/2676 [3:01:05<17:08:49, 27.12s/it]c:\\Python\\mlperf_env\\lib\\site-packages\\peft\\utils\\save_and_load.py:195: UserWarning: Could not find a config file in model\\Llama-3.2-3B-Instruct-Frog - will assume that the vocabulary was not modified.\n",
      "  warnings.warn(\n"
     ]
    },
    {
     "name": "stdout",
     "output_type": "stream",
     "text": [
      "{'loss': 1.3466, 'grad_norm': 0.2919151782989502, 'learning_rate': 0.00017042306252339947, 'epoch': 0.3}\n"
     ]
    },
    {
     "name": "stderr",
     "output_type": "stream",
     "text": [
      " 15%|█▌        | 410/2676 [3:05:37<17:05:54, 27.16s/it]"
     ]
    },
    {
     "name": "stdout",
     "output_type": "stream",
     "text": [
      "{'loss': 1.3847, 'grad_norm': 0.2996664047241211, 'learning_rate': 0.00016967427929614378, 'epoch': 0.31}\n"
     ]
    },
    {
     "name": "stderr",
     "output_type": "stream",
     "text": [
      " 16%|█▌        | 420/2676 [3:10:09<17:02:11, 27.19s/it]"
     ]
    },
    {
     "name": "stdout",
     "output_type": "stream",
     "text": [
      "{'loss': 1.359, 'grad_norm': 0.2845081686973572, 'learning_rate': 0.00016892549606888806, 'epoch': 0.31}\n"
     ]
    },
    {
     "name": "stderr",
     "output_type": "stream",
     "text": [
      " 16%|█▌        | 430/2676 [3:14:40<16:55:54, 27.14s/it]"
     ]
    },
    {
     "name": "stdout",
     "output_type": "stream",
     "text": [
      "{'loss': 1.3555, 'grad_norm': 0.3188624978065491, 'learning_rate': 0.00016817671284163234, 'epoch': 0.32}\n"
     ]
    },
    {
     "name": "stderr",
     "output_type": "stream",
     "text": [
      " 16%|█▋        | 440/2676 [3:19:12<16:53:09, 27.19s/it]"
     ]
    },
    {
     "name": "stdout",
     "output_type": "stream",
     "text": [
      "{'loss': 1.3183, 'grad_norm': 0.2994019389152527, 'learning_rate': 0.00016742792961437666, 'epoch': 0.33}\n"
     ]
    },
    {
     "name": "stderr",
     "output_type": "stream",
     "text": [
      " 17%|█▋        | 450/2676 [3:23:43<16:46:38, 27.13s/it]"
     ]
    },
    {
     "name": "stdout",
     "output_type": "stream",
     "text": [
      "{'loss': 1.3307, 'grad_norm': 0.3102772831916809, 'learning_rate': 0.00016667914638712094, 'epoch': 0.34}\n"
     ]
    },
    {
     "name": "stderr",
     "output_type": "stream",
     "text": [
      " 17%|█▋        | 460/2676 [3:28:15<16:44:18, 27.19s/it]"
     ]
    },
    {
     "name": "stdout",
     "output_type": "stream",
     "text": [
      "{'loss': 1.3508, 'grad_norm': 0.29866454005241394, 'learning_rate': 0.00016593036315986522, 'epoch': 0.34}\n"
     ]
    },
    {
     "name": "stderr",
     "output_type": "stream",
     "text": [
      " 18%|█▊        | 470/2676 [3:32:47<16:38:36, 27.16s/it]"
     ]
    },
    {
     "name": "stdout",
     "output_type": "stream",
     "text": [
      "{'loss': 1.3154, 'grad_norm': 0.32910746335983276, 'learning_rate': 0.00016518157993260953, 'epoch': 0.35}\n"
     ]
    },
    {
     "name": "stderr",
     "output_type": "stream",
     "text": [
      " 18%|█▊        | 480/2676 [3:37:18<16:33:44, 27.15s/it]"
     ]
    },
    {
     "name": "stdout",
     "output_type": "stream",
     "text": [
      "{'loss': 1.3303, 'grad_norm': 0.3117882311344147, 'learning_rate': 0.00016443279670535382, 'epoch': 0.36}\n"
     ]
    },
    {
     "name": "stderr",
     "output_type": "stream",
     "text": [
      " 18%|█▊        | 490/2676 [3:41:50<16:30:01, 27.17s/it]"
     ]
    },
    {
     "name": "stdout",
     "output_type": "stream",
     "text": [
      "{'loss': 1.3227, 'grad_norm': 0.29859673976898193, 'learning_rate': 0.0001636840134780981, 'epoch': 0.37}\n"
     ]
    },
    {
     "name": "stderr",
     "output_type": "stream",
     "text": [
      " 19%|█▊        | 500/2676 [3:46:21<16:25:12, 27.17s/it]c:\\Python\\mlperf_env\\lib\\site-packages\\peft\\utils\\save_and_load.py:195: UserWarning: Could not find a config file in model\\Llama-3.2-3B-Instruct-Frog - will assume that the vocabulary was not modified.\n",
      "  warnings.warn(\n"
     ]
    },
    {
     "name": "stdout",
     "output_type": "stream",
     "text": [
      "{'loss': 1.3079, 'grad_norm': 0.3230700194835663, 'learning_rate': 0.00016293523025084238, 'epoch': 0.37}\n"
     ]
    },
    {
     "name": "stderr",
     "output_type": "stream",
     "text": [
      " 19%|█▉        | 510/2676 [3:50:54<16:20:41, 27.17s/it]"
     ]
    },
    {
     "name": "stdout",
     "output_type": "stream",
     "text": [
      "{'loss': 1.2955, 'grad_norm': 0.2976629436016083, 'learning_rate': 0.00016218644702358667, 'epoch': 0.38}\n"
     ]
    },
    {
     "name": "stderr",
     "output_type": "stream",
     "text": [
      " 19%|█▉        | 520/2676 [3:55:25<16:16:02, 27.16s/it]"
     ]
    },
    {
     "name": "stdout",
     "output_type": "stream",
     "text": [
      "{'loss': 1.2884, 'grad_norm': 0.286395788192749, 'learning_rate': 0.00016143766379633095, 'epoch': 0.39}\n"
     ]
    },
    {
     "name": "stderr",
     "output_type": "stream",
     "text": [
      " 20%|█▉        | 530/2676 [3:59:57<16:11:36, 27.17s/it]"
     ]
    },
    {
     "name": "stdout",
     "output_type": "stream",
     "text": [
      "{'loss': 1.3391, 'grad_norm': 0.3216996490955353, 'learning_rate': 0.00016068888056907526, 'epoch': 0.4}\n"
     ]
    },
    {
     "name": "stderr",
     "output_type": "stream",
     "text": [
      " 20%|██        | 540/2676 [4:04:28<16:04:51, 27.10s/it]"
     ]
    },
    {
     "name": "stdout",
     "output_type": "stream",
     "text": [
      "{'loss': 1.3121, 'grad_norm': 0.34613609313964844, 'learning_rate': 0.00015994009734181957, 'epoch': 0.4}\n"
     ]
    },
    {
     "name": "stderr",
     "output_type": "stream",
     "text": [
      " 21%|██        | 550/2676 [4:08:59<16:02:19, 27.16s/it]"
     ]
    },
    {
     "name": "stdout",
     "output_type": "stream",
     "text": [
      "{'loss': 1.3745, 'grad_norm': 0.2894599437713623, 'learning_rate': 0.00015919131411456386, 'epoch': 0.41}\n"
     ]
    },
    {
     "name": "stderr",
     "output_type": "stream",
     "text": [
      " 21%|██        | 560/2676 [4:13:31<15:57:00, 27.14s/it]"
     ]
    },
    {
     "name": "stdout",
     "output_type": "stream",
     "text": [
      "{'loss': 1.3046, 'grad_norm': 0.29247137904167175, 'learning_rate': 0.00015844253088730814, 'epoch': 0.42}\n"
     ]
    },
    {
     "name": "stderr",
     "output_type": "stream",
     "text": [
      " 21%|██▏       | 570/2676 [4:18:02<15:53:27, 27.16s/it]"
     ]
    },
    {
     "name": "stdout",
     "output_type": "stream",
     "text": [
      "{'loss': 1.3286, 'grad_norm': 0.28926151990890503, 'learning_rate': 0.00015769374766005242, 'epoch': 0.43}\n"
     ]
    },
    {
     "name": "stderr",
     "output_type": "stream",
     "text": [
      " 22%|██▏       | 580/2676 [4:22:34<15:48:12, 27.14s/it]"
     ]
    },
    {
     "name": "stdout",
     "output_type": "stream",
     "text": [
      "{'loss': 1.3362, 'grad_norm': 0.3245503306388855, 'learning_rate': 0.0001569449644327967, 'epoch': 0.43}\n"
     ]
    },
    {
     "name": "stderr",
     "output_type": "stream",
     "text": [
      " 22%|██▏       | 590/2676 [4:27:05<15:43:59, 27.15s/it]"
     ]
    },
    {
     "name": "stdout",
     "output_type": "stream",
     "text": [
      "{'loss': 1.3024, 'grad_norm': 0.3041546642780304, 'learning_rate': 0.00015619618120554102, 'epoch': 0.44}\n"
     ]
    },
    {
     "name": "stderr",
     "output_type": "stream",
     "text": [
      " 22%|██▏       | 600/2676 [4:31:37<15:39:54, 27.17s/it]c:\\Python\\mlperf_env\\lib\\site-packages\\peft\\utils\\save_and_load.py:195: UserWarning: Could not find a config file in model\\Llama-3.2-3B-Instruct-Frog - will assume that the vocabulary was not modified.\n",
      "  warnings.warn(\n"
     ]
    },
    {
     "name": "stdout",
     "output_type": "stream",
     "text": [
      "{'loss': 1.3201, 'grad_norm': 0.32437580823898315, 'learning_rate': 0.0001554473979782853, 'epoch': 0.45}\n"
     ]
    },
    {
     "name": "stderr",
     "output_type": "stream",
     "text": [
      " 23%|██▎       | 610/2676 [4:36:09<15:34:19, 27.13s/it]"
     ]
    },
    {
     "name": "stdout",
     "output_type": "stream",
     "text": [
      "{'loss': 1.2881, 'grad_norm': 0.29026028513908386, 'learning_rate': 0.00015469861475102958, 'epoch': 0.46}\n"
     ]
    },
    {
     "name": "stderr",
     "output_type": "stream",
     "text": [
      " 23%|██▎       | 620/2676 [4:40:40<15:31:09, 27.17s/it]"
     ]
    },
    {
     "name": "stdout",
     "output_type": "stream",
     "text": [
      "{'loss': 1.3044, 'grad_norm': 0.3099707067012787, 'learning_rate': 0.00015394983152377387, 'epoch': 0.46}\n"
     ]
    },
    {
     "name": "stderr",
     "output_type": "stream",
     "text": [
      " 24%|██▎       | 630/2676 [4:45:12<15:26:33, 27.17s/it]"
     ]
    },
    {
     "name": "stdout",
     "output_type": "stream",
     "text": [
      "{'loss': 1.275, 'grad_norm': 0.2751780152320862, 'learning_rate': 0.00015320104829651815, 'epoch': 0.47}\n"
     ]
    },
    {
     "name": "stderr",
     "output_type": "stream",
     "text": [
      " 24%|██▍       | 640/2676 [4:49:43<15:19:10, 27.09s/it]"
     ]
    },
    {
     "name": "stdout",
     "output_type": "stream",
     "text": [
      "{'loss': 1.3, 'grad_norm': 0.31640300154685974, 'learning_rate': 0.00015245226506926243, 'epoch': 0.48}\n"
     ]
    },
    {
     "name": "stderr",
     "output_type": "stream",
     "text": [
      " 24%|██▍       | 650/2676 [4:54:15<15:18:16, 27.19s/it]"
     ]
    },
    {
     "name": "stdout",
     "output_type": "stream",
     "text": [
      "{'loss': 1.2752, 'grad_norm': 0.30331581830978394, 'learning_rate': 0.00015170348184200675, 'epoch': 0.49}\n"
     ]
    },
    {
     "name": "stderr",
     "output_type": "stream",
     "text": [
      " 25%|██▍       | 660/2676 [4:58:46<15:13:25, 27.19s/it]"
     ]
    },
    {
     "name": "stdout",
     "output_type": "stream",
     "text": [
      "{'loss': 1.2615, 'grad_norm': 0.3323938846588135, 'learning_rate': 0.00015095469861475106, 'epoch': 0.49}\n"
     ]
    },
    {
     "name": "stderr",
     "output_type": "stream",
     "text": [
      " 25%|██▌       | 670/2676 [5:03:18<15:08:20, 27.17s/it]"
     ]
    },
    {
     "name": "stdout",
     "output_type": "stream",
     "text": [
      "{'loss': 1.3066, 'grad_norm': 0.330461323261261, 'learning_rate': 0.00015020591538749534, 'epoch': 0.5}\n"
     ]
    },
    {
     "name": "stderr",
     "output_type": "stream",
     "text": [
      " 25%|██▌       | 680/2676 [5:07:50<15:04:33, 27.19s/it]"
     ]
    },
    {
     "name": "stdout",
     "output_type": "stream",
     "text": [
      "{'loss': 1.2886, 'grad_norm': 0.3316822350025177, 'learning_rate': 0.00014945713216023962, 'epoch': 0.51}\n"
     ]
    },
    {
     "name": "stderr",
     "output_type": "stream",
     "text": [
      " 26%|██▌       | 690/2676 [5:12:22<14:59:37, 27.18s/it]"
     ]
    },
    {
     "name": "stdout",
     "output_type": "stream",
     "text": [
      "{'loss': 1.2835, 'grad_norm': 0.304104745388031, 'learning_rate': 0.0001487083489329839, 'epoch': 0.52}\n"
     ]
    },
    {
     "name": "stderr",
     "output_type": "stream",
     "text": [
      " 26%|██▌       | 700/2676 [5:16:53<14:53:21, 27.13s/it]c:\\Python\\mlperf_env\\lib\\site-packages\\peft\\utils\\save_and_load.py:195: UserWarning: Could not find a config file in model\\Llama-3.2-3B-Instruct-Frog - will assume that the vocabulary was not modified.\n",
      "  warnings.warn(\n"
     ]
    },
    {
     "name": "stdout",
     "output_type": "stream",
     "text": [
      "{'loss': 1.3487, 'grad_norm': 0.2860642671585083, 'learning_rate': 0.0001479595657057282, 'epoch': 0.52}\n"
     ]
    },
    {
     "name": "stderr",
     "output_type": "stream",
     "text": [
      " 27%|██▋       | 710/2676 [5:21:25<14:48:57, 27.13s/it]"
     ]
    },
    {
     "name": "stdout",
     "output_type": "stream",
     "text": [
      "{'loss': 1.2525, 'grad_norm': 0.29517871141433716, 'learning_rate': 0.00014721078247847247, 'epoch': 0.53}\n"
     ]
    },
    {
     "name": "stderr",
     "output_type": "stream",
     "text": [
      " 27%|██▋       | 720/2676 [5:25:56<14:44:28, 27.13s/it]"
     ]
    },
    {
     "name": "stdout",
     "output_type": "stream",
     "text": [
      "{'loss': 1.3115, 'grad_norm': 0.28232622146606445, 'learning_rate': 0.00014646199925121678, 'epoch': 0.54}\n"
     ]
    },
    {
     "name": "stderr",
     "output_type": "stream",
     "text": [
      " 27%|██▋       | 730/2676 [5:30:28<14:40:11, 27.14s/it]"
     ]
    },
    {
     "name": "stdout",
     "output_type": "stream",
     "text": [
      "{'loss': 1.2974, 'grad_norm': 0.3190220296382904, 'learning_rate': 0.00014571321602396107, 'epoch': 0.55}\n"
     ]
    },
    {
     "name": "stderr",
     "output_type": "stream",
     "text": [
      " 28%|██▊       | 740/2676 [5:34:59<14:36:35, 27.17s/it]"
     ]
    },
    {
     "name": "stdout",
     "output_type": "stream",
     "text": [
      "{'loss': 1.2788, 'grad_norm': 0.3206326365470886, 'learning_rate': 0.00014496443279670535, 'epoch': 0.55}\n"
     ]
    },
    {
     "name": "stderr",
     "output_type": "stream",
     "text": [
      " 28%|██▊       | 750/2676 [5:39:31<14:32:53, 27.19s/it]"
     ]
    },
    {
     "name": "stdout",
     "output_type": "stream",
     "text": [
      "{'loss': 1.3281, 'grad_norm': 0.3049352467060089, 'learning_rate': 0.00014421564956944966, 'epoch': 0.56}\n"
     ]
    },
    {
     "name": "stderr",
     "output_type": "stream",
     "text": [
      " 28%|██▊       | 760/2676 [5:44:02<14:26:40, 27.14s/it]"
     ]
    },
    {
     "name": "stdout",
     "output_type": "stream",
     "text": [
      "{'loss': 1.2903, 'grad_norm': 0.3029036223888397, 'learning_rate': 0.00014346686634219395, 'epoch': 0.57}\n"
     ]
    },
    {
     "name": "stderr",
     "output_type": "stream",
     "text": [
      " 29%|██▉       | 770/2676 [5:48:34<14:22:39, 27.16s/it]"
     ]
    },
    {
     "name": "stdout",
     "output_type": "stream",
     "text": [
      "{'loss': 1.3019, 'grad_norm': 0.3460528552532196, 'learning_rate': 0.00014271808311493823, 'epoch': 0.58}\n"
     ]
    },
    {
     "name": "stderr",
     "output_type": "stream",
     "text": [
      " 29%|██▉       | 780/2676 [5:53:06<14:18:20, 27.16s/it]"
     ]
    },
    {
     "name": "stdout",
     "output_type": "stream",
     "text": [
      "{'loss': 1.2768, 'grad_norm': 0.29165539145469666, 'learning_rate': 0.00014196929988768254, 'epoch': 0.58}\n"
     ]
    },
    {
     "name": "stderr",
     "output_type": "stream",
     "text": [
      " 30%|██▉       | 790/2676 [5:57:37<14:14:33, 27.19s/it]"
     ]
    },
    {
     "name": "stdout",
     "output_type": "stream",
     "text": [
      "{'loss': 1.2155, 'grad_norm': 0.3189902901649475, 'learning_rate': 0.00014122051666042682, 'epoch': 0.59}\n"
     ]
    },
    {
     "name": "stderr",
     "output_type": "stream",
     "text": [
      " 30%|██▉       | 800/2676 [6:02:09<14:09:43, 27.18s/it]c:\\Python\\mlperf_env\\lib\\site-packages\\peft\\utils\\save_and_load.py:195: UserWarning: Could not find a config file in model\\Llama-3.2-3B-Instruct-Frog - will assume that the vocabulary was not modified.\n",
      "  warnings.warn(\n"
     ]
    },
    {
     "name": "stdout",
     "output_type": "stream",
     "text": [
      "{'loss': 1.2601, 'grad_norm': 0.2789292633533478, 'learning_rate': 0.0001404717334331711, 'epoch': 0.6}\n"
     ]
    },
    {
     "name": "stderr",
     "output_type": "stream",
     "text": [
      " 30%|███       | 810/2676 [6:06:41<14:03:24, 27.12s/it]"
     ]
    },
    {
     "name": "stdout",
     "output_type": "stream",
     "text": [
      "{'loss': 1.2747, 'grad_norm': 0.27550065517425537, 'learning_rate': 0.0001397229502059154, 'epoch': 0.61}\n"
     ]
    },
    {
     "name": "stderr",
     "output_type": "stream",
     "text": [
      " 31%|███       | 820/2676 [6:11:12<13:59:34, 27.14s/it]"
     ]
    },
    {
     "name": "stdout",
     "output_type": "stream",
     "text": [
      "{'loss': 1.3091, 'grad_norm': 0.3124309778213501, 'learning_rate': 0.00013897416697865967, 'epoch': 0.61}\n"
     ]
    },
    {
     "name": "stderr",
     "output_type": "stream",
     "text": [
      " 31%|███       | 830/2676 [6:15:44<13:55:22, 27.15s/it]"
     ]
    },
    {
     "name": "stdout",
     "output_type": "stream",
     "text": [
      "{'loss': 1.3121, 'grad_norm': 0.2726883888244629, 'learning_rate': 0.00013822538375140396, 'epoch': 0.62}\n"
     ]
    },
    {
     "name": "stderr",
     "output_type": "stream",
     "text": [
      " 31%|███▏      | 840/2676 [6:20:16<13:51:25, 27.17s/it]"
     ]
    },
    {
     "name": "stdout",
     "output_type": "stream",
     "text": [
      "{'loss': 1.2393, 'grad_norm': 0.27445003390312195, 'learning_rate': 0.00013747660052414827, 'epoch': 0.63}\n"
     ]
    },
    {
     "name": "stderr",
     "output_type": "stream",
     "text": [
      " 32%|███▏      | 850/2676 [6:24:47<13:45:22, 27.12s/it]"
     ]
    },
    {
     "name": "stdout",
     "output_type": "stream",
     "text": [
      "{'loss': 1.2754, 'grad_norm': 0.2909751534461975, 'learning_rate': 0.00013672781729689255, 'epoch': 0.64}\n"
     ]
    },
    {
     "name": "stderr",
     "output_type": "stream",
     "text": [
      " 32%|███▏      | 860/2676 [6:29:18<13:41:52, 27.15s/it]"
     ]
    },
    {
     "name": "stdout",
     "output_type": "stream",
     "text": [
      "{'loss': 1.2732, 'grad_norm': 0.2634054124355316, 'learning_rate': 0.00013597903406963686, 'epoch': 0.64}\n"
     ]
    },
    {
     "name": "stderr",
     "output_type": "stream",
     "text": [
      " 33%|███▎      | 870/2676 [6:33:50<13:37:10, 27.15s/it]"
     ]
    },
    {
     "name": "stdout",
     "output_type": "stream",
     "text": [
      "{'loss': 1.2927, 'grad_norm': 0.2846824526786804, 'learning_rate': 0.00013523025084238115, 'epoch': 0.65}\n"
     ]
    },
    {
     "name": "stderr",
     "output_type": "stream",
     "text": [
      " 33%|███▎      | 880/2676 [6:38:22<13:32:55, 27.16s/it]"
     ]
    },
    {
     "name": "stdout",
     "output_type": "stream",
     "text": [
      "{'loss': 1.3028, 'grad_norm': 0.34359559416770935, 'learning_rate': 0.00013448146761512543, 'epoch': 0.66}\n"
     ]
    },
    {
     "name": "stderr",
     "output_type": "stream",
     "text": [
      " 33%|███▎      | 890/2676 [6:42:54<13:29:13, 27.19s/it]"
     ]
    },
    {
     "name": "stdout",
     "output_type": "stream",
     "text": [
      "{'loss': 1.3174, 'grad_norm': 0.3028964102268219, 'learning_rate': 0.0001337326843878697, 'epoch': 0.66}\n"
     ]
    },
    {
     "name": "stderr",
     "output_type": "stream",
     "text": [
      " 34%|███▎      | 900/2676 [6:47:25<13:23:22, 27.14s/it]c:\\Python\\mlperf_env\\lib\\site-packages\\peft\\utils\\save_and_load.py:195: UserWarning: Could not find a config file in model\\Llama-3.2-3B-Instruct-Frog - will assume that the vocabulary was not modified.\n",
      "  warnings.warn(\n"
     ]
    },
    {
     "name": "stdout",
     "output_type": "stream",
     "text": [
      "{'loss': 1.2762, 'grad_norm': 0.3069547116756439, 'learning_rate': 0.00013298390116061402, 'epoch': 0.67}\n"
     ]
    },
    {
     "name": "stderr",
     "output_type": "stream",
     "text": [
      " 34%|███▍      | 910/2676 [6:51:57<13:18:44, 27.14s/it]"
     ]
    },
    {
     "name": "stdout",
     "output_type": "stream",
     "text": [
      "{'loss': 1.2693, 'grad_norm': 0.31821367144584656, 'learning_rate': 0.0001322351179333583, 'epoch': 0.68}\n"
     ]
    },
    {
     "name": "stderr",
     "output_type": "stream",
     "text": [
      " 34%|███▍      | 920/2676 [6:56:28<13:14:16, 27.14s/it]"
     ]
    },
    {
     "name": "stdout",
     "output_type": "stream",
     "text": [
      "{'loss': 1.2647, 'grad_norm': 0.3273717761039734, 'learning_rate': 0.0001314863347061026, 'epoch': 0.69}\n"
     ]
    },
    {
     "name": "stderr",
     "output_type": "stream",
     "text": [
      " 35%|███▍      | 930/2676 [7:01:00<13:10:30, 27.17s/it]"
     ]
    },
    {
     "name": "stdout",
     "output_type": "stream",
     "text": [
      "{'loss': 1.26, 'grad_norm': 0.29045411944389343, 'learning_rate': 0.00013073755147884687, 'epoch': 0.69}\n"
     ]
    },
    {
     "name": "stderr",
     "output_type": "stream",
     "text": [
      " 35%|███▌      | 940/2676 [7:05:31<13:04:25, 27.11s/it]"
     ]
    },
    {
     "name": "stdout",
     "output_type": "stream",
     "text": [
      "{'loss': 1.2643, 'grad_norm': 0.3297496736049652, 'learning_rate': 0.00012998876825159116, 'epoch': 0.7}\n"
     ]
    },
    {
     "name": "stderr",
     "output_type": "stream",
     "text": [
      " 36%|███▌      | 950/2676 [7:10:02<12:59:23, 27.09s/it]"
     ]
    },
    {
     "name": "stdout",
     "output_type": "stream",
     "text": [
      "{'loss': 1.2936, 'grad_norm': 0.31458985805511475, 'learning_rate': 0.00012923998502433544, 'epoch': 0.71}\n"
     ]
    },
    {
     "name": "stderr",
     "output_type": "stream",
     "text": [
      " 36%|███▌      | 960/2676 [7:14:34<12:56:21, 27.15s/it]"
     ]
    },
    {
     "name": "stdout",
     "output_type": "stream",
     "text": [
      "{'loss': 1.2259, 'grad_norm': 0.31977495551109314, 'learning_rate': 0.00012849120179707975, 'epoch': 0.72}\n"
     ]
    },
    {
     "name": "stderr",
     "output_type": "stream",
     "text": [
      " 36%|███▌      | 970/2676 [7:19:05<12:51:42, 27.14s/it]"
     ]
    },
    {
     "name": "stdout",
     "output_type": "stream",
     "text": [
      "{'loss': 1.2588, 'grad_norm': 0.2860676050186157, 'learning_rate': 0.00012774241856982406, 'epoch': 0.72}\n"
     ]
    },
    {
     "name": "stderr",
     "output_type": "stream",
     "text": [
      " 37%|███▋      | 980/2676 [7:23:37<12:47:07, 27.14s/it]"
     ]
    },
    {
     "name": "stdout",
     "output_type": "stream",
     "text": [
      "{'loss': 1.2742, 'grad_norm': 0.3086398243904114, 'learning_rate': 0.00012699363534256835, 'epoch': 0.73}\n"
     ]
    },
    {
     "name": "stderr",
     "output_type": "stream",
     "text": [
      " 37%|███▋      | 990/2676 [7:28:09<12:44:06, 27.19s/it]"
     ]
    },
    {
     "name": "stdout",
     "output_type": "stream",
     "text": [
      "{'loss': 1.2808, 'grad_norm': 0.3014642596244812, 'learning_rate': 0.00012624485211531263, 'epoch': 0.74}\n"
     ]
    },
    {
     "name": "stderr",
     "output_type": "stream",
     "text": [
      " 37%|███▋      | 1000/2676 [7:32:40<12:37:26, 27.12s/it]c:\\Python\\mlperf_env\\lib\\site-packages\\peft\\utils\\save_and_load.py:195: UserWarning: Could not find a config file in model\\Llama-3.2-3B-Instruct-Frog - will assume that the vocabulary was not modified.\n",
      "  warnings.warn(\n"
     ]
    },
    {
     "name": "stdout",
     "output_type": "stream",
     "text": [
      "{'loss': 1.2719, 'grad_norm': 0.3536122739315033, 'learning_rate': 0.0001254960688880569, 'epoch': 0.75}\n"
     ]
    },
    {
     "name": "stderr",
     "output_type": "stream",
     "text": [
      " 38%|███▊      | 1010/2676 [7:37:12<12:33:31, 27.14s/it]"
     ]
    },
    {
     "name": "stdout",
     "output_type": "stream",
     "text": [
      "{'loss': 1.276, 'grad_norm': 0.30089670419692993, 'learning_rate': 0.0001247472856608012, 'epoch': 0.75}\n"
     ]
    },
    {
     "name": "stderr",
     "output_type": "stream",
     "text": [
      " 38%|███▊      | 1020/2676 [7:41:43<12:28:12, 27.11s/it]"
     ]
    },
    {
     "name": "stdout",
     "output_type": "stream",
     "text": [
      "{'loss': 1.2737, 'grad_norm': 0.3239898979663849, 'learning_rate': 0.00012399850243354548, 'epoch': 0.76}\n"
     ]
    },
    {
     "name": "stderr",
     "output_type": "stream",
     "text": [
      " 38%|███▊      | 1030/2676 [7:46:14<12:25:13, 27.16s/it]"
     ]
    },
    {
     "name": "stdout",
     "output_type": "stream",
     "text": [
      "{'loss': 1.2936, 'grad_norm': 0.3082515001296997, 'learning_rate': 0.0001232497192062898, 'epoch': 0.77}\n"
     ]
    },
    {
     "name": "stderr",
     "output_type": "stream",
     "text": [
      " 39%|███▉      | 1040/2676 [7:50:46<12:19:38, 27.13s/it]"
     ]
    },
    {
     "name": "stdout",
     "output_type": "stream",
     "text": [
      "{'loss': 1.279, 'grad_norm': 0.2861250936985016, 'learning_rate': 0.00012250093597903407, 'epoch': 0.78}\n"
     ]
    },
    {
     "name": "stderr",
     "output_type": "stream",
     "text": [
      " 39%|███▉      | 1050/2676 [7:55:17<12:16:11, 27.17s/it]"
     ]
    },
    {
     "name": "stdout",
     "output_type": "stream",
     "text": [
      "{'loss': 1.2922, 'grad_norm': 0.3517099916934967, 'learning_rate': 0.00012175215275177836, 'epoch': 0.78}\n"
     ]
    },
    {
     "name": "stderr",
     "output_type": "stream",
     "text": [
      " 40%|███▉      | 1060/2676 [7:59:49<12:11:07, 27.15s/it]"
     ]
    },
    {
     "name": "stdout",
     "output_type": "stream",
     "text": [
      "{'loss': 1.2386, 'grad_norm': 0.3018597960472107, 'learning_rate': 0.00012100336952452264, 'epoch': 0.79}\n"
     ]
    },
    {
     "name": "stderr",
     "output_type": "stream",
     "text": [
      " 40%|███▉      | 1070/2676 [8:04:20<12:06:15, 27.13s/it]"
     ]
    },
    {
     "name": "stdout",
     "output_type": "stream",
     "text": [
      "{'loss': 1.2651, 'grad_norm': 0.2732694149017334, 'learning_rate': 0.00012025458629726695, 'epoch': 0.8}\n"
     ]
    },
    {
     "name": "stderr",
     "output_type": "stream",
     "text": [
      " 40%|████      | 1080/2676 [8:08:52<12:02:09, 27.15s/it]"
     ]
    },
    {
     "name": "stdout",
     "output_type": "stream",
     "text": [
      "{'loss': 1.2631, 'grad_norm': 0.30558788776397705, 'learning_rate': 0.00011950580307001125, 'epoch': 0.81}\n"
     ]
    },
    {
     "name": "stderr",
     "output_type": "stream",
     "text": [
      " 41%|████      | 1090/2676 [8:13:23<11:53:48, 27.00s/it]"
     ]
    },
    {
     "name": "stdout",
     "output_type": "stream",
     "text": [
      "{'loss': 1.2727, 'grad_norm': 0.3072606921195984, 'learning_rate': 0.00011875701984275553, 'epoch': 0.81}\n"
     ]
    },
    {
     "name": "stderr",
     "output_type": "stream",
     "text": [
      " 41%|████      | 1100/2676 [8:17:52<11:46:13, 26.89s/it]c:\\Python\\mlperf_env\\lib\\site-packages\\peft\\utils\\save_and_load.py:195: UserWarning: Could not find a config file in model\\Llama-3.2-3B-Instruct-Frog - will assume that the vocabulary was not modified.\n",
      "  warnings.warn(\n"
     ]
    },
    {
     "name": "stdout",
     "output_type": "stream",
     "text": [
      "{'loss': 1.2593, 'grad_norm': 0.2849205434322357, 'learning_rate': 0.00011800823661549983, 'epoch': 0.82}\n"
     ]
    },
    {
     "name": "stderr",
     "output_type": "stream",
     "text": [
      " 41%|████▏     | 1110/2676 [8:22:20<11:38:47, 26.77s/it]"
     ]
    },
    {
     "name": "stdout",
     "output_type": "stream",
     "text": [
      "{'loss': 1.2787, 'grad_norm': 0.31118151545524597, 'learning_rate': 0.00011725945338824411, 'epoch': 0.83}\n"
     ]
    },
    {
     "name": "stderr",
     "output_type": "stream",
     "text": [
      " 42%|████▏     | 1120/2676 [8:26:47<11:32:57, 26.72s/it]"
     ]
    },
    {
     "name": "stdout",
     "output_type": "stream",
     "text": [
      "{'loss': 1.2765, 'grad_norm': 0.2989352345466614, 'learning_rate': 0.0001165106701609884, 'epoch': 0.84}\n"
     ]
    },
    {
     "name": "stderr",
     "output_type": "stream",
     "text": [
      " 42%|████▏     | 1130/2676 [8:31:14<11:26:46, 26.65s/it]"
     ]
    },
    {
     "name": "stdout",
     "output_type": "stream",
     "text": [
      "{'loss': 1.2276, 'grad_norm': 0.30409741401672363, 'learning_rate': 0.0001157618869337327, 'epoch': 0.84}\n"
     ]
    },
    {
     "name": "stderr",
     "output_type": "stream",
     "text": [
      " 43%|████▎     | 1140/2676 [8:35:41<11:22:18, 26.65s/it]"
     ]
    },
    {
     "name": "stdout",
     "output_type": "stream",
     "text": [
      "{'loss': 1.2763, 'grad_norm': 0.3177937865257263, 'learning_rate': 0.00011501310370647698, 'epoch': 0.85}\n"
     ]
    },
    {
     "name": "stderr",
     "output_type": "stream",
     "text": [
      " 43%|████▎     | 1150/2676 [8:40:09<11:20:16, 26.75s/it]"
     ]
    },
    {
     "name": "stdout",
     "output_type": "stream",
     "text": [
      "{'loss': 1.23, 'grad_norm': 0.2953028976917267, 'learning_rate': 0.00011426432047922126, 'epoch': 0.86}\n"
     ]
    },
    {
     "name": "stderr",
     "output_type": "stream",
     "text": [
      " 43%|████▎     | 1160/2676 [8:44:36<11:15:29, 26.73s/it]"
     ]
    },
    {
     "name": "stdout",
     "output_type": "stream",
     "text": [
      "{'loss': 1.2596, 'grad_norm': 0.2904457151889801, 'learning_rate': 0.00011351553725196556, 'epoch': 0.87}\n"
     ]
    },
    {
     "name": "stderr",
     "output_type": "stream",
     "text": [
      " 44%|████▎     | 1170/2676 [8:49:03<11:10:36, 26.72s/it]"
     ]
    },
    {
     "name": "stdout",
     "output_type": "stream",
     "text": [
      "{'loss': 1.3078, 'grad_norm': 0.2844024896621704, 'learning_rate': 0.00011276675402470984, 'epoch': 0.87}\n"
     ]
    },
    {
     "name": "stderr",
     "output_type": "stream",
     "text": [
      " 44%|████▍     | 1180/2676 [8:53:30<11:06:15, 26.72s/it]"
     ]
    },
    {
     "name": "stdout",
     "output_type": "stream",
     "text": [
      "{'loss': 1.236, 'grad_norm': 0.32276034355163574, 'learning_rate': 0.00011201797079745415, 'epoch': 0.88}\n"
     ]
    },
    {
     "name": "stderr",
     "output_type": "stream",
     "text": [
      " 44%|████▍     | 1190/2676 [8:57:57<11:02:33, 26.75s/it]"
     ]
    },
    {
     "name": "stdout",
     "output_type": "stream",
     "text": [
      "{'loss': 1.2957, 'grad_norm': 0.3342439830303192, 'learning_rate': 0.00011126918757019844, 'epoch': 0.89}\n"
     ]
    },
    {
     "name": "stderr",
     "output_type": "stream",
     "text": [
      " 45%|████▍     | 1200/2676 [9:02:24<10:57:14, 26.72s/it]c:\\Python\\mlperf_env\\lib\\site-packages\\peft\\utils\\save_and_load.py:195: UserWarning: Could not find a config file in model\\Llama-3.2-3B-Instruct-Frog - will assume that the vocabulary was not modified.\n",
      "  warnings.warn(\n"
     ]
    },
    {
     "name": "stdout",
     "output_type": "stream",
     "text": [
      "{'loss': 1.2627, 'grad_norm': 0.31018710136413574, 'learning_rate': 0.00011052040434294273, 'epoch': 0.9}\n"
     ]
    },
    {
     "name": "stderr",
     "output_type": "stream",
     "text": [
      " 45%|████▌     | 1210/2676 [9:06:52<10:53:53, 26.76s/it]"
     ]
    },
    {
     "name": "stdout",
     "output_type": "stream",
     "text": [
      "{'loss': 1.2696, 'grad_norm': 0.3174732029438019, 'learning_rate': 0.00010977162111568702, 'epoch': 0.9}\n"
     ]
    },
    {
     "name": "stderr",
     "output_type": "stream",
     "text": [
      " 46%|████▌     | 1220/2676 [9:11:19<10:48:56, 26.74s/it]"
     ]
    },
    {
     "name": "stdout",
     "output_type": "stream",
     "text": [
      "{'loss': 1.2645, 'grad_norm': 0.3041156530380249, 'learning_rate': 0.0001090228378884313, 'epoch': 0.91}\n"
     ]
    },
    {
     "name": "stderr",
     "output_type": "stream",
     "text": [
      " 46%|████▌     | 1230/2676 [9:15:47<10:44:13, 26.73s/it]"
     ]
    },
    {
     "name": "stdout",
     "output_type": "stream",
     "text": [
      "{'loss': 1.2253, 'grad_norm': 0.3034297227859497, 'learning_rate': 0.0001082740546611756, 'epoch': 0.92}\n"
     ]
    },
    {
     "name": "stderr",
     "output_type": "stream",
     "text": [
      " 46%|████▋     | 1240/2676 [9:20:14<10:39:27, 26.72s/it]"
     ]
    },
    {
     "name": "stdout",
     "output_type": "stream",
     "text": [
      "{'loss': 1.2332, 'grad_norm': 0.2900218963623047, 'learning_rate': 0.00010752527143391988, 'epoch': 0.93}\n"
     ]
    },
    {
     "name": "stderr",
     "output_type": "stream",
     "text": [
      " 47%|████▋     | 1250/2676 [9:24:41<10:36:11, 26.77s/it]"
     ]
    },
    {
     "name": "stdout",
     "output_type": "stream",
     "text": [
      "{'loss': 1.2357, 'grad_norm': 0.2905547022819519, 'learning_rate': 0.00010677648820666418, 'epoch': 0.93}\n"
     ]
    },
    {
     "name": "stderr",
     "output_type": "stream",
     "text": [
      " 47%|████▋     | 1260/2676 [9:29:08<10:30:07, 26.70s/it]"
     ]
    },
    {
     "name": "stdout",
     "output_type": "stream",
     "text": [
      "{'loss': 1.3105, 'grad_norm': 0.31643423438072205, 'learning_rate': 0.00010602770497940846, 'epoch': 0.94}\n"
     ]
    },
    {
     "name": "stderr",
     "output_type": "stream",
     "text": [
      " 47%|████▋     | 1270/2676 [9:33:36<10:27:41, 26.79s/it]"
     ]
    },
    {
     "name": "stdout",
     "output_type": "stream",
     "text": [
      "{'loss': 1.265, 'grad_norm': 0.33417800068855286, 'learning_rate': 0.00010527892175215274, 'epoch': 0.95}\n"
     ]
    },
    {
     "name": "stderr",
     "output_type": "stream",
     "text": [
      " 48%|████▊     | 1280/2676 [9:38:03<10:21:22, 26.71s/it]"
     ]
    },
    {
     "name": "stdout",
     "output_type": "stream",
     "text": [
      "{'loss': 1.2454, 'grad_norm': 0.3061748743057251, 'learning_rate': 0.00010453013852489704, 'epoch': 0.96}\n"
     ]
    },
    {
     "name": "stderr",
     "output_type": "stream",
     "text": [
      " 48%|████▊     | 1290/2676 [9:42:30<10:16:26, 26.69s/it]"
     ]
    },
    {
     "name": "stdout",
     "output_type": "stream",
     "text": [
      "{'loss': 1.2493, 'grad_norm': 0.28855687379837036, 'learning_rate': 0.00010378135529764135, 'epoch': 0.96}\n"
     ]
    },
    {
     "name": "stderr",
     "output_type": "stream",
     "text": [
      " 49%|████▊     | 1300/2676 [9:46:58<10:13:24, 26.75s/it]c:\\Python\\mlperf_env\\lib\\site-packages\\peft\\utils\\save_and_load.py:195: UserWarning: Could not find a config file in model\\Llama-3.2-3B-Instruct-Frog - will assume that the vocabulary was not modified.\n",
      "  warnings.warn(\n"
     ]
    },
    {
     "name": "stdout",
     "output_type": "stream",
     "text": [
      "{'loss': 1.2502, 'grad_norm': 0.2975892424583435, 'learning_rate': 0.00010303257207038564, 'epoch': 0.97}\n"
     ]
    },
    {
     "name": "stderr",
     "output_type": "stream",
     "text": [
      " 49%|████▉     | 1310/2676 [9:51:26<10:08:16, 26.72s/it]"
     ]
    },
    {
     "name": "stdout",
     "output_type": "stream",
     "text": [
      "{'loss': 1.2419, 'grad_norm': 0.3391886353492737, 'learning_rate': 0.00010228378884312992, 'epoch': 0.98}\n"
     ]
    },
    {
     "name": "stderr",
     "output_type": "stream",
     "text": [
      " 49%|████▉     | 1320/2676 [9:55:53<10:03:22, 26.70s/it]"
     ]
    },
    {
     "name": "stdout",
     "output_type": "stream",
     "text": [
      "{'loss': 1.3041, 'grad_norm': 0.3245754837989807, 'learning_rate': 0.00010153500561587422, 'epoch': 0.99}\n"
     ]
    },
    {
     "name": "stderr",
     "output_type": "stream",
     "text": [
      " 50%|████▉     | 1330/2676 [10:00:21<10:00:20, 26.76s/it]"
     ]
    },
    {
     "name": "stdout",
     "output_type": "stream",
     "text": [
      "{'loss': 1.2478, 'grad_norm': 0.3436916172504425, 'learning_rate': 0.0001007862223886185, 'epoch': 0.99}\n"
     ]
    },
    {
     "name": "stderr",
     "output_type": "stream",
     "text": [
      " 50%|█████     | 1340/2676 [10:04:46<9:45:47, 26.31s/it] "
     ]
    },
    {
     "name": "stdout",
     "output_type": "stream",
     "text": [
      "{'loss': 1.2977, 'grad_norm': 0.31664708256721497, 'learning_rate': 0.00010003743916136278, 'epoch': 1.0}\n"
     ]
    },
    {
     "name": "stderr",
     "output_type": "stream",
     "text": [
      " 50%|█████     | 1350/2676 [10:09:12<9:47:27, 26.58s/it]"
     ]
    },
    {
     "name": "stdout",
     "output_type": "stream",
     "text": [
      "{'loss': 1.1831, 'grad_norm': 0.3205910623073578, 'learning_rate': 9.928865593410708e-05, 'epoch': 1.01}\n"
     ]
    },
    {
     "name": "stderr",
     "output_type": "stream",
     "text": [
      " 51%|█████     | 1360/2676 [10:13:38<9:43:16, 26.59s/it]"
     ]
    },
    {
     "name": "stdout",
     "output_type": "stream",
     "text": [
      "{'loss': 1.2455, 'grad_norm': 0.34895139932632446, 'learning_rate': 9.853987270685136e-05, 'epoch': 1.02}\n"
     ]
    },
    {
     "name": "stderr",
     "output_type": "stream",
     "text": [
      " 51%|█████     | 1370/2676 [10:18:04<9:38:38, 26.58s/it]"
     ]
    },
    {
     "name": "stdout",
     "output_type": "stream",
     "text": [
      "{'loss': 1.2436, 'grad_norm': 0.3166099786758423, 'learning_rate': 9.779108947959566e-05, 'epoch': 1.02}\n"
     ]
    },
    {
     "name": "stderr",
     "output_type": "stream",
     "text": [
      " 52%|█████▏    | 1380/2676 [10:22:30<9:34:16, 26.59s/it]"
     ]
    },
    {
     "name": "stdout",
     "output_type": "stream",
     "text": [
      "{'loss': 1.212, 'grad_norm': 0.3479538857936859, 'learning_rate': 9.704230625233996e-05, 'epoch': 1.03}\n"
     ]
    },
    {
     "name": "stderr",
     "output_type": "stream",
     "text": [
      " 52%|█████▏    | 1390/2676 [10:26:56<9:29:51, 26.59s/it]"
     ]
    },
    {
     "name": "stdout",
     "output_type": "stream",
     "text": [
      "{'loss': 1.2138, 'grad_norm': 0.3267573118209839, 'learning_rate': 9.629352302508424e-05, 'epoch': 1.04}\n"
     ]
    },
    {
     "name": "stderr",
     "output_type": "stream",
     "text": [
      " 52%|█████▏    | 1400/2676 [10:31:21<9:24:58, 26.57s/it]c:\\Python\\mlperf_env\\lib\\site-packages\\peft\\utils\\save_and_load.py:195: UserWarning: Could not find a config file in model\\Llama-3.2-3B-Instruct-Frog - will assume that the vocabulary was not modified.\n",
      "  warnings.warn(\n"
     ]
    },
    {
     "name": "stdout",
     "output_type": "stream",
     "text": [
      "{'loss': 1.2345, 'grad_norm': 0.3271353542804718, 'learning_rate': 9.554473979782853e-05, 'epoch': 1.05}\n"
     ]
    },
    {
     "name": "stderr",
     "output_type": "stream",
     "text": [
      " 53%|█████▎    | 1410/2676 [10:35:47<9:20:16, 26.55s/it]"
     ]
    },
    {
     "name": "stdout",
     "output_type": "stream",
     "text": [
      "{'loss': 1.2368, 'grad_norm': 0.2934000790119171, 'learning_rate': 9.479595657057282e-05, 'epoch': 1.05}\n"
     ]
    },
    {
     "name": "stderr",
     "output_type": "stream",
     "text": [
      " 53%|█████▎    | 1420/2676 [10:40:13<9:16:14, 26.57s/it]"
     ]
    },
    {
     "name": "stdout",
     "output_type": "stream",
     "text": [
      "{'loss': 1.2283, 'grad_norm': 0.34984290599823, 'learning_rate': 9.404717334331712e-05, 'epoch': 1.06}\n"
     ]
    },
    {
     "name": "stderr",
     "output_type": "stream",
     "text": [
      " 53%|█████▎    | 1430/2676 [10:44:39<9:12:11, 26.59s/it]"
     ]
    },
    {
     "name": "stdout",
     "output_type": "stream",
     "text": [
      "{'loss': 1.1921, 'grad_norm': 0.3066968321800232, 'learning_rate': 9.32983901160614e-05, 'epoch': 1.07}\n"
     ]
    },
    {
     "name": "stderr",
     "output_type": "stream",
     "text": [
      " 54%|█████▍    | 1440/2676 [10:49:05<9:07:43, 26.59s/it]"
     ]
    },
    {
     "name": "stdout",
     "output_type": "stream",
     "text": [
      "{'loss': 1.2061, 'grad_norm': 0.338485985994339, 'learning_rate': 9.25496068888057e-05, 'epoch': 1.08}\n"
     ]
    },
    {
     "name": "stderr",
     "output_type": "stream",
     "text": [
      " 54%|█████▍    | 1450/2676 [10:53:31<9:03:20, 26.59s/it]"
     ]
    },
    {
     "name": "stdout",
     "output_type": "stream",
     "text": [
      "{'loss': 1.254, 'grad_norm': 0.3225451707839966, 'learning_rate': 9.180082366154998e-05, 'epoch': 1.08}\n"
     ]
    },
    {
     "name": "stderr",
     "output_type": "stream",
     "text": [
      " 55%|█████▍    | 1460/2676 [10:57:57<8:58:53, 26.59s/it]"
     ]
    },
    {
     "name": "stdout",
     "output_type": "stream",
     "text": [
      "{'loss': 1.1898, 'grad_norm': 0.3103821873664856, 'learning_rate': 9.105204043429427e-05, 'epoch': 1.09}\n"
     ]
    },
    {
     "name": "stderr",
     "output_type": "stream",
     "text": [
      " 55%|█████▍    | 1470/2676 [11:02:23<8:54:31, 26.59s/it]"
     ]
    },
    {
     "name": "stdout",
     "output_type": "stream",
     "text": [
      "{'loss': 1.2653, 'grad_norm': 0.3206087648868561, 'learning_rate': 9.030325720703858e-05, 'epoch': 1.1}\n"
     ]
    },
    {
     "name": "stderr",
     "output_type": "stream",
     "text": [
      " 55%|█████▌    | 1480/2676 [11:06:48<8:50:02, 26.59s/it]"
     ]
    },
    {
     "name": "stdout",
     "output_type": "stream",
     "text": [
      "{'loss': 1.1774, 'grad_norm': 0.3438335359096527, 'learning_rate': 8.955447397978286e-05, 'epoch': 1.11}\n"
     ]
    },
    {
     "name": "stderr",
     "output_type": "stream",
     "text": [
      " 56%|█████▌    | 1490/2676 [11:11:14<8:45:39, 26.59s/it]"
     ]
    },
    {
     "name": "stdout",
     "output_type": "stream",
     "text": [
      "{'loss': 1.2048, 'grad_norm': 0.3679182529449463, 'learning_rate': 8.880569075252715e-05, 'epoch': 1.11}\n"
     ]
    },
    {
     "name": "stderr",
     "output_type": "stream",
     "text": [
      " 56%|█████▌    | 1500/2676 [11:15:40<8:41:06, 26.59s/it]c:\\Python\\mlperf_env\\lib\\site-packages\\peft\\utils\\save_and_load.py:195: UserWarning: Could not find a config file in model\\Llama-3.2-3B-Instruct-Frog - will assume that the vocabulary was not modified.\n",
      "  warnings.warn(\n"
     ]
    },
    {
     "name": "stdout",
     "output_type": "stream",
     "text": [
      "{'loss': 1.209, 'grad_norm': 0.3266983926296234, 'learning_rate': 8.805690752527144e-05, 'epoch': 1.12}\n"
     ]
    },
    {
     "name": "stderr",
     "output_type": "stream",
     "text": [
      " 56%|█████▋    | 1510/2676 [11:20:07<8:36:50, 26.60s/it]"
     ]
    },
    {
     "name": "stdout",
     "output_type": "stream",
     "text": [
      "{'loss': 1.2303, 'grad_norm': 0.33297985792160034, 'learning_rate': 8.730812429801573e-05, 'epoch': 1.13}\n"
     ]
    },
    {
     "name": "stderr",
     "output_type": "stream",
     "text": [
      " 57%|█████▋    | 1520/2676 [11:24:33<8:32:23, 26.59s/it]"
     ]
    },
    {
     "name": "stdout",
     "output_type": "stream",
     "text": [
      "{'loss': 1.1946, 'grad_norm': 0.33364564180374146, 'learning_rate': 8.655934107076001e-05, 'epoch': 1.14}\n"
     ]
    },
    {
     "name": "stderr",
     "output_type": "stream",
     "text": [
      " 57%|█████▋    | 1530/2676 [11:28:59<8:27:49, 26.59s/it]"
     ]
    },
    {
     "name": "stdout",
     "output_type": "stream",
     "text": [
      "{'loss': 1.1809, 'grad_norm': 0.3321762979030609, 'learning_rate': 8.58105578435043e-05, 'epoch': 1.14}\n"
     ]
    },
    {
     "name": "stderr",
     "output_type": "stream",
     "text": [
      " 58%|█████▊    | 1540/2676 [11:33:25<8:23:11, 26.58s/it]"
     ]
    },
    {
     "name": "stdout",
     "output_type": "stream",
     "text": [
      "{'loss': 1.2157, 'grad_norm': 0.31392085552215576, 'learning_rate': 8.50617746162486e-05, 'epoch': 1.15}\n"
     ]
    },
    {
     "name": "stderr",
     "output_type": "stream",
     "text": [
      " 58%|█████▊    | 1550/2676 [11:37:51<8:19:00, 26.59s/it]"
     ]
    },
    {
     "name": "stdout",
     "output_type": "stream",
     "text": [
      "{'loss': 1.1726, 'grad_norm': 0.32111889123916626, 'learning_rate': 8.431299138899289e-05, 'epoch': 1.16}\n"
     ]
    },
    {
     "name": "stderr",
     "output_type": "stream",
     "text": [
      " 58%|█████▊    | 1560/2676 [11:42:17<8:14:33, 26.59s/it]"
     ]
    },
    {
     "name": "stdout",
     "output_type": "stream",
     "text": [
      "{'loss': 1.2311, 'grad_norm': 0.318726509809494, 'learning_rate': 8.356420816173718e-05, 'epoch': 1.17}\n"
     ]
    },
    {
     "name": "stderr",
     "output_type": "stream",
     "text": [
      " 59%|█████▊    | 1570/2676 [11:46:43<8:10:12, 26.59s/it]"
     ]
    },
    {
     "name": "stdout",
     "output_type": "stream",
     "text": [
      "{'loss': 1.2152, 'grad_norm': 0.31654131412506104, 'learning_rate': 8.281542493448147e-05, 'epoch': 1.17}\n"
     ]
    },
    {
     "name": "stderr",
     "output_type": "stream",
     "text": [
      " 59%|█████▉    | 1580/2676 [11:51:08<8:05:45, 26.59s/it]"
     ]
    },
    {
     "name": "stdout",
     "output_type": "stream",
     "text": [
      "{'loss': 1.2163, 'grad_norm': 0.3234359323978424, 'learning_rate': 8.206664170722576e-05, 'epoch': 1.18}\n"
     ]
    },
    {
     "name": "stderr",
     "output_type": "stream",
     "text": [
      " 59%|█████▉    | 1590/2676 [11:55:34<8:01:39, 26.61s/it]"
     ]
    },
    {
     "name": "stdout",
     "output_type": "stream",
     "text": [
      "{'loss': 1.2592, 'grad_norm': 0.3417419493198395, 'learning_rate': 8.131785847997005e-05, 'epoch': 1.19}\n"
     ]
    },
    {
     "name": "stderr",
     "output_type": "stream",
     "text": [
      " 60%|█████▉    | 1600/2676 [12:00:00<7:56:39, 26.58s/it]c:\\Python\\mlperf_env\\lib\\site-packages\\peft\\utils\\save_and_load.py:195: UserWarning: Could not find a config file in model\\Llama-3.2-3B-Instruct-Frog - will assume that the vocabulary was not modified.\n",
      "  warnings.warn(\n"
     ]
    },
    {
     "name": "stdout",
     "output_type": "stream",
     "text": [
      "{'loss': 1.1894, 'grad_norm': 0.34399092197418213, 'learning_rate': 8.056907525271435e-05, 'epoch': 1.2}\n"
     ]
    },
    {
     "name": "stderr",
     "output_type": "stream",
     "text": [
      " 60%|██████    | 1610/2676 [12:04:27<7:52:49, 26.61s/it]"
     ]
    },
    {
     "name": "stdout",
     "output_type": "stream",
     "text": [
      "{'loss': 1.2038, 'grad_norm': 0.33267414569854736, 'learning_rate': 7.982029202545863e-05, 'epoch': 1.2}\n"
     ]
    },
    {
     "name": "stderr",
     "output_type": "stream",
     "text": [
      " 61%|██████    | 1620/2676 [12:08:53<7:48:06, 26.60s/it]"
     ]
    },
    {
     "name": "stdout",
     "output_type": "stream",
     "text": [
      "{'loss': 1.2083, 'grad_norm': 0.32198354601860046, 'learning_rate': 7.907150879820293e-05, 'epoch': 1.21}\n"
     ]
    },
    {
     "name": "stderr",
     "output_type": "stream",
     "text": [
      " 61%|██████    | 1630/2676 [12:13:19<7:43:31, 26.59s/it]"
     ]
    },
    {
     "name": "stdout",
     "output_type": "stream",
     "text": [
      "{'loss': 1.2446, 'grad_norm': 0.331063836812973, 'learning_rate': 7.832272557094722e-05, 'epoch': 1.22}\n"
     ]
    },
    {
     "name": "stderr",
     "output_type": "stream",
     "text": [
      " 61%|██████▏   | 1640/2676 [12:17:45<7:39:01, 26.58s/it]"
     ]
    },
    {
     "name": "stdout",
     "output_type": "stream",
     "text": [
      "{'loss': 1.181, 'grad_norm': 0.3433403968811035, 'learning_rate': 7.757394234369151e-05, 'epoch': 1.23}\n"
     ]
    },
    {
     "name": "stderr",
     "output_type": "stream",
     "text": [
      " 62%|██████▏   | 1650/2676 [12:22:11<7:34:48, 26.60s/it]"
     ]
    },
    {
     "name": "stdout",
     "output_type": "stream",
     "text": [
      "{'loss': 1.2071, 'grad_norm': 0.32161569595336914, 'learning_rate': 7.682515911643579e-05, 'epoch': 1.23}\n"
     ]
    },
    {
     "name": "stderr",
     "output_type": "stream",
     "text": [
      " 62%|██████▏   | 1660/2676 [12:26:37<7:30:18, 26.59s/it]"
     ]
    },
    {
     "name": "stdout",
     "output_type": "stream",
     "text": [
      "{'loss': 1.241, 'grad_norm': 0.3229556083679199, 'learning_rate': 7.607637588918009e-05, 'epoch': 1.24}\n"
     ]
    },
    {
     "name": "stderr",
     "output_type": "stream",
     "text": [
      " 62%|██████▏   | 1670/2676 [12:31:03<7:25:47, 26.59s/it]"
     ]
    },
    {
     "name": "stdout",
     "output_type": "stream",
     "text": [
      "{'loss': 1.1945, 'grad_norm': 0.3516552746295929, 'learning_rate': 7.532759266192437e-05, 'epoch': 1.25}\n"
     ]
    },
    {
     "name": "stderr",
     "output_type": "stream",
     "text": [
      " 63%|██████▎   | 1680/2676 [12:35:29<7:21:20, 26.59s/it]"
     ]
    },
    {
     "name": "stdout",
     "output_type": "stream",
     "text": [
      "{'loss': 1.2138, 'grad_norm': 0.3338605761528015, 'learning_rate': 7.457880943466867e-05, 'epoch': 1.26}\n"
     ]
    },
    {
     "name": "stderr",
     "output_type": "stream",
     "text": [
      " 63%|██████▎   | 1690/2676 [12:39:55<7:17:01, 26.59s/it]"
     ]
    },
    {
     "name": "stdout",
     "output_type": "stream",
     "text": [
      "{'loss': 1.2002, 'grad_norm': 0.35370171070098877, 'learning_rate': 7.383002620741297e-05, 'epoch': 1.26}\n"
     ]
    },
    {
     "name": "stderr",
     "output_type": "stream",
     "text": [
      " 64%|██████▎   | 1700/2676 [12:44:20<7:12:22, 26.58s/it]c:\\Python\\mlperf_env\\lib\\site-packages\\peft\\utils\\save_and_load.py:195: UserWarning: Could not find a config file in model\\Llama-3.2-3B-Instruct-Frog - will assume that the vocabulary was not modified.\n",
      "  warnings.warn(\n"
     ]
    },
    {
     "name": "stdout",
     "output_type": "stream",
     "text": [
      "{'loss': 1.2411, 'grad_norm': 0.3517530560493469, 'learning_rate': 7.308124298015725e-05, 'epoch': 1.27}\n"
     ]
    },
    {
     "name": "stderr",
     "output_type": "stream",
     "text": [
      " 64%|██████▍   | 1710/2676 [12:48:47<7:07:57, 26.58s/it]"
     ]
    },
    {
     "name": "stdout",
     "output_type": "stream",
     "text": [
      "{'loss': 1.1672, 'grad_norm': 0.3278466463088989, 'learning_rate': 7.233245975290153e-05, 'epoch': 1.28}\n"
     ]
    },
    {
     "name": "stderr",
     "output_type": "stream",
     "text": [
      " 64%|██████▍   | 1720/2676 [12:53:13<7:03:39, 26.59s/it]"
     ]
    },
    {
     "name": "stdout",
     "output_type": "stream",
     "text": [
      "{'loss': 1.1949, 'grad_norm': 0.35850024223327637, 'learning_rate': 7.158367652564583e-05, 'epoch': 1.29}\n"
     ]
    },
    {
     "name": "stderr",
     "output_type": "stream",
     "text": [
      " 65%|██████▍   | 1730/2676 [12:57:39<6:59:14, 26.59s/it]"
     ]
    },
    {
     "name": "stdout",
     "output_type": "stream",
     "text": [
      "{'loss': 1.1905, 'grad_norm': 0.346804141998291, 'learning_rate': 7.083489329839011e-05, 'epoch': 1.29}\n"
     ]
    },
    {
     "name": "stderr",
     "output_type": "stream",
     "text": [
      " 65%|██████▌   | 1740/2676 [13:02:05<6:54:38, 26.58s/it]"
     ]
    },
    {
     "name": "stdout",
     "output_type": "stream",
     "text": [
      "{'loss': 1.2197, 'grad_norm': 0.3278467059135437, 'learning_rate': 7.008611007113441e-05, 'epoch': 1.3}\n"
     ]
    },
    {
     "name": "stderr",
     "output_type": "stream",
     "text": [
      " 65%|██████▌   | 1750/2676 [13:06:30<6:49:43, 26.55s/it]"
     ]
    },
    {
     "name": "stdout",
     "output_type": "stream",
     "text": [
      "{'loss': 1.1885, 'grad_norm': 0.30465054512023926, 'learning_rate': 6.933732684387871e-05, 'epoch': 1.31}\n"
     ]
    },
    {
     "name": "stderr",
     "output_type": "stream",
     "text": [
      " 66%|██████▌   | 1760/2676 [13:10:56<6:45:52, 26.59s/it]"
     ]
    },
    {
     "name": "stdout",
     "output_type": "stream",
     "text": [
      "{'loss': 1.2071, 'grad_norm': 0.34287145733833313, 'learning_rate': 6.858854361662299e-05, 'epoch': 1.31}\n"
     ]
    },
    {
     "name": "stderr",
     "output_type": "stream",
     "text": [
      " 66%|██████▌   | 1770/2676 [13:15:22<6:40:41, 26.54s/it]"
     ]
    },
    {
     "name": "stdout",
     "output_type": "stream",
     "text": [
      "{'loss': 1.2246, 'grad_norm': 0.3462893068790436, 'learning_rate': 6.783976038936727e-05, 'epoch': 1.32}\n"
     ]
    },
    {
     "name": "stderr",
     "output_type": "stream",
     "text": [
      " 67%|██████▋   | 1780/2676 [13:19:47<6:35:54, 26.51s/it]"
     ]
    },
    {
     "name": "stdout",
     "output_type": "stream",
     "text": [
      "{'loss': 1.2029, 'grad_norm': 0.34625449776649475, 'learning_rate': 6.709097716211157e-05, 'epoch': 1.33}\n"
     ]
    },
    {
     "name": "stderr",
     "output_type": "stream",
     "text": [
      " 67%|██████▋   | 1790/2676 [13:24:12<6:31:32, 26.52s/it]"
     ]
    },
    {
     "name": "stdout",
     "output_type": "stream",
     "text": [
      "{'loss': 1.1691, 'grad_norm': 0.3328145146369934, 'learning_rate': 6.634219393485587e-05, 'epoch': 1.34}\n"
     ]
    },
    {
     "name": "stderr",
     "output_type": "stream",
     "text": [
      " 67%|██████▋   | 1800/2676 [13:28:38<6:27:55, 26.57s/it]c:\\Python\\mlperf_env\\lib\\site-packages\\peft\\utils\\save_and_load.py:195: UserWarning: Could not find a config file in model\\Llama-3.2-3B-Instruct-Frog - will assume that the vocabulary was not modified.\n",
      "  warnings.warn(\n"
     ]
    },
    {
     "name": "stdout",
     "output_type": "stream",
     "text": [
      "{'loss': 1.2097, 'grad_norm': 0.3470936417579651, 'learning_rate': 6.559341070760015e-05, 'epoch': 1.34}\n"
     ]
    },
    {
     "name": "stderr",
     "output_type": "stream",
     "text": [
      " 68%|██████▊   | 1810/2676 [13:33:05<6:23:53, 26.60s/it]"
     ]
    },
    {
     "name": "stdout",
     "output_type": "stream",
     "text": [
      "{'loss': 1.1804, 'grad_norm': 0.370417982339859, 'learning_rate': 6.484462748034445e-05, 'epoch': 1.35}\n"
     ]
    },
    {
     "name": "stderr",
     "output_type": "stream",
     "text": [
      " 68%|██████▊   | 1820/2676 [13:37:31<6:19:18, 26.59s/it]"
     ]
    },
    {
     "name": "stdout",
     "output_type": "stream",
     "text": [
      "{'loss': 1.2508, 'grad_norm': 0.3192388117313385, 'learning_rate': 6.409584425308873e-05, 'epoch': 1.36}\n"
     ]
    },
    {
     "name": "stderr",
     "output_type": "stream",
     "text": [
      " 68%|██████▊   | 1830/2676 [13:41:57<6:14:49, 26.58s/it]"
     ]
    },
    {
     "name": "stdout",
     "output_type": "stream",
     "text": [
      "{'loss': 1.2171, 'grad_norm': 0.3745059370994568, 'learning_rate': 6.334706102583302e-05, 'epoch': 1.37}\n"
     ]
    },
    {
     "name": "stderr",
     "output_type": "stream",
     "text": [
      " 69%|██████▉   | 1840/2676 [13:46:22<6:09:56, 26.55s/it]"
     ]
    },
    {
     "name": "stdout",
     "output_type": "stream",
     "text": [
      "{'loss': 1.1933, 'grad_norm': 0.3258092701435089, 'learning_rate': 6.259827779857731e-05, 'epoch': 1.37}\n"
     ]
    },
    {
     "name": "stderr",
     "output_type": "stream",
     "text": [
      " 69%|██████▉   | 1850/2676 [13:50:48<6:06:02, 26.59s/it]"
     ]
    },
    {
     "name": "stdout",
     "output_type": "stream",
     "text": [
      "{'loss': 1.2164, 'grad_norm': 0.3593045473098755, 'learning_rate': 6.184949457132161e-05, 'epoch': 1.38}\n"
     ]
    },
    {
     "name": "stderr",
     "output_type": "stream",
     "text": [
      " 70%|██████▉   | 1860/2676 [13:55:14<6:01:00, 26.54s/it]"
     ]
    },
    {
     "name": "stdout",
     "output_type": "stream",
     "text": [
      "{'loss': 1.1705, 'grad_norm': 0.3320847153663635, 'learning_rate': 6.11007113440659e-05, 'epoch': 1.39}\n"
     ]
    },
    {
     "name": "stderr",
     "output_type": "stream",
     "text": [
      " 70%|██████▉   | 1870/2676 [13:59:40<5:56:56, 26.57s/it]"
     ]
    },
    {
     "name": "stdout",
     "output_type": "stream",
     "text": [
      "{'loss': 1.1677, 'grad_norm': 0.34418487548828125, 'learning_rate': 6.0351928116810184e-05, 'epoch': 1.4}\n"
     ]
    },
    {
     "name": "stderr",
     "output_type": "stream",
     "text": [
      " 70%|███████   | 1880/2676 [14:04:05<5:52:43, 26.59s/it]"
     ]
    },
    {
     "name": "stdout",
     "output_type": "stream",
     "text": [
      "{'loss': 1.2141, 'grad_norm': 0.33953192830085754, 'learning_rate': 5.9603144889554475e-05, 'epoch': 1.4}\n"
     ]
    },
    {
     "name": "stderr",
     "output_type": "stream",
     "text": [
      " 71%|███████   | 1890/2676 [14:08:31<5:48:23, 26.60s/it]"
     ]
    },
    {
     "name": "stdout",
     "output_type": "stream",
     "text": [
      "{'loss': 1.2256, 'grad_norm': 0.36739814281463623, 'learning_rate': 5.8854361662298765e-05, 'epoch': 1.41}\n"
     ]
    },
    {
     "name": "stderr",
     "output_type": "stream",
     "text": [
      " 71%|███████   | 1900/2676 [14:12:57<5:43:05, 26.53s/it]c:\\Python\\mlperf_env\\lib\\site-packages\\peft\\utils\\save_and_load.py:195: UserWarning: Could not find a config file in model\\Llama-3.2-3B-Instruct-Frog - will assume that the vocabulary was not modified.\n",
      "  warnings.warn(\n"
     ]
    },
    {
     "name": "stdout",
     "output_type": "stream",
     "text": [
      "{'loss': 1.1842, 'grad_norm': 0.3421206474304199, 'learning_rate': 5.810557843504306e-05, 'epoch': 1.42}\n"
     ]
    },
    {
     "name": "stderr",
     "output_type": "stream",
     "text": [
      " 71%|███████▏  | 1910/2676 [14:17:24<5:39:30, 26.59s/it]"
     ]
    },
    {
     "name": "stdout",
     "output_type": "stream",
     "text": [
      "{'loss': 1.197, 'grad_norm': 0.34342285990715027, 'learning_rate': 5.735679520778735e-05, 'epoch': 1.43}\n"
     ]
    },
    {
     "name": "stderr",
     "output_type": "stream",
     "text": [
      " 72%|███████▏  | 1920/2676 [14:21:50<5:35:03, 26.59s/it]"
     ]
    },
    {
     "name": "stdout",
     "output_type": "stream",
     "text": [
      "{'loss': 1.2059, 'grad_norm': 0.3234160840511322, 'learning_rate': 5.6608011980531636e-05, 'epoch': 1.43}\n"
     ]
    },
    {
     "name": "stderr",
     "output_type": "stream",
     "text": [
      " 72%|███████▏  | 1930/2676 [14:26:15<5:30:19, 26.57s/it]"
     ]
    },
    {
     "name": "stdout",
     "output_type": "stream",
     "text": [
      "{'loss': 1.1452, 'grad_norm': 0.35948607325553894, 'learning_rate': 5.5859228753275926e-05, 'epoch': 1.44}\n"
     ]
    },
    {
     "name": "stderr",
     "output_type": "stream",
     "text": [
      " 72%|███████▏  | 1940/2676 [14:30:41<5:26:03, 26.58s/it]"
     ]
    },
    {
     "name": "stdout",
     "output_type": "stream",
     "text": [
      "{'loss': 1.233, 'grad_norm': 0.34850606322288513, 'learning_rate': 5.5110445526020216e-05, 'epoch': 1.45}\n"
     ]
    },
    {
     "name": "stderr",
     "output_type": "stream",
     "text": [
      " 73%|███████▎  | 1950/2676 [14:35:07<5:21:47, 26.59s/it]"
     ]
    },
    {
     "name": "stdout",
     "output_type": "stream",
     "text": [
      "{'loss': 1.2129, 'grad_norm': 0.36974725127220154, 'learning_rate': 5.4361662298764514e-05, 'epoch': 1.46}\n"
     ]
    },
    {
     "name": "stderr",
     "output_type": "stream",
     "text": [
      " 73%|███████▎  | 1960/2676 [14:39:33<5:17:22, 26.60s/it]"
     ]
    },
    {
     "name": "stdout",
     "output_type": "stream",
     "text": [
      "{'loss': 1.2019, 'grad_norm': 0.36206021904945374, 'learning_rate': 5.3612879071508804e-05, 'epoch': 1.46}\n"
     ]
    },
    {
     "name": "stderr",
     "output_type": "stream",
     "text": [
      " 74%|███████▎  | 1970/2676 [14:43:59<5:12:27, 26.55s/it]"
     ]
    },
    {
     "name": "stdout",
     "output_type": "stream",
     "text": [
      "{'loss': 1.2084, 'grad_norm': 0.34423577785491943, 'learning_rate': 5.2864095844253094e-05, 'epoch': 1.47}\n"
     ]
    },
    {
     "name": "stderr",
     "output_type": "stream",
     "text": [
      " 74%|███████▍  | 1980/2676 [14:48:24<5:07:35, 26.52s/it]"
     ]
    },
    {
     "name": "stdout",
     "output_type": "stream",
     "text": [
      "{'loss': 1.2104, 'grad_norm': 0.32256078720092773, 'learning_rate': 5.211531261699738e-05, 'epoch': 1.48}\n"
     ]
    },
    {
     "name": "stderr",
     "output_type": "stream",
     "text": [
      " 74%|███████▍  | 1990/2676 [14:52:50<5:04:02, 26.59s/it]"
     ]
    },
    {
     "name": "stdout",
     "output_type": "stream",
     "text": [
      "{'loss': 1.1932, 'grad_norm': 0.35291868448257446, 'learning_rate': 5.136652938974167e-05, 'epoch': 1.49}\n"
     ]
    },
    {
     "name": "stderr",
     "output_type": "stream",
     "text": [
      " 75%|███████▍  | 2000/2676 [14:57:16<4:59:32, 26.59s/it]c:\\Python\\mlperf_env\\lib\\site-packages\\peft\\utils\\save_and_load.py:195: UserWarning: Could not find a config file in model\\Llama-3.2-3B-Instruct-Frog - will assume that the vocabulary was not modified.\n",
      "  warnings.warn(\n"
     ]
    },
    {
     "name": "stdout",
     "output_type": "stream",
     "text": [
      "{'loss': 1.2008, 'grad_norm': 0.3651152551174164, 'learning_rate': 5.061774616248596e-05, 'epoch': 1.49}\n"
     ]
    },
    {
     "name": "stderr",
     "output_type": "stream",
     "text": [
      " 75%|███████▌  | 2010/2676 [15:01:42<4:54:34, 26.54s/it]"
     ]
    },
    {
     "name": "stdout",
     "output_type": "stream",
     "text": [
      "{'loss': 1.219, 'grad_norm': 0.34314143657684326, 'learning_rate': 4.986896293523025e-05, 'epoch': 1.5}\n"
     ]
    },
    {
     "name": "stderr",
     "output_type": "stream",
     "text": [
      " 75%|███████▌  | 2020/2676 [15:06:08<4:50:34, 26.58s/it]"
     ]
    },
    {
     "name": "stdout",
     "output_type": "stream",
     "text": [
      "{'loss': 1.1633, 'grad_norm': 0.3518272042274475, 'learning_rate': 4.9120179707974546e-05, 'epoch': 1.51}\n"
     ]
    },
    {
     "name": "stderr",
     "output_type": "stream",
     "text": [
      " 76%|███████▌  | 2030/2676 [15:10:34<4:46:24, 26.60s/it]"
     ]
    },
    {
     "name": "stdout",
     "output_type": "stream",
     "text": [
      "{'loss': 1.2239, 'grad_norm': 0.3958304226398468, 'learning_rate': 4.8371396480718836e-05, 'epoch': 1.52}\n"
     ]
    },
    {
     "name": "stderr",
     "output_type": "stream",
     "text": [
      " 76%|███████▌  | 2040/2676 [15:15:00<4:41:43, 26.58s/it]"
     ]
    },
    {
     "name": "stdout",
     "output_type": "stream",
     "text": [
      "{'loss': 1.2243, 'grad_norm': 0.319861501455307, 'learning_rate': 4.762261325346312e-05, 'epoch': 1.52}\n"
     ]
    },
    {
     "name": "stderr",
     "output_type": "stream",
     "text": [
      " 77%|███████▋  | 2050/2676 [15:19:26<4:37:03, 26.56s/it]"
     ]
    },
    {
     "name": "stdout",
     "output_type": "stream",
     "text": [
      "{'loss': 1.2072, 'grad_norm': 0.3320883512496948, 'learning_rate': 4.687383002620742e-05, 'epoch': 1.53}\n"
     ]
    },
    {
     "name": "stderr",
     "output_type": "stream",
     "text": [
      " 77%|███████▋  | 2060/2676 [15:23:51<4:33:00, 26.59s/it]"
     ]
    },
    {
     "name": "stdout",
     "output_type": "stream",
     "text": [
      "{'loss': 1.1905, 'grad_norm': 0.33782362937927246, 'learning_rate': 4.612504679895171e-05, 'epoch': 1.54}\n"
     ]
    },
    {
     "name": "stderr",
     "output_type": "stream",
     "text": [
      " 77%|███████▋  | 2070/2676 [15:28:17<4:28:34, 26.59s/it]"
     ]
    },
    {
     "name": "stdout",
     "output_type": "stream",
     "text": [
      "{'loss': 1.22, 'grad_norm': 0.356271892786026, 'learning_rate': 4.5376263571696e-05, 'epoch': 1.55}\n"
     ]
    },
    {
     "name": "stderr",
     "output_type": "stream",
     "text": [
      " 78%|███████▊  | 2080/2676 [15:32:43<4:24:05, 26.59s/it]"
     ]
    },
    {
     "name": "stdout",
     "output_type": "stream",
     "text": [
      "{'loss': 1.1211, 'grad_norm': 0.35400623083114624, 'learning_rate': 4.462748034444029e-05, 'epoch': 1.55}\n"
     ]
    },
    {
     "name": "stderr",
     "output_type": "stream",
     "text": [
      " 78%|███████▊  | 2090/2676 [15:37:09<4:19:42, 26.59s/it]"
     ]
    },
    {
     "name": "stdout",
     "output_type": "stream",
     "text": [
      "{'loss': 1.181, 'grad_norm': 0.35083258152008057, 'learning_rate': 4.387869711718458e-05, 'epoch': 1.56}\n"
     ]
    },
    {
     "name": "stderr",
     "output_type": "stream",
     "text": [
      " 78%|███████▊  | 2100/2676 [15:41:35<4:14:56, 26.56s/it]c:\\Python\\mlperf_env\\lib\\site-packages\\peft\\utils\\save_and_load.py:195: UserWarning: Could not find a config file in model\\Llama-3.2-3B-Instruct-Frog - will assume that the vocabulary was not modified.\n",
      "  warnings.warn(\n"
     ]
    },
    {
     "name": "stdout",
     "output_type": "stream",
     "text": [
      "{'loss': 1.2074, 'grad_norm': 0.3260226547718048, 'learning_rate': 4.312991388992887e-05, 'epoch': 1.57}\n"
     ]
    },
    {
     "name": "stderr",
     "output_type": "stream",
     "text": [
      " 79%|███████▉  | 2110/2676 [15:46:02<4:10:59, 26.61s/it]"
     ]
    },
    {
     "name": "stdout",
     "output_type": "stream",
     "text": [
      "{'loss': 1.2319, 'grad_norm': 0.3395002484321594, 'learning_rate': 4.238113066267316e-05, 'epoch': 1.58}\n"
     ]
    },
    {
     "name": "stderr",
     "output_type": "stream",
     "text": [
      " 79%|███████▉  | 2120/2676 [15:50:27<4:06:19, 26.58s/it]"
     ]
    },
    {
     "name": "stdout",
     "output_type": "stream",
     "text": [
      "{'loss': 1.1604, 'grad_norm': 0.3739263117313385, 'learning_rate': 4.163234743541745e-05, 'epoch': 1.58}\n"
     ]
    },
    {
     "name": "stderr",
     "output_type": "stream",
     "text": [
      " 80%|███████▉  | 2130/2676 [15:54:53<4:01:32, 26.54s/it]"
     ]
    },
    {
     "name": "stdout",
     "output_type": "stream",
     "text": [
      "{'loss': 1.199, 'grad_norm': 0.3396865129470825, 'learning_rate': 4.088356420816174e-05, 'epoch': 1.59}\n"
     ]
    },
    {
     "name": "stderr",
     "output_type": "stream",
     "text": [
      " 80%|███████▉  | 2140/2676 [15:59:19<3:57:06, 26.54s/it]"
     ]
    },
    {
     "name": "stdout",
     "output_type": "stream",
     "text": [
      "{'loss': 1.2129, 'grad_norm': 0.3519596755504608, 'learning_rate': 4.013478098090603e-05, 'epoch': 1.6}\n"
     ]
    },
    {
     "name": "stderr",
     "output_type": "stream",
     "text": [
      " 80%|████████  | 2150/2676 [16:03:44<3:52:59, 26.58s/it]"
     ]
    },
    {
     "name": "stdout",
     "output_type": "stream",
     "text": [
      "{'loss': 1.205, 'grad_norm': 0.34419044852256775, 'learning_rate': 3.938599775365032e-05, 'epoch': 1.61}\n"
     ]
    },
    {
     "name": "stderr",
     "output_type": "stream",
     "text": [
      " 81%|████████  | 2160/2676 [16:08:10<3:48:27, 26.56s/it]"
     ]
    },
    {
     "name": "stdout",
     "output_type": "stream",
     "text": [
      "{'loss': 1.2282, 'grad_norm': 0.36473169922828674, 'learning_rate': 3.863721452639461e-05, 'epoch': 1.61}\n"
     ]
    },
    {
     "name": "stderr",
     "output_type": "stream",
     "text": [
      " 81%|████████  | 2170/2676 [16:12:35<3:43:48, 26.54s/it]"
     ]
    },
    {
     "name": "stdout",
     "output_type": "stream",
     "text": [
      "{'loss': 1.1774, 'grad_norm': 0.3775005340576172, 'learning_rate': 3.78884312991389e-05, 'epoch': 1.62}\n"
     ]
    },
    {
     "name": "stderr",
     "output_type": "stream",
     "text": [
      " 81%|████████▏ | 2180/2676 [16:17:01<3:39:35, 26.56s/it]"
     ]
    },
    {
     "name": "stdout",
     "output_type": "stream",
     "text": [
      "{'loss': 1.1983, 'grad_norm': 0.3485008776187897, 'learning_rate': 3.713964807188319e-05, 'epoch': 1.63}\n"
     ]
    },
    {
     "name": "stderr",
     "output_type": "stream",
     "text": [
      " 82%|████████▏ | 2190/2676 [16:21:28<3:37:15, 26.82s/it]"
     ]
    },
    {
     "name": "stdout",
     "output_type": "stream",
     "text": [
      "{'loss': 1.1946, 'grad_norm': 0.35984867811203003, 'learning_rate': 3.639086484462748e-05, 'epoch': 1.64}\n"
     ]
    },
    {
     "name": "stderr",
     "output_type": "stream",
     "text": [
      " 82%|████████▏ | 2200/2676 [16:25:56<3:32:15, 26.75s/it]c:\\Python\\mlperf_env\\lib\\site-packages\\peft\\utils\\save_and_load.py:195: UserWarning: Could not find a config file in model\\Llama-3.2-3B-Instruct-Frog - will assume that the vocabulary was not modified.\n",
      "  warnings.warn(\n"
     ]
    },
    {
     "name": "stdout",
     "output_type": "stream",
     "text": [
      "{'loss': 1.1736, 'grad_norm': 0.36126893758773804, 'learning_rate': 3.564208161737178e-05, 'epoch': 1.64}\n"
     ]
    },
    {
     "name": "stderr",
     "output_type": "stream",
     "text": [
      " 83%|████████▎ | 2210/2676 [16:30:24<3:28:26, 26.84s/it]"
     ]
    },
    {
     "name": "stdout",
     "output_type": "stream",
     "text": [
      "{'loss': 1.1577, 'grad_norm': 0.3416079878807068, 'learning_rate': 3.489329839011606e-05, 'epoch': 1.65}\n"
     ]
    },
    {
     "name": "stderr",
     "output_type": "stream",
     "text": [
      " 83%|████████▎ | 2220/2676 [16:34:52<3:22:44, 26.68s/it]"
     ]
    },
    {
     "name": "stdout",
     "output_type": "stream",
     "text": [
      "{'loss': 1.1954, 'grad_norm': 0.3845180869102478, 'learning_rate': 3.414451516286035e-05, 'epoch': 1.66}\n"
     ]
    },
    {
     "name": "stderr",
     "output_type": "stream",
     "text": [
      " 83%|████████▎ | 2230/2676 [16:39:19<3:20:42, 27.00s/it]"
     ]
    },
    {
     "name": "stdout",
     "output_type": "stream",
     "text": [
      "{'loss': 1.1754, 'grad_norm': 0.349477618932724, 'learning_rate': 3.339573193560465e-05, 'epoch': 1.67}\n"
     ]
    },
    {
     "name": "stderr",
     "output_type": "stream",
     "text": [
      " 84%|████████▎ | 2240/2676 [16:43:48<3:14:40, 26.79s/it]"
     ]
    },
    {
     "name": "stdout",
     "output_type": "stream",
     "text": [
      "{'loss': 1.1764, 'grad_norm': 0.36573663353919983, 'learning_rate': 3.264694870834893e-05, 'epoch': 1.67}\n"
     ]
    },
    {
     "name": "stderr",
     "output_type": "stream",
     "text": [
      " 84%|████████▍ | 2250/2676 [16:48:16<3:10:27, 26.83s/it]"
     ]
    },
    {
     "name": "stdout",
     "output_type": "stream",
     "text": [
      "{'loss': 1.1765, 'grad_norm': 0.3443421721458435, 'learning_rate': 3.189816548109322e-05, 'epoch': 1.68}\n"
     ]
    },
    {
     "name": "stderr",
     "output_type": "stream",
     "text": [
      " 84%|████████▍ | 2260/2676 [16:52:44<3:05:46, 26.79s/it]"
     ]
    },
    {
     "name": "stdout",
     "output_type": "stream",
     "text": [
      "{'loss': 1.1852, 'grad_norm': 0.3446807861328125, 'learning_rate': 3.114938225383752e-05, 'epoch': 1.69}\n"
     ]
    },
    {
     "name": "stderr",
     "output_type": "stream",
     "text": [
      " 85%|████████▍ | 2270/2676 [16:57:11<3:00:43, 26.71s/it]"
     ]
    },
    {
     "name": "stdout",
     "output_type": "stream",
     "text": [
      "{'loss': 1.1852, 'grad_norm': 0.36741578578948975, 'learning_rate': 3.0400599026581804e-05, 'epoch': 1.7}\n"
     ]
    },
    {
     "name": "stderr",
     "output_type": "stream",
     "text": [
      " 85%|████████▌ | 2280/2676 [17:01:35<2:54:36, 26.46s/it]"
     ]
    },
    {
     "name": "stdout",
     "output_type": "stream",
     "text": [
      "{'loss': 1.2059, 'grad_norm': 0.37018027901649475, 'learning_rate': 2.96518157993261e-05, 'epoch': 1.7}\n"
     ]
    },
    {
     "name": "stderr",
     "output_type": "stream",
     "text": [
      " 86%|████████▌ | 2290/2676 [17:06:00<2:50:05, 26.44s/it]"
     ]
    },
    {
     "name": "stdout",
     "output_type": "stream",
     "text": [
      "{'loss': 1.2137, 'grad_norm': 0.3313790261745453, 'learning_rate': 2.8903032572070388e-05, 'epoch': 1.71}\n"
     ]
    },
    {
     "name": "stderr",
     "output_type": "stream",
     "text": [
      " 86%|████████▌ | 2300/2676 [17:10:24<2:45:40, 26.44s/it]c:\\Python\\mlperf_env\\lib\\site-packages\\peft\\utils\\save_and_load.py:195: UserWarning: Could not find a config file in model\\Llama-3.2-3B-Instruct-Frog - will assume that the vocabulary was not modified.\n",
      "  warnings.warn(\n"
     ]
    },
    {
     "name": "stdout",
     "output_type": "stream",
     "text": [
      "{'loss': 1.1768, 'grad_norm': 0.36057958006858826, 'learning_rate': 2.8154249344814675e-05, 'epoch': 1.72}\n"
     ]
    },
    {
     "name": "stderr",
     "output_type": "stream",
     "text": [
      " 86%|████████▋ | 2310/2676 [17:14:49<2:41:18, 26.45s/it]"
     ]
    },
    {
     "name": "stdout",
     "output_type": "stream",
     "text": [
      "{'loss': 1.2325, 'grad_norm': 0.3433683514595032, 'learning_rate': 2.7405466117558968e-05, 'epoch': 1.73}\n"
     ]
    },
    {
     "name": "stderr",
     "output_type": "stream",
     "text": [
      " 87%|████████▋ | 2320/2676 [17:19:14<2:37:01, 26.46s/it]"
     ]
    },
    {
     "name": "stdout",
     "output_type": "stream",
     "text": [
      "{'loss': 1.1689, 'grad_norm': 0.3294994831085205, 'learning_rate': 2.665668289030326e-05, 'epoch': 1.73}\n"
     ]
    },
    {
     "name": "stderr",
     "output_type": "stream",
     "text": [
      " 87%|████████▋ | 2330/2676 [17:23:39<2:32:50, 26.50s/it]"
     ]
    },
    {
     "name": "stdout",
     "output_type": "stream",
     "text": [
      "{'loss': 1.1916, 'grad_norm': 0.3467428386211395, 'learning_rate': 2.5907899663047546e-05, 'epoch': 1.74}\n"
     ]
    },
    {
     "name": "stderr",
     "output_type": "stream",
     "text": [
      " 87%|████████▋ | 2340/2676 [17:28:05<2:28:43, 26.56s/it]"
     ]
    },
    {
     "name": "stdout",
     "output_type": "stream",
     "text": [
      "{'loss': 1.1717, 'grad_norm': 0.35594645142555237, 'learning_rate': 2.515911643579184e-05, 'epoch': 1.75}\n"
     ]
    },
    {
     "name": "stderr",
     "output_type": "stream",
     "text": [
      " 88%|████████▊ | 2350/2676 [17:32:30<2:23:42, 26.45s/it]"
     ]
    },
    {
     "name": "stdout",
     "output_type": "stream",
     "text": [
      "{'loss': 1.1609, 'grad_norm': 0.3664073050022125, 'learning_rate': 2.441033320853613e-05, 'epoch': 1.76}\n"
     ]
    },
    {
     "name": "stderr",
     "output_type": "stream",
     "text": [
      " 88%|████████▊ | 2360/2676 [17:36:54<2:19:25, 26.47s/it]"
     ]
    },
    {
     "name": "stdout",
     "output_type": "stream",
     "text": [
      "{'loss': 1.183, 'grad_norm': 0.356767475605011, 'learning_rate': 2.366154998128042e-05, 'epoch': 1.76}\n"
     ]
    },
    {
     "name": "stderr",
     "output_type": "stream",
     "text": [
      " 89%|████████▊ | 2370/2676 [17:41:19<2:14:57, 26.46s/it]"
     ]
    },
    {
     "name": "stdout",
     "output_type": "stream",
     "text": [
      "{'loss': 1.2003, 'grad_norm': 0.32725730538368225, 'learning_rate': 2.291276675402471e-05, 'epoch': 1.77}\n"
     ]
    },
    {
     "name": "stderr",
     "output_type": "stream",
     "text": [
      " 89%|████████▉ | 2380/2676 [17:45:43<2:10:24, 26.43s/it]"
     ]
    },
    {
     "name": "stdout",
     "output_type": "stream",
     "text": [
      "{'loss': 1.1637, 'grad_norm': 0.33524343371391296, 'learning_rate': 2.2163983526769004e-05, 'epoch': 1.78}\n"
     ]
    },
    {
     "name": "stderr",
     "output_type": "stream",
     "text": [
      " 89%|████████▉ | 2390/2676 [17:50:08<2:06:02, 26.44s/it]"
     ]
    },
    {
     "name": "stdout",
     "output_type": "stream",
     "text": [
      "{'loss': 1.1853, 'grad_norm': 0.36568483710289, 'learning_rate': 2.141520029951329e-05, 'epoch': 1.79}\n"
     ]
    },
    {
     "name": "stderr",
     "output_type": "stream",
     "text": [
      " 90%|████████▉ | 2400/2676 [17:54:32<2:01:44, 26.47s/it]c:\\Python\\mlperf_env\\lib\\site-packages\\peft\\utils\\save_and_load.py:195: UserWarning: Could not find a config file in model\\Llama-3.2-3B-Instruct-Frog - will assume that the vocabulary was not modified.\n",
      "  warnings.warn(\n"
     ]
    },
    {
     "name": "stdout",
     "output_type": "stream",
     "text": [
      "{'loss': 1.1802, 'grad_norm': 0.346729576587677, 'learning_rate': 2.066641707225758e-05, 'epoch': 1.79}\n"
     ]
    },
    {
     "name": "stderr",
     "output_type": "stream",
     "text": [
      " 90%|█████████ | 2410/2676 [17:58:57<1:57:14, 26.45s/it]"
     ]
    },
    {
     "name": "stdout",
     "output_type": "stream",
     "text": [
      "{'loss': 1.1739, 'grad_norm': 0.33186113834381104, 'learning_rate': 1.9917633845001875e-05, 'epoch': 1.8}\n"
     ]
    },
    {
     "name": "stderr",
     "output_type": "stream",
     "text": [
      " 90%|█████████ | 2420/2676 [18:03:22<1:52:45, 26.43s/it]"
     ]
    },
    {
     "name": "stdout",
     "output_type": "stream",
     "text": [
      "{'loss': 1.1953, 'grad_norm': 0.3468025028705597, 'learning_rate': 1.9168850617746165e-05, 'epoch': 1.81}\n"
     ]
    },
    {
     "name": "stderr",
     "output_type": "stream",
     "text": [
      " 91%|█████████ | 2430/2676 [18:07:46<1:48:28, 26.46s/it]"
     ]
    },
    {
     "name": "stdout",
     "output_type": "stream",
     "text": [
      "{'loss': 1.2054, 'grad_norm': 0.368234246969223, 'learning_rate': 1.8420067390490452e-05, 'epoch': 1.82}\n"
     ]
    },
    {
     "name": "stderr",
     "output_type": "stream",
     "text": [
      " 91%|█████████ | 2440/2676 [18:12:11<1:43:58, 26.44s/it]"
     ]
    },
    {
     "name": "stdout",
     "output_type": "stream",
     "text": [
      "{'loss': 1.1779, 'grad_norm': 0.33548134565353394, 'learning_rate': 1.7671284163234746e-05, 'epoch': 1.82}\n"
     ]
    },
    {
     "name": "stderr",
     "output_type": "stream",
     "text": [
      " 92%|█████████▏| 2450/2676 [18:16:35<1:39:44, 26.48s/it]"
     ]
    },
    {
     "name": "stdout",
     "output_type": "stream",
     "text": [
      "{'loss': 1.1685, 'grad_norm': 0.33587732911109924, 'learning_rate': 1.6922500935979036e-05, 'epoch': 1.83}\n"
     ]
    },
    {
     "name": "stderr",
     "output_type": "stream",
     "text": [
      " 92%|█████████▏| 2460/2676 [18:21:02<1:36:25, 26.79s/it]"
     ]
    },
    {
     "name": "stdout",
     "output_type": "stream",
     "text": [
      "{'loss': 1.1672, 'grad_norm': 0.3783297538757324, 'learning_rate': 1.6173717708723326e-05, 'epoch': 1.84}\n"
     ]
    },
    {
     "name": "stderr",
     "output_type": "stream",
     "text": [
      " 92%|█████████▏| 2470/2676 [18:25:27<1:31:04, 26.53s/it]"
     ]
    },
    {
     "name": "stdout",
     "output_type": "stream",
     "text": [
      "{'loss': 1.1888, 'grad_norm': 0.3578644394874573, 'learning_rate': 1.5424934481467613e-05, 'epoch': 1.85}\n"
     ]
    },
    {
     "name": "stderr",
     "output_type": "stream",
     "text": [
      " 93%|█████████▎| 2480/2676 [18:29:52<1:26:23, 26.45s/it]"
     ]
    },
    {
     "name": "stdout",
     "output_type": "stream",
     "text": [
      "{'loss': 1.1658, 'grad_norm': 0.3524118959903717, 'learning_rate': 1.4676151254211905e-05, 'epoch': 1.85}\n"
     ]
    },
    {
     "name": "stderr",
     "output_type": "stream",
     "text": [
      " 93%|█████████▎| 2490/2676 [18:34:16<1:21:52, 26.41s/it]"
     ]
    },
    {
     "name": "stdout",
     "output_type": "stream",
     "text": [
      "{'loss': 1.168, 'grad_norm': 0.36202460527420044, 'learning_rate': 1.3927368026956197e-05, 'epoch': 1.86}\n"
     ]
    },
    {
     "name": "stderr",
     "output_type": "stream",
     "text": [
      " 93%|█████████▎| 2500/2676 [18:38:40<1:17:27, 26.41s/it]c:\\Python\\mlperf_env\\lib\\site-packages\\peft\\utils\\save_and_load.py:195: UserWarning: Could not find a config file in model\\Llama-3.2-3B-Instruct-Frog - will assume that the vocabulary was not modified.\n",
      "  warnings.warn(\n"
     ]
    },
    {
     "name": "stdout",
     "output_type": "stream",
     "text": [
      "{'loss': 1.1729, 'grad_norm': 0.37089723348617554, 'learning_rate': 1.3178584799700488e-05, 'epoch': 1.87}\n"
     ]
    },
    {
     "name": "stderr",
     "output_type": "stream",
     "text": [
      " 94%|█████████▍| 2510/2676 [18:43:05<1:13:09, 26.44s/it]"
     ]
    },
    {
     "name": "stdout",
     "output_type": "stream",
     "text": [
      "{'loss': 1.1209, 'grad_norm': 0.3621644079685211, 'learning_rate': 1.2429801572444778e-05, 'epoch': 1.88}\n"
     ]
    },
    {
     "name": "stderr",
     "output_type": "stream",
     "text": [
      " 94%|█████████▍| 2520/2676 [18:47:29<1:08:41, 26.42s/it]"
     ]
    },
    {
     "name": "stdout",
     "output_type": "stream",
     "text": [
      "{'loss': 1.168, 'grad_norm': 0.3557176887989044, 'learning_rate': 1.1681018345189068e-05, 'epoch': 1.88}\n"
     ]
    },
    {
     "name": "stderr",
     "output_type": "stream",
     "text": [
      " 95%|█████████▍| 2530/2676 [18:51:54<1:04:29, 26.50s/it]"
     ]
    },
    {
     "name": "stdout",
     "output_type": "stream",
     "text": [
      "{'loss': 1.1955, 'grad_norm': 0.3589843809604645, 'learning_rate': 1.0932235117933359e-05, 'epoch': 1.89}\n"
     ]
    },
    {
     "name": "stderr",
     "output_type": "stream",
     "text": [
      " 95%|█████████▍| 2540/2676 [18:56:19<1:00:01, 26.48s/it]"
     ]
    },
    {
     "name": "stdout",
     "output_type": "stream",
     "text": [
      "{'loss': 1.2103, 'grad_norm': 0.35012590885162354, 'learning_rate': 1.0183451890677649e-05, 'epoch': 1.9}\n"
     ]
    },
    {
     "name": "stderr",
     "output_type": "stream",
     "text": [
      " 95%|█████████▌| 2550/2676 [19:00:44<55:32, 26.45s/it]  "
     ]
    },
    {
     "name": "stdout",
     "output_type": "stream",
     "text": [
      "{'loss': 1.1568, 'grad_norm': 0.359894722700119, 'learning_rate': 9.434668663421941e-06, 'epoch': 1.91}\n"
     ]
    },
    {
     "name": "stderr",
     "output_type": "stream",
     "text": [
      " 96%|█████████▌| 2560/2676 [19:05:13<52:06, 26.95s/it]"
     ]
    },
    {
     "name": "stdout",
     "output_type": "stream",
     "text": [
      "{'loss': 1.2173, 'grad_norm': 0.38539251685142517, 'learning_rate': 8.68588543616623e-06, 'epoch': 1.91}\n"
     ]
    },
    {
     "name": "stderr",
     "output_type": "stream",
     "text": [
      " 96%|█████████▌| 2570/2676 [19:09:42<47:50, 27.08s/it]"
     ]
    },
    {
     "name": "stdout",
     "output_type": "stream",
     "text": [
      "{'loss': 1.1819, 'grad_norm': 0.34355878829956055, 'learning_rate': 7.937102208910522e-06, 'epoch': 1.92}\n"
     ]
    },
    {
     "name": "stderr",
     "output_type": "stream",
     "text": [
      " 96%|█████████▋| 2580/2676 [19:14:16<43:42, 27.32s/it]"
     ]
    },
    {
     "name": "stdout",
     "output_type": "stream",
     "text": [
      "{'loss': 1.2324, 'grad_norm': 0.34371107816696167, 'learning_rate': 7.188318981654811e-06, 'epoch': 1.93}\n"
     ]
    },
    {
     "name": "stderr",
     "output_type": "stream",
     "text": [
      " 97%|█████████▋| 2590/2676 [19:18:49<39:13, 27.37s/it]"
     ]
    },
    {
     "name": "stdout",
     "output_type": "stream",
     "text": [
      "{'loss': 1.1561, 'grad_norm': 0.3215376138687134, 'learning_rate': 6.439535754399102e-06, 'epoch': 1.94}\n"
     ]
    },
    {
     "name": "stderr",
     "output_type": "stream",
     "text": [
      " 97%|█████████▋| 2600/2676 [19:23:23<34:41, 27.38s/it]c:\\Python\\mlperf_env\\lib\\site-packages\\peft\\utils\\save_and_load.py:195: UserWarning: Could not find a config file in model\\Llama-3.2-3B-Instruct-Frog - will assume that the vocabulary was not modified.\n",
      "  warnings.warn(\n"
     ]
    },
    {
     "name": "stdout",
     "output_type": "stream",
     "text": [
      "{'loss': 1.192, 'grad_norm': 0.3508807420730591, 'learning_rate': 5.690752527143392e-06, 'epoch': 1.94}\n"
     ]
    },
    {
     "name": "stderr",
     "output_type": "stream",
     "text": [
      " 98%|█████████▊| 2610/2676 [19:27:53<29:36, 26.92s/it]"
     ]
    },
    {
     "name": "stdout",
     "output_type": "stream",
     "text": [
      "{'loss': 1.219, 'grad_norm': 0.36562028527259827, 'learning_rate': 4.941969299887683e-06, 'epoch': 1.95}\n"
     ]
    },
    {
     "name": "stderr",
     "output_type": "stream",
     "text": [
      " 98%|█████████▊| 2620/2676 [19:32:22<25:05, 26.89s/it]"
     ]
    },
    {
     "name": "stdout",
     "output_type": "stream",
     "text": [
      "{'loss': 1.1663, 'grad_norm': 0.3446938693523407, 'learning_rate': 4.193186072631973e-06, 'epoch': 1.96}\n"
     ]
    },
    {
     "name": "stderr",
     "output_type": "stream",
     "text": [
      " 98%|█████████▊| 2630/2676 [19:36:50<20:36, 26.88s/it]"
     ]
    },
    {
     "name": "stdout",
     "output_type": "stream",
     "text": [
      "{'loss': 1.1647, 'grad_norm': 0.3772171139717102, 'learning_rate': 3.4444028453762635e-06, 'epoch': 1.96}\n"
     ]
    },
    {
     "name": "stderr",
     "output_type": "stream",
     "text": [
      " 99%|█████████▊| 2640/2676 [19:41:19<16:08, 26.89s/it]"
     ]
    },
    {
     "name": "stdout",
     "output_type": "stream",
     "text": [
      "{'loss': 1.1983, 'grad_norm': 0.3737317621707916, 'learning_rate': 2.6956196181205543e-06, 'epoch': 1.97}\n"
     ]
    },
    {
     "name": "stderr",
     "output_type": "stream",
     "text": [
      " 99%|█████████▉| 2650/2676 [19:45:48<11:39, 26.89s/it]"
     ]
    },
    {
     "name": "stdout",
     "output_type": "stream",
     "text": [
      "{'loss': 1.1628, 'grad_norm': 0.33762386441230774, 'learning_rate': 1.946836390864845e-06, 'epoch': 1.98}\n"
     ]
    },
    {
     "name": "stderr",
     "output_type": "stream",
     "text": [
      " 99%|█████████▉| 2660/2676 [19:50:17<07:10, 26.92s/it]"
     ]
    },
    {
     "name": "stdout",
     "output_type": "stream",
     "text": [
      "{'loss': 1.1719, 'grad_norm': 0.3836185932159424, 'learning_rate': 1.1980531636091353e-06, 'epoch': 1.99}\n"
     ]
    },
    {
     "name": "stderr",
     "output_type": "stream",
     "text": [
      "100%|█████████▉| 2670/2676 [19:54:46<02:41, 26.91s/it]"
     ]
    },
    {
     "name": "stdout",
     "output_type": "stream",
     "text": [
      "{'loss': 1.1925, 'grad_norm': 0.3586898446083069, 'learning_rate': 4.492699363534257e-07, 'epoch': 1.99}\n"
     ]
    },
    {
     "name": "stderr",
     "output_type": "stream",
     "text": [
      "100%|██████████| 2676/2676 [19:57:28<00:00, 26.94s/it]c:\\Python\\mlperf_env\\lib\\site-packages\\peft\\utils\\save_and_load.py:195: UserWarning: Could not find a config file in model\\Llama-3.2-3B-Instruct-Frog - will assume that the vocabulary was not modified.\n",
      "  warnings.warn(\n",
      "100%|██████████| 2676/2676 [19:57:28<00:00, 26.85s/it]"
     ]
    },
    {
     "name": "stdout",
     "output_type": "stream",
     "text": [
      "{'train_runtime': 71848.7955, 'train_samples_per_second': 0.596, 'train_steps_per_second': 0.037, 'train_loss': 1.2664818635435917, 'epoch': 2.0}\n"
     ]
    },
    {
     "name": "stderr",
     "output_type": "stream",
     "text": [
      "\n"
     ]
    }
   ],
   "source": [
    "trainer_stats = trainer.train() "
   ]
  },
  {
   "cell_type": "markdown",
   "metadata": {},
   "source": [
    "#### Áp dụng khả năng suy luận của mô hình"
   ]
  },
  {
   "cell_type": "code",
   "execution_count": 28,
   "metadata": {
    "id": "kR3gIAX-SM2q"
   },
   "outputs": [],
   "source": [
    "tokenizer = get_chat_template(\n",
    "    tokenizer,\n",
    "    chat_template = \"llama-3.1\",\n",
    ")\n",
    "FastLanguageModel.for_inference(model) \n",
    "\n",
    "messages = [\n",
    "    {\"role\": \"user\", \"content\": \"Làm sao để chữa bệnh sốt xuất huyết?\"},\n",
    "]\n",
    "inputs = tokenizer.apply_chat_template(\n",
    "    messages,\n",
    "    tokenize = True,\n",
    "    add_generation_prompt = True, \n",
    "    return_tensors = \"pt\",\n",
    "    padding=True,  \n",
    ").to(\"cuda\")"
   ]
  },
  {
   "cell_type": "code",
   "execution_count": 30,
   "metadata": {
    "id": "Gu2QiBncEk7u"
   },
   "outputs": [],
   "source": [
    "attention_mask = (inputs != tokenizer.pad_token_id).long()  # Đánh dấu tất cả các vị trí khác với pad token id\n",
    "\n",
    "outputs = model.generate(\n",
    "    input_ids=inputs,\n",
    "    attention_mask=attention_mask,  # Sử dụng attention mask\n",
    "    max_new_tokens=64,\n",
    "    use_cache=True,\n",
    "    temperature=1.5,\n",
    "    min_p=0.1\n",
    ")"
   ]
  },
  {
   "cell_type": "code",
   "execution_count": 31,
   "metadata": {
    "colab": {
     "base_uri": "https://localhost:8080/"
    },
    "id": "kPRLRAbMFarq",
    "outputId": "42572c27-448d-42da-c522-057ce1451f09"
   },
   "outputs": [
    {
     "data": {
      "text/plain": [
       "['<|begin_of_text|><|start_header_id|>system<|end_header_id|>\\n\\nCutting Knowledge Date: December 2023\\nToday Date: 26 July 2024\\n\\n<|eot_id|><|start_header_id|>user<|end_header_id|>\\n\\nLàm sao để chữa bệnh sốt xuất huyết?<|eot_id|><|start_header_id|>assistant<|end_header_id|>\\n\\nPhương pháp điều trị: Fluid replacement, Pain relievers, Hospitalization (in severe cases).<|eot_id|>']"
      ]
     },
     "execution_count": 31,
     "metadata": {},
     "output_type": "execute_result"
    }
   ],
   "source": [
    "tokenizer.batch_decode(outputs)"
   ]
  },
  {
   "cell_type": "markdown",
   "metadata": {},
   "source": [
    "#### Sử dụng Text Streamer cho sinh câu trả lời"
   ]
  },
  {
   "cell_type": "code",
   "execution_count": 32,
   "metadata": {
    "colab": {
     "base_uri": "https://localhost:8080/"
    },
    "id": "e2pEuRb1r2Vg",
    "outputId": "b6f7435c-810d-48c2-b395-bf5dd4b525c1"
   },
   "outputs": [
    {
     "name": "stdout",
     "output_type": "stream",
     "text": [
      "Đau đầu là dấu hiệu của các bệnh: Migraines, Headaches due to high blood pressure, Migraines, Migraines with aura, Migraines with visual distortions, Migraines with speech impairment, Migraines with numbness or tingling, Migranes with pain on side of the head, Migranes with confusion, Migranes with blurring of vision, Migranes with dizziness, Migranes with nausea or vomiting, Migranes with light sensitivity, Migranes with sensitivity to loud or sudden noises, Migranes with exhaustion, Migranes with irritable\n"
     ]
    }
   ],
   "source": [
    "FastLanguageModel.for_inference(model) # Enable native 2x faster inference\n",
    "\n",
    "messages = [\n",
    "    {\"role\": \"user\", \"content\": \"Đau đầu là dấu hiệu của các bệnh nào?\"},\n",
    "]\n",
    "inputs = tokenizer.apply_chat_template(\n",
    "    messages,\n",
    "    tokenize = True,\n",
    "    add_generation_prompt = True, # Must add for generation\n",
    "    return_tensors = \"pt\",\n",
    "    padding = True,  # Thêm padding để đảm bảo chuỗi có cùng độ dài\n",
    ").to(\"cuda\")\n",
    "\n",
    "attention_mask = (inputs != tokenizer.pad_token_id).long()  # Đánh dấu tất cả các vị trí khác với pad token id\n",
    "\n",
    "text_streamer = TextStreamer(tokenizer, skip_prompt=True)\n",
    "_ = model.generate(\n",
    "    input_ids=inputs,\n",
    "    attention_mask=attention_mask,  # Sử dụng attention mask\n",
    "    streamer=text_streamer,\n",
    "    max_new_tokens=128,\n",
    "    use_cache=True,\n",
    "    temperature=1.5,\n",
    "    min_p=0.1\n",
    ")"
   ]
  },
  {
   "cell_type": "markdown",
   "metadata": {
    "id": "uMuVrWbjAzhc"
   },
   "source": [
    "<a name=\"Save\"></a>\n",
    "#### Lưu và tải mô hình đã tinh chỉnh\n",
    "Để lưu mô hình cuối cùng dưới dạng LoRA adapters, bạn có thể sử dụng `push_to_hub` của Huggingface để lưu trực tuyến hoặc `save_pretrained` để lưu tại chỗ (local).\n",
    "\n",
    "**[NOTE]** Điều này chỉ lưu các LoRA adapters, không phải toàn bộ mô hình. Để lưu dưới dạng 16bit hoặc GGUF, hãy cuộn xuống dưới!"
   ]
  },
  {
   "cell_type": "code",
   "execution_count": 25,
   "metadata": {
    "colab": {
     "base_uri": "https://localhost:8080/"
    },
    "id": "upcOlWe7A1vc",
    "outputId": "4202f142-31c1-4786-d969-5587a819d82b"
   },
   "outputs": [
    {
     "name": "stderr",
     "output_type": "stream",
     "text": [
      "c:\\Python\\mlperf_env\\lib\\site-packages\\peft\\utils\\save_and_load.py:195: UserWarning: Could not find a config file in model\\Llama-3.2-3B-Instruct-Frog - will assume that the vocabulary was not modified.\n",
      "  warnings.warn(\n"
     ]
    },
    {
     "data": {
      "text/plain": [
       "('Models/HCM_4BIT00007\\\\tokenizer_config.json',\n",
       " 'Models/HCM_4BIT00007\\\\special_tokens_map.json',\n",
       " 'Models/HCM_4BIT00007\\\\tokenizer.json')"
      ]
     },
     "execution_count": 25,
     "metadata": {},
     "output_type": "execute_result"
    }
   ],
   "source": [
    "model.save_pretrained(\"Models/HCM_4BIT00008\")\n",
    "tokenizer.save_pretrained(\"Models/HCM_4BIT00008\")\n",
    "# model.push_to_hub(\"your_name/lora_model\", token = \"...\") # Online saving\n",
    "# tokenizer.push_to_hub(\"your_name/lora_model\", token = \"...\") # Online saving"
   ]
  },
  {
   "cell_type": "markdown",
   "metadata": {
    "id": "EQ7sAQ4PJemI"
   },
   "source": [
    "- Vì chỉ lưu các tham số LoRA nên khi muốn sử dụng model này phải load model base và kết hợp với các tham số loRA để sử dụng"
   ]
  },
  {
   "cell_type": "markdown",
   "metadata": {
    "id": "AEEcJ4qfC7Lp"
   },
   "source": [
    "Nếu bạn muốn tải các LoRA adapters mà chúng ta vừa lưu để suy luận, hãy đặt giá trị `False` thành `True`:"
   ]
  },
  {
   "cell_type": "code",
   "execution_count": 3,
   "metadata": {
    "colab": {
     "base_uri": "https://localhost:8080/",
     "height": 190,
     "referenced_widgets": [
      "9b8e3cb6bb1c4572bdcd85e2ea85d577",
      "e228b6ae7512414e82e82b856f721153",
      "e66d15077bf6460981fb76717a48be22",
      "a75a380ea21d4ce886aad666e21e35ea",
      "a705d09288d8432f89f59839b9dbfea2",
      "65d05c216d13496abde24ca168e12536",
      "4964bbc762ac462ea5a549d145ef1138",
      "c3646e44b2464e7abfca219801baf0fe",
      "f27fae556a274151bf5c22997fddd4ea",
      "9ca3375ae07044a1b412e43c0c5c0e8f",
      "0791c618a3a34ba59ba59dfe0d4d02f9"
     ]
    },
    "id": "MKX_XKs_BNZR",
    "outputId": "f1f9800c-c45d-4f07-cf2e-1db1f0e262a2"
   },
   "outputs": [
    {
     "name": "stdout",
     "output_type": "stream",
     "text": [
      "Unsloth: WARNING `trust_remote_code` is True.\n",
      "Are you certain you want to do remote code execution?\n",
      "==((====))==  Unsloth 2024.10.7: Fast Llama patching. Transformers = 4.46.0.\n",
      "   \\\\   /|    GPU: NVIDIA GeForce RTX 4060 Ti. Max memory: 15.995 GB. Platform = Windows.\n",
      "O^O/ \\_/ \\    Pytorch: 2.3.1+cu121. CUDA = 8.9. CUDA Toolkit = 12.1.\n",
      "\\        /    Bfloat16 = TRUE. FA [Xformers = 0.0.27. FA2 = True]\n",
      " \"-____-\"     Free Apache license: http://github.com/unslothai/unsloth\n"
     ]
    },
    {
     "name": "stderr",
     "output_type": "stream",
     "text": [
      "c:\\Python\\mlperf_env\\lib\\site-packages\\unsloth\\models\\llama.py:1107: UserWarning: expandable_segments not supported on this platform (Triggered internally at ..\\c10/cuda/CUDAAllocatorConfig.h:28.)\n",
      "  self.register_buffer(\"cos_cached\", emb.cos().to(dtype=dtype, device=device, non_blocking=True), persistent=False)\n",
      "Loading checkpoint shards: 100%|██████████| 3/3 [00:11<00:00,  3.92s/it]\n",
      "Models/4BIT00006 does not have a padding token! Will use pad_token = <|finetune_right_pad_id|>.\n"
     ]
    },
    {
     "name": "stdout",
     "output_type": "stream",
     "text": [
      "It's great that you described your symptoms and their triggers so clearly! I'd like to help you with the question you've submitted about normal stomach discomfort during a spinning sensation. \n",
      "\n",
      "When the entire world seems to be spinning around, this is known as vertigo. In many cases, the cause of vertigo isn't fully understood, but it is sometimes due to inner ear problems. These problems involve the balance center and affect your body's equilibrium, which helps it keep its balance while performing daily activities. \n",
      "\n",
      "Since your symptoms are caused by inner ear problems and not other illnesses, stomach discomfort during vertigo is a normal and expected part of the condition. It is very important to be aware that discomfort in the stomach can lead to issues such as gastritis or gastric ulcers, so it should be looked at if it lasts a long time or gets worse over time. If the stomach discomfort is very bad, or if it affects your appetite, it may be best to be evaluated by your doctor. In this case, it would be safe for you to continue to take medication if prescribed to help with stomach discomfort.<|eot_id|>\n"
     ]
    }
   ],
   "source": [
    "max_seq_length = 2048\n",
    "dtype = None\n",
    "load_in_4bit = True\n",
    "if True:\n",
    "    model, tokenizer = FastLanguageModel.from_pretrained(\n",
    "        model_name = \"Models/4BIT00006\", \n",
    "        max_seq_length = max_seq_length,\n",
    "        dtype = dtype,\n",
    "        load_in_4bit = load_in_4bit,\n",
    "        trust_remote_code=True\n",
    "    )\n",
    "    FastLanguageModel.for_inference(model) \n",
    "\n",
    "messages = [\n",
    "    {\"role\": \"user\", \"content\": \"I woke up this morning feeling the whole room is spinning when i was sitting down. I went to the bathroom walking unsteadily, as i tried to focus i feel nauseous. I try to vomit but it wont come out.. After taking panadol and sleep for few hours, i still feel the same.. By the way, if i lay down or sit down, my head do not spin, only when i want to move around then i feel the whole world is spinning.. And it is normal stomach discomfort at the same time? Earlier after i relieved myself, the spinning lessen so i am not sure whether its connected or coincidences.. Thank you doc!\"},\n",
    "]\n",
    "\n",
    "inputs = tokenizer.apply_chat_template(\n",
    "    messages,\n",
    "    tokenize = True,\n",
    "    add_generation_prompt = True,\n",
    "    return_tensors = \"pt\",\n",
    "    padding = True, \n",
    ").to(\"cuda\")\n",
    "\n",
    "attention_mask = (inputs != tokenizer.pad_token_id).long()  \n",
    "\n",
    "text_streamer = TextStreamer(tokenizer, skip_prompt=True)\n",
    "_ = model.generate(\n",
    "    input_ids=inputs,\n",
    "    attention_mask=attention_mask, \n",
    "    streamer=text_streamer,\n",
    "    max_new_tokens=256,\n",
    "    use_cache=True,\n",
    "    temperature=1.5,\n",
    "    min_p=0.1\n",
    ")"
   ]
  },
  {
   "cell_type": "code",
   "execution_count": 8,
   "metadata": {},
   "outputs": [
    {
     "name": "stdout",
     "output_type": "stream",
     "text": [
      "Hello, Welcome to Chat Doctor. I read carefully your query and understand your concern. From your symptoms, it seems that you are having some form of motion sickness. If you don't have any other symptoms like fever, vomiting for long time, it is not a concern. It should resolve with time. If you have other symptoms like fever, vomiting for long time, then you should consult a doctor. Hope I have answered your question. If you have any further questions, then you may please ask me. I hope I answered your question. Thank you.<|eot_id|>\n"
     ]
    }
   ],
   "source": [
    "messages = [\n",
    "    {\"role\": \"user\", \"content\": \"My patient woke up this morning feeling the whole room is spinning when i was sitting down. I went to the bathroom walking unsteadily, as i tried to focus i feel nauseous. I try to vomit but it wont come out.. After taking panadol and sleep for few hours, i still feel the same.. By the way, if i lay down or sit down, my head do not spin, only when i want to move around then i feel the whole world is spinning.. And it is normal stomach discomfort at the same time? Earlier after i relieved myself, the spinning lessen so i am not sure whether its connected or coincidences.. Thank you doc! \"},\n",
    "]\n",
    "\n",
    "inputs = tokenizer.apply_chat_template(\n",
    "    messages,\n",
    "    tokenize = True,\n",
    "    add_generation_prompt = True, \n",
    "    return_tensors = \"pt\",\n",
    "    padding = True, \n",
    ").to(\"cuda\")\n",
    "\n",
    "attention_mask = (inputs != tokenizer.pad_token_id).long()  \n",
    "\n",
    "text_streamer = TextStreamer(tokenizer, skip_prompt=True)\n",
    "_ = model.generate(\n",
    "    input_ids=inputs,\n",
    "    attention_mask=attention_mask, \n",
    "    streamer=text_streamer,\n",
    "    max_new_tokens=256,\n",
    "    use_cache=True,\n",
    "    temperature=1.0,\n",
    "    min_p=0.1,\n",
    "    min_new_tokens=50,\n",
    "    top_p=0.9\n",
    ")"
   ]
  },
  {
   "cell_type": "code",
   "execution_count": 17,
   "metadata": {},
   "outputs": [
    {
     "name": "stderr",
     "output_type": "stream",
     "text": [
      "c:\\Python\\mlperf_env\\lib\\site-packages\\peft\\utils\\save_and_load.py:195: UserWarning: Could not find a config file in model\\Llama-3.2-3B-Instruct-Frog - will assume that the vocabulary was not modified.\n",
      "  warnings.warn(\n",
      "Loading checkpoint shards: 100%|██████████| 2/2 [00:04<00:00,  2.13s/it]\n"
     ]
    }
   ],
   "source": [
    "model.save_pretrained(\"Models/HCM_4BIT00006\")\n",
    "tokenizer.save_pretrained(\"Models/HCM_4BIT00006\")\n",
    "model_name = \"model\\\\Llama-3.2-3B-Instruct-Frog\"\n",
    "finetune_model_name = \"Models/HCM_4BIT00006\"\n",
    "device_map = {\"\": 0}\n",
    "# Reload and merge\n",
    "base_model = AutoModelForCausalLM.from_pretrained(\n",
    "    model_name,\n",
    "    low_cpu_mem_usage=True,\n",
    "    return_dict=True,\n",
    "    torch_dtype=torch.float16,\n",
    "    device_map=device_map,\n",
    ")\n",
    "modelsave = PeftModel.from_pretrained(base_model, finetune_model_name)\n",
    "modelsave = modelsave.merge_and_unload()\n",
    "\n",
    "# Reload tokenizer to save it\n",
    "tokenizer = AutoTokenizer.from_pretrained(model_name, trust_remote_code=True)\n",
    "tokenizer.pad_token = tokenizer.eos_token\n",
    "tokenizer.padding_side = \"right\""
   ]
  },
  {
   "cell_type": "code",
   "execution_count": 18,
   "metadata": {},
   "outputs": [
    {
     "data": {
      "text/plain": [
       "('Models/4BIT00008\\\\tokenizer_config.json',\n",
       " 'Models/4BIT00008\\\\special_tokens_map.json',\n",
       " 'Models/4BIT00008\\\\tokenizer.json')"
      ]
     },
     "execution_count": 18,
     "metadata": {},
     "output_type": "execute_result"
    }
   ],
   "source": [
    "# Directory path where model and tokenizer will be saved\n",
    "save_dir = \"Models/4BIT00006\"\n",
    "\n",
    "# Create directory if it does not exist\n",
    "os.makedirs(save_dir, exist_ok=True)\n",
    "\n",
    "# Save model in .bin format with possible sharding\n",
    "modelsave.save_pretrained(save_dir, safe_serialization=False)\n",
    "tokenizer.save_pretrained(save_dir)"
   ]
  }
 ],
 "metadata": {
  "colab": {
   "provenance": []
  },
  "kernelspec": {
   "display_name": "mlperf_env",
   "language": "python",
   "name": "python3"
  },
  "language_info": {
   "codemirror_mode": {
    "name": "ipython",
    "version": 3
   },
   "file_extension": ".py",
   "mimetype": "text/x-python",
   "name": "python",
   "nbconvert_exporter": "python",
   "pygments_lexer": "ipython3",
   "version": "3.10.11"
  },
  "widgets": {
   "application/vnd.jupyter.widget-state+json": {
    "017199c21d1f4b7086e44f6f0957a7ac": {
     "model_module": "@jupyter-widgets/controls",
     "model_module_version": "1.5.0",
     "model_name": "DescriptionStyleModel",
     "state": {
      "_model_module": "@jupyter-widgets/controls",
      "_model_module_version": "1.5.0",
      "_model_name": "DescriptionStyleModel",
      "_view_count": null,
      "_view_module": "@jupyter-widgets/base",
      "_view_module_version": "1.2.0",
      "_view_name": "StyleView",
      "description_width": ""
     }
    },
    "031747c78d66487293af01f936351a37": {
     "model_module": "@jupyter-widgets/controls",
     "model_module_version": "1.5.0",
     "model_name": "HTMLModel",
     "state": {
      "_dom_classes": [],
      "_model_module": "@jupyter-widgets/controls",
      "_model_module_version": "1.5.0",
      "_model_name": "HTMLModel",
      "_view_count": null,
      "_view_module": "@jupyter-widgets/controls",
      "_view_module_version": "1.5.0",
      "_view_name": "HTMLView",
      "description": "",
      "description_tooltip": null,
      "layout": "IPY_MODEL_e56fd2eb56e04e7587173f05decd3f1e",
      "placeholder": "​",
      "style": "IPY_MODEL_12f3f8e325cf49469912fb6a775586b4",
      "value": "tokenizer_config.json: 100%"
     }
    },
    "0352e13773ea4fc4a3284904c420761c": {
     "model_module": "@jupyter-widgets/base",
     "model_module_version": "1.2.0",
     "model_name": "LayoutModel",
     "state": {
      "_model_module": "@jupyter-widgets/base",
      "_model_module_version": "1.2.0",
      "_model_name": "LayoutModel",
      "_view_count": null,
      "_view_module": "@jupyter-widgets/base",
      "_view_module_version": "1.2.0",
      "_view_name": "LayoutView",
      "align_content": null,
      "align_items": null,
      "align_self": null,
      "border": null,
      "bottom": null,
      "display": null,
      "flex": null,
      "flex_flow": null,
      "grid_area": null,
      "grid_auto_columns": null,
      "grid_auto_flow": null,
      "grid_auto_rows": null,
      "grid_column": null,
      "grid_gap": null,
      "grid_row": null,
      "grid_template_areas": null,
      "grid_template_columns": null,
      "grid_template_rows": null,
      "height": null,
      "justify_content": null,
      "justify_items": null,
      "left": null,
      "margin": null,
      "max_height": null,
      "max_width": null,
      "min_height": null,
      "min_width": null,
      "object_fit": null,
      "object_position": null,
      "order": null,
      "overflow": null,
      "overflow_x": null,
      "overflow_y": null,
      "padding": null,
      "right": null,
      "top": null,
      "visibility": null,
      "width": null
     }
    },
    "043b9b79336e4d07a1cb68f57f8914d4": {
     "model_module": "@jupyter-widgets/controls",
     "model_module_version": "1.5.0",
     "model_name": "HTMLModel",
     "state": {
      "_dom_classes": [],
      "_model_module": "@jupyter-widgets/controls",
      "_model_module_version": "1.5.0",
      "_model_name": "HTMLModel",
      "_view_count": null,
      "_view_module": "@jupyter-widgets/controls",
      "_view_module_version": "1.5.0",
      "_view_name": "HTMLView",
      "description": "",
      "description_tooltip": null,
      "layout": "IPY_MODEL_4d0cbeb2b10a436a8e40d56822faa5a9",
      "placeholder": "​",
      "style": "IPY_MODEL_f44ff0047a62432492bb34e074cb5f04",
      "value": " 4.97G/4.97G [01:57&lt;00:00, 42.5MB/s]"
     }
    },
    "0791c618a3a34ba59ba59dfe0d4d02f9": {
     "model_module": "@jupyter-widgets/controls",
     "model_module_version": "1.5.0",
     "model_name": "DescriptionStyleModel",
     "state": {
      "_model_module": "@jupyter-widgets/controls",
      "_model_module_version": "1.5.0",
      "_model_name": "DescriptionStyleModel",
      "_view_count": null,
      "_view_module": "@jupyter-widgets/base",
      "_view_module_version": "1.2.0",
      "_view_name": "StyleView",
      "description_width": ""
     }
    },
    "08e0db3ea6324f948820c7cdfe968076": {
     "model_module": "@jupyter-widgets/controls",
     "model_module_version": "1.5.0",
     "model_name": "ProgressStyleModel",
     "state": {
      "_model_module": "@jupyter-widgets/controls",
      "_model_module_version": "1.5.0",
      "_model_name": "ProgressStyleModel",
      "_view_count": null,
      "_view_module": "@jupyter-widgets/base",
      "_view_module_version": "1.2.0",
      "_view_name": "StyleView",
      "bar_color": null,
      "description_width": ""
     }
    },
    "0a3aa8db5c9b4ca5bfc8404f36697207": {
     "model_module": "@jupyter-widgets/controls",
     "model_module_version": "1.5.0",
     "model_name": "ProgressStyleModel",
     "state": {
      "_model_module": "@jupyter-widgets/controls",
      "_model_module_version": "1.5.0",
      "_model_name": "ProgressStyleModel",
      "_view_count": null,
      "_view_module": "@jupyter-widgets/base",
      "_view_module_version": "1.2.0",
      "_view_name": "StyleView",
      "bar_color": null,
      "description_width": ""
     }
    },
    "0b2f42f1462d4c7e8c474bbcdbd5148e": {
     "model_module": "@jupyter-widgets/base",
     "model_module_version": "1.2.0",
     "model_name": "LayoutModel",
     "state": {
      "_model_module": "@jupyter-widgets/base",
      "_model_module_version": "1.2.0",
      "_model_name": "LayoutModel",
      "_view_count": null,
      "_view_module": "@jupyter-widgets/base",
      "_view_module_version": "1.2.0",
      "_view_name": "LayoutView",
      "align_content": null,
      "align_items": null,
      "align_self": null,
      "border": null,
      "bottom": null,
      "display": null,
      "flex": null,
      "flex_flow": null,
      "grid_area": null,
      "grid_auto_columns": null,
      "grid_auto_flow": null,
      "grid_auto_rows": null,
      "grid_column": null,
      "grid_gap": null,
      "grid_row": null,
      "grid_template_areas": null,
      "grid_template_columns": null,
      "grid_template_rows": null,
      "height": null,
      "justify_content": null,
      "justify_items": null,
      "left": null,
      "margin": null,
      "max_height": null,
      "max_width": null,
      "min_height": null,
      "min_width": null,
      "object_fit": null,
      "object_position": null,
      "order": null,
      "overflow": null,
      "overflow_x": null,
      "overflow_y": null,
      "padding": null,
      "right": null,
      "top": null,
      "visibility": null,
      "width": null
     }
    },
    "0b35e4d5bf514eca80a305cd96b51e9f": {
     "model_module": "@jupyter-widgets/base",
     "model_module_version": "1.2.0",
     "model_name": "LayoutModel",
     "state": {
      "_model_module": "@jupyter-widgets/base",
      "_model_module_version": "1.2.0",
      "_model_name": "LayoutModel",
      "_view_count": null,
      "_view_module": "@jupyter-widgets/base",
      "_view_module_version": "1.2.0",
      "_view_name": "LayoutView",
      "align_content": null,
      "align_items": null,
      "align_self": null,
      "border": null,
      "bottom": null,
      "display": null,
      "flex": null,
      "flex_flow": null,
      "grid_area": null,
      "grid_auto_columns": null,
      "grid_auto_flow": null,
      "grid_auto_rows": null,
      "grid_column": null,
      "grid_gap": null,
      "grid_row": null,
      "grid_template_areas": null,
      "grid_template_columns": null,
      "grid_template_rows": null,
      "height": null,
      "justify_content": null,
      "justify_items": null,
      "left": null,
      "margin": null,
      "max_height": null,
      "max_width": null,
      "min_height": null,
      "min_width": null,
      "object_fit": null,
      "object_position": null,
      "order": null,
      "overflow": null,
      "overflow_x": null,
      "overflow_y": null,
      "padding": null,
      "right": null,
      "top": null,
      "visibility": null,
      "width": null
     }
    },
    "0d7d881a51064585a022290d866b6d8a": {
     "model_module": "@jupyter-widgets/base",
     "model_module_version": "1.2.0",
     "model_name": "LayoutModel",
     "state": {
      "_model_module": "@jupyter-widgets/base",
      "_model_module_version": "1.2.0",
      "_model_name": "LayoutModel",
      "_view_count": null,
      "_view_module": "@jupyter-widgets/base",
      "_view_module_version": "1.2.0",
      "_view_name": "LayoutView",
      "align_content": null,
      "align_items": null,
      "align_self": null,
      "border": null,
      "bottom": null,
      "display": null,
      "flex": null,
      "flex_flow": null,
      "grid_area": null,
      "grid_auto_columns": null,
      "grid_auto_flow": null,
      "grid_auto_rows": null,
      "grid_column": null,
      "grid_gap": null,
      "grid_row": null,
      "grid_template_areas": null,
      "grid_template_columns": null,
      "grid_template_rows": null,
      "height": null,
      "justify_content": null,
      "justify_items": null,
      "left": null,
      "margin": null,
      "max_height": null,
      "max_width": null,
      "min_height": null,
      "min_width": null,
      "object_fit": null,
      "object_position": null,
      "order": null,
      "overflow": null,
      "overflow_x": null,
      "overflow_y": null,
      "padding": null,
      "right": null,
      "top": null,
      "visibility": null,
      "width": null
     }
    },
    "0dd017e90a694127b0d0eb41f8c5f18b": {
     "model_module": "@jupyter-widgets/base",
     "model_module_version": "1.2.0",
     "model_name": "LayoutModel",
     "state": {
      "_model_module": "@jupyter-widgets/base",
      "_model_module_version": "1.2.0",
      "_model_name": "LayoutModel",
      "_view_count": null,
      "_view_module": "@jupyter-widgets/base",
      "_view_module_version": "1.2.0",
      "_view_name": "LayoutView",
      "align_content": null,
      "align_items": null,
      "align_self": null,
      "border": null,
      "bottom": null,
      "display": null,
      "flex": null,
      "flex_flow": null,
      "grid_area": null,
      "grid_auto_columns": null,
      "grid_auto_flow": null,
      "grid_auto_rows": null,
      "grid_column": null,
      "grid_gap": null,
      "grid_row": null,
      "grid_template_areas": null,
      "grid_template_columns": null,
      "grid_template_rows": null,
      "height": null,
      "justify_content": null,
      "justify_items": null,
      "left": null,
      "margin": null,
      "max_height": null,
      "max_width": null,
      "min_height": null,
      "min_width": null,
      "object_fit": null,
      "object_position": null,
      "order": null,
      "overflow": null,
      "overflow_x": null,
      "overflow_y": null,
      "padding": null,
      "right": null,
      "top": null,
      "visibility": null,
      "width": null
     }
    },
    "0f7a39497beb4abcbe8b4c90ee3f259a": {
     "model_module": "@jupyter-widgets/base",
     "model_module_version": "1.2.0",
     "model_name": "LayoutModel",
     "state": {
      "_model_module": "@jupyter-widgets/base",
      "_model_module_version": "1.2.0",
      "_model_name": "LayoutModel",
      "_view_count": null,
      "_view_module": "@jupyter-widgets/base",
      "_view_module_version": "1.2.0",
      "_view_name": "LayoutView",
      "align_content": null,
      "align_items": null,
      "align_self": null,
      "border": null,
      "bottom": null,
      "display": null,
      "flex": null,
      "flex_flow": null,
      "grid_area": null,
      "grid_auto_columns": null,
      "grid_auto_flow": null,
      "grid_auto_rows": null,
      "grid_column": null,
      "grid_gap": null,
      "grid_row": null,
      "grid_template_areas": null,
      "grid_template_columns": null,
      "grid_template_rows": null,
      "height": null,
      "justify_content": null,
      "justify_items": null,
      "left": null,
      "margin": null,
      "max_height": null,
      "max_width": null,
      "min_height": null,
      "min_width": null,
      "object_fit": null,
      "object_position": null,
      "order": null,
      "overflow": null,
      "overflow_x": null,
      "overflow_y": null,
      "padding": null,
      "right": null,
      "top": null,
      "visibility": null,
      "width": null
     }
    },
    "12f3f8e325cf49469912fb6a775586b4": {
     "model_module": "@jupyter-widgets/controls",
     "model_module_version": "1.5.0",
     "model_name": "DescriptionStyleModel",
     "state": {
      "_model_module": "@jupyter-widgets/controls",
      "_model_module_version": "1.5.0",
      "_model_name": "DescriptionStyleModel",
      "_view_count": null,
      "_view_module": "@jupyter-widgets/base",
      "_view_module_version": "1.2.0",
      "_view_name": "StyleView",
      "description_width": ""
     }
    },
    "14616b438a0f4307b5759c774c64822e": {
     "model_module": "@jupyter-widgets/base",
     "model_module_version": "1.2.0",
     "model_name": "LayoutModel",
     "state": {
      "_model_module": "@jupyter-widgets/base",
      "_model_module_version": "1.2.0",
      "_model_name": "LayoutModel",
      "_view_count": null,
      "_view_module": "@jupyter-widgets/base",
      "_view_module_version": "1.2.0",
      "_view_name": "LayoutView",
      "align_content": null,
      "align_items": null,
      "align_self": null,
      "border": null,
      "bottom": null,
      "display": null,
      "flex": null,
      "flex_flow": null,
      "grid_area": null,
      "grid_auto_columns": null,
      "grid_auto_flow": null,
      "grid_auto_rows": null,
      "grid_column": null,
      "grid_gap": null,
      "grid_row": null,
      "grid_template_areas": null,
      "grid_template_columns": null,
      "grid_template_rows": null,
      "height": null,
      "justify_content": null,
      "justify_items": null,
      "left": null,
      "margin": null,
      "max_height": null,
      "max_width": null,
      "min_height": null,
      "min_width": null,
      "object_fit": null,
      "object_position": null,
      "order": null,
      "overflow": null,
      "overflow_x": null,
      "overflow_y": null,
      "padding": null,
      "right": null,
      "top": null,
      "visibility": null,
      "width": null
     }
    },
    "148dc124721f41e99acf7713b3b33e47": {
     "model_module": "@jupyter-widgets/controls",
     "model_module_version": "1.5.0",
     "model_name": "HTMLModel",
     "state": {
      "_dom_classes": [],
      "_model_module": "@jupyter-widgets/controls",
      "_model_module_version": "1.5.0",
      "_model_name": "HTMLModel",
      "_view_count": null,
      "_view_module": "@jupyter-widgets/controls",
      "_view_module_version": "1.5.0",
      "_view_name": "HTMLView",
      "description": "",
      "description_tooltip": null,
      "layout": "IPY_MODEL_a21c492dd1264fe8a7f40cd9bfad2216",
      "placeholder": "​",
      "style": "IPY_MODEL_f5b663568eff43a5b0359912e1ebb0c6",
      "value": " 825/825 [00:00&lt;00:00, 4534.79 examples/s]"
     }
    },
    "15d1ffb89a704c448322b8b80e7c8f5b": {
     "model_module": "@jupyter-widgets/controls",
     "model_module_version": "1.5.0",
     "model_name": "FloatProgressModel",
     "state": {
      "_dom_classes": [],
      "_model_module": "@jupyter-widgets/controls",
      "_model_module_version": "1.5.0",
      "_model_name": "FloatProgressModel",
      "_view_count": null,
      "_view_module": "@jupyter-widgets/controls",
      "_view_module_version": "1.5.0",
      "_view_name": "ProgressView",
      "bar_style": "success",
      "description": "",
      "description_tooltip": null,
      "layout": "IPY_MODEL_a6b11615c95541eba48c0860c3563416",
      "max": 825,
      "min": 0,
      "orientation": "horizontal",
      "style": "IPY_MODEL_e94cb5400dba42eab5d1278ed20de0b4",
      "value": 825
     }
    },
    "186946adcead4e7fb86f2b5986212e14": {
     "model_module": "@jupyter-widgets/controls",
     "model_module_version": "1.5.0",
     "model_name": "FloatProgressModel",
     "state": {
      "_dom_classes": [],
      "_model_module": "@jupyter-widgets/controls",
      "_model_module_version": "1.5.0",
      "_model_name": "FloatProgressModel",
      "_view_count": null,
      "_view_module": "@jupyter-widgets/controls",
      "_view_module_version": "1.5.0",
      "_view_name": "ProgressView",
      "bar_style": "success",
      "description": "",
      "description_tooltip": null,
      "layout": "IPY_MODEL_852df5dd00e0445c8cb6dde81c2f4009",
      "max": 825,
      "min": 0,
      "orientation": "horizontal",
      "style": "IPY_MODEL_08e0db3ea6324f948820c7cdfe968076",
      "value": 825
     }
    },
    "1935f19beb1b4b9980a6f858b9ed4292": {
     "model_module": "@jupyter-widgets/controls",
     "model_module_version": "1.5.0",
     "model_name": "DescriptionStyleModel",
     "state": {
      "_model_module": "@jupyter-widgets/controls",
      "_model_module_version": "1.5.0",
      "_model_name": "DescriptionStyleModel",
      "_view_count": null,
      "_view_module": "@jupyter-widgets/base",
      "_view_module_version": "1.2.0",
      "_view_name": "StyleView",
      "description_width": ""
     }
    },
    "1d5f1783c0b14f0b868588e3c93c7ac9": {
     "model_module": "@jupyter-widgets/base",
     "model_module_version": "1.2.0",
     "model_name": "LayoutModel",
     "state": {
      "_model_module": "@jupyter-widgets/base",
      "_model_module_version": "1.2.0",
      "_model_name": "LayoutModel",
      "_view_count": null,
      "_view_module": "@jupyter-widgets/base",
      "_view_module_version": "1.2.0",
      "_view_name": "LayoutView",
      "align_content": null,
      "align_items": null,
      "align_self": null,
      "border": null,
      "bottom": null,
      "display": null,
      "flex": null,
      "flex_flow": null,
      "grid_area": null,
      "grid_auto_columns": null,
      "grid_auto_flow": null,
      "grid_auto_rows": null,
      "grid_column": null,
      "grid_gap": null,
      "grid_row": null,
      "grid_template_areas": null,
      "grid_template_columns": null,
      "grid_template_rows": null,
      "height": null,
      "justify_content": null,
      "justify_items": null,
      "left": null,
      "margin": null,
      "max_height": null,
      "max_width": null,
      "min_height": null,
      "min_width": null,
      "object_fit": null,
      "object_position": null,
      "order": null,
      "overflow": null,
      "overflow_x": null,
      "overflow_y": null,
      "padding": null,
      "right": null,
      "top": null,
      "visibility": null,
      "width": null
     }
    },
    "1d94761aabde4c26b9181a77a8d1d9ce": {
     "model_module": "@jupyter-widgets/controls",
     "model_module_version": "1.5.0",
     "model_name": "FloatProgressModel",
     "state": {
      "_dom_classes": [],
      "_model_module": "@jupyter-widgets/controls",
      "_model_module_version": "1.5.0",
      "_model_name": "FloatProgressModel",
      "_view_count": null,
      "_view_module": "@jupyter-widgets/controls",
      "_view_module_version": "1.5.0",
      "_view_name": "ProgressView",
      "bar_style": "success",
      "description": "",
      "description_tooltip": null,
      "layout": "IPY_MODEL_e907208de5424864bb617185dfa15b7e",
      "max": 58,
      "min": 0,
      "orientation": "horizontal",
      "style": "IPY_MODEL_af422f9a2e4447479814dd3ddce5a941",
      "value": 58
     }
    },
    "1f2c0feb6dca40a9b099707e6a8d5bc4": {
     "model_module": "@jupyter-widgets/base",
     "model_module_version": "1.2.0",
     "model_name": "LayoutModel",
     "state": {
      "_model_module": "@jupyter-widgets/base",
      "_model_module_version": "1.2.0",
      "_model_name": "LayoutModel",
      "_view_count": null,
      "_view_module": "@jupyter-widgets/base",
      "_view_module_version": "1.2.0",
      "_view_name": "LayoutView",
      "align_content": null,
      "align_items": null,
      "align_self": null,
      "border": null,
      "bottom": null,
      "display": null,
      "flex": null,
      "flex_flow": null,
      "grid_area": null,
      "grid_auto_columns": null,
      "grid_auto_flow": null,
      "grid_auto_rows": null,
      "grid_column": null,
      "grid_gap": null,
      "grid_row": null,
      "grid_template_areas": null,
      "grid_template_columns": null,
      "grid_template_rows": null,
      "height": null,
      "justify_content": null,
      "justify_items": null,
      "left": null,
      "margin": null,
      "max_height": null,
      "max_width": null,
      "min_height": null,
      "min_width": null,
      "object_fit": null,
      "object_position": null,
      "order": null,
      "overflow": null,
      "overflow_x": null,
      "overflow_y": null,
      "padding": null,
      "right": null,
      "top": null,
      "visibility": null,
      "width": null
     }
    },
    "1fe6a2cac3f8455abceaca9abf1ef483": {
     "model_module": "@jupyter-widgets/controls",
     "model_module_version": "1.5.0",
     "model_name": "HTMLModel",
     "state": {
      "_dom_classes": [],
      "_model_module": "@jupyter-widgets/controls",
      "_model_module_version": "1.5.0",
      "_model_name": "HTMLModel",
      "_view_count": null,
      "_view_module": "@jupyter-widgets/controls",
      "_view_module_version": "1.5.0",
      "_view_name": "HTMLView",
      "description": "",
      "description_tooltip": null,
      "layout": "IPY_MODEL_9a4e2c0911a9486e85f29dbf0c38fa85",
      "placeholder": "​",
      "style": "IPY_MODEL_3872064d13f6402993687e81dc82a473",
      "value": " 1.46G/1.46G [00:34&lt;00:00, 42.4MB/s]"
     }
    },
    "218066a8953c4127b79e39e3334eca6e": {
     "model_module": "@jupyter-widgets/base",
     "model_module_version": "1.2.0",
     "model_name": "LayoutModel",
     "state": {
      "_model_module": "@jupyter-widgets/base",
      "_model_module_version": "1.2.0",
      "_model_name": "LayoutModel",
      "_view_count": null,
      "_view_module": "@jupyter-widgets/base",
      "_view_module_version": "1.2.0",
      "_view_name": "LayoutView",
      "align_content": null,
      "align_items": null,
      "align_self": null,
      "border": null,
      "bottom": null,
      "display": null,
      "flex": null,
      "flex_flow": null,
      "grid_area": null,
      "grid_auto_columns": null,
      "grid_auto_flow": null,
      "grid_auto_rows": null,
      "grid_column": null,
      "grid_gap": null,
      "grid_row": null,
      "grid_template_areas": null,
      "grid_template_columns": null,
      "grid_template_rows": null,
      "height": null,
      "justify_content": null,
      "justify_items": null,
      "left": null,
      "margin": null,
      "max_height": null,
      "max_width": null,
      "min_height": null,
      "min_width": null,
      "object_fit": null,
      "object_position": null,
      "order": null,
      "overflow": null,
      "overflow_x": null,
      "overflow_y": null,
      "padding": null,
      "right": null,
      "top": null,
      "visibility": null,
      "width": null
     }
    },
    "231e1c4033de4bdb8ba4377f31bc6139": {
     "model_module": "@jupyter-widgets/controls",
     "model_module_version": "1.5.0",
     "model_name": "HBoxModel",
     "state": {
      "_dom_classes": [],
      "_model_module": "@jupyter-widgets/controls",
      "_model_module_version": "1.5.0",
      "_model_name": "HBoxModel",
      "_view_count": null,
      "_view_module": "@jupyter-widgets/controls",
      "_view_module_version": "1.5.0",
      "_view_name": "HBoxView",
      "box_style": "",
      "children": [
       "IPY_MODEL_e865493f92764ad8a67305bbd19f64d5",
       "IPY_MODEL_9502cc6e891548dc8e884741578b530d",
       "IPY_MODEL_043b9b79336e4d07a1cb68f57f8914d4"
      ],
      "layout": "IPY_MODEL_51c710be3b974821a01bb74979d3477b"
     }
    },
    "2358c7c432df4efb9dc81e06099817b7": {
     "model_module": "@jupyter-widgets/controls",
     "model_module_version": "1.5.0",
     "model_name": "HBoxModel",
     "state": {
      "_dom_classes": [],
      "_model_module": "@jupyter-widgets/controls",
      "_model_module_version": "1.5.0",
      "_model_name": "HBoxModel",
      "_view_count": null,
      "_view_module": "@jupyter-widgets/controls",
      "_view_module_version": "1.5.0",
      "_view_name": "HBoxView",
      "box_style": "",
      "children": [
       "IPY_MODEL_74e9810f066347f99dd45cf4074a158c",
       "IPY_MODEL_4bd3af597fbf4c938aa20b69e5aba5d4",
       "IPY_MODEL_fd10133999704a5c8775fef958c4bda8"
      ],
      "layout": "IPY_MODEL_6b24263b81554c29af9d685b0bea4a41"
     }
    },
    "241e11bf87c348cea4da3c05dcdfe4eb": {
     "model_module": "@jupyter-widgets/controls",
     "model_module_version": "1.5.0",
     "model_name": "HTMLModel",
     "state": {
      "_dom_classes": [],
      "_model_module": "@jupyter-widgets/controls",
      "_model_module_version": "1.5.0",
      "_model_name": "HTMLModel",
      "_view_count": null,
      "_view_module": "@jupyter-widgets/controls",
      "_view_module_version": "1.5.0",
      "_view_name": "HTMLView",
      "description": "",
      "description_tooltip": null,
      "layout": "IPY_MODEL_7aaa29fc64374d4d84aa341f6f05352e",
      "placeholder": "​",
      "style": "IPY_MODEL_cd02757692514e8f8ad688a5403da721",
      "value": " 58.0/58.0 [00:00&lt;00:00, 4.02kB/s]"
     }
    },
    "2649be649d78415c9dd3710067f956e0": {
     "model_module": "@jupyter-widgets/controls",
     "model_module_version": "1.5.0",
     "model_name": "DescriptionStyleModel",
     "state": {
      "_model_module": "@jupyter-widgets/controls",
      "_model_module_version": "1.5.0",
      "_model_name": "DescriptionStyleModel",
      "_view_count": null,
      "_view_module": "@jupyter-widgets/base",
      "_view_module_version": "1.2.0",
      "_view_name": "StyleView",
      "description_width": ""
     }
    },
    "27ea55a574f24a22bc8172ec749e4c70": {
     "model_module": "@jupyter-widgets/controls",
     "model_module_version": "1.5.0",
     "model_name": "DescriptionStyleModel",
     "state": {
      "_model_module": "@jupyter-widgets/controls",
      "_model_module_version": "1.5.0",
      "_model_name": "DescriptionStyleModel",
      "_view_count": null,
      "_view_module": "@jupyter-widgets/base",
      "_view_module_version": "1.2.0",
      "_view_name": "StyleView",
      "description_width": ""
     }
    },
    "28f1e50c76574c7d94e1d77051649cdd": {
     "model_module": "@jupyter-widgets/controls",
     "model_module_version": "1.5.0",
     "model_name": "HTMLModel",
     "state": {
      "_dom_classes": [],
      "_model_module": "@jupyter-widgets/controls",
      "_model_module_version": "1.5.0",
      "_model_name": "HTMLModel",
      "_view_count": null,
      "_view_module": "@jupyter-widgets/controls",
      "_view_module_version": "1.5.0",
      "_view_name": "HTMLView",
      "description": "",
      "description_tooltip": null,
      "layout": "IPY_MODEL_eca4aef07dc04a61b91eac64776fb10c",
      "placeholder": "​",
      "style": "IPY_MODEL_f25faef5919d4036a3aa0a6ce5ea06d2",
      "value": "pytorch_model.bin.index.json: 100%"
     }
    },
    "2b0313ac80844450ac0fa958d2edf01b": {
     "model_module": "@jupyter-widgets/controls",
     "model_module_version": "1.5.0",
     "model_name": "HBoxModel",
     "state": {
      "_dom_classes": [],
      "_model_module": "@jupyter-widgets/controls",
      "_model_module_version": "1.5.0",
      "_model_name": "HBoxModel",
      "_view_count": null,
      "_view_module": "@jupyter-widgets/controls",
      "_view_module_version": "1.5.0",
      "_view_name": "HBoxView",
      "box_style": "",
      "children": [
       "IPY_MODEL_28f1e50c76574c7d94e1d77051649cdd",
       "IPY_MODEL_af21f1bdd3cc483cb2a4cc0f3e33253e",
       "IPY_MODEL_751b33b39f614cc3a878e8763095161e"
      ],
      "layout": "IPY_MODEL_65346eb83fcc4e528c455b9f5f908e86"
     }
    },
    "2e84cc3c1e064f86bf4460042d33b42c": {
     "model_module": "@jupyter-widgets/controls",
     "model_module_version": "1.5.0",
     "model_name": "HTMLModel",
     "state": {
      "_dom_classes": [],
      "_model_module": "@jupyter-widgets/controls",
      "_model_module_version": "1.5.0",
      "_model_name": "HTMLModel",
      "_view_count": null,
      "_view_module": "@jupyter-widgets/controls",
      "_view_module_version": "1.5.0",
      "_view_name": "HTMLView",
      "description": "",
      "description_tooltip": null,
      "layout": "IPY_MODEL_8bea8b637cc2477bbbcf36d4fe8a25c4",
      "placeholder": "​",
      "style": "IPY_MODEL_709d1e5de15b40108702fff508ecba81",
      "value": " 2/2 [02:33&lt;00:00, 69.22s/it]"
     }
    },
    "2fde30e24cde4afbac578410ed8b36a8": {
     "model_module": "@jupyter-widgets/controls",
     "model_module_version": "1.5.0",
     "model_name": "HTMLModel",
     "state": {
      "_dom_classes": [],
      "_model_module": "@jupyter-widgets/controls",
      "_model_module_version": "1.5.0",
      "_model_name": "HTMLModel",
      "_view_count": null,
      "_view_module": "@jupyter-widgets/controls",
      "_view_module_version": "1.5.0",
      "_view_name": "HTMLView",
      "description": "",
      "description_tooltip": null,
      "layout": "IPY_MODEL_0352e13773ea4fc4a3284904c420761c",
      "placeholder": "​",
      "style": "IPY_MODEL_b140f2f913c44722892d403a6cd33dd8",
      "value": " 9.09M/9.09M [00:00&lt;00:00, 17.8MB/s]"
     }
    },
    "322b7bb1c9d74007963968230f2f2319": {
     "model_module": "@jupyter-widgets/base",
     "model_module_version": "1.2.0",
     "model_name": "LayoutModel",
     "state": {
      "_model_module": "@jupyter-widgets/base",
      "_model_module_version": "1.2.0",
      "_model_name": "LayoutModel",
      "_view_count": null,
      "_view_module": "@jupyter-widgets/base",
      "_view_module_version": "1.2.0",
      "_view_name": "LayoutView",
      "align_content": null,
      "align_items": null,
      "align_self": null,
      "border": null,
      "bottom": null,
      "display": null,
      "flex": null,
      "flex_flow": null,
      "grid_area": null,
      "grid_auto_columns": null,
      "grid_auto_flow": null,
      "grid_auto_rows": null,
      "grid_column": null,
      "grid_gap": null,
      "grid_row": null,
      "grid_template_areas": null,
      "grid_template_columns": null,
      "grid_template_rows": null,
      "height": null,
      "justify_content": null,
      "justify_items": null,
      "left": null,
      "margin": null,
      "max_height": null,
      "max_width": null,
      "min_height": null,
      "min_width": null,
      "object_fit": null,
      "object_position": null,
      "order": null,
      "overflow": null,
      "overflow_x": null,
      "overflow_y": null,
      "padding": null,
      "right": null,
      "top": null,
      "visibility": null,
      "width": null
     }
    },
    "3320e24b58dd4750bb4c7d9033f11fe4": {
     "model_module": "@jupyter-widgets/base",
     "model_module_version": "1.2.0",
     "model_name": "LayoutModel",
     "state": {
      "_model_module": "@jupyter-widgets/base",
      "_model_module_version": "1.2.0",
      "_model_name": "LayoutModel",
      "_view_count": null,
      "_view_module": "@jupyter-widgets/base",
      "_view_module_version": "1.2.0",
      "_view_name": "LayoutView",
      "align_content": null,
      "align_items": null,
      "align_self": null,
      "border": null,
      "bottom": null,
      "display": null,
      "flex": null,
      "flex_flow": null,
      "grid_area": null,
      "grid_auto_columns": null,
      "grid_auto_flow": null,
      "grid_auto_rows": null,
      "grid_column": null,
      "grid_gap": null,
      "grid_row": null,
      "grid_template_areas": null,
      "grid_template_columns": null,
      "grid_template_rows": null,
      "height": null,
      "justify_content": null,
      "justify_items": null,
      "left": null,
      "margin": null,
      "max_height": null,
      "max_width": null,
      "min_height": null,
      "min_width": null,
      "object_fit": null,
      "object_position": null,
      "order": null,
      "overflow": null,
      "overflow_x": null,
      "overflow_y": null,
      "padding": null,
      "right": null,
      "top": null,
      "visibility": null,
      "width": null
     }
    },
    "3575f4d17f874cbfa9fc52f8de43005c": {
     "model_module": "@jupyter-widgets/base",
     "model_module_version": "1.2.0",
     "model_name": "LayoutModel",
     "state": {
      "_model_module": "@jupyter-widgets/base",
      "_model_module_version": "1.2.0",
      "_model_name": "LayoutModel",
      "_view_count": null,
      "_view_module": "@jupyter-widgets/base",
      "_view_module_version": "1.2.0",
      "_view_name": "LayoutView",
      "align_content": null,
      "align_items": null,
      "align_self": null,
      "border": null,
      "bottom": null,
      "display": null,
      "flex": null,
      "flex_flow": null,
      "grid_area": null,
      "grid_auto_columns": null,
      "grid_auto_flow": null,
      "grid_auto_rows": null,
      "grid_column": null,
      "grid_gap": null,
      "grid_row": null,
      "grid_template_areas": null,
      "grid_template_columns": null,
      "grid_template_rows": null,
      "height": null,
      "justify_content": null,
      "justify_items": null,
      "left": null,
      "margin": null,
      "max_height": null,
      "max_width": null,
      "min_height": null,
      "min_width": null,
      "object_fit": null,
      "object_position": null,
      "order": null,
      "overflow": null,
      "overflow_x": null,
      "overflow_y": null,
      "padding": null,
      "right": null,
      "top": null,
      "visibility": null,
      "width": null
     }
    },
    "3872064d13f6402993687e81dc82a473": {
     "model_module": "@jupyter-widgets/controls",
     "model_module_version": "1.5.0",
     "model_name": "DescriptionStyleModel",
     "state": {
      "_model_module": "@jupyter-widgets/controls",
      "_model_module_version": "1.5.0",
      "_model_name": "DescriptionStyleModel",
      "_view_count": null,
      "_view_module": "@jupyter-widgets/base",
      "_view_module_version": "1.2.0",
      "_view_name": "StyleView",
      "description_width": ""
     }
    },
    "3dc23b647a904bd7aed7453a84de18b0": {
     "model_module": "@jupyter-widgets/controls",
     "model_module_version": "1.5.0",
     "model_name": "FloatProgressModel",
     "state": {
      "_dom_classes": [],
      "_model_module": "@jupyter-widgets/controls",
      "_model_module_version": "1.5.0",
      "_model_name": "FloatProgressModel",
      "_view_count": null,
      "_view_module": "@jupyter-widgets/controls",
      "_view_module_version": "1.5.0",
      "_view_name": "ProgressView",
      "bar_style": "success",
      "description": "",
      "description_tooltip": null,
      "layout": "IPY_MODEL_e6288d7bf2cb4464938cb70d0408bc13",
      "max": 825,
      "min": 0,
      "orientation": "horizontal",
      "style": "IPY_MODEL_a58e86e8ad7e40e7bc15dae4a49ed96d",
      "value": 825
     }
    },
    "3e30bb4b98e34eabbbba29841a23bc50": {
     "model_module": "@jupyter-widgets/base",
     "model_module_version": "1.2.0",
     "model_name": "LayoutModel",
     "state": {
      "_model_module": "@jupyter-widgets/base",
      "_model_module_version": "1.2.0",
      "_model_name": "LayoutModel",
      "_view_count": null,
      "_view_module": "@jupyter-widgets/base",
      "_view_module_version": "1.2.0",
      "_view_name": "LayoutView",
      "align_content": null,
      "align_items": null,
      "align_self": null,
      "border": null,
      "bottom": null,
      "display": null,
      "flex": null,
      "flex_flow": null,
      "grid_area": null,
      "grid_auto_columns": null,
      "grid_auto_flow": null,
      "grid_auto_rows": null,
      "grid_column": null,
      "grid_gap": null,
      "grid_row": null,
      "grid_template_areas": null,
      "grid_template_columns": null,
      "grid_template_rows": null,
      "height": null,
      "justify_content": null,
      "justify_items": null,
      "left": null,
      "margin": null,
      "max_height": null,
      "max_width": null,
      "min_height": null,
      "min_width": null,
      "object_fit": null,
      "object_position": null,
      "order": null,
      "overflow": null,
      "overflow_x": null,
      "overflow_y": null,
      "padding": null,
      "right": null,
      "top": null,
      "visibility": null,
      "width": null
     }
    },
    "3e785fb3843e4f269a2ff04cbce351d8": {
     "model_module": "@jupyter-widgets/base",
     "model_module_version": "1.2.0",
     "model_name": "LayoutModel",
     "state": {
      "_model_module": "@jupyter-widgets/base",
      "_model_module_version": "1.2.0",
      "_model_name": "LayoutModel",
      "_view_count": null,
      "_view_module": "@jupyter-widgets/base",
      "_view_module_version": "1.2.0",
      "_view_name": "LayoutView",
      "align_content": null,
      "align_items": null,
      "align_self": null,
      "border": null,
      "bottom": null,
      "display": null,
      "flex": null,
      "flex_flow": null,
      "grid_area": null,
      "grid_auto_columns": null,
      "grid_auto_flow": null,
      "grid_auto_rows": null,
      "grid_column": null,
      "grid_gap": null,
      "grid_row": null,
      "grid_template_areas": null,
      "grid_template_columns": null,
      "grid_template_rows": null,
      "height": null,
      "justify_content": null,
      "justify_items": null,
      "left": null,
      "margin": null,
      "max_height": null,
      "max_width": null,
      "min_height": null,
      "min_width": null,
      "object_fit": null,
      "object_position": null,
      "order": null,
      "overflow": null,
      "overflow_x": null,
      "overflow_y": null,
      "padding": null,
      "right": null,
      "top": null,
      "visibility": null,
      "width": null
     }
    },
    "3ff337f4aa1e4257b182a4912969d592": {
     "model_module": "@jupyter-widgets/controls",
     "model_module_version": "1.5.0",
     "model_name": "HTMLModel",
     "state": {
      "_dom_classes": [],
      "_model_module": "@jupyter-widgets/controls",
      "_model_module_version": "1.5.0",
      "_model_name": "HTMLModel",
      "_view_count": null,
      "_view_module": "@jupyter-widgets/controls",
      "_view_module_version": "1.5.0",
      "_view_name": "HTMLView",
      "description": "",
      "description_tooltip": null,
      "layout": "IPY_MODEL_90c994faa6d34a54b0e08f071b9b4e53",
      "placeholder": "​",
      "style": "IPY_MODEL_85acd6640ad14b6195019187929c95c4",
      "value": "tokenizer.json: 100%"
     }
    },
    "41a15b26d94b4b7e840beb2467284b5d": {
     "model_module": "@jupyter-widgets/controls",
     "model_module_version": "1.5.0",
     "model_name": "FloatProgressModel",
     "state": {
      "_dom_classes": [],
      "_model_module": "@jupyter-widgets/controls",
      "_model_module_version": "1.5.0",
      "_model_name": "FloatProgressModel",
      "_view_count": null,
      "_view_module": "@jupyter-widgets/controls",
      "_view_module_version": "1.5.0",
      "_view_name": "ProgressView",
      "bar_style": "success",
      "description": "",
      "description_tooltip": null,
      "layout": "IPY_MODEL_ec142cc682d64d9a9e119af04b1f4022",
      "max": 1459744197,
      "min": 0,
      "orientation": "horizontal",
      "style": "IPY_MODEL_824a7af93f38471d8e70e8a1af604140",
      "value": 1459744197
     }
    },
    "430edd4df51f475fbaa858241b96cc76": {
     "model_module": "@jupyter-widgets/base",
     "model_module_version": "1.2.0",
     "model_name": "LayoutModel",
     "state": {
      "_model_module": "@jupyter-widgets/base",
      "_model_module_version": "1.2.0",
      "_model_name": "LayoutModel",
      "_view_count": null,
      "_view_module": "@jupyter-widgets/base",
      "_view_module_version": "1.2.0",
      "_view_name": "LayoutView",
      "align_content": null,
      "align_items": null,
      "align_self": null,
      "border": null,
      "bottom": null,
      "display": null,
      "flex": null,
      "flex_flow": null,
      "grid_area": null,
      "grid_auto_columns": null,
      "grid_auto_flow": null,
      "grid_auto_rows": null,
      "grid_column": null,
      "grid_gap": null,
      "grid_row": null,
      "grid_template_areas": null,
      "grid_template_columns": null,
      "grid_template_rows": null,
      "height": null,
      "justify_content": null,
      "justify_items": null,
      "left": null,
      "margin": null,
      "max_height": null,
      "max_width": null,
      "min_height": null,
      "min_width": null,
      "object_fit": null,
      "object_position": null,
      "order": null,
      "overflow": null,
      "overflow_x": null,
      "overflow_y": null,
      "padding": null,
      "right": null,
      "top": null,
      "visibility": null,
      "width": null
     }
    },
    "4964bbc762ac462ea5a549d145ef1138": {
     "model_module": "@jupyter-widgets/controls",
     "model_module_version": "1.5.0",
     "model_name": "DescriptionStyleModel",
     "state": {
      "_model_module": "@jupyter-widgets/controls",
      "_model_module_version": "1.5.0",
      "_model_name": "DescriptionStyleModel",
      "_view_count": null,
      "_view_module": "@jupyter-widgets/base",
      "_view_module_version": "1.2.0",
      "_view_name": "StyleView",
      "description_width": ""
     }
    },
    "4bd3af597fbf4c938aa20b69e5aba5d4": {
     "model_module": "@jupyter-widgets/controls",
     "model_module_version": "1.5.0",
     "model_name": "FloatProgressModel",
     "state": {
      "_dom_classes": [],
      "_model_module": "@jupyter-widgets/controls",
      "_model_module_version": "1.5.0",
      "_model_name": "FloatProgressModel",
      "_view_count": null,
      "_view_module": "@jupyter-widgets/controls",
      "_view_module_version": "1.5.0",
      "_view_name": "ProgressView",
      "bar_style": "success",
      "description": "",
      "description_tooltip": null,
      "layout": "IPY_MODEL_1d5f1783c0b14f0b868588e3c93c7ac9",
      "max": 296,
      "min": 0,
      "orientation": "horizontal",
      "style": "IPY_MODEL_6d865d39309a491e917f21539e4b0a78",
      "value": 296
     }
    },
    "4d0cbeb2b10a436a8e40d56822faa5a9": {
     "model_module": "@jupyter-widgets/base",
     "model_module_version": "1.2.0",
     "model_name": "LayoutModel",
     "state": {
      "_model_module": "@jupyter-widgets/base",
      "_model_module_version": "1.2.0",
      "_model_name": "LayoutModel",
      "_view_count": null,
      "_view_module": "@jupyter-widgets/base",
      "_view_module_version": "1.2.0",
      "_view_name": "LayoutView",
      "align_content": null,
      "align_items": null,
      "align_self": null,
      "border": null,
      "bottom": null,
      "display": null,
      "flex": null,
      "flex_flow": null,
      "grid_area": null,
      "grid_auto_columns": null,
      "grid_auto_flow": null,
      "grid_auto_rows": null,
      "grid_column": null,
      "grid_gap": null,
      "grid_row": null,
      "grid_template_areas": null,
      "grid_template_columns": null,
      "grid_template_rows": null,
      "height": null,
      "justify_content": null,
      "justify_items": null,
      "left": null,
      "margin": null,
      "max_height": null,
      "max_width": null,
      "min_height": null,
      "min_width": null,
      "object_fit": null,
      "object_position": null,
      "order": null,
      "overflow": null,
      "overflow_x": null,
      "overflow_y": null,
      "padding": null,
      "right": null,
      "top": null,
      "visibility": null,
      "width": null
     }
    },
    "4d6ce9c5fdab458eb621a3171e9fc634": {
     "model_module": "@jupyter-widgets/controls",
     "model_module_version": "1.5.0",
     "model_name": "HTMLModel",
     "state": {
      "_dom_classes": [],
      "_model_module": "@jupyter-widgets/controls",
      "_model_module_version": "1.5.0",
      "_model_name": "HTMLModel",
      "_view_count": null,
      "_view_module": "@jupyter-widgets/controls",
      "_view_module_version": "1.5.0",
      "_view_name": "HTMLView",
      "description": "",
      "description_tooltip": null,
      "layout": "IPY_MODEL_322b7bb1c9d74007963968230f2f2319",
      "placeholder": "​",
      "style": "IPY_MODEL_017199c21d1f4b7086e44f6f0957a7ac",
      "value": "README.md: 100%"
     }
    },
    "4dde0c5f270b4f0dacf1276536aa3785": {
     "model_module": "@jupyter-widgets/base",
     "model_module_version": "1.2.0",
     "model_name": "LayoutModel",
     "state": {
      "_model_module": "@jupyter-widgets/base",
      "_model_module_version": "1.2.0",
      "_model_name": "LayoutModel",
      "_view_count": null,
      "_view_module": "@jupyter-widgets/base",
      "_view_module_version": "1.2.0",
      "_view_name": "LayoutView",
      "align_content": null,
      "align_items": null,
      "align_self": null,
      "border": null,
      "bottom": null,
      "display": null,
      "flex": null,
      "flex_flow": null,
      "grid_area": null,
      "grid_auto_columns": null,
      "grid_auto_flow": null,
      "grid_auto_rows": null,
      "grid_column": null,
      "grid_gap": null,
      "grid_row": null,
      "grid_template_areas": null,
      "grid_template_columns": null,
      "grid_template_rows": null,
      "height": null,
      "justify_content": null,
      "justify_items": null,
      "left": null,
      "margin": null,
      "max_height": null,
      "max_width": null,
      "min_height": null,
      "min_width": null,
      "object_fit": null,
      "object_position": null,
      "order": null,
      "overflow": null,
      "overflow_x": null,
      "overflow_y": null,
      "padding": null,
      "right": null,
      "top": null,
      "visibility": null,
      "width": null
     }
    },
    "504b1ec3ca5d4f308130866888cdab4d": {
     "model_module": "@jupyter-widgets/base",
     "model_module_version": "1.2.0",
     "model_name": "LayoutModel",
     "state": {
      "_model_module": "@jupyter-widgets/base",
      "_model_module_version": "1.2.0",
      "_model_name": "LayoutModel",
      "_view_count": null,
      "_view_module": "@jupyter-widgets/base",
      "_view_module_version": "1.2.0",
      "_view_name": "LayoutView",
      "align_content": null,
      "align_items": null,
      "align_self": null,
      "border": null,
      "bottom": null,
      "display": null,
      "flex": null,
      "flex_flow": null,
      "grid_area": null,
      "grid_auto_columns": null,
      "grid_auto_flow": null,
      "grid_auto_rows": null,
      "grid_column": null,
      "grid_gap": null,
      "grid_row": null,
      "grid_template_areas": null,
      "grid_template_columns": null,
      "grid_template_rows": null,
      "height": null,
      "justify_content": null,
      "justify_items": null,
      "left": null,
      "margin": null,
      "max_height": null,
      "max_width": null,
      "min_height": null,
      "min_width": null,
      "object_fit": null,
      "object_position": null,
      "order": null,
      "overflow": null,
      "overflow_x": null,
      "overflow_y": null,
      "padding": null,
      "right": null,
      "top": null,
      "visibility": null,
      "width": null
     }
    },
    "51c710be3b974821a01bb74979d3477b": {
     "model_module": "@jupyter-widgets/base",
     "model_module_version": "1.2.0",
     "model_name": "LayoutModel",
     "state": {
      "_model_module": "@jupyter-widgets/base",
      "_model_module_version": "1.2.0",
      "_model_name": "LayoutModel",
      "_view_count": null,
      "_view_module": "@jupyter-widgets/base",
      "_view_module_version": "1.2.0",
      "_view_name": "LayoutView",
      "align_content": null,
      "align_items": null,
      "align_self": null,
      "border": null,
      "bottom": null,
      "display": null,
      "flex": null,
      "flex_flow": null,
      "grid_area": null,
      "grid_auto_columns": null,
      "grid_auto_flow": null,
      "grid_auto_rows": null,
      "grid_column": null,
      "grid_gap": null,
      "grid_row": null,
      "grid_template_areas": null,
      "grid_template_columns": null,
      "grid_template_rows": null,
      "height": null,
      "justify_content": null,
      "justify_items": null,
      "left": null,
      "margin": null,
      "max_height": null,
      "max_width": null,
      "min_height": null,
      "min_width": null,
      "object_fit": null,
      "object_position": null,
      "order": null,
      "overflow": null,
      "overflow_x": null,
      "overflow_y": null,
      "padding": null,
      "right": null,
      "top": null,
      "visibility": null,
      "width": null
     }
    },
    "5392ad072766427586ff0ca50c1f7d1b": {
     "model_module": "@jupyter-widgets/base",
     "model_module_version": "1.2.0",
     "model_name": "LayoutModel",
     "state": {
      "_model_module": "@jupyter-widgets/base",
      "_model_module_version": "1.2.0",
      "_model_name": "LayoutModel",
      "_view_count": null,
      "_view_module": "@jupyter-widgets/base",
      "_view_module_version": "1.2.0",
      "_view_name": "LayoutView",
      "align_content": null,
      "align_items": null,
      "align_self": null,
      "border": null,
      "bottom": null,
      "display": null,
      "flex": null,
      "flex_flow": null,
      "grid_area": null,
      "grid_auto_columns": null,
      "grid_auto_flow": null,
      "grid_auto_rows": null,
      "grid_column": null,
      "grid_gap": null,
      "grid_row": null,
      "grid_template_areas": null,
      "grid_template_columns": null,
      "grid_template_rows": null,
      "height": null,
      "justify_content": null,
      "justify_items": null,
      "left": null,
      "margin": null,
      "max_height": null,
      "max_width": null,
      "min_height": null,
      "min_width": null,
      "object_fit": null,
      "object_position": null,
      "order": null,
      "overflow": null,
      "overflow_x": null,
      "overflow_y": null,
      "padding": null,
      "right": null,
      "top": null,
      "visibility": null,
      "width": null
     }
    },
    "553cff7b5fec482799a2a7858707b1fb": {
     "model_module": "@jupyter-widgets/controls",
     "model_module_version": "1.5.0",
     "model_name": "HTMLModel",
     "state": {
      "_dom_classes": [],
      "_model_module": "@jupyter-widgets/controls",
      "_model_module_version": "1.5.0",
      "_model_name": "HTMLModel",
      "_view_count": null,
      "_view_module": "@jupyter-widgets/controls",
      "_view_module_version": "1.5.0",
      "_view_name": "HTMLView",
      "description": "",
      "description_tooltip": null,
      "layout": "IPY_MODEL_6687946749f94182835868d6f3d400e6",
      "placeholder": "​",
      "style": "IPY_MODEL_de028751e07e44b58bf6eb248d8d1220",
      "value": " 2/2 [00:35&lt;00:00, 16.14s/it]"
     }
    },
    "5bb292a2226a412392ef1d8651afe928": {
     "model_module": "@jupyter-widgets/controls",
     "model_module_version": "1.5.0",
     "model_name": "DescriptionStyleModel",
     "state": {
      "_model_module": "@jupyter-widgets/controls",
      "_model_module_version": "1.5.0",
      "_model_name": "DescriptionStyleModel",
      "_view_count": null,
      "_view_module": "@jupyter-widgets/base",
      "_view_module_version": "1.2.0",
      "_view_name": "StyleView",
      "description_width": ""
     }
    },
    "65346eb83fcc4e528c455b9f5f908e86": {
     "model_module": "@jupyter-widgets/base",
     "model_module_version": "1.2.0",
     "model_name": "LayoutModel",
     "state": {
      "_model_module": "@jupyter-widgets/base",
      "_model_module_version": "1.2.0",
      "_model_name": "LayoutModel",
      "_view_count": null,
      "_view_module": "@jupyter-widgets/base",
      "_view_module_version": "1.2.0",
      "_view_name": "LayoutView",
      "align_content": null,
      "align_items": null,
      "align_self": null,
      "border": null,
      "bottom": null,
      "display": null,
      "flex": null,
      "flex_flow": null,
      "grid_area": null,
      "grid_auto_columns": null,
      "grid_auto_flow": null,
      "grid_auto_rows": null,
      "grid_column": null,
      "grid_gap": null,
      "grid_row": null,
      "grid_template_areas": null,
      "grid_template_columns": null,
      "grid_template_rows": null,
      "height": null,
      "justify_content": null,
      "justify_items": null,
      "left": null,
      "margin": null,
      "max_height": null,
      "max_width": null,
      "min_height": null,
      "min_width": null,
      "object_fit": null,
      "object_position": null,
      "order": null,
      "overflow": null,
      "overflow_x": null,
      "overflow_y": null,
      "padding": null,
      "right": null,
      "top": null,
      "visibility": null,
      "width": null
     }
    },
    "65d05c216d13496abde24ca168e12536": {
     "model_module": "@jupyter-widgets/base",
     "model_module_version": "1.2.0",
     "model_name": "LayoutModel",
     "state": {
      "_model_module": "@jupyter-widgets/base",
      "_model_module_version": "1.2.0",
      "_model_name": "LayoutModel",
      "_view_count": null,
      "_view_module": "@jupyter-widgets/base",
      "_view_module_version": "1.2.0",
      "_view_name": "LayoutView",
      "align_content": null,
      "align_items": null,
      "align_self": null,
      "border": null,
      "bottom": null,
      "display": null,
      "flex": null,
      "flex_flow": null,
      "grid_area": null,
      "grid_auto_columns": null,
      "grid_auto_flow": null,
      "grid_auto_rows": null,
      "grid_column": null,
      "grid_gap": null,
      "grid_row": null,
      "grid_template_areas": null,
      "grid_template_columns": null,
      "grid_template_rows": null,
      "height": null,
      "justify_content": null,
      "justify_items": null,
      "left": null,
      "margin": null,
      "max_height": null,
      "max_width": null,
      "min_height": null,
      "min_width": null,
      "object_fit": null,
      "object_position": null,
      "order": null,
      "overflow": null,
      "overflow_x": null,
      "overflow_y": null,
      "padding": null,
      "right": null,
      "top": null,
      "visibility": null,
      "width": null
     }
    },
    "6687946749f94182835868d6f3d400e6": {
     "model_module": "@jupyter-widgets/base",
     "model_module_version": "1.2.0",
     "model_name": "LayoutModel",
     "state": {
      "_model_module": "@jupyter-widgets/base",
      "_model_module_version": "1.2.0",
      "_model_name": "LayoutModel",
      "_view_count": null,
      "_view_module": "@jupyter-widgets/base",
      "_view_module_version": "1.2.0",
      "_view_name": "LayoutView",
      "align_content": null,
      "align_items": null,
      "align_self": null,
      "border": null,
      "bottom": null,
      "display": null,
      "flex": null,
      "flex_flow": null,
      "grid_area": null,
      "grid_auto_columns": null,
      "grid_auto_flow": null,
      "grid_auto_rows": null,
      "grid_column": null,
      "grid_gap": null,
      "grid_row": null,
      "grid_template_areas": null,
      "grid_template_columns": null,
      "grid_template_rows": null,
      "height": null,
      "justify_content": null,
      "justify_items": null,
      "left": null,
      "margin": null,
      "max_height": null,
      "max_width": null,
      "min_height": null,
      "min_width": null,
      "object_fit": null,
      "object_position": null,
      "order": null,
      "overflow": null,
      "overflow_x": null,
      "overflow_y": null,
      "padding": null,
      "right": null,
      "top": null,
      "visibility": null,
      "width": null
     }
    },
    "6855156c5d0c40048d19b1fd70f97677": {
     "model_module": "@jupyter-widgets/controls",
     "model_module_version": "1.5.0",
     "model_name": "HTMLModel",
     "state": {
      "_dom_classes": [],
      "_model_module": "@jupyter-widgets/controls",
      "_model_module_version": "1.5.0",
      "_model_name": "HTMLModel",
      "_view_count": null,
      "_view_module": "@jupyter-widgets/controls",
      "_view_module_version": "1.5.0",
      "_view_name": "HTMLView",
      "description": "",
      "description_tooltip": null,
      "layout": "IPY_MODEL_ad939714276d477ba456f1073ef45682",
      "placeholder": "​",
      "style": "IPY_MODEL_7a9da066b859482a8cdbbb142af5ec30",
      "value": "pytorch_model-00002-of-00002.bin: 100%"
     }
    },
    "69b095827fea413e9028d44c0db94ed1": {
     "model_module": "@jupyter-widgets/controls",
     "model_module_version": "1.5.0",
     "model_name": "FloatProgressModel",
     "state": {
      "_dom_classes": [],
      "_model_module": "@jupyter-widgets/controls",
      "_model_module_version": "1.5.0",
      "_model_name": "FloatProgressModel",
      "_view_count": null,
      "_view_module": "@jupyter-widgets/controls",
      "_view_module_version": "1.5.0",
      "_view_name": "ProgressView",
      "bar_style": "success",
      "description": "",
      "description_tooltip": null,
      "layout": "IPY_MODEL_c9c4284c823948f0a72375ff77130af2",
      "max": 2,
      "min": 0,
      "orientation": "horizontal",
      "style": "IPY_MODEL_c5fef224302d4e87aead1bf15d348fb8",
      "value": 2
     }
    },
    "6b24263b81554c29af9d685b0bea4a41": {
     "model_module": "@jupyter-widgets/base",
     "model_module_version": "1.2.0",
     "model_name": "LayoutModel",
     "state": {
      "_model_module": "@jupyter-widgets/base",
      "_model_module_version": "1.2.0",
      "_model_name": "LayoutModel",
      "_view_count": null,
      "_view_module": "@jupyter-widgets/base",
      "_view_module_version": "1.2.0",
      "_view_name": "LayoutView",
      "align_content": null,
      "align_items": null,
      "align_self": null,
      "border": null,
      "bottom": null,
      "display": null,
      "flex": null,
      "flex_flow": null,
      "grid_area": null,
      "grid_auto_columns": null,
      "grid_auto_flow": null,
      "grid_auto_rows": null,
      "grid_column": null,
      "grid_gap": null,
      "grid_row": null,
      "grid_template_areas": null,
      "grid_template_columns": null,
      "grid_template_rows": null,
      "height": null,
      "justify_content": null,
      "justify_items": null,
      "left": null,
      "margin": null,
      "max_height": null,
      "max_width": null,
      "min_height": null,
      "min_width": null,
      "object_fit": null,
      "object_position": null,
      "order": null,
      "overflow": null,
      "overflow_x": null,
      "overflow_y": null,
      "padding": null,
      "right": null,
      "top": null,
      "visibility": null,
      "width": null
     }
    },
    "6d865d39309a491e917f21539e4b0a78": {
     "model_module": "@jupyter-widgets/controls",
     "model_module_version": "1.5.0",
     "model_name": "ProgressStyleModel",
     "state": {
      "_model_module": "@jupyter-widgets/controls",
      "_model_module_version": "1.5.0",
      "_model_name": "ProgressStyleModel",
      "_view_count": null,
      "_view_module": "@jupyter-widgets/base",
      "_view_module_version": "1.2.0",
      "_view_name": "StyleView",
      "bar_color": null,
      "description_width": ""
     }
    },
    "709d1e5de15b40108702fff508ecba81": {
     "model_module": "@jupyter-widgets/controls",
     "model_module_version": "1.5.0",
     "model_name": "DescriptionStyleModel",
     "state": {
      "_model_module": "@jupyter-widgets/controls",
      "_model_module_version": "1.5.0",
      "_model_name": "DescriptionStyleModel",
      "_view_count": null,
      "_view_module": "@jupyter-widgets/base",
      "_view_module_version": "1.2.0",
      "_view_name": "StyleView",
      "description_width": ""
     }
    },
    "7148e3df2e9a42f1b0158c29613f5bc7": {
     "model_module": "@jupyter-widgets/base",
     "model_module_version": "1.2.0",
     "model_name": "LayoutModel",
     "state": {
      "_model_module": "@jupyter-widgets/base",
      "_model_module_version": "1.2.0",
      "_model_name": "LayoutModel",
      "_view_count": null,
      "_view_module": "@jupyter-widgets/base",
      "_view_module_version": "1.2.0",
      "_view_name": "LayoutView",
      "align_content": null,
      "align_items": null,
      "align_self": null,
      "border": null,
      "bottom": null,
      "display": null,
      "flex": null,
      "flex_flow": null,
      "grid_area": null,
      "grid_auto_columns": null,
      "grid_auto_flow": null,
      "grid_auto_rows": null,
      "grid_column": null,
      "grid_gap": null,
      "grid_row": null,
      "grid_template_areas": null,
      "grid_template_columns": null,
      "grid_template_rows": null,
      "height": null,
      "justify_content": null,
      "justify_items": null,
      "left": null,
      "margin": null,
      "max_height": null,
      "max_width": null,
      "min_height": null,
      "min_width": null,
      "object_fit": null,
      "object_position": null,
      "order": null,
      "overflow": null,
      "overflow_x": null,
      "overflow_y": null,
      "padding": null,
      "right": null,
      "top": null,
      "visibility": null,
      "width": null
     }
    },
    "71d01cfb79c54eb8ad343efe37c6b516": {
     "model_module": "@jupyter-widgets/controls",
     "model_module_version": "1.5.0",
     "model_name": "DescriptionStyleModel",
     "state": {
      "_model_module": "@jupyter-widgets/controls",
      "_model_module_version": "1.5.0",
      "_model_name": "DescriptionStyleModel",
      "_view_count": null,
      "_view_module": "@jupyter-widgets/base",
      "_view_module_version": "1.2.0",
      "_view_name": "StyleView",
      "description_width": ""
     }
    },
    "720365f71c614535932f79fb5f1fcc77": {
     "model_module": "@jupyter-widgets/base",
     "model_module_version": "1.2.0",
     "model_name": "LayoutModel",
     "state": {
      "_model_module": "@jupyter-widgets/base",
      "_model_module_version": "1.2.0",
      "_model_name": "LayoutModel",
      "_view_count": null,
      "_view_module": "@jupyter-widgets/base",
      "_view_module_version": "1.2.0",
      "_view_name": "LayoutView",
      "align_content": null,
      "align_items": null,
      "align_self": null,
      "border": null,
      "bottom": null,
      "display": null,
      "flex": null,
      "flex_flow": null,
      "grid_area": null,
      "grid_auto_columns": null,
      "grid_auto_flow": null,
      "grid_auto_rows": null,
      "grid_column": null,
      "grid_gap": null,
      "grid_row": null,
      "grid_template_areas": null,
      "grid_template_columns": null,
      "grid_template_rows": null,
      "height": null,
      "justify_content": null,
      "justify_items": null,
      "left": null,
      "margin": null,
      "max_height": null,
      "max_width": null,
      "min_height": null,
      "min_width": null,
      "object_fit": null,
      "object_position": null,
      "order": null,
      "overflow": null,
      "overflow_x": null,
      "overflow_y": null,
      "padding": null,
      "right": null,
      "top": null,
      "visibility": null,
      "width": null
     }
    },
    "7383ea8730224048a64b679c4ecb6453": {
     "model_module": "@jupyter-widgets/controls",
     "model_module_version": "1.5.0",
     "model_name": "HBoxModel",
     "state": {
      "_dom_classes": [],
      "_model_module": "@jupyter-widgets/controls",
      "_model_module_version": "1.5.0",
      "_model_name": "HBoxModel",
      "_view_count": null,
      "_view_module": "@jupyter-widgets/controls",
      "_view_module_version": "1.5.0",
      "_view_name": "HBoxView",
      "box_style": "",
      "children": [
       "IPY_MODEL_3ff337f4aa1e4257b182a4912969d592",
       "IPY_MODEL_8b3cc5d99e854f92a8d9ab3d6df79cf1",
       "IPY_MODEL_2fde30e24cde4afbac578410ed8b36a8"
      ],
      "layout": "IPY_MODEL_833fbf10010646ff9c3362312a88fa34"
     }
    },
    "7484386eb0864fe890ce44fb6a466013": {
     "model_module": "@jupyter-widgets/controls",
     "model_module_version": "1.5.0",
     "model_name": "HBoxModel",
     "state": {
      "_dom_classes": [],
      "_model_module": "@jupyter-widgets/controls",
      "_model_module_version": "1.5.0",
      "_model_name": "HBoxModel",
      "_view_count": null,
      "_view_module": "@jupyter-widgets/controls",
      "_view_module_version": "1.5.0",
      "_view_name": "HBoxView",
      "box_style": "",
      "children": [
       "IPY_MODEL_6855156c5d0c40048d19b1fd70f97677",
       "IPY_MODEL_41a15b26d94b4b7e840beb2467284b5d",
       "IPY_MODEL_1fe6a2cac3f8455abceaca9abf1ef483"
      ],
      "layout": "IPY_MODEL_5392ad072766427586ff0ca50c1f7d1b"
     }
    },
    "74e9810f066347f99dd45cf4074a158c": {
     "model_module": "@jupyter-widgets/controls",
     "model_module_version": "1.5.0",
     "model_name": "HTMLModel",
     "state": {
      "_dom_classes": [],
      "_model_module": "@jupyter-widgets/controls",
      "_model_module_version": "1.5.0",
      "_model_name": "HTMLModel",
      "_view_count": null,
      "_view_module": "@jupyter-widgets/controls",
      "_view_module_version": "1.5.0",
      "_view_name": "HTMLView",
      "description": "",
      "description_tooltip": null,
      "layout": "IPY_MODEL_89c719b02ee74342ac498084a6f6e25a",
      "placeholder": "​",
      "style": "IPY_MODEL_947ab902ba4643d0a2e360275810578f",
      "value": "special_tokens_map.json: 100%"
     }
    },
    "751b33b39f614cc3a878e8763095161e": {
     "model_module": "@jupyter-widgets/controls",
     "model_module_version": "1.5.0",
     "model_name": "HTMLModel",
     "state": {
      "_dom_classes": [],
      "_model_module": "@jupyter-widgets/controls",
      "_model_module_version": "1.5.0",
      "_model_name": "HTMLModel",
      "_view_count": null,
      "_view_module": "@jupyter-widgets/controls",
      "_view_module_version": "1.5.0",
      "_view_name": "HTMLView",
      "description": "",
      "description_tooltip": null,
      "layout": "IPY_MODEL_1f2c0feb6dca40a9b099707e6a8d5bc4",
      "placeholder": "​",
      "style": "IPY_MODEL_d4965042c47b46da92e1a898be337503",
      "value": " 20.9k/20.9k [00:00&lt;00:00, 435kB/s]"
     }
    },
    "75451471e52e440eaa0910ea5751669b": {
     "model_module": "@jupyter-widgets/controls",
     "model_module_version": "1.5.0",
     "model_name": "FloatProgressModel",
     "state": {
      "_dom_classes": [],
      "_model_module": "@jupyter-widgets/controls",
      "_model_module_version": "1.5.0",
      "_model_name": "FloatProgressModel",
      "_view_count": null,
      "_view_module": "@jupyter-widgets/controls",
      "_view_module_version": "1.5.0",
      "_view_name": "ProgressView",
      "bar_style": "success",
      "description": "",
      "description_tooltip": null,
      "layout": "IPY_MODEL_bdf5fc2104c34df0a2295d39e467c477",
      "max": 2,
      "min": 0,
      "orientation": "horizontal",
      "style": "IPY_MODEL_8f091bf1d8c34cd8bc7cb89f3d00089a",
      "value": 2
     }
    },
    "769bc8affbba413491ac05d742644719": {
     "model_module": "@jupyter-widgets/controls",
     "model_module_version": "1.5.0",
     "model_name": "FloatProgressModel",
     "state": {
      "_dom_classes": [],
      "_model_module": "@jupyter-widgets/controls",
      "_model_module_version": "1.5.0",
      "_model_name": "FloatProgressModel",
      "_view_count": null,
      "_view_module": "@jupyter-widgets/controls",
      "_view_module_version": "1.5.0",
      "_view_name": "ProgressView",
      "bar_style": "success",
      "description": "",
      "description_tooltip": null,
      "layout": "IPY_MODEL_84b67ca9cb8f4536b72f5560cd44accf",
      "max": 54528,
      "min": 0,
      "orientation": "horizontal",
      "style": "IPY_MODEL_0a3aa8db5c9b4ca5bfc8404f36697207",
      "value": 54528
     }
    },
    "79178840e6b94db0a148def3abe5f1c3": {
     "model_module": "@jupyter-widgets/controls",
     "model_module_version": "1.5.0",
     "model_name": "FloatProgressModel",
     "state": {
      "_dom_classes": [],
      "_model_module": "@jupyter-widgets/controls",
      "_model_module_version": "1.5.0",
      "_model_name": "FloatProgressModel",
      "_view_count": null,
      "_view_module": "@jupyter-widgets/controls",
      "_view_module_version": "1.5.0",
      "_view_name": "ProgressView",
      "bar_style": "success",
      "description": "",
      "description_tooltip": null,
      "layout": "IPY_MODEL_4dde0c5f270b4f0dacf1276536aa3785",
      "max": 189,
      "min": 0,
      "orientation": "horizontal",
      "style": "IPY_MODEL_b8ec23c080fd4c298f79b32c8e8956cc",
      "value": 189
     }
    },
    "798356d712ca4d3484d992cd570c7b21": {
     "model_module": "@jupyter-widgets/base",
     "model_module_version": "1.2.0",
     "model_name": "LayoutModel",
     "state": {
      "_model_module": "@jupyter-widgets/base",
      "_model_module_version": "1.2.0",
      "_model_name": "LayoutModel",
      "_view_count": null,
      "_view_module": "@jupyter-widgets/base",
      "_view_module_version": "1.2.0",
      "_view_name": "LayoutView",
      "align_content": null,
      "align_items": null,
      "align_self": null,
      "border": null,
      "bottom": null,
      "display": null,
      "flex": null,
      "flex_flow": null,
      "grid_area": null,
      "grid_auto_columns": null,
      "grid_auto_flow": null,
      "grid_auto_rows": null,
      "grid_column": null,
      "grid_gap": null,
      "grid_row": null,
      "grid_template_areas": null,
      "grid_template_columns": null,
      "grid_template_rows": null,
      "height": null,
      "justify_content": null,
      "justify_items": null,
      "left": null,
      "margin": null,
      "max_height": null,
      "max_width": null,
      "min_height": null,
      "min_width": null,
      "object_fit": null,
      "object_position": null,
      "order": null,
      "overflow": null,
      "overflow_x": null,
      "overflow_y": null,
      "padding": null,
      "right": null,
      "top": null,
      "visibility": null,
      "width": null
     }
    },
    "7a9da066b859482a8cdbbb142af5ec30": {
     "model_module": "@jupyter-widgets/controls",
     "model_module_version": "1.5.0",
     "model_name": "DescriptionStyleModel",
     "state": {
      "_model_module": "@jupyter-widgets/controls",
      "_model_module_version": "1.5.0",
      "_model_name": "DescriptionStyleModel",
      "_view_count": null,
      "_view_module": "@jupyter-widgets/base",
      "_view_module_version": "1.2.0",
      "_view_name": "StyleView",
      "description_width": ""
     }
    },
    "7aaa29fc64374d4d84aa341f6f05352e": {
     "model_module": "@jupyter-widgets/base",
     "model_module_version": "1.2.0",
     "model_name": "LayoutModel",
     "state": {
      "_model_module": "@jupyter-widgets/base",
      "_model_module_version": "1.2.0",
      "_model_name": "LayoutModel",
      "_view_count": null,
      "_view_module": "@jupyter-widgets/base",
      "_view_module_version": "1.2.0",
      "_view_name": "LayoutView",
      "align_content": null,
      "align_items": null,
      "align_self": null,
      "border": null,
      "bottom": null,
      "display": null,
      "flex": null,
      "flex_flow": null,
      "grid_area": null,
      "grid_auto_columns": null,
      "grid_auto_flow": null,
      "grid_auto_rows": null,
      "grid_column": null,
      "grid_gap": null,
      "grid_row": null,
      "grid_template_areas": null,
      "grid_template_columns": null,
      "grid_template_rows": null,
      "height": null,
      "justify_content": null,
      "justify_items": null,
      "left": null,
      "margin": null,
      "max_height": null,
      "max_width": null,
      "min_height": null,
      "min_width": null,
      "object_fit": null,
      "object_position": null,
      "order": null,
      "overflow": null,
      "overflow_x": null,
      "overflow_y": null,
      "padding": null,
      "right": null,
      "top": null,
      "visibility": null,
      "width": null
     }
    },
    "824a7af93f38471d8e70e8a1af604140": {
     "model_module": "@jupyter-widgets/controls",
     "model_module_version": "1.5.0",
     "model_name": "ProgressStyleModel",
     "state": {
      "_model_module": "@jupyter-widgets/controls",
      "_model_module_version": "1.5.0",
      "_model_name": "ProgressStyleModel",
      "_view_count": null,
      "_view_module": "@jupyter-widgets/base",
      "_view_module_version": "1.2.0",
      "_view_name": "StyleView",
      "bar_color": null,
      "description_width": ""
     }
    },
    "833fbf10010646ff9c3362312a88fa34": {
     "model_module": "@jupyter-widgets/base",
     "model_module_version": "1.2.0",
     "model_name": "LayoutModel",
     "state": {
      "_model_module": "@jupyter-widgets/base",
      "_model_module_version": "1.2.0",
      "_model_name": "LayoutModel",
      "_view_count": null,
      "_view_module": "@jupyter-widgets/base",
      "_view_module_version": "1.2.0",
      "_view_name": "LayoutView",
      "align_content": null,
      "align_items": null,
      "align_self": null,
      "border": null,
      "bottom": null,
      "display": null,
      "flex": null,
      "flex_flow": null,
      "grid_area": null,
      "grid_auto_columns": null,
      "grid_auto_flow": null,
      "grid_auto_rows": null,
      "grid_column": null,
      "grid_gap": null,
      "grid_row": null,
      "grid_template_areas": null,
      "grid_template_columns": null,
      "grid_template_rows": null,
      "height": null,
      "justify_content": null,
      "justify_items": null,
      "left": null,
      "margin": null,
      "max_height": null,
      "max_width": null,
      "min_height": null,
      "min_width": null,
      "object_fit": null,
      "object_position": null,
      "order": null,
      "overflow": null,
      "overflow_x": null,
      "overflow_y": null,
      "padding": null,
      "right": null,
      "top": null,
      "visibility": null,
      "width": null
     }
    },
    "8434d3b36eb94188b606f751fd5a40b6": {
     "model_module": "@jupyter-widgets/controls",
     "model_module_version": "1.5.0",
     "model_name": "HBoxModel",
     "state": {
      "_dom_classes": [],
      "_model_module": "@jupyter-widgets/controls",
      "_model_module_version": "1.5.0",
      "_model_name": "HBoxModel",
      "_view_count": null,
      "_view_module": "@jupyter-widgets/controls",
      "_view_module_version": "1.5.0",
      "_view_name": "HBoxView",
      "box_style": "",
      "children": [
       "IPY_MODEL_b6544b9321f342e59a581a347a3aa840",
       "IPY_MODEL_186946adcead4e7fb86f2b5986212e14",
       "IPY_MODEL_148dc124721f41e99acf7713b3b33e47"
      ],
      "layout": "IPY_MODEL_3320e24b58dd4750bb4c7d9033f11fe4"
     }
    },
    "84b67ca9cb8f4536b72f5560cd44accf": {
     "model_module": "@jupyter-widgets/base",
     "model_module_version": "1.2.0",
     "model_name": "LayoutModel",
     "state": {
      "_model_module": "@jupyter-widgets/base",
      "_model_module_version": "1.2.0",
      "_model_name": "LayoutModel",
      "_view_count": null,
      "_view_module": "@jupyter-widgets/base",
      "_view_module_version": "1.2.0",
      "_view_name": "LayoutView",
      "align_content": null,
      "align_items": null,
      "align_self": null,
      "border": null,
      "bottom": null,
      "display": null,
      "flex": null,
      "flex_flow": null,
      "grid_area": null,
      "grid_auto_columns": null,
      "grid_auto_flow": null,
      "grid_auto_rows": null,
      "grid_column": null,
      "grid_gap": null,
      "grid_row": null,
      "grid_template_areas": null,
      "grid_template_columns": null,
      "grid_template_rows": null,
      "height": null,
      "justify_content": null,
      "justify_items": null,
      "left": null,
      "margin": null,
      "max_height": null,
      "max_width": null,
      "min_height": null,
      "min_width": null,
      "object_fit": null,
      "object_position": null,
      "order": null,
      "overflow": null,
      "overflow_x": null,
      "overflow_y": null,
      "padding": null,
      "right": null,
      "top": null,
      "visibility": null,
      "width": null
     }
    },
    "852df5dd00e0445c8cb6dde81c2f4009": {
     "model_module": "@jupyter-widgets/base",
     "model_module_version": "1.2.0",
     "model_name": "LayoutModel",
     "state": {
      "_model_module": "@jupyter-widgets/base",
      "_model_module_version": "1.2.0",
      "_model_name": "LayoutModel",
      "_view_count": null,
      "_view_module": "@jupyter-widgets/base",
      "_view_module_version": "1.2.0",
      "_view_name": "LayoutView",
      "align_content": null,
      "align_items": null,
      "align_self": null,
      "border": null,
      "bottom": null,
      "display": null,
      "flex": null,
      "flex_flow": null,
      "grid_area": null,
      "grid_auto_columns": null,
      "grid_auto_flow": null,
      "grid_auto_rows": null,
      "grid_column": null,
      "grid_gap": null,
      "grid_row": null,
      "grid_template_areas": null,
      "grid_template_columns": null,
      "grid_template_rows": null,
      "height": null,
      "justify_content": null,
      "justify_items": null,
      "left": null,
      "margin": null,
      "max_height": null,
      "max_width": null,
      "min_height": null,
      "min_width": null,
      "object_fit": null,
      "object_position": null,
      "order": null,
      "overflow": null,
      "overflow_x": null,
      "overflow_y": null,
      "padding": null,
      "right": null,
      "top": null,
      "visibility": null,
      "width": null
     }
    },
    "85acd6640ad14b6195019187929c95c4": {
     "model_module": "@jupyter-widgets/controls",
     "model_module_version": "1.5.0",
     "model_name": "DescriptionStyleModel",
     "state": {
      "_model_module": "@jupyter-widgets/controls",
      "_model_module_version": "1.5.0",
      "_model_name": "DescriptionStyleModel",
      "_view_count": null,
      "_view_module": "@jupyter-widgets/base",
      "_view_module_version": "1.2.0",
      "_view_name": "StyleView",
      "description_width": ""
     }
    },
    "866d36ce757d41cbb575f5f15965c5e5": {
     "model_module": "@jupyter-widgets/controls",
     "model_module_version": "1.5.0",
     "model_name": "DescriptionStyleModel",
     "state": {
      "_model_module": "@jupyter-widgets/controls",
      "_model_module_version": "1.5.0",
      "_model_name": "DescriptionStyleModel",
      "_view_count": null,
      "_view_module": "@jupyter-widgets/base",
      "_view_module_version": "1.2.0",
      "_view_name": "StyleView",
      "description_width": ""
     }
    },
    "884a03303076488abdd5c2bf71604013": {
     "model_module": "@jupyter-widgets/controls",
     "model_module_version": "1.5.0",
     "model_name": "DescriptionStyleModel",
     "state": {
      "_model_module": "@jupyter-widgets/controls",
      "_model_module_version": "1.5.0",
      "_model_name": "DescriptionStyleModel",
      "_view_count": null,
      "_view_module": "@jupyter-widgets/base",
      "_view_module_version": "1.2.0",
      "_view_name": "StyleView",
      "description_width": ""
     }
    },
    "884d58c059884727b25e3cb9d290a198": {
     "model_module": "@jupyter-widgets/base",
     "model_module_version": "1.2.0",
     "model_name": "LayoutModel",
     "state": {
      "_model_module": "@jupyter-widgets/base",
      "_model_module_version": "1.2.0",
      "_model_name": "LayoutModel",
      "_view_count": null,
      "_view_module": "@jupyter-widgets/base",
      "_view_module_version": "1.2.0",
      "_view_name": "LayoutView",
      "align_content": null,
      "align_items": null,
      "align_self": null,
      "border": null,
      "bottom": null,
      "display": null,
      "flex": null,
      "flex_flow": null,
      "grid_area": null,
      "grid_auto_columns": null,
      "grid_auto_flow": null,
      "grid_auto_rows": null,
      "grid_column": null,
      "grid_gap": null,
      "grid_row": null,
      "grid_template_areas": null,
      "grid_template_columns": null,
      "grid_template_rows": null,
      "height": null,
      "justify_content": null,
      "justify_items": null,
      "left": null,
      "margin": null,
      "max_height": null,
      "max_width": null,
      "min_height": null,
      "min_width": null,
      "object_fit": null,
      "object_position": null,
      "order": null,
      "overflow": null,
      "overflow_x": null,
      "overflow_y": null,
      "padding": null,
      "right": null,
      "top": null,
      "visibility": null,
      "width": null
     }
    },
    "89c719b02ee74342ac498084a6f6e25a": {
     "model_module": "@jupyter-widgets/base",
     "model_module_version": "1.2.0",
     "model_name": "LayoutModel",
     "state": {
      "_model_module": "@jupyter-widgets/base",
      "_model_module_version": "1.2.0",
      "_model_name": "LayoutModel",
      "_view_count": null,
      "_view_module": "@jupyter-widgets/base",
      "_view_module_version": "1.2.0",
      "_view_name": "LayoutView",
      "align_content": null,
      "align_items": null,
      "align_self": null,
      "border": null,
      "bottom": null,
      "display": null,
      "flex": null,
      "flex_flow": null,
      "grid_area": null,
      "grid_auto_columns": null,
      "grid_auto_flow": null,
      "grid_auto_rows": null,
      "grid_column": null,
      "grid_gap": null,
      "grid_row": null,
      "grid_template_areas": null,
      "grid_template_columns": null,
      "grid_template_rows": null,
      "height": null,
      "justify_content": null,
      "justify_items": null,
      "left": null,
      "margin": null,
      "max_height": null,
      "max_width": null,
      "min_height": null,
      "min_width": null,
      "object_fit": null,
      "object_position": null,
      "order": null,
      "overflow": null,
      "overflow_x": null,
      "overflow_y": null,
      "padding": null,
      "right": null,
      "top": null,
      "visibility": null,
      "width": null
     }
    },
    "8aba076f6dee45eeb327ed14251eee76": {
     "model_module": "@jupyter-widgets/controls",
     "model_module_version": "1.5.0",
     "model_name": "HTMLModel",
     "state": {
      "_dom_classes": [],
      "_model_module": "@jupyter-widgets/controls",
      "_model_module_version": "1.5.0",
      "_model_name": "HTMLModel",
      "_view_count": null,
      "_view_module": "@jupyter-widgets/controls",
      "_view_module_version": "1.5.0",
      "_view_name": "HTMLView",
      "description": "",
      "description_tooltip": null,
      "layout": "IPY_MODEL_504b1ec3ca5d4f308130866888cdab4d",
      "placeholder": "​",
      "style": "IPY_MODEL_ebd890b013df4098b29f0d244bd57efe",
      "value": " 825/825 [00:02&lt;00:00, 393.86 examples/s]"
     }
    },
    "8b3cc5d99e854f92a8d9ab3d6df79cf1": {
     "model_module": "@jupyter-widgets/controls",
     "model_module_version": "1.5.0",
     "model_name": "FloatProgressModel",
     "state": {
      "_dom_classes": [],
      "_model_module": "@jupyter-widgets/controls",
      "_model_module_version": "1.5.0",
      "_model_name": "FloatProgressModel",
      "_view_count": null,
      "_view_module": "@jupyter-widgets/controls",
      "_view_module_version": "1.5.0",
      "_view_name": "ProgressView",
      "bar_style": "success",
      "description": "",
      "description_tooltip": null,
      "layout": "IPY_MODEL_0b35e4d5bf514eca80a305cd96b51e9f",
      "max": 9085657,
      "min": 0,
      "orientation": "horizontal",
      "style": "IPY_MODEL_c8685c2495ff49318da08067257fdcef",
      "value": 9085657
     }
    },
    "8bea8b637cc2477bbbcf36d4fe8a25c4": {
     "model_module": "@jupyter-widgets/base",
     "model_module_version": "1.2.0",
     "model_name": "LayoutModel",
     "state": {
      "_model_module": "@jupyter-widgets/base",
      "_model_module_version": "1.2.0",
      "_model_name": "LayoutModel",
      "_view_count": null,
      "_view_module": "@jupyter-widgets/base",
      "_view_module_version": "1.2.0",
      "_view_name": "LayoutView",
      "align_content": null,
      "align_items": null,
      "align_self": null,
      "border": null,
      "bottom": null,
      "display": null,
      "flex": null,
      "flex_flow": null,
      "grid_area": null,
      "grid_auto_columns": null,
      "grid_auto_flow": null,
      "grid_auto_rows": null,
      "grid_column": null,
      "grid_gap": null,
      "grid_row": null,
      "grid_template_areas": null,
      "grid_template_columns": null,
      "grid_template_rows": null,
      "height": null,
      "justify_content": null,
      "justify_items": null,
      "left": null,
      "margin": null,
      "max_height": null,
      "max_width": null,
      "min_height": null,
      "min_width": null,
      "object_fit": null,
      "object_position": null,
      "order": null,
      "overflow": null,
      "overflow_x": null,
      "overflow_y": null,
      "padding": null,
      "right": null,
      "top": null,
      "visibility": null,
      "width": null
     }
    },
    "8f091bf1d8c34cd8bc7cb89f3d00089a": {
     "model_module": "@jupyter-widgets/controls",
     "model_module_version": "1.5.0",
     "model_name": "ProgressStyleModel",
     "state": {
      "_model_module": "@jupyter-widgets/controls",
      "_model_module_version": "1.5.0",
      "_model_name": "ProgressStyleModel",
      "_view_count": null,
      "_view_module": "@jupyter-widgets/base",
      "_view_module_version": "1.2.0",
      "_view_name": "StyleView",
      "bar_color": null,
      "description_width": ""
     }
    },
    "8f5d3c9243d14701a60bbe1e68afd9f6": {
     "model_module": "@jupyter-widgets/controls",
     "model_module_version": "1.5.0",
     "model_name": "HTMLModel",
     "state": {
      "_dom_classes": [],
      "_model_module": "@jupyter-widgets/controls",
      "_model_module_version": "1.5.0",
      "_model_name": "HTMLModel",
      "_view_count": null,
      "_view_module": "@jupyter-widgets/controls",
      "_view_module_version": "1.5.0",
      "_view_name": "HTMLView",
      "description": "",
      "description_tooltip": null,
      "layout": "IPY_MODEL_95819dd1b0714f15b88a44c06129cb8d",
      "placeholder": "​",
      "style": "IPY_MODEL_d1bf10e271334389a1e9e6264a96a4b5",
      "value": "Standardizing format: 100%"
     }
    },
    "8fcd88283df44046b371c55a29df201d": {
     "model_module": "@jupyter-widgets/controls",
     "model_module_version": "1.5.0",
     "model_name": "HTMLModel",
     "state": {
      "_dom_classes": [],
      "_model_module": "@jupyter-widgets/controls",
      "_model_module_version": "1.5.0",
      "_model_name": "HTMLModel",
      "_view_count": null,
      "_view_module": "@jupyter-widgets/controls",
      "_view_module_version": "1.5.0",
      "_view_name": "HTMLView",
      "description": "",
      "description_tooltip": null,
      "layout": "IPY_MODEL_430edd4df51f475fbaa858241b96cc76",
      "placeholder": "​",
      "style": "IPY_MODEL_1935f19beb1b4b9980a6f858b9ed4292",
      "value": " 189/189 [00:00&lt;00:00, 7.58kB/s]"
     }
    },
    "905601a6e30c4ad493dbbec24d4e2edf": {
     "model_module": "@jupyter-widgets/controls",
     "model_module_version": "1.5.0",
     "model_name": "ProgressStyleModel",
     "state": {
      "_model_module": "@jupyter-widgets/controls",
      "_model_module_version": "1.5.0",
      "_model_name": "ProgressStyleModel",
      "_view_count": null,
      "_view_module": "@jupyter-widgets/base",
      "_view_module_version": "1.2.0",
      "_view_name": "StyleView",
      "bar_color": null,
      "description_width": ""
     }
    },
    "90c994faa6d34a54b0e08f071b9b4e53": {
     "model_module": "@jupyter-widgets/base",
     "model_module_version": "1.2.0",
     "model_name": "LayoutModel",
     "state": {
      "_model_module": "@jupyter-widgets/base",
      "_model_module_version": "1.2.0",
      "_model_name": "LayoutModel",
      "_view_count": null,
      "_view_module": "@jupyter-widgets/base",
      "_view_module_version": "1.2.0",
      "_view_name": "LayoutView",
      "align_content": null,
      "align_items": null,
      "align_self": null,
      "border": null,
      "bottom": null,
      "display": null,
      "flex": null,
      "flex_flow": null,
      "grid_area": null,
      "grid_auto_columns": null,
      "grid_auto_flow": null,
      "grid_auto_rows": null,
      "grid_column": null,
      "grid_gap": null,
      "grid_row": null,
      "grid_template_areas": null,
      "grid_template_columns": null,
      "grid_template_rows": null,
      "height": null,
      "justify_content": null,
      "justify_items": null,
      "left": null,
      "margin": null,
      "max_height": null,
      "max_width": null,
      "min_height": null,
      "min_width": null,
      "object_fit": null,
      "object_position": null,
      "order": null,
      "overflow": null,
      "overflow_x": null,
      "overflow_y": null,
      "padding": null,
      "right": null,
      "top": null,
      "visibility": null,
      "width": null
     }
    },
    "93a0a7f4e723428bade772c0885b50da": {
     "model_module": "@jupyter-widgets/base",
     "model_module_version": "1.2.0",
     "model_name": "LayoutModel",
     "state": {
      "_model_module": "@jupyter-widgets/base",
      "_model_module_version": "1.2.0",
      "_model_name": "LayoutModel",
      "_view_count": null,
      "_view_module": "@jupyter-widgets/base",
      "_view_module_version": "1.2.0",
      "_view_name": "LayoutView",
      "align_content": null,
      "align_items": null,
      "align_self": null,
      "border": null,
      "bottom": null,
      "display": null,
      "flex": null,
      "flex_flow": null,
      "grid_area": null,
      "grid_auto_columns": null,
      "grid_auto_flow": null,
      "grid_auto_rows": null,
      "grid_column": null,
      "grid_gap": null,
      "grid_row": null,
      "grid_template_areas": null,
      "grid_template_columns": null,
      "grid_template_rows": null,
      "height": null,
      "justify_content": null,
      "justify_items": null,
      "left": null,
      "margin": null,
      "max_height": null,
      "max_width": null,
      "min_height": null,
      "min_width": null,
      "object_fit": null,
      "object_position": null,
      "order": null,
      "overflow": null,
      "overflow_x": null,
      "overflow_y": null,
      "padding": null,
      "right": null,
      "top": null,
      "visibility": null,
      "width": null
     }
    },
    "947ab902ba4643d0a2e360275810578f": {
     "model_module": "@jupyter-widgets/controls",
     "model_module_version": "1.5.0",
     "model_name": "DescriptionStyleModel",
     "state": {
      "_model_module": "@jupyter-widgets/controls",
      "_model_module_version": "1.5.0",
      "_model_name": "DescriptionStyleModel",
      "_view_count": null,
      "_view_module": "@jupyter-widgets/base",
      "_view_module_version": "1.2.0",
      "_view_name": "StyleView",
      "description_width": ""
     }
    },
    "9502cc6e891548dc8e884741578b530d": {
     "model_module": "@jupyter-widgets/controls",
     "model_module_version": "1.5.0",
     "model_name": "FloatProgressModel",
     "state": {
      "_dom_classes": [],
      "_model_module": "@jupyter-widgets/controls",
      "_model_module_version": "1.5.0",
      "_model_name": "FloatProgressModel",
      "_view_count": null,
      "_view_module": "@jupyter-widgets/controls",
      "_view_module_version": "1.5.0",
      "_view_name": "ProgressView",
      "bar_style": "success",
      "description": "",
      "description_tooltip": null,
      "layout": "IPY_MODEL_884d58c059884727b25e3cb9d290a198",
      "max": 4965838868,
      "min": 0,
      "orientation": "horizontal",
      "style": "IPY_MODEL_9c236617872346ccb9e3266699d5b52d",
      "value": 4965838868
     }
    },
    "956c9b6f60374d45aa3f662efc32777e": {
     "model_module": "@jupyter-widgets/base",
     "model_module_version": "1.2.0",
     "model_name": "LayoutModel",
     "state": {
      "_model_module": "@jupyter-widgets/base",
      "_model_module_version": "1.2.0",
      "_model_name": "LayoutModel",
      "_view_count": null,
      "_view_module": "@jupyter-widgets/base",
      "_view_module_version": "1.2.0",
      "_view_name": "LayoutView",
      "align_content": null,
      "align_items": null,
      "align_self": null,
      "border": null,
      "bottom": null,
      "display": null,
      "flex": null,
      "flex_flow": null,
      "grid_area": null,
      "grid_auto_columns": null,
      "grid_auto_flow": null,
      "grid_auto_rows": null,
      "grid_column": null,
      "grid_gap": null,
      "grid_row": null,
      "grid_template_areas": null,
      "grid_template_columns": null,
      "grid_template_rows": null,
      "height": null,
      "justify_content": null,
      "justify_items": null,
      "left": null,
      "margin": null,
      "max_height": null,
      "max_width": null,
      "min_height": null,
      "min_width": null,
      "object_fit": null,
      "object_position": null,
      "order": null,
      "overflow": null,
      "overflow_x": null,
      "overflow_y": null,
      "padding": null,
      "right": null,
      "top": null,
      "visibility": null,
      "width": null
     }
    },
    "95819dd1b0714f15b88a44c06129cb8d": {
     "model_module": "@jupyter-widgets/base",
     "model_module_version": "1.2.0",
     "model_name": "LayoutModel",
     "state": {
      "_model_module": "@jupyter-widgets/base",
      "_model_module_version": "1.2.0",
      "_model_name": "LayoutModel",
      "_view_count": null,
      "_view_module": "@jupyter-widgets/base",
      "_view_module_version": "1.2.0",
      "_view_name": "LayoutView",
      "align_content": null,
      "align_items": null,
      "align_self": null,
      "border": null,
      "bottom": null,
      "display": null,
      "flex": null,
      "flex_flow": null,
      "grid_area": null,
      "grid_auto_columns": null,
      "grid_auto_flow": null,
      "grid_auto_rows": null,
      "grid_column": null,
      "grid_gap": null,
      "grid_row": null,
      "grid_template_areas": null,
      "grid_template_columns": null,
      "grid_template_rows": null,
      "height": null,
      "justify_content": null,
      "justify_items": null,
      "left": null,
      "margin": null,
      "max_height": null,
      "max_width": null,
      "min_height": null,
      "min_width": null,
      "object_fit": null,
      "object_position": null,
      "order": null,
      "overflow": null,
      "overflow_x": null,
      "overflow_y": null,
      "padding": null,
      "right": null,
      "top": null,
      "visibility": null,
      "width": null
     }
    },
    "9587d902b86148958590b637a20b6d4f": {
     "model_module": "@jupyter-widgets/controls",
     "model_module_version": "1.5.0",
     "model_name": "HTMLModel",
     "state": {
      "_dom_classes": [],
      "_model_module": "@jupyter-widgets/controls",
      "_model_module_version": "1.5.0",
      "_model_name": "HTMLModel",
      "_view_count": null,
      "_view_module": "@jupyter-widgets/controls",
      "_view_module_version": "1.5.0",
      "_view_name": "HTMLView",
      "description": "",
      "description_tooltip": null,
      "layout": "IPY_MODEL_ce8a7c0783cc42c89764f76c044efbc5",
      "placeholder": "​",
      "style": "IPY_MODEL_bb915c50b150481aa29f5dcf286ae13e",
      "value": "Downloading shards: 100%"
     }
    },
    "9a4e2c0911a9486e85f29dbf0c38fa85": {
     "model_module": "@jupyter-widgets/base",
     "model_module_version": "1.2.0",
     "model_name": "LayoutModel",
     "state": {
      "_model_module": "@jupyter-widgets/base",
      "_model_module_version": "1.2.0",
      "_model_name": "LayoutModel",
      "_view_count": null,
      "_view_module": "@jupyter-widgets/base",
      "_view_module_version": "1.2.0",
      "_view_name": "LayoutView",
      "align_content": null,
      "align_items": null,
      "align_self": null,
      "border": null,
      "bottom": null,
      "display": null,
      "flex": null,
      "flex_flow": null,
      "grid_area": null,
      "grid_auto_columns": null,
      "grid_auto_flow": null,
      "grid_auto_rows": null,
      "grid_column": null,
      "grid_gap": null,
      "grid_row": null,
      "grid_template_areas": null,
      "grid_template_columns": null,
      "grid_template_rows": null,
      "height": null,
      "justify_content": null,
      "justify_items": null,
      "left": null,
      "margin": null,
      "max_height": null,
      "max_width": null,
      "min_height": null,
      "min_width": null,
      "object_fit": null,
      "object_position": null,
      "order": null,
      "overflow": null,
      "overflow_x": null,
      "overflow_y": null,
      "padding": null,
      "right": null,
      "top": null,
      "visibility": null,
      "width": null
     }
    },
    "9b8e3cb6bb1c4572bdcd85e2ea85d577": {
     "model_module": "@jupyter-widgets/controls",
     "model_module_version": "1.5.0",
     "model_name": "HBoxModel",
     "state": {
      "_dom_classes": [],
      "_model_module": "@jupyter-widgets/controls",
      "_model_module_version": "1.5.0",
      "_model_name": "HBoxModel",
      "_view_count": null,
      "_view_module": "@jupyter-widgets/controls",
      "_view_module_version": "1.5.0",
      "_view_name": "HBoxView",
      "box_style": "",
      "children": [
       "IPY_MODEL_e228b6ae7512414e82e82b856f721153",
       "IPY_MODEL_e66d15077bf6460981fb76717a48be22",
       "IPY_MODEL_a75a380ea21d4ce886aad666e21e35ea"
      ],
      "layout": "IPY_MODEL_a705d09288d8432f89f59839b9dbfea2"
     }
    },
    "9c236617872346ccb9e3266699d5b52d": {
     "model_module": "@jupyter-widgets/controls",
     "model_module_version": "1.5.0",
     "model_name": "ProgressStyleModel",
     "state": {
      "_model_module": "@jupyter-widgets/controls",
      "_model_module_version": "1.5.0",
      "_model_name": "ProgressStyleModel",
      "_view_count": null,
      "_view_module": "@jupyter-widgets/base",
      "_view_module_version": "1.2.0",
      "_view_name": "StyleView",
      "bar_color": null,
      "description_width": ""
     }
    },
    "9ca3375ae07044a1b412e43c0c5c0e8f": {
     "model_module": "@jupyter-widgets/base",
     "model_module_version": "1.2.0",
     "model_name": "LayoutModel",
     "state": {
      "_model_module": "@jupyter-widgets/base",
      "_model_module_version": "1.2.0",
      "_model_name": "LayoutModel",
      "_view_count": null,
      "_view_module": "@jupyter-widgets/base",
      "_view_module_version": "1.2.0",
      "_view_name": "LayoutView",
      "align_content": null,
      "align_items": null,
      "align_self": null,
      "border": null,
      "bottom": null,
      "display": null,
      "flex": null,
      "flex_flow": null,
      "grid_area": null,
      "grid_auto_columns": null,
      "grid_auto_flow": null,
      "grid_auto_rows": null,
      "grid_column": null,
      "grid_gap": null,
      "grid_row": null,
      "grid_template_areas": null,
      "grid_template_columns": null,
      "grid_template_rows": null,
      "height": null,
      "justify_content": null,
      "justify_items": null,
      "left": null,
      "margin": null,
      "max_height": null,
      "max_width": null,
      "min_height": null,
      "min_width": null,
      "object_fit": null,
      "object_position": null,
      "order": null,
      "overflow": null,
      "overflow_x": null,
      "overflow_y": null,
      "padding": null,
      "right": null,
      "top": null,
      "visibility": null,
      "width": null
     }
    },
    "9efa1a0bfb2342dc9c94884f0efadda2": {
     "model_module": "@jupyter-widgets/controls",
     "model_module_version": "1.5.0",
     "model_name": "DescriptionStyleModel",
     "state": {
      "_model_module": "@jupyter-widgets/controls",
      "_model_module_version": "1.5.0",
      "_model_name": "DescriptionStyleModel",
      "_view_count": null,
      "_view_module": "@jupyter-widgets/base",
      "_view_module_version": "1.2.0",
      "_view_name": "StyleView",
      "description_width": ""
     }
    },
    "a21c492dd1264fe8a7f40cd9bfad2216": {
     "model_module": "@jupyter-widgets/base",
     "model_module_version": "1.2.0",
     "model_name": "LayoutModel",
     "state": {
      "_model_module": "@jupyter-widgets/base",
      "_model_module_version": "1.2.0",
      "_model_name": "LayoutModel",
      "_view_count": null,
      "_view_module": "@jupyter-widgets/base",
      "_view_module_version": "1.2.0",
      "_view_name": "LayoutView",
      "align_content": null,
      "align_items": null,
      "align_self": null,
      "border": null,
      "bottom": null,
      "display": null,
      "flex": null,
      "flex_flow": null,
      "grid_area": null,
      "grid_auto_columns": null,
      "grid_auto_flow": null,
      "grid_auto_rows": null,
      "grid_column": null,
      "grid_gap": null,
      "grid_row": null,
      "grid_template_areas": null,
      "grid_template_columns": null,
      "grid_template_rows": null,
      "height": null,
      "justify_content": null,
      "justify_items": null,
      "left": null,
      "margin": null,
      "max_height": null,
      "max_width": null,
      "min_height": null,
      "min_width": null,
      "object_fit": null,
      "object_position": null,
      "order": null,
      "overflow": null,
      "overflow_x": null,
      "overflow_y": null,
      "padding": null,
      "right": null,
      "top": null,
      "visibility": null,
      "width": null
     }
    },
    "a467ebc0afe54c06b16f6924d055a2fc": {
     "model_module": "@jupyter-widgets/controls",
     "model_module_version": "1.5.0",
     "model_name": "ProgressStyleModel",
     "state": {
      "_model_module": "@jupyter-widgets/controls",
      "_model_module_version": "1.5.0",
      "_model_name": "ProgressStyleModel",
      "_view_count": null,
      "_view_module": "@jupyter-widgets/base",
      "_view_module_version": "1.2.0",
      "_view_name": "StyleView",
      "bar_color": null,
      "description_width": ""
     }
    },
    "a58e86e8ad7e40e7bc15dae4a49ed96d": {
     "model_module": "@jupyter-widgets/controls",
     "model_module_version": "1.5.0",
     "model_name": "ProgressStyleModel",
     "state": {
      "_model_module": "@jupyter-widgets/controls",
      "_model_module_version": "1.5.0",
      "_model_name": "ProgressStyleModel",
      "_view_count": null,
      "_view_module": "@jupyter-widgets/base",
      "_view_module_version": "1.2.0",
      "_view_name": "StyleView",
      "bar_color": null,
      "description_width": ""
     }
    },
    "a6b11615c95541eba48c0860c3563416": {
     "model_module": "@jupyter-widgets/base",
     "model_module_version": "1.2.0",
     "model_name": "LayoutModel",
     "state": {
      "_model_module": "@jupyter-widgets/base",
      "_model_module_version": "1.2.0",
      "_model_name": "LayoutModel",
      "_view_count": null,
      "_view_module": "@jupyter-widgets/base",
      "_view_module_version": "1.2.0",
      "_view_name": "LayoutView",
      "align_content": null,
      "align_items": null,
      "align_self": null,
      "border": null,
      "bottom": null,
      "display": null,
      "flex": null,
      "flex_flow": null,
      "grid_area": null,
      "grid_auto_columns": null,
      "grid_auto_flow": null,
      "grid_auto_rows": null,
      "grid_column": null,
      "grid_gap": null,
      "grid_row": null,
      "grid_template_areas": null,
      "grid_template_columns": null,
      "grid_template_rows": null,
      "height": null,
      "justify_content": null,
      "justify_items": null,
      "left": null,
      "margin": null,
      "max_height": null,
      "max_width": null,
      "min_height": null,
      "min_width": null,
      "object_fit": null,
      "object_position": null,
      "order": null,
      "overflow": null,
      "overflow_x": null,
      "overflow_y": null,
      "padding": null,
      "right": null,
      "top": null,
      "visibility": null,
      "width": null
     }
    },
    "a705d09288d8432f89f59839b9dbfea2": {
     "model_module": "@jupyter-widgets/base",
     "model_module_version": "1.2.0",
     "model_name": "LayoutModel",
     "state": {
      "_model_module": "@jupyter-widgets/base",
      "_model_module_version": "1.2.0",
      "_model_name": "LayoutModel",
      "_view_count": null,
      "_view_module": "@jupyter-widgets/base",
      "_view_module_version": "1.2.0",
      "_view_name": "LayoutView",
      "align_content": null,
      "align_items": null,
      "align_self": null,
      "border": null,
      "bottom": null,
      "display": null,
      "flex": null,
      "flex_flow": null,
      "grid_area": null,
      "grid_auto_columns": null,
      "grid_auto_flow": null,
      "grid_auto_rows": null,
      "grid_column": null,
      "grid_gap": null,
      "grid_row": null,
      "grid_template_areas": null,
      "grid_template_columns": null,
      "grid_template_rows": null,
      "height": null,
      "justify_content": null,
      "justify_items": null,
      "left": null,
      "margin": null,
      "max_height": null,
      "max_width": null,
      "min_height": null,
      "min_width": null,
      "object_fit": null,
      "object_position": null,
      "order": null,
      "overflow": null,
      "overflow_x": null,
      "overflow_y": null,
      "padding": null,
      "right": null,
      "top": null,
      "visibility": null,
      "width": null
     }
    },
    "a75a380ea21d4ce886aad666e21e35ea": {
     "model_module": "@jupyter-widgets/controls",
     "model_module_version": "1.5.0",
     "model_name": "HTMLModel",
     "state": {
      "_dom_classes": [],
      "_model_module": "@jupyter-widgets/controls",
      "_model_module_version": "1.5.0",
      "_model_name": "HTMLModel",
      "_view_count": null,
      "_view_module": "@jupyter-widgets/controls",
      "_view_module_version": "1.5.0",
      "_view_name": "HTMLView",
      "description": "",
      "description_tooltip": null,
      "layout": "IPY_MODEL_9ca3375ae07044a1b412e43c0c5c0e8f",
      "placeholder": "​",
      "style": "IPY_MODEL_0791c618a3a34ba59ba59dfe0d4d02f9",
      "value": " 2/2 [00:42&lt;00:00, 18.91s/it]"
     }
    },
    "aa0f2cac35344245b6302ee0f25feb7a": {
     "model_module": "@jupyter-widgets/controls",
     "model_module_version": "1.5.0",
     "model_name": "HTMLModel",
     "state": {
      "_dom_classes": [],
      "_model_module": "@jupyter-widgets/controls",
      "_model_module_version": "1.5.0",
      "_model_name": "HTMLModel",
      "_view_count": null,
      "_view_module": "@jupyter-widgets/controls",
      "_view_module_version": "1.5.0",
      "_view_name": "HTMLView",
      "description": "",
      "description_tooltip": null,
      "layout": "IPY_MODEL_3575f4d17f874cbfa9fc52f8de43005c",
      "placeholder": "​",
      "style": "IPY_MODEL_5bb292a2226a412392ef1d8651afe928",
      "value": " 825/825 [00:00&lt;00:00, 3367.46 examples/s]"
     }
    },
    "aa2846336d9b4cf882225289d8e0dac1": {
     "model_module": "@jupyter-widgets/controls",
     "model_module_version": "1.5.0",
     "model_name": "HBoxModel",
     "state": {
      "_dom_classes": [],
      "_model_module": "@jupyter-widgets/controls",
      "_model_module_version": "1.5.0",
      "_model_name": "HBoxModel",
      "_view_count": null,
      "_view_module": "@jupyter-widgets/controls",
      "_view_module_version": "1.5.0",
      "_view_name": "HBoxView",
      "box_style": "",
      "children": [
       "IPY_MODEL_efed024b56184c709946e2ef160dd753",
       "IPY_MODEL_15d1ffb89a704c448322b8b80e7c8f5b",
       "IPY_MODEL_8aba076f6dee45eeb327ed14251eee76"
      ],
      "layout": "IPY_MODEL_0f7a39497beb4abcbe8b4c90ee3f259a"
     }
    },
    "ad939714276d477ba456f1073ef45682": {
     "model_module": "@jupyter-widgets/base",
     "model_module_version": "1.2.0",
     "model_name": "LayoutModel",
     "state": {
      "_model_module": "@jupyter-widgets/base",
      "_model_module_version": "1.2.0",
      "_model_name": "LayoutModel",
      "_view_count": null,
      "_view_module": "@jupyter-widgets/base",
      "_view_module_version": "1.2.0",
      "_view_name": "LayoutView",
      "align_content": null,
      "align_items": null,
      "align_self": null,
      "border": null,
      "bottom": null,
      "display": null,
      "flex": null,
      "flex_flow": null,
      "grid_area": null,
      "grid_auto_columns": null,
      "grid_auto_flow": null,
      "grid_auto_rows": null,
      "grid_column": null,
      "grid_gap": null,
      "grid_row": null,
      "grid_template_areas": null,
      "grid_template_columns": null,
      "grid_template_rows": null,
      "height": null,
      "justify_content": null,
      "justify_items": null,
      "left": null,
      "margin": null,
      "max_height": null,
      "max_width": null,
      "min_height": null,
      "min_width": null,
      "object_fit": null,
      "object_position": null,
      "order": null,
      "overflow": null,
      "overflow_x": null,
      "overflow_y": null,
      "padding": null,
      "right": null,
      "top": null,
      "visibility": null,
      "width": null
     }
    },
    "af21f1bdd3cc483cb2a4cc0f3e33253e": {
     "model_module": "@jupyter-widgets/controls",
     "model_module_version": "1.5.0",
     "model_name": "FloatProgressModel",
     "state": {
      "_dom_classes": [],
      "_model_module": "@jupyter-widgets/controls",
      "_model_module_version": "1.5.0",
      "_model_name": "FloatProgressModel",
      "_view_count": null,
      "_view_module": "@jupyter-widgets/controls",
      "_view_module_version": "1.5.0",
      "_view_name": "ProgressView",
      "bar_style": "success",
      "description": "",
      "description_tooltip": null,
      "layout": "IPY_MODEL_720365f71c614535932f79fb5f1fcc77",
      "max": 20919,
      "min": 0,
      "orientation": "horizontal",
      "style": "IPY_MODEL_a467ebc0afe54c06b16f6924d055a2fc",
      "value": 20919
     }
    },
    "af422f9a2e4447479814dd3ddce5a941": {
     "model_module": "@jupyter-widgets/controls",
     "model_module_version": "1.5.0",
     "model_name": "ProgressStyleModel",
     "state": {
      "_model_module": "@jupyter-widgets/controls",
      "_model_module_version": "1.5.0",
      "_model_name": "ProgressStyleModel",
      "_view_count": null,
      "_view_module": "@jupyter-widgets/base",
      "_view_module_version": "1.2.0",
      "_view_name": "StyleView",
      "bar_color": null,
      "description_width": ""
     }
    },
    "b09e739794ff4370af2869ded52d2f32": {
     "model_module": "@jupyter-widgets/base",
     "model_module_version": "1.2.0",
     "model_name": "LayoutModel",
     "state": {
      "_model_module": "@jupyter-widgets/base",
      "_model_module_version": "1.2.0",
      "_model_name": "LayoutModel",
      "_view_count": null,
      "_view_module": "@jupyter-widgets/base",
      "_view_module_version": "1.2.0",
      "_view_name": "LayoutView",
      "align_content": null,
      "align_items": null,
      "align_self": null,
      "border": null,
      "bottom": null,
      "display": null,
      "flex": null,
      "flex_flow": null,
      "grid_area": null,
      "grid_auto_columns": null,
      "grid_auto_flow": null,
      "grid_auto_rows": null,
      "grid_column": null,
      "grid_gap": null,
      "grid_row": null,
      "grid_template_areas": null,
      "grid_template_columns": null,
      "grid_template_rows": null,
      "height": null,
      "justify_content": null,
      "justify_items": null,
      "left": null,
      "margin": null,
      "max_height": null,
      "max_width": null,
      "min_height": null,
      "min_width": null,
      "object_fit": null,
      "object_position": null,
      "order": null,
      "overflow": null,
      "overflow_x": null,
      "overflow_y": null,
      "padding": null,
      "right": null,
      "top": null,
      "visibility": null,
      "width": null
     }
    },
    "b140f2f913c44722892d403a6cd33dd8": {
     "model_module": "@jupyter-widgets/controls",
     "model_module_version": "1.5.0",
     "model_name": "DescriptionStyleModel",
     "state": {
      "_model_module": "@jupyter-widgets/controls",
      "_model_module_version": "1.5.0",
      "_model_name": "DescriptionStyleModel",
      "_view_count": null,
      "_view_module": "@jupyter-widgets/base",
      "_view_module_version": "1.2.0",
      "_view_name": "StyleView",
      "description_width": ""
     }
    },
    "b1b152287c5544a8a0abeef0d2187c70": {
     "model_module": "@jupyter-widgets/controls",
     "model_module_version": "1.5.0",
     "model_name": "HTMLModel",
     "state": {
      "_dom_classes": [],
      "_model_module": "@jupyter-widgets/controls",
      "_model_module_version": "1.5.0",
      "_model_name": "HTMLModel",
      "_view_count": null,
      "_view_module": "@jupyter-widgets/controls",
      "_view_module_version": "1.5.0",
      "_view_name": "HTMLView",
      "description": "",
      "description_tooltip": null,
      "layout": "IPY_MODEL_93a0a7f4e723428bade772c0885b50da",
      "placeholder": "​",
      "style": "IPY_MODEL_866d36ce757d41cbb575f5f15965c5e5",
      "value": " 54.5k/54.5k [00:00&lt;00:00, 2.06MB/s]"
     }
    },
    "b41769d6bec5450ab9e6aad7bda41494": {
     "model_module": "@jupyter-widgets/base",
     "model_module_version": "1.2.0",
     "model_name": "LayoutModel",
     "state": {
      "_model_module": "@jupyter-widgets/base",
      "_model_module_version": "1.2.0",
      "_model_name": "LayoutModel",
      "_view_count": null,
      "_view_module": "@jupyter-widgets/base",
      "_view_module_version": "1.2.0",
      "_view_name": "LayoutView",
      "align_content": null,
      "align_items": null,
      "align_self": null,
      "border": null,
      "bottom": null,
      "display": null,
      "flex": null,
      "flex_flow": null,
      "grid_area": null,
      "grid_auto_columns": null,
      "grid_auto_flow": null,
      "grid_auto_rows": null,
      "grid_column": null,
      "grid_gap": null,
      "grid_row": null,
      "grid_template_areas": null,
      "grid_template_columns": null,
      "grid_template_rows": null,
      "height": null,
      "justify_content": null,
      "justify_items": null,
      "left": null,
      "margin": null,
      "max_height": null,
      "max_width": null,
      "min_height": null,
      "min_width": null,
      "object_fit": null,
      "object_position": null,
      "order": null,
      "overflow": null,
      "overflow_x": null,
      "overflow_y": null,
      "padding": null,
      "right": null,
      "top": null,
      "visibility": null,
      "width": null
     }
    },
    "b54010d9bffa42bba81658cded80ddb6": {
     "model_module": "@jupyter-widgets/controls",
     "model_module_version": "1.5.0",
     "model_name": "DescriptionStyleModel",
     "state": {
      "_model_module": "@jupyter-widgets/controls",
      "_model_module_version": "1.5.0",
      "_model_name": "DescriptionStyleModel",
      "_view_count": null,
      "_view_module": "@jupyter-widgets/base",
      "_view_module_version": "1.2.0",
      "_view_name": "StyleView",
      "description_width": ""
     }
    },
    "b5a24d9fdc814799be91d06ec4cb0d44": {
     "model_module": "@jupyter-widgets/controls",
     "model_module_version": "1.5.0",
     "model_name": "HBoxModel",
     "state": {
      "_dom_classes": [],
      "_model_module": "@jupyter-widgets/controls",
      "_model_module_version": "1.5.0",
      "_model_name": "HBoxModel",
      "_view_count": null,
      "_view_module": "@jupyter-widgets/controls",
      "_view_module_version": "1.5.0",
      "_view_name": "HBoxView",
      "box_style": "",
      "children": [
       "IPY_MODEL_8f5d3c9243d14701a60bbe1e68afd9f6",
       "IPY_MODEL_e0ccd7513bc4429fba5b3f735c7b9ad7",
       "IPY_MODEL_dfef4d70d6b74bbfa15bc9162bbd86f6"
      ],
      "layout": "IPY_MODEL_218066a8953c4127b79e39e3334eca6e"
     }
    },
    "b6544b9321f342e59a581a347a3aa840": {
     "model_module": "@jupyter-widgets/controls",
     "model_module_version": "1.5.0",
     "model_name": "HTMLModel",
     "state": {
      "_dom_classes": [],
      "_model_module": "@jupyter-widgets/controls",
      "_model_module_version": "1.5.0",
      "_model_name": "HTMLModel",
      "_view_count": null,
      "_view_module": "@jupyter-widgets/controls",
      "_view_module_version": "1.5.0",
      "_view_name": "HTMLView",
      "description": "",
      "description_tooltip": null,
      "layout": "IPY_MODEL_b41769d6bec5450ab9e6aad7bda41494",
      "placeholder": "​",
      "style": "IPY_MODEL_b54010d9bffa42bba81658cded80ddb6",
      "value": "Map: 100%"
     }
    },
    "b8ec23c080fd4c298f79b32c8e8956cc": {
     "model_module": "@jupyter-widgets/controls",
     "model_module_version": "1.5.0",
     "model_name": "ProgressStyleModel",
     "state": {
      "_model_module": "@jupyter-widgets/controls",
      "_model_module_version": "1.5.0",
      "_model_name": "ProgressStyleModel",
      "_view_count": null,
      "_view_module": "@jupyter-widgets/base",
      "_view_module_version": "1.2.0",
      "_view_name": "StyleView",
      "bar_color": null,
      "description_width": ""
     }
    },
    "bacd1b811ef24ef383db3d285e16e627": {
     "model_module": "@jupyter-widgets/controls",
     "model_module_version": "1.5.0",
     "model_name": "HTMLModel",
     "state": {
      "_dom_classes": [],
      "_model_module": "@jupyter-widgets/controls",
      "_model_module_version": "1.5.0",
      "_model_name": "HTMLModel",
      "_view_count": null,
      "_view_module": "@jupyter-widgets/controls",
      "_view_module_version": "1.5.0",
      "_view_name": "HTMLView",
      "description": "",
      "description_tooltip": null,
      "layout": "IPY_MODEL_0b2f42f1462d4c7e8c474bbcdbd5148e",
      "placeholder": "​",
      "style": "IPY_MODEL_f649eb220b714d9fbd6431150c6df251",
      "value": "Loading checkpoint shards: 100%"
     }
    },
    "bb915c50b150481aa29f5dcf286ae13e": {
     "model_module": "@jupyter-widgets/controls",
     "model_module_version": "1.5.0",
     "model_name": "DescriptionStyleModel",
     "state": {
      "_model_module": "@jupyter-widgets/controls",
      "_model_module_version": "1.5.0",
      "_model_name": "DescriptionStyleModel",
      "_view_count": null,
      "_view_module": "@jupyter-widgets/base",
      "_view_module_version": "1.2.0",
      "_view_name": "StyleView",
      "description_width": ""
     }
    },
    "bdf5fc2104c34df0a2295d39e467c477": {
     "model_module": "@jupyter-widgets/base",
     "model_module_version": "1.2.0",
     "model_name": "LayoutModel",
     "state": {
      "_model_module": "@jupyter-widgets/base",
      "_model_module_version": "1.2.0",
      "_model_name": "LayoutModel",
      "_view_count": null,
      "_view_module": "@jupyter-widgets/base",
      "_view_module_version": "1.2.0",
      "_view_name": "LayoutView",
      "align_content": null,
      "align_items": null,
      "align_self": null,
      "border": null,
      "bottom": null,
      "display": null,
      "flex": null,
      "flex_flow": null,
      "grid_area": null,
      "grid_auto_columns": null,
      "grid_auto_flow": null,
      "grid_auto_rows": null,
      "grid_column": null,
      "grid_gap": null,
      "grid_row": null,
      "grid_template_areas": null,
      "grid_template_columns": null,
      "grid_template_rows": null,
      "height": null,
      "justify_content": null,
      "justify_items": null,
      "left": null,
      "margin": null,
      "max_height": null,
      "max_width": null,
      "min_height": null,
      "min_width": null,
      "object_fit": null,
      "object_position": null,
      "order": null,
      "overflow": null,
      "overflow_x": null,
      "overflow_y": null,
      "padding": null,
      "right": null,
      "top": null,
      "visibility": null,
      "width": null
     }
    },
    "be3c43ab84314596a9dea512d4effbe3": {
     "model_module": "@jupyter-widgets/controls",
     "model_module_version": "1.5.0",
     "model_name": "HBoxModel",
     "state": {
      "_dom_classes": [],
      "_model_module": "@jupyter-widgets/controls",
      "_model_module_version": "1.5.0",
      "_model_name": "HBoxModel",
      "_view_count": null,
      "_view_module": "@jupyter-widgets/controls",
      "_view_module_version": "1.5.0",
      "_view_name": "HBoxView",
      "box_style": "",
      "children": [
       "IPY_MODEL_f3e60f66cf024f0386c53b23a88bda2e",
       "IPY_MODEL_3dc23b647a904bd7aed7453a84de18b0",
       "IPY_MODEL_aa0f2cac35344245b6302ee0f25feb7a"
      ],
      "layout": "IPY_MODEL_df8be4b12aa84a2cb8f4003fa3175d09"
     }
    },
    "c002505e367c486d8ba7987daf4ee8de": {
     "model_module": "@jupyter-widgets/controls",
     "model_module_version": "1.5.0",
     "model_name": "HBoxModel",
     "state": {
      "_dom_classes": [],
      "_model_module": "@jupyter-widgets/controls",
      "_model_module_version": "1.5.0",
      "_model_name": "HBoxModel",
      "_view_count": null,
      "_view_module": "@jupyter-widgets/controls",
      "_view_module_version": "1.5.0",
      "_view_name": "HBoxView",
      "box_style": "",
      "children": [
       "IPY_MODEL_bacd1b811ef24ef383db3d285e16e627",
       "IPY_MODEL_69b095827fea413e9028d44c0db94ed1",
       "IPY_MODEL_553cff7b5fec482799a2a7858707b1fb"
      ],
      "layout": "IPY_MODEL_b09e739794ff4370af2869ded52d2f32"
     }
    },
    "c156e6bfc7e64383b7be90d1820d3214": {
     "model_module": "@jupyter-widgets/controls",
     "model_module_version": "1.5.0",
     "model_name": "DescriptionStyleModel",
     "state": {
      "_model_module": "@jupyter-widgets/controls",
      "_model_module_version": "1.5.0",
      "_model_name": "DescriptionStyleModel",
      "_view_count": null,
      "_view_module": "@jupyter-widgets/base",
      "_view_module_version": "1.2.0",
      "_view_name": "StyleView",
      "description_width": ""
     }
    },
    "c3646e44b2464e7abfca219801baf0fe": {
     "model_module": "@jupyter-widgets/base",
     "model_module_version": "1.2.0",
     "model_name": "LayoutModel",
     "state": {
      "_model_module": "@jupyter-widgets/base",
      "_model_module_version": "1.2.0",
      "_model_name": "LayoutModel",
      "_view_count": null,
      "_view_module": "@jupyter-widgets/base",
      "_view_module_version": "1.2.0",
      "_view_name": "LayoutView",
      "align_content": null,
      "align_items": null,
      "align_self": null,
      "border": null,
      "bottom": null,
      "display": null,
      "flex": null,
      "flex_flow": null,
      "grid_area": null,
      "grid_auto_columns": null,
      "grid_auto_flow": null,
      "grid_auto_rows": null,
      "grid_column": null,
      "grid_gap": null,
      "grid_row": null,
      "grid_template_areas": null,
      "grid_template_columns": null,
      "grid_template_rows": null,
      "height": null,
      "justify_content": null,
      "justify_items": null,
      "left": null,
      "margin": null,
      "max_height": null,
      "max_width": null,
      "min_height": null,
      "min_width": null,
      "object_fit": null,
      "object_position": null,
      "order": null,
      "overflow": null,
      "overflow_x": null,
      "overflow_y": null,
      "padding": null,
      "right": null,
      "top": null,
      "visibility": null,
      "width": null
     }
    },
    "c5fef224302d4e87aead1bf15d348fb8": {
     "model_module": "@jupyter-widgets/controls",
     "model_module_version": "1.5.0",
     "model_name": "ProgressStyleModel",
     "state": {
      "_model_module": "@jupyter-widgets/controls",
      "_model_module_version": "1.5.0",
      "_model_name": "ProgressStyleModel",
      "_view_count": null,
      "_view_module": "@jupyter-widgets/base",
      "_view_module_version": "1.2.0",
      "_view_name": "StyleView",
      "bar_color": null,
      "description_width": ""
     }
    },
    "c8685c2495ff49318da08067257fdcef": {
     "model_module": "@jupyter-widgets/controls",
     "model_module_version": "1.5.0",
     "model_name": "ProgressStyleModel",
     "state": {
      "_model_module": "@jupyter-widgets/controls",
      "_model_module_version": "1.5.0",
      "_model_name": "ProgressStyleModel",
      "_view_count": null,
      "_view_module": "@jupyter-widgets/base",
      "_view_module_version": "1.2.0",
      "_view_name": "StyleView",
      "bar_color": null,
      "description_width": ""
     }
    },
    "c9c4284c823948f0a72375ff77130af2": {
     "model_module": "@jupyter-widgets/base",
     "model_module_version": "1.2.0",
     "model_name": "LayoutModel",
     "state": {
      "_model_module": "@jupyter-widgets/base",
      "_model_module_version": "1.2.0",
      "_model_name": "LayoutModel",
      "_view_count": null,
      "_view_module": "@jupyter-widgets/base",
      "_view_module_version": "1.2.0",
      "_view_name": "LayoutView",
      "align_content": null,
      "align_items": null,
      "align_self": null,
      "border": null,
      "bottom": null,
      "display": null,
      "flex": null,
      "flex_flow": null,
      "grid_area": null,
      "grid_auto_columns": null,
      "grid_auto_flow": null,
      "grid_auto_rows": null,
      "grid_column": null,
      "grid_gap": null,
      "grid_row": null,
      "grid_template_areas": null,
      "grid_template_columns": null,
      "grid_template_rows": null,
      "height": null,
      "justify_content": null,
      "justify_items": null,
      "left": null,
      "margin": null,
      "max_height": null,
      "max_width": null,
      "min_height": null,
      "min_width": null,
      "object_fit": null,
      "object_position": null,
      "order": null,
      "overflow": null,
      "overflow_x": null,
      "overflow_y": null,
      "padding": null,
      "right": null,
      "top": null,
      "visibility": null,
      "width": null
     }
    },
    "cd02757692514e8f8ad688a5403da721": {
     "model_module": "@jupyter-widgets/controls",
     "model_module_version": "1.5.0",
     "model_name": "DescriptionStyleModel",
     "state": {
      "_model_module": "@jupyter-widgets/controls",
      "_model_module_version": "1.5.0",
      "_model_name": "DescriptionStyleModel",
      "_view_count": null,
      "_view_module": "@jupyter-widgets/base",
      "_view_module_version": "1.2.0",
      "_view_name": "StyleView",
      "description_width": ""
     }
    },
    "ce8a7c0783cc42c89764f76c044efbc5": {
     "model_module": "@jupyter-widgets/base",
     "model_module_version": "1.2.0",
     "model_name": "LayoutModel",
     "state": {
      "_model_module": "@jupyter-widgets/base",
      "_model_module_version": "1.2.0",
      "_model_name": "LayoutModel",
      "_view_count": null,
      "_view_module": "@jupyter-widgets/base",
      "_view_module_version": "1.2.0",
      "_view_name": "LayoutView",
      "align_content": null,
      "align_items": null,
      "align_self": null,
      "border": null,
      "bottom": null,
      "display": null,
      "flex": null,
      "flex_flow": null,
      "grid_area": null,
      "grid_auto_columns": null,
      "grid_auto_flow": null,
      "grid_auto_rows": null,
      "grid_column": null,
      "grid_gap": null,
      "grid_row": null,
      "grid_template_areas": null,
      "grid_template_columns": null,
      "grid_template_rows": null,
      "height": null,
      "justify_content": null,
      "justify_items": null,
      "left": null,
      "margin": null,
      "max_height": null,
      "max_width": null,
      "min_height": null,
      "min_width": null,
      "object_fit": null,
      "object_position": null,
      "order": null,
      "overflow": null,
      "overflow_x": null,
      "overflow_y": null,
      "padding": null,
      "right": null,
      "top": null,
      "visibility": null,
      "width": null
     }
    },
    "d1bf10e271334389a1e9e6264a96a4b5": {
     "model_module": "@jupyter-widgets/controls",
     "model_module_version": "1.5.0",
     "model_name": "DescriptionStyleModel",
     "state": {
      "_model_module": "@jupyter-widgets/controls",
      "_model_module_version": "1.5.0",
      "_model_name": "DescriptionStyleModel",
      "_view_count": null,
      "_view_module": "@jupyter-widgets/base",
      "_view_module_version": "1.2.0",
      "_view_name": "StyleView",
      "description_width": ""
     }
    },
    "d23e535611664fa29eadd84ae0ed7967": {
     "model_module": "@jupyter-widgets/controls",
     "model_module_version": "1.5.0",
     "model_name": "HBoxModel",
     "state": {
      "_dom_classes": [],
      "_model_module": "@jupyter-widgets/controls",
      "_model_module_version": "1.5.0",
      "_model_name": "HBoxModel",
      "_view_count": null,
      "_view_module": "@jupyter-widgets/controls",
      "_view_module_version": "1.5.0",
      "_view_name": "HBoxView",
      "box_style": "",
      "children": [
       "IPY_MODEL_031747c78d66487293af01f936351a37",
       "IPY_MODEL_769bc8affbba413491ac05d742644719",
       "IPY_MODEL_b1b152287c5544a8a0abeef0d2187c70"
      ],
      "layout": "IPY_MODEL_7148e3df2e9a42f1b0158c29613f5bc7"
     }
    },
    "d3f6916919104d2da9825105fa84e6a6": {
     "model_module": "@jupyter-widgets/controls",
     "model_module_version": "1.5.0",
     "model_name": "HBoxModel",
     "state": {
      "_dom_classes": [],
      "_model_module": "@jupyter-widgets/controls",
      "_model_module_version": "1.5.0",
      "_model_name": "HBoxModel",
      "_view_count": null,
      "_view_module": "@jupyter-widgets/controls",
      "_view_module_version": "1.5.0",
      "_view_name": "HBoxView",
      "box_style": "",
      "children": [
       "IPY_MODEL_d43385c1455f40bf88aeda5a6b3e5ac1",
       "IPY_MODEL_79178840e6b94db0a148def3abe5f1c3",
       "IPY_MODEL_8fcd88283df44046b371c55a29df201d"
      ],
      "layout": "IPY_MODEL_3e785fb3843e4f269a2ff04cbce351d8"
     }
    },
    "d43385c1455f40bf88aeda5a6b3e5ac1": {
     "model_module": "@jupyter-widgets/controls",
     "model_module_version": "1.5.0",
     "model_name": "HTMLModel",
     "state": {
      "_dom_classes": [],
      "_model_module": "@jupyter-widgets/controls",
      "_model_module_version": "1.5.0",
      "_model_name": "HTMLModel",
      "_view_count": null,
      "_view_module": "@jupyter-widgets/controls",
      "_view_module_version": "1.5.0",
      "_view_name": "HTMLView",
      "description": "",
      "description_tooltip": null,
      "layout": "IPY_MODEL_dc4a068ce3fe4064bb0d878ac1ec2458",
      "placeholder": "​",
      "style": "IPY_MODEL_9efa1a0bfb2342dc9c94884f0efadda2",
      "value": "generation_config.json: 100%"
     }
    },
    "d4965042c47b46da92e1a898be337503": {
     "model_module": "@jupyter-widgets/controls",
     "model_module_version": "1.5.0",
     "model_name": "DescriptionStyleModel",
     "state": {
      "_model_module": "@jupyter-widgets/controls",
      "_model_module_version": "1.5.0",
      "_model_name": "DescriptionStyleModel",
      "_view_count": null,
      "_view_module": "@jupyter-widgets/base",
      "_view_module_version": "1.2.0",
      "_view_name": "StyleView",
      "description_width": ""
     }
    },
    "dc4a068ce3fe4064bb0d878ac1ec2458": {
     "model_module": "@jupyter-widgets/base",
     "model_module_version": "1.2.0",
     "model_name": "LayoutModel",
     "state": {
      "_model_module": "@jupyter-widgets/base",
      "_model_module_version": "1.2.0",
      "_model_name": "LayoutModel",
      "_view_count": null,
      "_view_module": "@jupyter-widgets/base",
      "_view_module_version": "1.2.0",
      "_view_name": "LayoutView",
      "align_content": null,
      "align_items": null,
      "align_self": null,
      "border": null,
      "bottom": null,
      "display": null,
      "flex": null,
      "flex_flow": null,
      "grid_area": null,
      "grid_auto_columns": null,
      "grid_auto_flow": null,
      "grid_auto_rows": null,
      "grid_column": null,
      "grid_gap": null,
      "grid_row": null,
      "grid_template_areas": null,
      "grid_template_columns": null,
      "grid_template_rows": null,
      "height": null,
      "justify_content": null,
      "justify_items": null,
      "left": null,
      "margin": null,
      "max_height": null,
      "max_width": null,
      "min_height": null,
      "min_width": null,
      "object_fit": null,
      "object_position": null,
      "order": null,
      "overflow": null,
      "overflow_x": null,
      "overflow_y": null,
      "padding": null,
      "right": null,
      "top": null,
      "visibility": null,
      "width": null
     }
    },
    "de028751e07e44b58bf6eb248d8d1220": {
     "model_module": "@jupyter-widgets/controls",
     "model_module_version": "1.5.0",
     "model_name": "DescriptionStyleModel",
     "state": {
      "_model_module": "@jupyter-widgets/controls",
      "_model_module_version": "1.5.0",
      "_model_name": "DescriptionStyleModel",
      "_view_count": null,
      "_view_module": "@jupyter-widgets/base",
      "_view_module_version": "1.2.0",
      "_view_name": "StyleView",
      "description_width": ""
     }
    },
    "df8be4b12aa84a2cb8f4003fa3175d09": {
     "model_module": "@jupyter-widgets/base",
     "model_module_version": "1.2.0",
     "model_name": "LayoutModel",
     "state": {
      "_model_module": "@jupyter-widgets/base",
      "_model_module_version": "1.2.0",
      "_model_name": "LayoutModel",
      "_view_count": null,
      "_view_module": "@jupyter-widgets/base",
      "_view_module_version": "1.2.0",
      "_view_name": "LayoutView",
      "align_content": null,
      "align_items": null,
      "align_self": null,
      "border": null,
      "bottom": null,
      "display": null,
      "flex": null,
      "flex_flow": null,
      "grid_area": null,
      "grid_auto_columns": null,
      "grid_auto_flow": null,
      "grid_auto_rows": null,
      "grid_column": null,
      "grid_gap": null,
      "grid_row": null,
      "grid_template_areas": null,
      "grid_template_columns": null,
      "grid_template_rows": null,
      "height": null,
      "justify_content": null,
      "justify_items": null,
      "left": null,
      "margin": null,
      "max_height": null,
      "max_width": null,
      "min_height": null,
      "min_width": null,
      "object_fit": null,
      "object_position": null,
      "order": null,
      "overflow": null,
      "overflow_x": null,
      "overflow_y": null,
      "padding": null,
      "right": null,
      "top": null,
      "visibility": null,
      "width": null
     }
    },
    "dfef4d70d6b74bbfa15bc9162bbd86f6": {
     "model_module": "@jupyter-widgets/controls",
     "model_module_version": "1.5.0",
     "model_name": "HTMLModel",
     "state": {
      "_dom_classes": [],
      "_model_module": "@jupyter-widgets/controls",
      "_model_module_version": "1.5.0",
      "_model_name": "HTMLModel",
      "_view_count": null,
      "_view_module": "@jupyter-widgets/controls",
      "_view_module_version": "1.5.0",
      "_view_name": "HTMLView",
      "description": "",
      "description_tooltip": null,
      "layout": "IPY_MODEL_956c9b6f60374d45aa3f662efc32777e",
      "placeholder": "​",
      "style": "IPY_MODEL_884a03303076488abdd5c2bf71604013",
      "value": " 825/825 [00:00&lt;00:00, 8331.79 examples/s]"
     }
    },
    "e0ccd7513bc4429fba5b3f735c7b9ad7": {
     "model_module": "@jupyter-widgets/controls",
     "model_module_version": "1.5.0",
     "model_name": "FloatProgressModel",
     "state": {
      "_dom_classes": [],
      "_model_module": "@jupyter-widgets/controls",
      "_model_module_version": "1.5.0",
      "_model_name": "FloatProgressModel",
      "_view_count": null,
      "_view_module": "@jupyter-widgets/controls",
      "_view_module_version": "1.5.0",
      "_view_name": "ProgressView",
      "bar_style": "success",
      "description": "",
      "description_tooltip": null,
      "layout": "IPY_MODEL_3e30bb4b98e34eabbbba29841a23bc50",
      "max": 825,
      "min": 0,
      "orientation": "horizontal",
      "style": "IPY_MODEL_905601a6e30c4ad493dbbec24d4e2edf",
      "value": 825
     }
    },
    "e228b6ae7512414e82e82b856f721153": {
     "model_module": "@jupyter-widgets/controls",
     "model_module_version": "1.5.0",
     "model_name": "HTMLModel",
     "state": {
      "_dom_classes": [],
      "_model_module": "@jupyter-widgets/controls",
      "_model_module_version": "1.5.0",
      "_model_name": "HTMLModel",
      "_view_count": null,
      "_view_module": "@jupyter-widgets/controls",
      "_view_module_version": "1.5.0",
      "_view_name": "HTMLView",
      "description": "",
      "description_tooltip": null,
      "layout": "IPY_MODEL_65d05c216d13496abde24ca168e12536",
      "placeholder": "​",
      "style": "IPY_MODEL_4964bbc762ac462ea5a549d145ef1138",
      "value": "Loading checkpoint shards: 100%"
     }
    },
    "e36aaf1ccafa4d98b86f071952bd8565": {
     "model_module": "@jupyter-widgets/controls",
     "model_module_version": "1.5.0",
     "model_name": "HBoxModel",
     "state": {
      "_dom_classes": [],
      "_model_module": "@jupyter-widgets/controls",
      "_model_module_version": "1.5.0",
      "_model_name": "HBoxModel",
      "_view_count": null,
      "_view_module": "@jupyter-widgets/controls",
      "_view_module_version": "1.5.0",
      "_view_name": "HBoxView",
      "box_style": "",
      "children": [
       "IPY_MODEL_4d6ce9c5fdab458eb621a3171e9fc634",
       "IPY_MODEL_1d94761aabde4c26b9181a77a8d1d9ce",
       "IPY_MODEL_241e11bf87c348cea4da3c05dcdfe4eb"
      ],
      "layout": "IPY_MODEL_fe4e675cc09349edbe4b3d92dfa94066"
     }
    },
    "e56fd2eb56e04e7587173f05decd3f1e": {
     "model_module": "@jupyter-widgets/base",
     "model_module_version": "1.2.0",
     "model_name": "LayoutModel",
     "state": {
      "_model_module": "@jupyter-widgets/base",
      "_model_module_version": "1.2.0",
      "_model_name": "LayoutModel",
      "_view_count": null,
      "_view_module": "@jupyter-widgets/base",
      "_view_module_version": "1.2.0",
      "_view_name": "LayoutView",
      "align_content": null,
      "align_items": null,
      "align_self": null,
      "border": null,
      "bottom": null,
      "display": null,
      "flex": null,
      "flex_flow": null,
      "grid_area": null,
      "grid_auto_columns": null,
      "grid_auto_flow": null,
      "grid_auto_rows": null,
      "grid_column": null,
      "grid_gap": null,
      "grid_row": null,
      "grid_template_areas": null,
      "grid_template_columns": null,
      "grid_template_rows": null,
      "height": null,
      "justify_content": null,
      "justify_items": null,
      "left": null,
      "margin": null,
      "max_height": null,
      "max_width": null,
      "min_height": null,
      "min_width": null,
      "object_fit": null,
      "object_position": null,
      "order": null,
      "overflow": null,
      "overflow_x": null,
      "overflow_y": null,
      "padding": null,
      "right": null,
      "top": null,
      "visibility": null,
      "width": null
     }
    },
    "e6288d7bf2cb4464938cb70d0408bc13": {
     "model_module": "@jupyter-widgets/base",
     "model_module_version": "1.2.0",
     "model_name": "LayoutModel",
     "state": {
      "_model_module": "@jupyter-widgets/base",
      "_model_module_version": "1.2.0",
      "_model_name": "LayoutModel",
      "_view_count": null,
      "_view_module": "@jupyter-widgets/base",
      "_view_module_version": "1.2.0",
      "_view_name": "LayoutView",
      "align_content": null,
      "align_items": null,
      "align_self": null,
      "border": null,
      "bottom": null,
      "display": null,
      "flex": null,
      "flex_flow": null,
      "grid_area": null,
      "grid_auto_columns": null,
      "grid_auto_flow": null,
      "grid_auto_rows": null,
      "grid_column": null,
      "grid_gap": null,
      "grid_row": null,
      "grid_template_areas": null,
      "grid_template_columns": null,
      "grid_template_rows": null,
      "height": null,
      "justify_content": null,
      "justify_items": null,
      "left": null,
      "margin": null,
      "max_height": null,
      "max_width": null,
      "min_height": null,
      "min_width": null,
      "object_fit": null,
      "object_position": null,
      "order": null,
      "overflow": null,
      "overflow_x": null,
      "overflow_y": null,
      "padding": null,
      "right": null,
      "top": null,
      "visibility": null,
      "width": null
     }
    },
    "e66d15077bf6460981fb76717a48be22": {
     "model_module": "@jupyter-widgets/controls",
     "model_module_version": "1.5.0",
     "model_name": "FloatProgressModel",
     "state": {
      "_dom_classes": [],
      "_model_module": "@jupyter-widgets/controls",
      "_model_module_version": "1.5.0",
      "_model_name": "FloatProgressModel",
      "_view_count": null,
      "_view_module": "@jupyter-widgets/controls",
      "_view_module_version": "1.5.0",
      "_view_name": "ProgressView",
      "bar_style": "success",
      "description": "",
      "description_tooltip": null,
      "layout": "IPY_MODEL_c3646e44b2464e7abfca219801baf0fe",
      "max": 2,
      "min": 0,
      "orientation": "horizontal",
      "style": "IPY_MODEL_f27fae556a274151bf5c22997fddd4ea",
      "value": 2
     }
    },
    "e865493f92764ad8a67305bbd19f64d5": {
     "model_module": "@jupyter-widgets/controls",
     "model_module_version": "1.5.0",
     "model_name": "HTMLModel",
     "state": {
      "_dom_classes": [],
      "_model_module": "@jupyter-widgets/controls",
      "_model_module_version": "1.5.0",
      "_model_name": "HTMLModel",
      "_view_count": null,
      "_view_module": "@jupyter-widgets/controls",
      "_view_module_version": "1.5.0",
      "_view_name": "HTMLView",
      "description": "",
      "description_tooltip": null,
      "layout": "IPY_MODEL_14616b438a0f4307b5759c774c64822e",
      "placeholder": "​",
      "style": "IPY_MODEL_27ea55a574f24a22bc8172ec749e4c70",
      "value": "pytorch_model-00001-of-00002.bin: 100%"
     }
    },
    "e907208de5424864bb617185dfa15b7e": {
     "model_module": "@jupyter-widgets/base",
     "model_module_version": "1.2.0",
     "model_name": "LayoutModel",
     "state": {
      "_model_module": "@jupyter-widgets/base",
      "_model_module_version": "1.2.0",
      "_model_name": "LayoutModel",
      "_view_count": null,
      "_view_module": "@jupyter-widgets/base",
      "_view_module_version": "1.2.0",
      "_view_name": "LayoutView",
      "align_content": null,
      "align_items": null,
      "align_self": null,
      "border": null,
      "bottom": null,
      "display": null,
      "flex": null,
      "flex_flow": null,
      "grid_area": null,
      "grid_auto_columns": null,
      "grid_auto_flow": null,
      "grid_auto_rows": null,
      "grid_column": null,
      "grid_gap": null,
      "grid_row": null,
      "grid_template_areas": null,
      "grid_template_columns": null,
      "grid_template_rows": null,
      "height": null,
      "justify_content": null,
      "justify_items": null,
      "left": null,
      "margin": null,
      "max_height": null,
      "max_width": null,
      "min_height": null,
      "min_width": null,
      "object_fit": null,
      "object_position": null,
      "order": null,
      "overflow": null,
      "overflow_x": null,
      "overflow_y": null,
      "padding": null,
      "right": null,
      "top": null,
      "visibility": null,
      "width": null
     }
    },
    "e94cb5400dba42eab5d1278ed20de0b4": {
     "model_module": "@jupyter-widgets/controls",
     "model_module_version": "1.5.0",
     "model_name": "ProgressStyleModel",
     "state": {
      "_model_module": "@jupyter-widgets/controls",
      "_model_module_version": "1.5.0",
      "_model_name": "ProgressStyleModel",
      "_view_count": null,
      "_view_module": "@jupyter-widgets/base",
      "_view_module_version": "1.2.0",
      "_view_name": "StyleView",
      "bar_color": null,
      "description_width": ""
     }
    },
    "eb3f462ef5384ef4aeb14340d0fa3486": {
     "model_module": "@jupyter-widgets/controls",
     "model_module_version": "1.5.0",
     "model_name": "HBoxModel",
     "state": {
      "_dom_classes": [],
      "_model_module": "@jupyter-widgets/controls",
      "_model_module_version": "1.5.0",
      "_model_name": "HBoxModel",
      "_view_count": null,
      "_view_module": "@jupyter-widgets/controls",
      "_view_module_version": "1.5.0",
      "_view_name": "HBoxView",
      "box_style": "",
      "children": [
       "IPY_MODEL_9587d902b86148958590b637a20b6d4f",
       "IPY_MODEL_75451471e52e440eaa0910ea5751669b",
       "IPY_MODEL_2e84cc3c1e064f86bf4460042d33b42c"
      ],
      "layout": "IPY_MODEL_0dd017e90a694127b0d0eb41f8c5f18b"
     }
    },
    "ebd890b013df4098b29f0d244bd57efe": {
     "model_module": "@jupyter-widgets/controls",
     "model_module_version": "1.5.0",
     "model_name": "DescriptionStyleModel",
     "state": {
      "_model_module": "@jupyter-widgets/controls",
      "_model_module_version": "1.5.0",
      "_model_name": "DescriptionStyleModel",
      "_view_count": null,
      "_view_module": "@jupyter-widgets/base",
      "_view_module_version": "1.2.0",
      "_view_name": "StyleView",
      "description_width": ""
     }
    },
    "ec142cc682d64d9a9e119af04b1f4022": {
     "model_module": "@jupyter-widgets/base",
     "model_module_version": "1.2.0",
     "model_name": "LayoutModel",
     "state": {
      "_model_module": "@jupyter-widgets/base",
      "_model_module_version": "1.2.0",
      "_model_name": "LayoutModel",
      "_view_count": null,
      "_view_module": "@jupyter-widgets/base",
      "_view_module_version": "1.2.0",
      "_view_name": "LayoutView",
      "align_content": null,
      "align_items": null,
      "align_self": null,
      "border": null,
      "bottom": null,
      "display": null,
      "flex": null,
      "flex_flow": null,
      "grid_area": null,
      "grid_auto_columns": null,
      "grid_auto_flow": null,
      "grid_auto_rows": null,
      "grid_column": null,
      "grid_gap": null,
      "grid_row": null,
      "grid_template_areas": null,
      "grid_template_columns": null,
      "grid_template_rows": null,
      "height": null,
      "justify_content": null,
      "justify_items": null,
      "left": null,
      "margin": null,
      "max_height": null,
      "max_width": null,
      "min_height": null,
      "min_width": null,
      "object_fit": null,
      "object_position": null,
      "order": null,
      "overflow": null,
      "overflow_x": null,
      "overflow_y": null,
      "padding": null,
      "right": null,
      "top": null,
      "visibility": null,
      "width": null
     }
    },
    "eca4aef07dc04a61b91eac64776fb10c": {
     "model_module": "@jupyter-widgets/base",
     "model_module_version": "1.2.0",
     "model_name": "LayoutModel",
     "state": {
      "_model_module": "@jupyter-widgets/base",
      "_model_module_version": "1.2.0",
      "_model_name": "LayoutModel",
      "_view_count": null,
      "_view_module": "@jupyter-widgets/base",
      "_view_module_version": "1.2.0",
      "_view_name": "LayoutView",
      "align_content": null,
      "align_items": null,
      "align_self": null,
      "border": null,
      "bottom": null,
      "display": null,
      "flex": null,
      "flex_flow": null,
      "grid_area": null,
      "grid_auto_columns": null,
      "grid_auto_flow": null,
      "grid_auto_rows": null,
      "grid_column": null,
      "grid_gap": null,
      "grid_row": null,
      "grid_template_areas": null,
      "grid_template_columns": null,
      "grid_template_rows": null,
      "height": null,
      "justify_content": null,
      "justify_items": null,
      "left": null,
      "margin": null,
      "max_height": null,
      "max_width": null,
      "min_height": null,
      "min_width": null,
      "object_fit": null,
      "object_position": null,
      "order": null,
      "overflow": null,
      "overflow_x": null,
      "overflow_y": null,
      "padding": null,
      "right": null,
      "top": null,
      "visibility": null,
      "width": null
     }
    },
    "efed024b56184c709946e2ef160dd753": {
     "model_module": "@jupyter-widgets/controls",
     "model_module_version": "1.5.0",
     "model_name": "HTMLModel",
     "state": {
      "_dom_classes": [],
      "_model_module": "@jupyter-widgets/controls",
      "_model_module_version": "1.5.0",
      "_model_name": "HTMLModel",
      "_view_count": null,
      "_view_module": "@jupyter-widgets/controls",
      "_view_module_version": "1.5.0",
      "_view_name": "HTMLView",
      "description": "",
      "description_tooltip": null,
      "layout": "IPY_MODEL_798356d712ca4d3484d992cd570c7b21",
      "placeholder": "​",
      "style": "IPY_MODEL_2649be649d78415c9dd3710067f956e0",
      "value": "Map (num_proc=2): 100%"
     }
    },
    "f25faef5919d4036a3aa0a6ce5ea06d2": {
     "model_module": "@jupyter-widgets/controls",
     "model_module_version": "1.5.0",
     "model_name": "DescriptionStyleModel",
     "state": {
      "_model_module": "@jupyter-widgets/controls",
      "_model_module_version": "1.5.0",
      "_model_name": "DescriptionStyleModel",
      "_view_count": null,
      "_view_module": "@jupyter-widgets/base",
      "_view_module_version": "1.2.0",
      "_view_name": "StyleView",
      "description_width": ""
     }
    },
    "f27fae556a274151bf5c22997fddd4ea": {
     "model_module": "@jupyter-widgets/controls",
     "model_module_version": "1.5.0",
     "model_name": "ProgressStyleModel",
     "state": {
      "_model_module": "@jupyter-widgets/controls",
      "_model_module_version": "1.5.0",
      "_model_name": "ProgressStyleModel",
      "_view_count": null,
      "_view_module": "@jupyter-widgets/base",
      "_view_module_version": "1.2.0",
      "_view_name": "StyleView",
      "bar_color": null,
      "description_width": ""
     }
    },
    "f3e60f66cf024f0386c53b23a88bda2e": {
     "model_module": "@jupyter-widgets/controls",
     "model_module_version": "1.5.0",
     "model_name": "HTMLModel",
     "state": {
      "_dom_classes": [],
      "_model_module": "@jupyter-widgets/controls",
      "_model_module_version": "1.5.0",
      "_model_name": "HTMLModel",
      "_view_count": null,
      "_view_module": "@jupyter-widgets/controls",
      "_view_module_version": "1.5.0",
      "_view_name": "HTMLView",
      "description": "",
      "description_tooltip": null,
      "layout": "IPY_MODEL_f7de5974887047e398f90814bd202921",
      "placeholder": "​",
      "style": "IPY_MODEL_71d01cfb79c54eb8ad343efe37c6b516",
      "value": "Map: 100%"
     }
    },
    "f44ff0047a62432492bb34e074cb5f04": {
     "model_module": "@jupyter-widgets/controls",
     "model_module_version": "1.5.0",
     "model_name": "DescriptionStyleModel",
     "state": {
      "_model_module": "@jupyter-widgets/controls",
      "_model_module_version": "1.5.0",
      "_model_name": "DescriptionStyleModel",
      "_view_count": null,
      "_view_module": "@jupyter-widgets/base",
      "_view_module_version": "1.2.0",
      "_view_name": "StyleView",
      "description_width": ""
     }
    },
    "f5b663568eff43a5b0359912e1ebb0c6": {
     "model_module": "@jupyter-widgets/controls",
     "model_module_version": "1.5.0",
     "model_name": "DescriptionStyleModel",
     "state": {
      "_model_module": "@jupyter-widgets/controls",
      "_model_module_version": "1.5.0",
      "_model_name": "DescriptionStyleModel",
      "_view_count": null,
      "_view_module": "@jupyter-widgets/base",
      "_view_module_version": "1.2.0",
      "_view_name": "StyleView",
      "description_width": ""
     }
    },
    "f649eb220b714d9fbd6431150c6df251": {
     "model_module": "@jupyter-widgets/controls",
     "model_module_version": "1.5.0",
     "model_name": "DescriptionStyleModel",
     "state": {
      "_model_module": "@jupyter-widgets/controls",
      "_model_module_version": "1.5.0",
      "_model_name": "DescriptionStyleModel",
      "_view_count": null,
      "_view_module": "@jupyter-widgets/base",
      "_view_module_version": "1.2.0",
      "_view_name": "StyleView",
      "description_width": ""
     }
    },
    "f7de5974887047e398f90814bd202921": {
     "model_module": "@jupyter-widgets/base",
     "model_module_version": "1.2.0",
     "model_name": "LayoutModel",
     "state": {
      "_model_module": "@jupyter-widgets/base",
      "_model_module_version": "1.2.0",
      "_model_name": "LayoutModel",
      "_view_count": null,
      "_view_module": "@jupyter-widgets/base",
      "_view_module_version": "1.2.0",
      "_view_name": "LayoutView",
      "align_content": null,
      "align_items": null,
      "align_self": null,
      "border": null,
      "bottom": null,
      "display": null,
      "flex": null,
      "flex_flow": null,
      "grid_area": null,
      "grid_auto_columns": null,
      "grid_auto_flow": null,
      "grid_auto_rows": null,
      "grid_column": null,
      "grid_gap": null,
      "grid_row": null,
      "grid_template_areas": null,
      "grid_template_columns": null,
      "grid_template_rows": null,
      "height": null,
      "justify_content": null,
      "justify_items": null,
      "left": null,
      "margin": null,
      "max_height": null,
      "max_width": null,
      "min_height": null,
      "min_width": null,
      "object_fit": null,
      "object_position": null,
      "order": null,
      "overflow": null,
      "overflow_x": null,
      "overflow_y": null,
      "padding": null,
      "right": null,
      "top": null,
      "visibility": null,
      "width": null
     }
    },
    "fd10133999704a5c8775fef958c4bda8": {
     "model_module": "@jupyter-widgets/controls",
     "model_module_version": "1.5.0",
     "model_name": "HTMLModel",
     "state": {
      "_dom_classes": [],
      "_model_module": "@jupyter-widgets/controls",
      "_model_module_version": "1.5.0",
      "_model_name": "HTMLModel",
      "_view_count": null,
      "_view_module": "@jupyter-widgets/controls",
      "_view_module_version": "1.5.0",
      "_view_name": "HTMLView",
      "description": "",
      "description_tooltip": null,
      "layout": "IPY_MODEL_0d7d881a51064585a022290d866b6d8a",
      "placeholder": "​",
      "style": "IPY_MODEL_c156e6bfc7e64383b7be90d1820d3214",
      "value": " 296/296 [00:00&lt;00:00, 21.8kB/s]"
     }
    },
    "fe4e675cc09349edbe4b3d92dfa94066": {
     "model_module": "@jupyter-widgets/base",
     "model_module_version": "1.2.0",
     "model_name": "LayoutModel",
     "state": {
      "_model_module": "@jupyter-widgets/base",
      "_model_module_version": "1.2.0",
      "_model_name": "LayoutModel",
      "_view_count": null,
      "_view_module": "@jupyter-widgets/base",
      "_view_module_version": "1.2.0",
      "_view_name": "LayoutView",
      "align_content": null,
      "align_items": null,
      "align_self": null,
      "border": null,
      "bottom": null,
      "display": null,
      "flex": null,
      "flex_flow": null,
      "grid_area": null,
      "grid_auto_columns": null,
      "grid_auto_flow": null,
      "grid_auto_rows": null,
      "grid_column": null,
      "grid_gap": null,
      "grid_row": null,
      "grid_template_areas": null,
      "grid_template_columns": null,
      "grid_template_rows": null,
      "height": null,
      "justify_content": null,
      "justify_items": null,
      "left": null,
      "margin": null,
      "max_height": null,
      "max_width": null,
      "min_height": null,
      "min_width": null,
      "object_fit": null,
      "object_position": null,
      "order": null,
      "overflow": null,
      "overflow_x": null,
      "overflow_y": null,
      "padding": null,
      "right": null,
      "top": null,
      "visibility": null,
      "width": null
     }
    }
   }
  }
 },
 "nbformat": 4,
 "nbformat_minor": 0
}
