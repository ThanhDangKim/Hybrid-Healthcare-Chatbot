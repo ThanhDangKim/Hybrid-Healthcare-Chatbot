{
 "cells": [
  {
   "cell_type": "code",
   "execution_count": 7,
   "metadata": {},
   "outputs": [
    {
     "name": "stdout",
     "output_type": "stream",
     "text": [
      "      subject_name                                               data  \\\n",
      "0  college_biology  {'Correct Answer': 'Chromosome replication wit...   \n",
      "1  college_biology  {'Correct Answer': 'Calcium-tropomyosin bindin...   \n",
      "2  college_biology  {'Correct Answer': 'increased extensibility of...   \n",
      "3  college_biology  {'Correct Answer': 'II and III', 'Correct Opti...   \n",
      "4  college_biology  {'Correct Answer': 'liverwort', 'Correct Optio...   \n",
      "\n",
      "                                     id  \n",
      "0  d5db9ae2-1eca-49ad-8515-b4ad188e0a9b  \n",
      "1  b5d0e2d1-c94f-40c0-8699-d07c81c599ee  \n",
      "2  5e29096a-be98-4c3c-98e7-349c1cac4eaa  \n",
      "3  ab9c8e5d-39b4-475b-bbaf-31292df60550  \n",
      "4  356ff836-4c99-49e8-a5ad-792f45fd70dd  \n"
     ]
    }
   ],
   "source": [
    "import pandas as pd\n",
    "import ast\n",
    "\n",
    "# Đọc file parquet (bạn thay đường dẫn tương ứng)\n",
    "df = pd.read_parquet(r'C:\\Users\\ADMIN\\OneDrive\\Documents\\Btap_Code\\VisualStudioCode\\Python\\TLCN_HealthChatbot\\RAG_AIO\\Data\\MMLU\\test-00000-of-00001.parquet')\n",
    "df.to_csv(r'C:\\Users\\ADMIN\\OneDrive\\Documents\\Btap_Code\\VisualStudioCode\\Python\\TLCN_HealthChatbot\\RAG_AIO\\Data\\MMLU\\mmlu_data_test.csv', index=False)\n",
    "\n",
    "df = pd.read_parquet(r'C:\\Users\\ADMIN\\OneDrive\\Documents\\Btap_Code\\VisualStudioCode\\Python\\TLCN_HealthChatbot\\RAG_AIO\\Data\\MMLU\\dev-00000-of-00001.parquet')\n",
    "df.to_csv(r'C:\\Users\\ADMIN\\OneDrive\\Documents\\Btap_Code\\VisualStudioCode\\Python\\TLCN_HealthChatbot\\RAG_AIO\\Data\\MMLU\\mmlu_data_dev.csv', index=False)\n",
    "\n",
    "df = pd.read_parquet(r'C:\\Users\\ADMIN\\OneDrive\\Documents\\Btap_Code\\VisualStudioCode\\Python\\TLCN_HealthChatbot\\RAG_AIO\\Data\\MMLU\\validation-00000-of-00001.parquet')\n",
    "df.to_csv(r'C:\\Users\\ADMIN\\OneDrive\\Documents\\Btap_Code\\VisualStudioCode\\Python\\TLCN_HealthChatbot\\RAG_AIO\\Data\\MMLU\\mmlu_data_validation.csv', index=False)\n",
    "\n",
    "# Xem vài dòng đầu\n",
    "print(df.head())"
   ]
  },
  {
   "cell_type": "code",
   "execution_count": null,
   "metadata": {},
   "outputs": [
    {
     "data": {
      "text/html": [
       "<div>\n",
       "<style scoped>\n",
       "    .dataframe tbody tr th:only-of-type {\n",
       "        vertical-align: middle;\n",
       "    }\n",
       "\n",
       "    .dataframe tbody tr th {\n",
       "        vertical-align: top;\n",
       "    }\n",
       "\n",
       "    .dataframe thead th {\n",
       "        text-align: right;\n",
       "    }\n",
       "</style>\n",
       "<table border=\"1\" class=\"dataframe\">\n",
       "  <thead>\n",
       "    <tr style=\"text-align: right;\">\n",
       "      <th></th>\n",
       "      <th>subject_name</th>\n",
       "      <th>data</th>\n",
       "      <th>id</th>\n",
       "    </tr>\n",
       "  </thead>\n",
       "  <tbody>\n",
       "    <tr>\n",
       "      <th>0</th>\n",
       "      <td>college_biology</td>\n",
       "      <td>{'Correct Answer': 'reduce the carrying capaci...</td>\n",
       "      <td>5e28e40a-1474-497a-afd4-a28937b1b70f</td>\n",
       "    </tr>\n",
       "    <tr>\n",
       "      <th>1</th>\n",
       "      <td>college_biology</td>\n",
       "      <td>{'Correct Answer': 'a base pair is either inse...</td>\n",
       "      <td>c54370c4-237a-4620-8bb9-4837f09b4d8e</td>\n",
       "    </tr>\n",
       "    <tr>\n",
       "      <th>2</th>\n",
       "      <td>college_biology</td>\n",
       "      <td>{'Correct Answer': 'amnion', 'Correct Option':...</td>\n",
       "      <td>538e0705-2589-408a-8b32-6fcc12b0d16a</td>\n",
       "    </tr>\n",
       "    <tr>\n",
       "      <th>3</th>\n",
       "      <td>college_biology</td>\n",
       "      <td>{'Correct Answer': 'Inositol triphosphate', 'C...</td>\n",
       "      <td>db582a26-1759-4f77-95a0-7ae5606b6399</td>\n",
       "    </tr>\n",
       "    <tr>\n",
       "      <th>4</th>\n",
       "      <td>college_biology</td>\n",
       "      <td>{'Correct Answer': 'a DNA or RNA primer and re...</td>\n",
       "      <td>2272a701-0242-450a-b456-59b12cf80fbb</td>\n",
       "    </tr>\n",
       "  </tbody>\n",
       "</table>\n",
       "</div>"
      ],
      "text/plain": [
       "      subject_name                                               data  \\\n",
       "0  college_biology  {'Correct Answer': 'reduce the carrying capaci...   \n",
       "1  college_biology  {'Correct Answer': 'a base pair is either inse...   \n",
       "2  college_biology  {'Correct Answer': 'amnion', 'Correct Option':...   \n",
       "3  college_biology  {'Correct Answer': 'Inositol triphosphate', 'C...   \n",
       "4  college_biology  {'Correct Answer': 'a DNA or RNA primer and re...   \n",
       "\n",
       "                                     id  \n",
       "0  5e28e40a-1474-497a-afd4-a28937b1b70f  \n",
       "1  c54370c4-237a-4620-8bb9-4837f09b4d8e  \n",
       "2  538e0705-2589-408a-8b32-6fcc12b0d16a  \n",
       "3  db582a26-1759-4f77-95a0-7ae5606b6399  \n",
       "4  2272a701-0242-450a-b456-59b12cf80fbb  "
      ]
     },
     "execution_count": 3,
     "metadata": {},
     "output_type": "execute_result"
    }
   ],
   "source": [
    "# Đọc file CSV đã được upload (chuyển từ Parquet sang CSV)\n",
    "csv_file_path = r'C:\\Users\\ADMIN\\OneDrive\\Documents\\Btap_Code\\VisualStudioCode\\Python\\TLCN_HealthChatbot\\RAG_AIO\\Data\\MMLU\\mmlu_data_test.csv'\n",
    "df_mmlu = pd.read_csv(csv_file_path)\n",
    "\n",
    "# Hiển thị các dòng đầu để xác định các cột\n",
    "df_mmlu.head()\n"
   ]
  },
  {
   "cell_type": "code",
   "execution_count": 8,
   "metadata": {},
   "outputs": [
    {
     "data": {
      "text/html": [
       "<div>\n",
       "<style scoped>\n",
       "    .dataframe tbody tr th:only-of-type {\n",
       "        vertical-align: middle;\n",
       "    }\n",
       "\n",
       "    .dataframe tbody tr th {\n",
       "        vertical-align: top;\n",
       "    }\n",
       "\n",
       "    .dataframe thead th {\n",
       "        text-align: right;\n",
       "    }\n",
       "</style>\n",
       "<table border=\"1\" class=\"dataframe\">\n",
       "  <thead>\n",
       "    <tr style=\"text-align: right;\">\n",
       "      <th></th>\n",
       "      <th>subject_name</th>\n",
       "      <th>data</th>\n",
       "      <th>id</th>\n",
       "    </tr>\n",
       "  </thead>\n",
       "  <tbody>\n",
       "    <tr>\n",
       "      <th>0</th>\n",
       "      <td>college_biology</td>\n",
       "      <td>{'Correct Answer': 'They possess an open circu...</td>\n",
       "      <td>3dd4cd5d-76d5-4dab-b29b-48e1472e9809</td>\n",
       "    </tr>\n",
       "    <tr>\n",
       "      <th>1</th>\n",
       "      <td>college_biology</td>\n",
       "      <td>{'Correct Answer': '38/400', 'Correct Option':...</td>\n",
       "      <td>1b1d7006-fe3a-4030-94d4-b6e06a3f6f0b</td>\n",
       "    </tr>\n",
       "    <tr>\n",
       "      <th>2</th>\n",
       "      <td>college_biology</td>\n",
       "      <td>{'Correct Answer': 'the human and bird belong ...</td>\n",
       "      <td>cac053fb-2d01-4cec-b168-7270f120312e</td>\n",
       "    </tr>\n",
       "    <tr>\n",
       "      <th>3</th>\n",
       "      <td>college_biology</td>\n",
       "      <td>{'Correct Answer': 'a water-pressure potential...</td>\n",
       "      <td>4f55bef0-855e-490a-ac23-1fd9805af802</td>\n",
       "    </tr>\n",
       "    <tr>\n",
       "      <th>4</th>\n",
       "      <td>college_biology</td>\n",
       "      <td>{'Correct Answer': 'Centromeres', 'Correct Opt...</td>\n",
       "      <td>bdda02db-9f6a-4f48-8b87-bc87f3f060c7</td>\n",
       "    </tr>\n",
       "  </tbody>\n",
       "</table>\n",
       "</div>"
      ],
      "text/plain": [
       "      subject_name                                               data  \\\n",
       "0  college_biology  {'Correct Answer': 'They possess an open circu...   \n",
       "1  college_biology  {'Correct Answer': '38/400', 'Correct Option':...   \n",
       "2  college_biology  {'Correct Answer': 'the human and bird belong ...   \n",
       "3  college_biology  {'Correct Answer': 'a water-pressure potential...   \n",
       "4  college_biology  {'Correct Answer': 'Centromeres', 'Correct Opt...   \n",
       "\n",
       "                                     id  \n",
       "0  3dd4cd5d-76d5-4dab-b29b-48e1472e9809  \n",
       "1  1b1d7006-fe3a-4030-94d4-b6e06a3f6f0b  \n",
       "2  cac053fb-2d01-4cec-b168-7270f120312e  \n",
       "3  4f55bef0-855e-490a-ac23-1fd9805af802  \n",
       "4  bdda02db-9f6a-4f48-8b87-bc87f3f060c7  "
      ]
     },
     "execution_count": 8,
     "metadata": {},
     "output_type": "execute_result"
    }
   ],
   "source": [
    "# Đọc file CSV đã được upload (chuyển từ Parquet sang CSV)\n",
    "csv_file_path = r'C:\\Users\\ADMIN\\OneDrive\\Documents\\Btap_Code\\VisualStudioCode\\Python\\TLCN_HealthChatbot\\RAG_AIO\\Data\\MMLU\\mmlu_data_dev.csv'\n",
    "df_mmlu_dev = pd.read_csv(csv_file_path)\n",
    "\n",
    "# Hiển thị các dòng đầu để xác định các cột\n",
    "df_mmlu_dev.head()"
   ]
  },
  {
   "cell_type": "code",
   "execution_count": 9,
   "metadata": {},
   "outputs": [
    {
     "data": {
      "text/html": [
       "<div>\n",
       "<style scoped>\n",
       "    .dataframe tbody tr th:only-of-type {\n",
       "        vertical-align: middle;\n",
       "    }\n",
       "\n",
       "    .dataframe tbody tr th {\n",
       "        vertical-align: top;\n",
       "    }\n",
       "\n",
       "    .dataframe thead th {\n",
       "        text-align: right;\n",
       "    }\n",
       "</style>\n",
       "<table border=\"1\" class=\"dataframe\">\n",
       "  <thead>\n",
       "    <tr style=\"text-align: right;\">\n",
       "      <th></th>\n",
       "      <th>subject_name</th>\n",
       "      <th>data</th>\n",
       "      <th>id</th>\n",
       "    </tr>\n",
       "  </thead>\n",
       "  <tbody>\n",
       "    <tr>\n",
       "      <th>0</th>\n",
       "      <td>college_biology</td>\n",
       "      <td>{'Correct Answer': 'Chromosome replication wit...</td>\n",
       "      <td>d5db9ae2-1eca-49ad-8515-b4ad188e0a9b</td>\n",
       "    </tr>\n",
       "    <tr>\n",
       "      <th>1</th>\n",
       "      <td>college_biology</td>\n",
       "      <td>{'Correct Answer': 'Calcium-tropomyosin bindin...</td>\n",
       "      <td>b5d0e2d1-c94f-40c0-8699-d07c81c599ee</td>\n",
       "    </tr>\n",
       "    <tr>\n",
       "      <th>2</th>\n",
       "      <td>college_biology</td>\n",
       "      <td>{'Correct Answer': 'increased extensibility of...</td>\n",
       "      <td>5e29096a-be98-4c3c-98e7-349c1cac4eaa</td>\n",
       "    </tr>\n",
       "    <tr>\n",
       "      <th>3</th>\n",
       "      <td>college_biology</td>\n",
       "      <td>{'Correct Answer': 'II and III', 'Correct Opti...</td>\n",
       "      <td>ab9c8e5d-39b4-475b-bbaf-31292df60550</td>\n",
       "    </tr>\n",
       "    <tr>\n",
       "      <th>4</th>\n",
       "      <td>college_biology</td>\n",
       "      <td>{'Correct Answer': 'liverwort', 'Correct Optio...</td>\n",
       "      <td>356ff836-4c99-49e8-a5ad-792f45fd70dd</td>\n",
       "    </tr>\n",
       "  </tbody>\n",
       "</table>\n",
       "</div>"
      ],
      "text/plain": [
       "      subject_name                                               data  \\\n",
       "0  college_biology  {'Correct Answer': 'Chromosome replication wit...   \n",
       "1  college_biology  {'Correct Answer': 'Calcium-tropomyosin bindin...   \n",
       "2  college_biology  {'Correct Answer': 'increased extensibility of...   \n",
       "3  college_biology  {'Correct Answer': 'II and III', 'Correct Opti...   \n",
       "4  college_biology  {'Correct Answer': 'liverwort', 'Correct Optio...   \n",
       "\n",
       "                                     id  \n",
       "0  d5db9ae2-1eca-49ad-8515-b4ad188e0a9b  \n",
       "1  b5d0e2d1-c94f-40c0-8699-d07c81c599ee  \n",
       "2  5e29096a-be98-4c3c-98e7-349c1cac4eaa  \n",
       "3  ab9c8e5d-39b4-475b-bbaf-31292df60550  \n",
       "4  356ff836-4c99-49e8-a5ad-792f45fd70dd  "
      ]
     },
     "execution_count": 9,
     "metadata": {},
     "output_type": "execute_result"
    }
   ],
   "source": [
    "# Đọc file CSV đã được upload (chuyển từ Parquet sang CSV)\n",
    "csv_file_path = r'C:\\Users\\ADMIN\\OneDrive\\Documents\\Btap_Code\\VisualStudioCode\\Python\\TLCN_HealthChatbot\\RAG_AIO\\Data\\MMLU\\mmlu_data_validation.csv'\n",
    "df_mmlu_vali = pd.read_csv(csv_file_path)\n",
    "\n",
    "# Hiển thị các dòng đầu để xác định các cột\n",
    "df_mmlu_vali.head()"
   ]
  },
  {
   "cell_type": "code",
   "execution_count": 6,
   "metadata": {},
   "outputs": [
    {
     "name": "stdout",
     "output_type": "stream",
     "text": [
      "Số lượng QA pairs: 144\n",
      "Độ dài trung bình câu hỏi: 22.43\n",
      "Độ dài trung bình lựa chọn: 0.0\n"
     ]
    }
   ],
   "source": [
    "# Bước 1: Chuyển chuỗi JSON thành dict Python\n",
    "df_mmlu['data_dict'] = df_mmlu['data'].apply(ast.literal_eval)\n",
    "\n",
    "# Bước 2: Trích xuất câu hỏi và các lựa chọn\n",
    "df_mmlu['question'] = df_mmlu['data_dict'].apply(lambda x: x.get('Question', ''))\n",
    "\n",
    "def extract_text_options(data_dict):\n",
    "    return [v for k, v in data_dict.items() if k.startswith('Option') and isinstance(v, str)]\n",
    "\n",
    "df_mmlu['options'] = df_mmlu['data_dict'].apply(extract_text_options)\n",
    "\n",
    "# Bước 3: Tính độ dài câu hỏi và độ dài trung bình của các lựa chọn\n",
    "df_mmlu['question_length'] = df_mmlu['question'].str.split().str.len()\n",
    "df_mmlu['option_lengths'] = df_mmlu['options'].apply(lambda opts: [len(opt.split()) for opt in opts])\n",
    "df_mmlu['avg_option_length'] = df_mmlu['option_lengths'].apply(lambda lens: sum(lens)/len(lens) if lens else 0)\n",
    "\n",
    "# Bước 4: In ra thống kê\n",
    "total_qa_pairs = len(df_mmlu)\n",
    "avg_question_length = df_mmlu['question_length'].mean()\n",
    "avg_option_length = df_mmlu['avg_option_length'].mean()\n",
    "\n",
    "print(\"Số lượng QA pairs:\", total_qa_pairs)\n",
    "print(\"Độ dài trung bình câu hỏi:\", round(avg_question_length, 2))\n",
    "print(\"Độ dài trung bình lựa chọn:\", round(avg_option_length, 2))"
   ]
  },
  {
   "cell_type": "code",
   "execution_count": 10,
   "metadata": {},
   "outputs": [
    {
     "name": "stdout",
     "output_type": "stream",
     "text": [
      "139.06550000000001\n"
     ]
    }
   ],
   "source": [
    "means = [57, 97, 137, 177, 217, 257, 297, 337, 377, 415.5]\n",
    "percent = [0.231, 0.329, 0.154, 0.112, 0.028, 0.035, 0.056, 0.014, 0.021, 0.021]\n",
    "avg = sum(m * p for m, p in zip(means, percent))\n",
    "print(avg)\n"
   ]
  }
 ],
 "metadata": {
  "kernelspec": {
   "display_name": "Python 3",
   "language": "python",
   "name": "python3"
  },
  "language_info": {
   "codemirror_mode": {
    "name": "ipython",
    "version": 3
   },
   "file_extension": ".py",
   "mimetype": "text/x-python",
   "name": "python",
   "nbconvert_exporter": "python",
   "pygments_lexer": "ipython3",
   "version": "3.11.2"
  }
 },
 "nbformat": 4,
 "nbformat_minor": 2
}
